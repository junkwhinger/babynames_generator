{
 "cells": [
  {
   "cell_type": "code",
   "execution_count": 9,
   "metadata": {},
   "outputs": [],
   "source": [
    "import json\n",
    "import os\n",
    "import utils\n",
    "\n",
    "model_dir = \"experiments/\"\n",
    "json_path = os.path.join(model_dir, 'params.json')\n",
    "params = utils.Params(json_path)\n",
    "params.device = torch.device(params.device)"
   ]
  },
  {
   "cell_type": "code",
   "execution_count": 12,
   "metadata": {},
   "outputs": [
    {
     "name": "stdout",
     "output_type": "stream",
     "text": [
      "vocab built\n"
     ]
    }
   ],
   "source": [
    "from model.data_loader import DataLoader\n",
    "\n",
    "data_dir = \"data/full_version/\"\n",
    "data_loader = DataLoader(data_dir, params)\n",
    "params.vocab_size = len(data_loader.BABYNAME.vocab)"
   ]
  },
  {
   "cell_type": "code",
   "execution_count": 14,
   "metadata": {},
   "outputs": [],
   "source": [
    "import model.charRNN as net\n",
    "model = net.Net(params).to(params.device)"
   ]
  },
  {
   "cell_type": "code",
   "execution_count": 17,
   "metadata": {},
   "outputs": [],
   "source": [
    "weight_path = os.path.join(model_dir, \"best.pth.tar\")\n",
    "checkpoint = utils.load_checkpoint(weight_path, model)"
   ]
  },
  {
   "cell_type": "code",
   "execution_count": 54,
   "metadata": {},
   "outputs": [],
   "source": [
    "import torch\n",
    "import torch.nn.functional as F"
   ]
  },
  {
   "cell_type": "code",
   "execution_count": null,
   "metadata": {},
   "outputs": [],
   "source": []
  },
  {
   "cell_type": "code",
   "execution_count": 69,
   "metadata": {},
   "outputs": [],
   "source": [
    "def sample(net, prime=\"A\", category=\"boy\"):\n",
    "    \n",
    "    category_tensor = data_loader.SEX.process(['boy']).data.sub_(1).float()\n",
    "    \n",
    "    prime = prime.lower()\n",
    "    prime_tensor = data_loader.BABYNAME.process([prime])[:, :-1]\n",
    "    bsz, prime_tensor_length = prime_tensor.size()\n",
    "    \n",
    "    net.eval()\n",
    "    hidden = net.init_hidden(1)\n",
    "    \n",
    "    for step in range(prime_tensor_length):\n",
    "        outputs, hidden = net(category_tensor, prime_tensor[:, step], hidden)\n",
    "        probabilities = F.softmax(outputs, 1)\n",
    "    \n",
    "    return probabilities.squeeze()\n",
    "        \n",
    "probabilities = sample(model, prime=\"A\", category=\"boy\")"
   ]
  },
  {
   "cell_type": "code",
   "execution_count": 79,
   "metadata": {},
   "outputs": [],
   "source": [
    "def calcualte_top_k(probabilities, k):\n",
    "    prob, idx = torch.topk(probabilities, k)\n",
    "    chars = [data_loader.BABYNAME.vocab.itos[char] for char in idx.cpu().numpy()]\n",
    "    return prob.detach().cpu().numpy(), chars"
   ]
  },
  {
   "cell_type": "code",
   "execution_count": 137,
   "metadata": {},
   "outputs": [],
   "source": [
    "from collections import OrderedDict, defaultdict"
   ]
  },
  {
   "cell_type": "code",
   "execution_count": 95,
   "metadata": {},
   "outputs": [
    {
     "name": "stdout",
     "output_type": "stream",
     "text": [
      "Sampling a boy name beginning with A..\n",
      "{'All': 0.21784028, 'Ald': 0.09377982, 'Alf': 0.08585877, 'Ale': 0.06972965, 'Alv': 0.06927484, 'Alb': 0.067968026, 'Ala': 0.057595167, 'Alt': 0.046755683, 'Ali': 0.041659147, 'Alo': 0.030670848, 'Alp': 0.030295575, 'Alm': 0.02858818, 'Alu': 0.026979713, 'Als': 0.020680347, 'Alc': 0.01978152, 'Aly': 0.016061509, 'Alg': 0.014761034, 'Alw': 0.013700099, 'Alk': 0.0119596515, 'Alj': 0.008504599, 'Alh': 0.0076925475, 'Alr': 0.005483069, 'Alz': 0.0041428055, 'Aln': 0.0030471366, 'Alq': 0.0015253004, 'Al ': 0.0014234417, 'Al<eos>': 0.0010466484, 'Alx': 0.00090113824, \"Al'\": 0.0006199554, 'Al.': 0.00033923425, 'Al<unk>': 0.00033805674, 'Al<bos>': 0.00033805674, 'Al,': 0.00032149217, 'Al-': 0.0003200074, 'Al<pad>': 1.661644e-05, 'Arn': 0.1431779, 'Arl': 0.11548514, 'Art': 0.08677163, 'Ari': 0.07781561, 'Arr': 0.07774458, 'Ard': 0.07005276, 'Arm': 0.0570677, 'Arc': 0.054755755, 'Ars': 0.050334852, 'Arv': 0.04710375, 'Are': 0.03305963, 'Ara': 0.030229568, 'Arg': 0.0249033, 'Ark': 0.021263106, 'Ary': 0.01744604, 'Aru': 0.014584439, 'Arb': 0.014365724, 'Arw': 0.012577637, 'Aro': 0.0108808335, 'Arf': 0.008036708, 'Arj': 0.007557738, 'Arp': 0.006926774, 'Arh': 0.0063661826, 'Arz': 0.0059615355, 'Arq': 0.0025710915, 'Arx': 0.0013907113, 'Ar<eos>': 0.0008685313, \"Ar'\": 0.000151807, 'Ar-': 0.00013543366, 'Ar ': 9.0478345e-05, 'Ar<unk>': 8.501847e-05, 'Ar<bos>': 8.501847e-05, 'Ar.': 7.480806e-05, 'Ar,': 7.449224e-05, 'Ar<pad>': 3.7347545e-06, 'And': 0.2574669, 'Ant': 0.2067894, 'Ann': 0.11314076, 'Ans': 0.071161926, 'Ang': 0.063050024, 'Ana': 0.0556843, 'Anc': 0.029617306, 'Ani': 0.025842851, 'Ane': 0.024900507, 'Ano': 0.023700641, 'Anw': 0.013730781, 'Ank': 0.013294614, 'Anl': 0.012018501, 'Anj': 0.011640287, 'Anv': 0.0111982925, 'Anf': 0.010055903, 'Anu': 0.009933482, 'Anz': 0.008259903, 'Anb': 0.0072293403, 'Anm': 0.006939586, 'Anr': 0.005942277, 'Anp': 0.004508479, 'Any': 0.0040072366, 'Anh': 0.0038958217, 'An<eos>': 0.0027939186, 'Anx': 0.0013107415, 'An ': 0.000476047, 'Anq': 0.00041185666, 'An-': 0.00032613246, \"An'\": 0.0002042875, 'An.': 0.000115646435, 'An,': 0.000115000905, 'An<bos>': 0.0001142783, 'An<unk>': 0.0001142783, 'An<pad>': 8.650864e-06}\n"
     ]
    }
   ],
   "source": [
    "def beam_search(net, prime=\"A\", category=\"boy\", beam_width=3):\n",
    "    print(\"Sampling a {} name beginning with {}..\".format(category, prime))\n",
    "    \n",
    "    initial_probabilities = sample(net, prime=prime, category=category)\n",
    "    \n",
    "    _prob_dict = {}\n",
    "    prob, chars = calcualte_top_k(initial_probabilities, beam_width)\n",
    "    for p, c in zip(prob, chars):\n",
    "        _prob_dict[prime + c] = p\n",
    "        \n",
    "    _prob_dict_2 = {}\n",
    "    for prime, prob in _prob_dict.items():\n",
    "        probabilities = sample(net, prime=prime, category=category)\n",
    "        prob, chars = calcualte_top_k(probabilities, probabilities.size(0))\n",
    "        for p, c in zip(prob, chars):\n",
    "            _prob_dict_2[prime + c] = p\n",
    "    \n",
    "    print(_prob_dict_2)\n",
    "    \n",
    "beam_search(model)"
   ]
  },
  {
   "cell_type": "code",
   "execution_count": 155,
   "metadata": {},
   "outputs": [],
   "source": [
    "def sample(net, prime=\"A\", category=\"boy\", hidden=None):\n",
    "    \n",
    "    category_tensor = data_loader.SEX.process(['boy']).data.sub_(1).float()\n",
    "    \n",
    "    prime = prime.lower()\n",
    "    prime_tensor = data_loader.BABYNAME.process([prime])[:, :-1]\n",
    "    bsz, prime_tensor_length = prime_tensor.size()\n",
    "    \n",
    "    net.eval()\n",
    "    if not hidden:\n",
    "        hidden = net.init_hidden(1)\n",
    "    \n",
    "    for step in range(prime_tensor_length):\n",
    "        with torch.no_grad():\n",
    "            outputs, hidden = net(category_tensor, prime_tensor[:, step], hidden)\n",
    "        probabilities = F.softmax(outputs, 1)\n",
    "    \n",
    "    return torch.log(probabilities.squeeze()), hidden\n",
    "        \n",
    "probabilities, prime_hidden = sample(model, prime=\"A\", category=\"boy\")"
   ]
  },
  {
   "cell_type": "code",
   "execution_count": 156,
   "metadata": {},
   "outputs": [
    {
     "data": {
      "text/plain": [
       "tensor([ -8.8408, -11.2302,  -8.8408,  -6.5204,  -4.0978,  -4.2354,\n",
       "         -2.1199,  -3.3469,  -1.4864,  -1.8328,  -5.2466,  -3.5051,\n",
       "         -3.5879,  -4.2780,  -2.7338,  -3.8513,  -2.9054,  -3.7857,\n",
       "         -3.6540,  -4.3559,  -2.7267,  -4.1226,  -5.3045,  -3.9120,\n",
       "         -4.2732,  -4.9682,  -5.3083,  -4.7135,  -6.5695,  -5.8877,\n",
       "         -8.3208,  -8.4416,  -8.3012,  -8.9544,  -8.9642])"
      ]
     },
     "execution_count": 156,
     "metadata": {},
     "output_type": "execute_result"
    }
   ],
   "source": [
    "probabilities"
   ]
  },
  {
   "cell_type": "code",
   "execution_count": 157,
   "metadata": {},
   "outputs": [],
   "source": [
    "def clean_beam_basket(basket, beam_width):\n",
    "    _tmp_basket = basket.copy()\n",
    "    to_remove = sorted(basket)[beam_width:]\n",
    "    for item in to_remove:\n",
    "        _tmp_basket.pop(item)\n",
    "        \n",
    "    return _tmp_basket"
   ]
  },
  {
   "cell_type": "code",
   "execution_count": 138,
   "metadata": {},
   "outputs": [
    {
     "name": "stdout",
     "output_type": "stream",
     "text": [
      "Sampling a boy name beginning with A..\n",
      "counter: 1\n",
      "OrderedDict([('A', 1.0)])\n"
     ]
    }
   ],
   "source": [
    "def beam_search(net, prime=\"A\", category=\"boy\", beam_width=3):\n",
    "    print(\"Sampling a {} name beginning with {}..\".format(category, prime))\n",
    "    \n",
    "#     initial_probabilties, prime_hidden = sample(net, prime=prime, category=category)\n",
    "    \n",
    "    beam_basket = OrderedDict()\n",
    "    beam_basket[prime] = 0\n",
    "    hidden_dict = defaultdict()\n",
    "#     hidden_dict[prime] = prime_hidden\n",
    "    \n",
    "    \n",
    "    counter = 0\n",
    "    while True:\n",
    "        counter += 1\n",
    "        print(\"counter: {}\".format(counter))\n",
    "        \n",
    "        # 바스켓을 청소한다.\n",
    "        beam_basket = clean_beam_basket(beam_basket, beam_width)\n",
    "        print(beam_basket)\n",
    "        \n",
    "        # 만약 바스켓에 모든 아이템이 <eos>가 있으면 루프를 멈춘다.\n",
    "        eos_cnt = 0\n",
    "        for k in beam_basket.keys():\n",
    "            if \"<eos>\" in k:\n",
    "                eos_cnt += 1\n",
    "        if eos_cnt == beam_width:\n",
    "            print(\"all items have <eos>\")\n",
    "            break\n",
    "            \n",
    "        # 모든 key를 돌면서\n",
    "        ## <eos>가 없는 경우 inference를 한다.\n",
    "        for k in beam_basket.keys():\n",
    "            if \"<eos>\" not in k:\n",
    "                hidden = hidden_dict.get(k)\n",
    "                probabilities, hidden = sample(net, prime=k, category=category, hidden=hidden)\n",
    "                for ix, prob in enumerate(probabilities):\n",
    "                    new_k = k + data_loader.BABYNAME.vocab.itos[ix]\n",
    "                    beam_basket[new_k] = beam_basket\n",
    "                \n",
    "            \n",
    "        \n",
    "        \n",
    "        \n",
    "        break\n",
    "    \n",
    "    \n",
    "    \n",
    "#     initial_probabilities = sample(net, prime=prime, category=category)\n",
    "    \n",
    "#     _prob_dict = {}\n",
    "#     prob, chars = calcualte_top_k(initial_probabilities, beam_width)\n",
    "#     for p, c in zip(prob, chars):\n",
    "#         _prob_dict[prime + c] = p\n",
    "        \n",
    "#     _prob_dict_2 = {}\n",
    "#     for prime, prob in _prob_dict.items():\n",
    "#         probabilities = sample(net, prime=prime, category=category)\n",
    "#         prob, chars = calcualte_top_k(probabilities, probabilities.size(0))\n",
    "#         for p, c in zip(prob, chars):\n",
    "#             _prob_dict_2[prime + c] = p\n",
    "    \n",
    "#     print(_prob_dict_2)\n",
    "    \n",
    "beam_search(model)"
   ]
  },
  {
   "cell_type": "code",
   "execution_count": 162,
   "metadata": {},
   "outputs": [
    {
     "name": "stdout",
     "output_type": "stream",
     "text": [
      "0 tensor(-8.8408)\n",
      "1 tensor(-11.2302)\n",
      "2 tensor(-8.8408)\n",
      "3 tensor(-6.5204)\n",
      "4 tensor(-4.0978)\n",
      "5 tensor(-4.2354)\n",
      "6 tensor(-2.1199)\n",
      "7 tensor(-3.3469)\n",
      "8 tensor(-1.4864)\n",
      "9 tensor(-1.8328)\n",
      "10 tensor(-5.2466)\n",
      "11 tensor(-3.5051)\n",
      "12 tensor(-3.5879)\n",
      "13 tensor(-4.2780)\n",
      "14 tensor(-2.7338)\n",
      "15 tensor(-3.8513)\n",
      "16 tensor(-2.9054)\n",
      "17 tensor(-3.7857)\n",
      "18 tensor(-3.6540)\n",
      "19 tensor(-4.3559)\n",
      "20 tensor(-2.7267)\n",
      "21 tensor(-4.1226)\n",
      "22 tensor(-5.3045)\n",
      "23 tensor(-3.9120)\n",
      "24 tensor(-4.2732)\n",
      "25 tensor(-4.9682)\n",
      "26 tensor(-5.3083)\n",
      "27 tensor(-4.7135)\n",
      "28 tensor(-6.5695)\n",
      "29 tensor(-5.8877)\n",
      "30 tensor(-8.3208)\n",
      "31 tensor(-8.4416)\n",
      "32 tensor(-8.3012)\n",
      "33 tensor(-8.9544)\n",
      "34 tensor(-8.9642)\n"
     ]
    }
   ],
   "source": [
    "for ix, p in enumerate(probabilities):\n",
    "    print(ix, p)"
   ]
  },
  {
   "cell_type": "code",
   "execution_count": 89,
   "metadata": {},
   "outputs": [
    {
     "data": {
      "text/plain": [
       "(tensor([ 0.2262,  0.1600,  0.1200,  0.0654,  0.0650,  0.0547,  0.0352,\n",
       "          0.0300,  0.0277,  0.0259,  0.0227,  0.0213,  0.0200,  0.0166,\n",
       "          0.0162,  0.0145,  0.0139,  0.0139,  0.0128,  0.0090,  0.0070,\n",
       "          0.0053,  0.0050,  0.0050,  0.0028,  0.0015,  0.0014,  0.0002,\n",
       "          0.0002,  0.0002,  0.0001,  0.0001,  0.0001,  0.0001,  0.0000]),\n",
       " tensor([  8,   9,   6,  20,  14,  16,   7,  11,  12,  18,  17,  15,\n",
       "          23,   4,  21,   5,  24,  13,  19,  27,  25,  10,  22,  26,\n",
       "          29,   3,  28,  32,  30,  31,   2,   0,  33,  34,   1]))"
      ]
     },
     "execution_count": 89,
     "metadata": {},
     "output_type": "execute_result"
    }
   ],
   "source": [
    "torch.topk(probabilities, probabilities.size(0))"
   ]
  },
  {
   "cell_type": "code",
   "execution_count": 88,
   "metadata": {},
   "outputs": [
    {
     "data": {
      "text/plain": [
       "torch.Size([35])"
      ]
     },
     "execution_count": 88,
     "metadata": {},
     "output_type": "execute_result"
    }
   ],
   "source": [
    "probabilities.size()"
   ]
  },
  {
   "cell_type": "code",
   "execution_count": 97,
   "metadata": {},
   "outputs": [],
   "source": [
    "beam_basket = OrderedDict()"
   ]
  },
  {
   "cell_type": "code",
   "execution_count": 139,
   "metadata": {},
   "outputs": [],
   "source": [
    "a = defaultdict()"
   ]
  },
  {
   "cell_type": "code",
   "execution_count": 151,
   "metadata": {},
   "outputs": [
    {
     "name": "stdout",
     "output_type": "stream",
     "text": [
      "None\n"
     ]
    }
   ],
   "source": [
    "print(a.get('a'))"
   ]
  },
  {
   "cell_type": "code",
   "execution_count": null,
   "metadata": {},
   "outputs": [],
   "source": []
  },
  {
   "cell_type": "code",
   "execution_count": null,
   "metadata": {},
   "outputs": [],
   "source": []
  },
  {
   "cell_type": "code",
   "execution_count": 104,
   "metadata": {},
   "outputs": [],
   "source": [
    "beam_basket = OrderedDict()\n",
    "beam_basket['A'] = 1.0\n",
    "beam_basket['B'] = 0.8\n",
    "beam_basket['C'] = 0.7\n",
    "beam_basket['D'] = 0.4"
   ]
  },
  {
   "cell_type": "code",
   "execution_count": 160,
   "metadata": {},
   "outputs": [
    {
     "data": {
      "text/plain": [
       "(tensor([ -1.4864,  -1.8328,  -2.1199,  -2.7267,  -2.7338,  -2.9054,\n",
       "          -3.3469,  -3.5051,  -3.5879,  -3.6540,  -3.7857,  -3.8513,\n",
       "          -3.9120,  -4.0978,  -4.1226,  -4.2354,  -4.2732,  -4.2780,\n",
       "          -4.3559,  -4.7135,  -4.9682,  -5.2466,  -5.3045,  -5.3083,\n",
       "          -5.8877,  -6.5204,  -6.5695,  -8.3012,  -8.3208,  -8.4416,\n",
       "          -8.8408,  -8.8408,  -8.9544,  -8.9642, -11.2302]),\n",
       " tensor([  8,   9,   6,  20,  14,  16,   7,  11,  12,  18,  17,  15,\n",
       "          23,   4,  21,   5,  24,  13,  19,  27,  25,  10,  22,  26,\n",
       "          29,   3,  28,  32,  30,  31,   2,   0,  33,  34,   1]))"
      ]
     },
     "execution_count": 160,
     "metadata": {},
     "output_type": "execute_result"
    }
   ],
   "source": [
    "probabilities.sort(descending=True)"
   ]
  },
  {
   "cell_type": "code",
   "execution_count": 124,
   "metadata": {},
   "outputs": [
    {
     "data": {
      "text/plain": [
       "defaultdict(<function torchtext.vocab._default_unk_index()>,\n",
       "            {'<unk>': 0,\n",
       "             '<pad>': 1,\n",
       "             '<bos>': 2,\n",
       "             '<eos>': 3,\n",
       "             'a': 4,\n",
       "             'e': 5,\n",
       "             'n': 6,\n",
       "             'i': 7,\n",
       "             'l': 8,\n",
       "             'r': 9,\n",
       "             'o': 10,\n",
       "             's': 11,\n",
       "             't': 12,\n",
       "             'h': 13,\n",
       "             'd': 14,\n",
       "             'y': 15,\n",
       "             'm': 16,\n",
       "             'c': 17,\n",
       "             'u': 18,\n",
       "             'k': 19,\n",
       "             'b': 20,\n",
       "             'g': 21,\n",
       "             'j': 22,\n",
       "             'v': 23,\n",
       "             'p': 24,\n",
       "             'f': 25,\n",
       "             'w': 26,\n",
       "             'z': 27,\n",
       "             'q': 28,\n",
       "             'x': 29,\n",
       "             ' ': 30,\n",
       "             '-': 31,\n",
       "             \"'\": 32,\n",
       "             '.': 33,\n",
       "             ',': 34,\n",
       "             'A': 0,\n",
       "             '<': 0,\n",
       "             '>': 0})"
      ]
     },
     "execution_count": 124,
     "metadata": {},
     "output_type": "execute_result"
    }
   ],
   "source": [
    "data_loader.BABYNAME.vocab.stoi"
   ]
  },
  {
   "cell_type": "code",
   "execution_count": null,
   "metadata": {},
   "outputs": [],
   "source": []
  }
 ],
 "metadata": {
  "kernelspec": {
   "display_name": "Python 3",
   "language": "python",
   "name": "python3"
  },
  "language_info": {
   "codemirror_mode": {
    "name": "ipython",
    "version": 3
   },
   "file_extension": ".py",
   "mimetype": "text/x-python",
   "name": "python",
   "nbconvert_exporter": "python",
   "pygments_lexer": "ipython3",
   "version": "3.6.5"
  }
 },
 "nbformat": 4,
 "nbformat_minor": 2
}
