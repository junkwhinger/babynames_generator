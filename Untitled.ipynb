{
 "cells": [
  {
   "cell_type": "code",
   "execution_count": 1,
   "metadata": {},
   "outputs": [],
   "source": [
    "import requests\n",
    "import ast"
   ]
  },
  {
   "cell_type": "code",
   "execution_count": 2,
   "metadata": {},
   "outputs": [],
   "source": [
    "import pandas as pd\n",
    "import os"
   ]
  },
  {
   "cell_type": "code",
   "execution_count": 3,
   "metadata": {},
   "outputs": [],
   "source": [
    "data_dir = \"data/full_version\"\n",
    "_train = pd.read_csv(os.path.join(data_dir, \"train/train_dataset.csv\"))\n",
    "_val = pd.read_csv(os.path.join(data_dir, \"val/val_dataset.csv\"))"
   ]
  },
  {
   "cell_type": "code",
   "execution_count": 4,
   "metadata": {},
   "outputs": [],
   "source": [
    "_train.babyname = _train.babyname.str.replace(\" \", \"-\")"
   ]
  },
  {
   "cell_type": "code",
   "execution_count": 5,
   "metadata": {},
   "outputs": [],
   "source": [
    "def translate_with_kakao(name_list):\n",
    "    name_str = \"%20\".join([\"'\" + c + \"'\"for c in name_list])\n",
    "    base = \"https://kapi.kakao.com/v1/translation/translate\"\n",
    "    params = \"query={}&src_lang=en&target_lang=kr\".format(name_str)\n",
    "    headers = {'Authorization': 'KakaoAK 9bd04d285fd2214d8b7b417e538a869e'}\n",
    "    req = requests.get(base, headers=headers, params=params)\n",
    "    try:\n",
    "        translated_names = ast.literal_eval(req.text)['translated_text'][0][0].split(\" \")\n",
    "        if len(translated_names) != len(name_list):\n",
    "            print(\"invalid outp len. input len: {} output len: {}\".format(len(name_list), len(translated_names)))\n",
    "            return [None] * len(name_list)\n",
    "        else:\n",
    "            return translated_names\n",
    "    except:\n",
    "        print(\"request error\")\n",
    "        return [None] * len(name_list)\n",
    "    "
   ]
  },
  {
   "cell_type": "code",
   "execution_count": 6,
   "metadata": {},
   "outputs": [],
   "source": [
    "batch_size = 10\n",
    "num_steps = len(_train) // batch_size + 1"
   ]
  },
  {
   "cell_type": "code",
   "execution_count": 7,
   "metadata": {},
   "outputs": [],
   "source": [
    "from tqdm import trange"
   ]
  },
  {
   "cell_type": "code",
   "execution_count": 8,
   "metadata": {},
   "outputs": [],
   "source": [
    "_train_name_dict = {}    "
   ]
  },
  {
   "cell_type": "code",
   "execution_count": 9,
   "metadata": {},
   "outputs": [],
   "source": [
    "import time"
   ]
  },
  {
   "cell_type": "code",
   "execution_count": 10,
   "metadata": {},
   "outputs": [
    {
     "name": "stderr",
     "output_type": "stream",
     "text": [
      "\r",
      "  0%|          | 0/3361 [00:00<?, ?it/s]"
     ]
    },
    {
     "name": "stdout",
     "output_type": "stream",
     "text": [
      "step: 0\n"
     ]
    },
    {
     "name": "stderr",
     "output_type": "stream",
     "text": [
      "  0%|          | 2/3361 [00:04<2:05:39,  2.24s/it]"
     ]
    },
    {
     "name": "stdout",
     "output_type": "stream",
     "text": [
      "step: 1\n"
     ]
    },
    {
     "name": "stderr",
     "output_type": "stream",
     "text": [
      "\r",
      "  0%|          | 3/3361 [00:06<2:03:49,  2.21s/it]"
     ]
    },
    {
     "name": "stdout",
     "output_type": "stream",
     "text": [
      "step: 2\n"
     ]
    },
    {
     "name": "stderr",
     "output_type": "stream",
     "text": [
      "\r",
      "  0%|          | 4/3361 [00:07<1:48:35,  1.94s/it]"
     ]
    },
    {
     "name": "stdout",
     "output_type": "stream",
     "text": [
      "step: 3\n"
     ]
    },
    {
     "name": "stderr",
     "output_type": "stream",
     "text": [
      "\r",
      "  0%|          | 5/3361 [00:08<1:39:28,  1.78s/it]"
     ]
    },
    {
     "name": "stdout",
     "output_type": "stream",
     "text": [
      "step: 4\n"
     ]
    },
    {
     "name": "stderr",
     "output_type": "stream",
     "text": [
      "\r",
      "  0%|          | 6/3361 [00:10<1:33:21,  1.67s/it]"
     ]
    },
    {
     "name": "stdout",
     "output_type": "stream",
     "text": [
      "step: 5\n"
     ]
    },
    {
     "name": "stderr",
     "output_type": "stream",
     "text": [
      "\r",
      "  0%|          | 7/3361 [00:11<1:29:12,  1.60s/it]"
     ]
    },
    {
     "name": "stdout",
     "output_type": "stream",
     "text": [
      "step: 6\n"
     ]
    },
    {
     "name": "stderr",
     "output_type": "stream",
     "text": [
      "\r",
      "  0%|          | 8/3361 [00:12<1:26:02,  1.54s/it]"
     ]
    },
    {
     "name": "stdout",
     "output_type": "stream",
     "text": [
      "step: 7\n"
     ]
    },
    {
     "name": "stderr",
     "output_type": "stream",
     "text": [
      "\r",
      "  0%|          | 9/3361 [00:13<1:26:03,  1.54s/it]"
     ]
    },
    {
     "name": "stdout",
     "output_type": "stream",
     "text": [
      "step: 8\n"
     ]
    },
    {
     "name": "stderr",
     "output_type": "stream",
     "text": [
      "\r",
      "  0%|          | 10/3361 [00:16<1:31:58,  1.65s/it]"
     ]
    },
    {
     "name": "stdout",
     "output_type": "stream",
     "text": [
      "step: 9\n",
      "invalid outp len. input len: 10 output len: 11\n",
      "step: 10\n"
     ]
    },
    {
     "name": "stderr",
     "output_type": "stream",
     "text": [
      "  0%|          | 12/3361 [00:19<1:32:18,  1.65s/it]"
     ]
    },
    {
     "name": "stdout",
     "output_type": "stream",
     "text": [
      "step: 11\n"
     ]
    },
    {
     "name": "stderr",
     "output_type": "stream",
     "text": [
      "\r",
      "  0%|          | 13/3361 [00:20<1:29:38,  1.61s/it]"
     ]
    },
    {
     "name": "stdout",
     "output_type": "stream",
     "text": [
      "step: 12\n"
     ]
    },
    {
     "name": "stderr",
     "output_type": "stream",
     "text": [
      "\r",
      "  0%|          | 14/3361 [00:22<1:28:52,  1.59s/it]"
     ]
    },
    {
     "name": "stdout",
     "output_type": "stream",
     "text": [
      "invalid outp len. input len: 10 output len: 11\n",
      "step: 13\n"
     ]
    },
    {
     "name": "stderr",
     "output_type": "stream",
     "text": [
      "\r",
      "  0%|          | 15/3361 [00:23<1:27:15,  1.56s/it]"
     ]
    },
    {
     "name": "stdout",
     "output_type": "stream",
     "text": [
      "step: 14\n"
     ]
    },
    {
     "name": "stderr",
     "output_type": "stream",
     "text": [
      "\r",
      "  0%|          | 16/3361 [00:24<1:25:34,  1.53s/it]"
     ]
    },
    {
     "name": "stdout",
     "output_type": "stream",
     "text": [
      "step: 15\n"
     ]
    },
    {
     "name": "stderr",
     "output_type": "stream",
     "text": [
      "\r",
      "  1%|          | 17/3361 [00:26<1:25:33,  1.54s/it]"
     ]
    },
    {
     "name": "stdout",
     "output_type": "stream",
     "text": [
      "step: 16\n"
     ]
    },
    {
     "name": "stderr",
     "output_type": "stream",
     "text": [
      "\r",
      "  1%|          | 18/3361 [00:27<1:24:34,  1.52s/it]"
     ]
    },
    {
     "name": "stdout",
     "output_type": "stream",
     "text": [
      "step: 17\n"
     ]
    },
    {
     "name": "stderr",
     "output_type": "stream",
     "text": [
      "\r",
      "  1%|          | 19/3361 [00:31<1:31:15,  1.64s/it]"
     ]
    },
    {
     "name": "stdout",
     "output_type": "stream",
     "text": [
      "step: 18\n"
     ]
    },
    {
     "name": "stderr",
     "output_type": "stream",
     "text": [
      "\r",
      "  1%|          | 20/3361 [00:32<1:30:52,  1.63s/it]"
     ]
    },
    {
     "name": "stdout",
     "output_type": "stream",
     "text": [
      "step: 19\n",
      "step: 20\n"
     ]
    },
    {
     "name": "stderr",
     "output_type": "stream",
     "text": [
      "  1%|          | 22/3361 [00:36<1:31:07,  1.64s/it]"
     ]
    },
    {
     "name": "stdout",
     "output_type": "stream",
     "text": [
      "step: 21\n"
     ]
    },
    {
     "name": "stderr",
     "output_type": "stream",
     "text": [
      "\r",
      "  1%|          | 23/3361 [00:37<1:30:22,  1.62s/it]"
     ]
    },
    {
     "name": "stdout",
     "output_type": "stream",
     "text": [
      "step: 22\n"
     ]
    },
    {
     "name": "stderr",
     "output_type": "stream",
     "text": [
      "\r",
      "  1%|          | 24/3361 [00:38<1:29:02,  1.60s/it]"
     ]
    },
    {
     "name": "stdout",
     "output_type": "stream",
     "text": [
      "step: 23\n"
     ]
    },
    {
     "name": "stderr",
     "output_type": "stream",
     "text": [
      "\r",
      "  1%|          | 25/3361 [00:39<1:27:37,  1.58s/it]"
     ]
    },
    {
     "name": "stdout",
     "output_type": "stream",
     "text": [
      "step: 24\n"
     ]
    },
    {
     "name": "stderr",
     "output_type": "stream",
     "text": [
      "\r",
      "  1%|          | 26/3361 [00:40<1:27:05,  1.57s/it]"
     ]
    },
    {
     "name": "stdout",
     "output_type": "stream",
     "text": [
      "step: 25\n"
     ]
    },
    {
     "name": "stderr",
     "output_type": "stream",
     "text": [
      "\r",
      "  1%|          | 27/3361 [00:41<1:26:09,  1.55s/it]"
     ]
    },
    {
     "name": "stdout",
     "output_type": "stream",
     "text": [
      "step: 26\n"
     ]
    },
    {
     "name": "stderr",
     "output_type": "stream",
     "text": [
      "\r",
      "  1%|          | 28/3361 [00:42<1:24:57,  1.53s/it]"
     ]
    },
    {
     "name": "stdout",
     "output_type": "stream",
     "text": [
      "step: 27\n"
     ]
    },
    {
     "name": "stderr",
     "output_type": "stream",
     "text": [
      "\r",
      "  1%|          | 29/3361 [00:43<1:24:05,  1.51s/it]"
     ]
    },
    {
     "name": "stdout",
     "output_type": "stream",
     "text": [
      "step: 28\n"
     ]
    },
    {
     "name": "stderr",
     "output_type": "stream",
     "text": [
      "\r",
      "  1%|          | 30/3361 [00:45<1:23:32,  1.50s/it]"
     ]
    },
    {
     "name": "stdout",
     "output_type": "stream",
     "text": [
      "step: 29\n",
      "step: 30\n"
     ]
    },
    {
     "name": "stderr",
     "output_type": "stream",
     "text": [
      "  1%|          | 32/3361 [00:48<1:23:46,  1.51s/it]"
     ]
    },
    {
     "name": "stdout",
     "output_type": "stream",
     "text": [
      "step: 31\n"
     ]
    },
    {
     "name": "stderr",
     "output_type": "stream",
     "text": [
      "\r",
      "  1%|          | 33/3361 [00:49<1:23:10,  1.50s/it]"
     ]
    },
    {
     "name": "stdout",
     "output_type": "stream",
     "text": [
      "step: 32\n"
     ]
    },
    {
     "name": "stderr",
     "output_type": "stream",
     "text": [
      "\r",
      "  1%|          | 34/3361 [00:50<1:22:20,  1.48s/it]"
     ]
    },
    {
     "name": "stdout",
     "output_type": "stream",
     "text": [
      "step: 33\n"
     ]
    },
    {
     "name": "stderr",
     "output_type": "stream",
     "text": [
      "\r",
      "  1%|          | 35/3361 [00:51<1:21:31,  1.47s/it]"
     ]
    },
    {
     "name": "stdout",
     "output_type": "stream",
     "text": [
      "step: 34\n"
     ]
    },
    {
     "name": "stderr",
     "output_type": "stream",
     "text": [
      "\r",
      "  1%|          | 36/3361 [00:52<1:20:49,  1.46s/it]"
     ]
    },
    {
     "name": "stdout",
     "output_type": "stream",
     "text": [
      "step: 35\n"
     ]
    },
    {
     "name": "stderr",
     "output_type": "stream",
     "text": [
      "\r",
      "  1%|          | 37/3361 [00:53<1:20:28,  1.45s/it]"
     ]
    },
    {
     "name": "stdout",
     "output_type": "stream",
     "text": [
      "step: 36\n"
     ]
    },
    {
     "name": "stderr",
     "output_type": "stream",
     "text": [
      "\r",
      "  1%|          | 38/3361 [00:54<1:20:02,  1.45s/it]"
     ]
    },
    {
     "name": "stdout",
     "output_type": "stream",
     "text": [
      "step: 37\n"
     ]
    },
    {
     "name": "stderr",
     "output_type": "stream",
     "text": [
      "\r",
      "  1%|          | 39/3361 [00:56<1:19:38,  1.44s/it]"
     ]
    },
    {
     "name": "stdout",
     "output_type": "stream",
     "text": [
      "step: 38\n"
     ]
    },
    {
     "name": "stderr",
     "output_type": "stream",
     "text": [
      "\r",
      "  1%|          | 40/3361 [00:57<1:19:28,  1.44s/it]"
     ]
    },
    {
     "name": "stdout",
     "output_type": "stream",
     "text": [
      "step: 39\n",
      "step: 40\n"
     ]
    },
    {
     "name": "stderr",
     "output_type": "stream",
     "text": [
      "  1%|          | 42/3361 [01:00<1:20:05,  1.45s/it]"
     ]
    },
    {
     "name": "stdout",
     "output_type": "stream",
     "text": [
      "step: 41\n"
     ]
    },
    {
     "name": "stderr",
     "output_type": "stream",
     "text": [
      "\r",
      "  1%|▏         | 43/3361 [01:02<1:19:46,  1.44s/it]"
     ]
    },
    {
     "name": "stdout",
     "output_type": "stream",
     "text": [
      "step: 42\n"
     ]
    },
    {
     "name": "stderr",
     "output_type": "stream",
     "text": [
      "\r",
      "  1%|▏         | 44/3361 [01:03<1:19:44,  1.44s/it]"
     ]
    },
    {
     "name": "stdout",
     "output_type": "stream",
     "text": [
      "step: 43\n"
     ]
    },
    {
     "name": "stderr",
     "output_type": "stream",
     "text": [
      "\r",
      "  1%|▏         | 45/3361 [01:04<1:19:20,  1.44s/it]"
     ]
    },
    {
     "name": "stdout",
     "output_type": "stream",
     "text": [
      "step: 44\n"
     ]
    },
    {
     "name": "stderr",
     "output_type": "stream",
     "text": [
      "\r",
      "  1%|▏         | 46/3361 [01:05<1:18:46,  1.43s/it]"
     ]
    },
    {
     "name": "stdout",
     "output_type": "stream",
     "text": [
      "step: 45\n"
     ]
    },
    {
     "name": "stderr",
     "output_type": "stream",
     "text": [
      "\r",
      "  1%|▏         | 47/3361 [01:06<1:18:33,  1.42s/it]"
     ]
    },
    {
     "name": "stdout",
     "output_type": "stream",
     "text": [
      "step: 46\n"
     ]
    },
    {
     "name": "stderr",
     "output_type": "stream",
     "text": [
      "\r",
      "  1%|▏         | 48/3361 [01:07<1:18:11,  1.42s/it]"
     ]
    },
    {
     "name": "stdout",
     "output_type": "stream",
     "text": [
      "step: 47\n"
     ]
    },
    {
     "name": "stderr",
     "output_type": "stream",
     "text": [
      "\r",
      "  1%|▏         | 49/3361 [01:09<1:17:57,  1.41s/it]"
     ]
    },
    {
     "name": "stdout",
     "output_type": "stream",
     "text": [
      "step: 48\n"
     ]
    },
    {
     "name": "stderr",
     "output_type": "stream",
     "text": [
      "\r",
      "  1%|▏         | 50/3361 [01:10<1:17:37,  1.41s/it]"
     ]
    },
    {
     "name": "stdout",
     "output_type": "stream",
     "text": [
      "step: 49\n",
      "step: 50\n"
     ]
    },
    {
     "name": "stderr",
     "output_type": "stream",
     "text": [
      "  2%|▏         | 52/3361 [01:13<1:18:03,  1.42s/it]"
     ]
    },
    {
     "name": "stdout",
     "output_type": "stream",
     "text": [
      "step: 51\n"
     ]
    },
    {
     "name": "stderr",
     "output_type": "stream",
     "text": [
      "\r",
      "  2%|▏         | 53/3361 [01:14<1:17:44,  1.41s/it]"
     ]
    },
    {
     "name": "stdout",
     "output_type": "stream",
     "text": [
      "invalid outp len. input len: 10 output len: 9\n",
      "step: 52\n"
     ]
    },
    {
     "name": "stderr",
     "output_type": "stream",
     "text": [
      "\r",
      "  2%|▏         | 54/3361 [01:15<1:17:32,  1.41s/it]"
     ]
    },
    {
     "name": "stdout",
     "output_type": "stream",
     "text": [
      "step: 53\n"
     ]
    },
    {
     "name": "stderr",
     "output_type": "stream",
     "text": [
      "\r",
      "  2%|▏         | 55/3361 [01:17<1:17:13,  1.40s/it]"
     ]
    },
    {
     "name": "stdout",
     "output_type": "stream",
     "text": [
      "step: 54\n"
     ]
    },
    {
     "name": "stderr",
     "output_type": "stream",
     "text": [
      "\r",
      "  2%|▏         | 56/3361 [01:18<1:17:08,  1.40s/it]"
     ]
    },
    {
     "name": "stdout",
     "output_type": "stream",
     "text": [
      "step: 55\n"
     ]
    },
    {
     "name": "stderr",
     "output_type": "stream",
     "text": [
      "\r",
      "  2%|▏         | 57/3361 [01:19<1:16:39,  1.39s/it]"
     ]
    },
    {
     "name": "stdout",
     "output_type": "stream",
     "text": [
      "step: 56\n"
     ]
    },
    {
     "name": "stderr",
     "output_type": "stream",
     "text": [
      "\r",
      "  2%|▏         | 58/3361 [01:20<1:16:22,  1.39s/it]"
     ]
    },
    {
     "name": "stdout",
     "output_type": "stream",
     "text": [
      "step: 57\n"
     ]
    },
    {
     "name": "stderr",
     "output_type": "stream",
     "text": [
      "\r",
      "  2%|▏         | 59/3361 [01:21<1:16:12,  1.38s/it]"
     ]
    },
    {
     "name": "stdout",
     "output_type": "stream",
     "text": [
      "step: 58\n"
     ]
    },
    {
     "name": "stderr",
     "output_type": "stream",
     "text": [
      "\r",
      "  2%|▏         | 60/3361 [01:22<1:15:57,  1.38s/it]"
     ]
    },
    {
     "name": "stdout",
     "output_type": "stream",
     "text": [
      "invalid outp len. input len: 10 output len: 9\n",
      "step: 59\n",
      "step: 60\n"
     ]
    },
    {
     "name": "stderr",
     "output_type": "stream",
     "text": [
      "  2%|▏         | 62/3361 [01:26<1:16:19,  1.39s/it]"
     ]
    },
    {
     "name": "stdout",
     "output_type": "stream",
     "text": [
      "step: 61\n"
     ]
    },
    {
     "name": "stderr",
     "output_type": "stream",
     "text": [
      "\r",
      "  2%|▏         | 63/3361 [01:27<1:16:06,  1.38s/it]"
     ]
    },
    {
     "name": "stdout",
     "output_type": "stream",
     "text": [
      "step: 62\n"
     ]
    },
    {
     "name": "stderr",
     "output_type": "stream",
     "text": [
      "\r",
      "  2%|▏         | 64/3361 [01:28<1:15:53,  1.38s/it]"
     ]
    },
    {
     "name": "stdout",
     "output_type": "stream",
     "text": [
      "step: 63\n"
     ]
    },
    {
     "name": "stderr",
     "output_type": "stream",
     "text": [
      "\r",
      "  2%|▏         | 65/3361 [01:29<1:15:37,  1.38s/it]"
     ]
    },
    {
     "name": "stdout",
     "output_type": "stream",
     "text": [
      "step: 64\n"
     ]
    },
    {
     "name": "stderr",
     "output_type": "stream",
     "text": [
      "\r",
      "  2%|▏         | 66/3361 [01:30<1:15:18,  1.37s/it]"
     ]
    },
    {
     "name": "stdout",
     "output_type": "stream",
     "text": [
      "step: 65\n"
     ]
    },
    {
     "name": "stderr",
     "output_type": "stream",
     "text": [
      "\r",
      "  2%|▏         | 67/3361 [01:31<1:15:04,  1.37s/it]"
     ]
    },
    {
     "name": "stdout",
     "output_type": "stream",
     "text": [
      "step: 66\n"
     ]
    },
    {
     "name": "stderr",
     "output_type": "stream",
     "text": [
      "\r",
      "  2%|▏         | 68/3361 [01:32<1:15:01,  1.37s/it]"
     ]
    },
    {
     "name": "stdout",
     "output_type": "stream",
     "text": [
      "step: 67\n"
     ]
    },
    {
     "name": "stderr",
     "output_type": "stream",
     "text": [
      "\r",
      "  2%|▏         | 69/3361 [01:34<1:14:48,  1.36s/it]"
     ]
    },
    {
     "name": "stdout",
     "output_type": "stream",
     "text": [
      "step: 68\n"
     ]
    },
    {
     "name": "stderr",
     "output_type": "stream",
     "text": [
      "\r",
      "  2%|▏         | 70/3361 [01:35<1:14:41,  1.36s/it]"
     ]
    },
    {
     "name": "stdout",
     "output_type": "stream",
     "text": [
      "step: 69\n",
      "step: 70\n"
     ]
    },
    {
     "name": "stderr",
     "output_type": "stream",
     "text": [
      "  2%|▏         | 72/3361 [01:38<1:14:58,  1.37s/it]"
     ]
    },
    {
     "name": "stdout",
     "output_type": "stream",
     "text": [
      "step: 71\n"
     ]
    },
    {
     "name": "stderr",
     "output_type": "stream",
     "text": [
      "\r",
      "  2%|▏         | 73/3361 [01:39<1:14:42,  1.36s/it]"
     ]
    },
    {
     "name": "stdout",
     "output_type": "stream",
     "text": [
      "step: 72\n"
     ]
    },
    {
     "name": "stderr",
     "output_type": "stream",
     "text": [
      "\r",
      "  2%|▏         | 74/3361 [01:40<1:14:20,  1.36s/it]"
     ]
    },
    {
     "name": "stdout",
     "output_type": "stream",
     "text": [
      "step: 73\n"
     ]
    },
    {
     "name": "stderr",
     "output_type": "stream",
     "text": [
      "\r",
      "  2%|▏         | 75/3361 [01:41<1:14:09,  1.35s/it]"
     ]
    },
    {
     "name": "stdout",
     "output_type": "stream",
     "text": [
      "step: 74\n"
     ]
    },
    {
     "name": "stderr",
     "output_type": "stream",
     "text": [
      "\r",
      "  2%|▏         | 76/3361 [01:42<1:14:11,  1.36s/it]"
     ]
    },
    {
     "name": "stdout",
     "output_type": "stream",
     "text": [
      "step: 75\n"
     ]
    },
    {
     "name": "stderr",
     "output_type": "stream",
     "text": [
      "\r",
      "  2%|▏         | 77/3361 [01:44<1:13:58,  1.35s/it]"
     ]
    },
    {
     "name": "stdout",
     "output_type": "stream",
     "text": [
      "step: 76\n"
     ]
    },
    {
     "name": "stderr",
     "output_type": "stream",
     "text": [
      "\r",
      "  2%|▏         | 78/3361 [01:45<1:14:15,  1.36s/it]"
     ]
    },
    {
     "name": "stdout",
     "output_type": "stream",
     "text": [
      "step: 77\n"
     ]
    },
    {
     "name": "stderr",
     "output_type": "stream",
     "text": [
      "\r",
      "  2%|▏         | 79/3361 [01:47<1:14:17,  1.36s/it]"
     ]
    },
    {
     "name": "stdout",
     "output_type": "stream",
     "text": [
      "step: 78\n"
     ]
    },
    {
     "name": "stderr",
     "output_type": "stream",
     "text": [
      "\r",
      "  2%|▏         | 80/3361 [01:48<1:14:11,  1.36s/it]"
     ]
    },
    {
     "name": "stdout",
     "output_type": "stream",
     "text": [
      "step: 79\n",
      "step: 80\n"
     ]
    },
    {
     "name": "stderr",
     "output_type": "stream",
     "text": [
      "  2%|▏         | 82/3361 [01:52<1:14:38,  1.37s/it]"
     ]
    },
    {
     "name": "stdout",
     "output_type": "stream",
     "text": [
      "step: 81\n"
     ]
    },
    {
     "name": "stderr",
     "output_type": "stream",
     "text": [
      "\r",
      "  2%|▏         | 83/3361 [01:53<1:14:26,  1.36s/it]"
     ]
    },
    {
     "name": "stdout",
     "output_type": "stream",
     "text": [
      "invalid outp len. input len: 10 output len: 9\n",
      "step: 82\n"
     ]
    },
    {
     "name": "stderr",
     "output_type": "stream",
     "text": [
      "\r",
      "  2%|▏         | 84/3361 [01:54<1:14:21,  1.36s/it]"
     ]
    },
    {
     "name": "stdout",
     "output_type": "stream",
     "text": [
      "step: 83\n"
     ]
    },
    {
     "name": "stderr",
     "output_type": "stream",
     "text": [
      "\r",
      "  3%|▎         | 85/3361 [01:55<1:14:22,  1.36s/it]"
     ]
    },
    {
     "name": "stdout",
     "output_type": "stream",
     "text": [
      "step: 84\n"
     ]
    },
    {
     "name": "stderr",
     "output_type": "stream",
     "text": [
      "\r",
      "  3%|▎         | 86/3361 [01:58<1:15:05,  1.38s/it]"
     ]
    },
    {
     "name": "stdout",
     "output_type": "stream",
     "text": [
      "step: 85\n"
     ]
    },
    {
     "name": "stderr",
     "output_type": "stream",
     "text": [
      "\r",
      "  3%|▎         | 87/3361 [01:59<1:15:04,  1.38s/it]"
     ]
    },
    {
     "name": "stdout",
     "output_type": "stream",
     "text": [
      "step: 86\n"
     ]
    },
    {
     "name": "stderr",
     "output_type": "stream",
     "text": [
      "\r",
      "  3%|▎         | 88/3361 [02:00<1:14:47,  1.37s/it]"
     ]
    },
    {
     "name": "stdout",
     "output_type": "stream",
     "text": [
      "invalid outp len. input len: 10 output len: 9\n",
      "step: 87\n"
     ]
    },
    {
     "name": "stderr",
     "output_type": "stream",
     "text": [
      "\r",
      "  3%|▎         | 89/3361 [02:01<1:14:30,  1.37s/it]"
     ]
    },
    {
     "name": "stdout",
     "output_type": "stream",
     "text": [
      "step: 88\n"
     ]
    },
    {
     "name": "stderr",
     "output_type": "stream",
     "text": [
      "\r",
      "  3%|▎         | 90/3361 [02:02<1:14:25,  1.37s/it]"
     ]
    },
    {
     "name": "stdout",
     "output_type": "stream",
     "text": [
      "step: 89\n",
      "step: 90\n"
     ]
    },
    {
     "name": "stderr",
     "output_type": "stream",
     "text": [
      "  3%|▎         | 92/3361 [02:06<1:14:52,  1.37s/it]"
     ]
    },
    {
     "name": "stdout",
     "output_type": "stream",
     "text": [
      "step: 91\n"
     ]
    },
    {
     "name": "stderr",
     "output_type": "stream",
     "text": [
      "\r",
      "  3%|▎         | 93/3361 [02:07<1:14:44,  1.37s/it]"
     ]
    },
    {
     "name": "stdout",
     "output_type": "stream",
     "text": [
      "step: 92\n"
     ]
    },
    {
     "name": "stderr",
     "output_type": "stream",
     "text": [
      "\r",
      "  3%|▎         | 94/3361 [02:08<1:14:29,  1.37s/it]"
     ]
    },
    {
     "name": "stdout",
     "output_type": "stream",
     "text": [
      "step: 93\n"
     ]
    },
    {
     "name": "stderr",
     "output_type": "stream",
     "text": [
      "\r",
      "  3%|▎         | 95/3361 [02:09<1:14:15,  1.36s/it]"
     ]
    },
    {
     "name": "stdout",
     "output_type": "stream",
     "text": [
      "step: 94\n"
     ]
    },
    {
     "name": "stderr",
     "output_type": "stream",
     "text": [
      "\r",
      "  3%|▎         | 96/3361 [02:10<1:14:10,  1.36s/it]"
     ]
    },
    {
     "name": "stdout",
     "output_type": "stream",
     "text": [
      "step: 95\n"
     ]
    },
    {
     "name": "stderr",
     "output_type": "stream",
     "text": [
      "\r",
      "  3%|▎         | 97/3361 [02:12<1:14:07,  1.36s/it]"
     ]
    },
    {
     "name": "stdout",
     "output_type": "stream",
     "text": [
      "step: 96\n"
     ]
    },
    {
     "name": "stderr",
     "output_type": "stream",
     "text": [
      "\r",
      "  3%|▎         | 98/3361 [02:13<1:14:08,  1.36s/it]"
     ]
    },
    {
     "name": "stdout",
     "output_type": "stream",
     "text": [
      "step: 97\n"
     ]
    },
    {
     "name": "stderr",
     "output_type": "stream",
     "text": [
      "\r",
      "  3%|▎         | 99/3361 [02:15<1:14:13,  1.37s/it]"
     ]
    },
    {
     "name": "stdout",
     "output_type": "stream",
     "text": [
      "step: 98\n"
     ]
    },
    {
     "name": "stderr",
     "output_type": "stream",
     "text": [
      "\r",
      "  3%|▎         | 100/3361 [02:16<1:14:11,  1.36s/it]"
     ]
    },
    {
     "name": "stdout",
     "output_type": "stream",
     "text": [
      "step: 99\n",
      "step: 100\n"
     ]
    },
    {
     "name": "stderr",
     "output_type": "stream",
     "text": [
      "  3%|▎         | 102/3361 [02:21<1:15:36,  1.39s/it]"
     ]
    },
    {
     "name": "stdout",
     "output_type": "stream",
     "text": [
      "invalid outp len. input len: 10 output len: 11\n",
      "step: 101\n"
     ]
    },
    {
     "name": "stderr",
     "output_type": "stream",
     "text": [
      "\r",
      "  3%|▎         | 103/3361 [02:24<1:16:24,  1.41s/it]"
     ]
    },
    {
     "name": "stdout",
     "output_type": "stream",
     "text": [
      "step: 102\n"
     ]
    },
    {
     "name": "stderr",
     "output_type": "stream",
     "text": [
      "\r",
      "  3%|▎         | 104/3361 [02:26<1:16:22,  1.41s/it]"
     ]
    },
    {
     "name": "stdout",
     "output_type": "stream",
     "text": [
      "step: 103\n"
     ]
    },
    {
     "name": "stderr",
     "output_type": "stream",
     "text": [
      "\r",
      "  3%|▎         | 105/3361 [02:28<1:16:42,  1.41s/it]"
     ]
    },
    {
     "name": "stdout",
     "output_type": "stream",
     "text": [
      "step: 104\n"
     ]
    },
    {
     "name": "stderr",
     "output_type": "stream",
     "text": [
      "\r",
      "  3%|▎         | 106/3361 [02:39<1:21:34,  1.50s/it]"
     ]
    },
    {
     "name": "stdout",
     "output_type": "stream",
     "text": [
      "step: 105\n"
     ]
    },
    {
     "name": "stderr",
     "output_type": "stream",
     "text": [
      "\r",
      "  3%|▎         | 107/3361 [02:41<1:21:37,  1.51s/it]"
     ]
    },
    {
     "name": "stdout",
     "output_type": "stream",
     "text": [
      "step: 106\n"
     ]
    },
    {
     "name": "stderr",
     "output_type": "stream",
     "text": [
      "\r",
      "  3%|▎         | 108/3361 [02:42<1:21:31,  1.50s/it]"
     ]
    },
    {
     "name": "stdout",
     "output_type": "stream",
     "text": [
      "step: 107\n"
     ]
    },
    {
     "name": "stderr",
     "output_type": "stream",
     "text": [
      "\r",
      "  3%|▎         | 109/3361 [02:43<1:21:14,  1.50s/it]"
     ]
    },
    {
     "name": "stdout",
     "output_type": "stream",
     "text": [
      "invalid outp len. input len: 10 output len: 9\n",
      "step: 108\n"
     ]
    },
    {
     "name": "stderr",
     "output_type": "stream",
     "text": [
      "\r",
      "  3%|▎         | 110/3361 [02:44<1:21:02,  1.50s/it]"
     ]
    },
    {
     "name": "stdout",
     "output_type": "stream",
     "text": [
      "step: 109\n",
      "step: 110\n"
     ]
    },
    {
     "name": "stderr",
     "output_type": "stream",
     "text": [
      "  3%|▎         | 112/3361 [02:47<1:21:01,  1.50s/it]"
     ]
    },
    {
     "name": "stdout",
     "output_type": "stream",
     "text": [
      "step: 111\n"
     ]
    },
    {
     "name": "stderr",
     "output_type": "stream",
     "text": [
      "\r",
      "  3%|▎         | 113/3361 [02:48<1:20:53,  1.49s/it]"
     ]
    },
    {
     "name": "stdout",
     "output_type": "stream",
     "text": [
      "step: 112\n"
     ]
    },
    {
     "name": "stderr",
     "output_type": "stream",
     "text": [
      "\r",
      "  3%|▎         | 114/3361 [02:49<1:20:38,  1.49s/it]"
     ]
    },
    {
     "name": "stdout",
     "output_type": "stream",
     "text": [
      "step: 113\n"
     ]
    },
    {
     "name": "stderr",
     "output_type": "stream",
     "text": [
      "\r",
      "  3%|▎         | 115/3361 [02:50<1:20:24,  1.49s/it]"
     ]
    },
    {
     "name": "stdout",
     "output_type": "stream",
     "text": [
      "step: 114\n"
     ]
    },
    {
     "name": "stderr",
     "output_type": "stream",
     "text": [
      "\r",
      "  3%|▎         | 116/3361 [02:52<1:20:17,  1.48s/it]"
     ]
    },
    {
     "name": "stdout",
     "output_type": "stream",
     "text": [
      "step: 115\n"
     ]
    },
    {
     "name": "stderr",
     "output_type": "stream",
     "text": [
      "\r",
      "  3%|▎         | 117/3361 [02:53<1:20:03,  1.48s/it]"
     ]
    },
    {
     "name": "stdout",
     "output_type": "stream",
     "text": [
      "step: 116\n"
     ]
    },
    {
     "name": "stderr",
     "output_type": "stream",
     "text": [
      "\r",
      "  4%|▎         | 118/3361 [02:54<1:19:58,  1.48s/it]"
     ]
    },
    {
     "name": "stdout",
     "output_type": "stream",
     "text": [
      "step: 117\n"
     ]
    },
    {
     "name": "stderr",
     "output_type": "stream",
     "text": [
      "\r",
      "  4%|▎         | 119/3361 [02:56<1:19:55,  1.48s/it]"
     ]
    },
    {
     "name": "stdout",
     "output_type": "stream",
     "text": [
      "step: 118\n"
     ]
    },
    {
     "name": "stderr",
     "output_type": "stream",
     "text": [
      "\r",
      "  4%|▎         | 120/3361 [02:57<1:19:46,  1.48s/it]"
     ]
    },
    {
     "name": "stdout",
     "output_type": "stream",
     "text": [
      "step: 119\n",
      "step: 120\n"
     ]
    },
    {
     "name": "stderr",
     "output_type": "stream",
     "text": [
      "  4%|▎         | 122/3361 [03:00<1:19:49,  1.48s/it]"
     ]
    },
    {
     "name": "stdout",
     "output_type": "stream",
     "text": [
      "step: 121\n"
     ]
    },
    {
     "name": "stderr",
     "output_type": "stream",
     "text": [
      "\r",
      "  4%|▎         | 123/3361 [03:01<1:19:41,  1.48s/it]"
     ]
    },
    {
     "name": "stdout",
     "output_type": "stream",
     "text": [
      "step: 122\n"
     ]
    },
    {
     "name": "stderr",
     "output_type": "stream",
     "text": [
      "\r",
      "  4%|▎         | 124/3361 [03:02<1:19:31,  1.47s/it]"
     ]
    },
    {
     "name": "stdout",
     "output_type": "stream",
     "text": [
      "step: 123\n"
     ]
    },
    {
     "name": "stderr",
     "output_type": "stream",
     "text": [
      "\r",
      "  4%|▎         | 125/3361 [03:03<1:19:17,  1.47s/it]"
     ]
    },
    {
     "name": "stdout",
     "output_type": "stream",
     "text": [
      "step: 124\n"
     ]
    },
    {
     "name": "stderr",
     "output_type": "stream",
     "text": [
      "\r",
      "  4%|▎         | 126/3361 [03:05<1:19:10,  1.47s/it]"
     ]
    },
    {
     "name": "stdout",
     "output_type": "stream",
     "text": [
      "step: 125\n"
     ]
    },
    {
     "name": "stderr",
     "output_type": "stream",
     "text": [
      "\r",
      "  4%|▍         | 127/3361 [03:06<1:19:00,  1.47s/it]"
     ]
    },
    {
     "name": "stdout",
     "output_type": "stream",
     "text": [
      "step: 126\n"
     ]
    },
    {
     "name": "stderr",
     "output_type": "stream",
     "text": [
      "\r",
      "  4%|▍         | 128/3361 [03:07<1:18:52,  1.46s/it]"
     ]
    },
    {
     "name": "stdout",
     "output_type": "stream",
     "text": [
      "step: 127\n"
     ]
    },
    {
     "name": "stderr",
     "output_type": "stream",
     "text": [
      "\r",
      "  4%|▍         | 129/3361 [03:08<1:18:43,  1.46s/it]"
     ]
    },
    {
     "name": "stdout",
     "output_type": "stream",
     "text": [
      "step: 128\n"
     ]
    },
    {
     "name": "stderr",
     "output_type": "stream",
     "text": [
      "\r",
      "  4%|▍         | 130/3361 [03:09<1:18:32,  1.46s/it]"
     ]
    },
    {
     "name": "stdout",
     "output_type": "stream",
     "text": [
      "step: 129\n",
      "step: 130\n"
     ]
    },
    {
     "name": "stderr",
     "output_type": "stream",
     "text": [
      "  4%|▍         | 132/3361 [03:12<1:18:38,  1.46s/it]"
     ]
    },
    {
     "name": "stdout",
     "output_type": "stream",
     "text": [
      "step: 131\n"
     ]
    },
    {
     "name": "stderr",
     "output_type": "stream",
     "text": [
      "\r",
      "  4%|▍         | 133/3361 [03:14<1:18:29,  1.46s/it]"
     ]
    },
    {
     "name": "stdout",
     "output_type": "stream",
     "text": [
      "step: 132\n"
     ]
    },
    {
     "name": "stderr",
     "output_type": "stream",
     "text": [
      "\r",
      "  4%|▍         | 134/3361 [03:15<1:18:22,  1.46s/it]"
     ]
    },
    {
     "name": "stdout",
     "output_type": "stream",
     "text": [
      "step: 133\n"
     ]
    },
    {
     "name": "stderr",
     "output_type": "stream",
     "text": [
      "\r",
      "  4%|▍         | 135/3361 [03:16<1:18:12,  1.45s/it]"
     ]
    },
    {
     "name": "stdout",
     "output_type": "stream",
     "text": [
      "step: 134\n"
     ]
    },
    {
     "name": "stderr",
     "output_type": "stream",
     "text": [
      "\r",
      "  4%|▍         | 136/3361 [03:17<1:17:58,  1.45s/it]"
     ]
    },
    {
     "name": "stdout",
     "output_type": "stream",
     "text": [
      "invalid outp len. input len: 10 output len: 9\n",
      "step: 135\n"
     ]
    },
    {
     "name": "stderr",
     "output_type": "stream",
     "text": [
      "\r",
      "  4%|▍         | 137/3361 [03:18<1:17:46,  1.45s/it]"
     ]
    },
    {
     "name": "stdout",
     "output_type": "stream",
     "text": [
      "step: 136\n"
     ]
    },
    {
     "name": "stderr",
     "output_type": "stream",
     "text": [
      "\r",
      "  4%|▍         | 138/3361 [03:21<1:18:28,  1.46s/it]"
     ]
    },
    {
     "name": "stdout",
     "output_type": "stream",
     "text": [
      "request error\n",
      "step: 137\n"
     ]
    },
    {
     "name": "stderr",
     "output_type": "stream",
     "text": [
      "\r",
      "  4%|▍         | 139/3361 [03:22<1:18:19,  1.46s/it]"
     ]
    },
    {
     "name": "stdout",
     "output_type": "stream",
     "text": [
      "step: 138\n"
     ]
    },
    {
     "name": "stderr",
     "output_type": "stream",
     "text": [
      "\r",
      "  4%|▍         | 140/3361 [03:23<1:18:08,  1.46s/it]"
     ]
    },
    {
     "name": "stdout",
     "output_type": "stream",
     "text": [
      "step: 139\n",
      "step: 140\n"
     ]
    },
    {
     "name": "stderr",
     "output_type": "stream",
     "text": [
      "  4%|▍         | 142/3361 [03:26<1:18:08,  1.46s/it]"
     ]
    },
    {
     "name": "stdout",
     "output_type": "stream",
     "text": [
      "step: 141\n"
     ]
    },
    {
     "name": "stderr",
     "output_type": "stream",
     "text": [
      "\r",
      "  4%|▍         | 143/3361 [03:27<1:17:58,  1.45s/it]"
     ]
    },
    {
     "name": "stdout",
     "output_type": "stream",
     "text": [
      "step: 142\n"
     ]
    },
    {
     "name": "stderr",
     "output_type": "stream",
     "text": [
      "\r",
      "  4%|▍         | 144/3361 [03:29<1:17:49,  1.45s/it]"
     ]
    },
    {
     "name": "stdout",
     "output_type": "stream",
     "text": [
      "step: 143\n"
     ]
    },
    {
     "name": "stderr",
     "output_type": "stream",
     "text": [
      "\r",
      "  4%|▍         | 145/3361 [03:30<1:17:38,  1.45s/it]"
     ]
    },
    {
     "name": "stdout",
     "output_type": "stream",
     "text": [
      "step: 144\n"
     ]
    },
    {
     "name": "stderr",
     "output_type": "stream",
     "text": [
      "\r",
      "  4%|▍         | 146/3361 [03:30<1:17:24,  1.44s/it]"
     ]
    },
    {
     "name": "stdout",
     "output_type": "stream",
     "text": [
      "step: 145\n"
     ]
    },
    {
     "name": "stderr",
     "output_type": "stream",
     "text": [
      "\r",
      "  4%|▍         | 147/3361 [03:32<1:17:15,  1.44s/it]"
     ]
    },
    {
     "name": "stdout",
     "output_type": "stream",
     "text": [
      "step: 146\n"
     ]
    },
    {
     "name": "stderr",
     "output_type": "stream",
     "text": [
      "\r",
      "  4%|▍         | 148/3361 [03:32<1:17:02,  1.44s/it]"
     ]
    },
    {
     "name": "stdout",
     "output_type": "stream",
     "text": [
      "step: 147\n"
     ]
    },
    {
     "name": "stderr",
     "output_type": "stream",
     "text": [
      "\r",
      "  4%|▍         | 149/3361 [03:34<1:16:57,  1.44s/it]"
     ]
    },
    {
     "name": "stdout",
     "output_type": "stream",
     "text": [
      "step: 148\n"
     ]
    },
    {
     "name": "stderr",
     "output_type": "stream",
     "text": [
      "\r",
      "  4%|▍         | 150/3361 [03:35<1:16:45,  1.43s/it]"
     ]
    },
    {
     "name": "stdout",
     "output_type": "stream",
     "text": [
      "invalid outp len. input len: 10 output len: 11\n",
      "step: 149\n",
      "step: 150\n"
     ]
    },
    {
     "name": "stderr",
     "output_type": "stream",
     "text": [
      "  5%|▍         | 152/3361 [03:38<1:16:43,  1.43s/it]"
     ]
    },
    {
     "name": "stdout",
     "output_type": "stream",
     "text": [
      "step: 151\n"
     ]
    },
    {
     "name": "stderr",
     "output_type": "stream",
     "text": [
      "\r",
      "  5%|▍         | 153/3361 [03:39<1:16:34,  1.43s/it]"
     ]
    },
    {
     "name": "stdout",
     "output_type": "stream",
     "text": [
      "step: 152\n"
     ]
    },
    {
     "name": "stderr",
     "output_type": "stream",
     "text": [
      "\r",
      "  5%|▍         | 154/3361 [03:40<1:16:22,  1.43s/it]"
     ]
    },
    {
     "name": "stdout",
     "output_type": "stream",
     "text": [
      "step: 153\n"
     ]
    },
    {
     "name": "stderr",
     "output_type": "stream",
     "text": [
      "\r",
      "  5%|▍         | 155/3361 [03:41<1:16:18,  1.43s/it]"
     ]
    },
    {
     "name": "stdout",
     "output_type": "stream",
     "text": [
      "step: 154\n"
     ]
    },
    {
     "name": "stderr",
     "output_type": "stream",
     "text": [
      "\r",
      "  5%|▍         | 156/3361 [03:42<1:16:11,  1.43s/it]"
     ]
    },
    {
     "name": "stdout",
     "output_type": "stream",
     "text": [
      "step: 155\n"
     ]
    },
    {
     "name": "stderr",
     "output_type": "stream",
     "text": [
      "\r",
      "  5%|▍         | 157/3361 [03:43<1:16:05,  1.43s/it]"
     ]
    },
    {
     "name": "stdout",
     "output_type": "stream",
     "text": [
      "step: 156\n"
     ]
    },
    {
     "name": "stderr",
     "output_type": "stream",
     "text": [
      "\r",
      "  5%|▍         | 158/3361 [03:44<1:15:58,  1.42s/it]"
     ]
    },
    {
     "name": "stdout",
     "output_type": "stream",
     "text": [
      "step: 157\n"
     ]
    },
    {
     "name": "stderr",
     "output_type": "stream",
     "text": [
      "\r",
      "  5%|▍         | 159/3361 [03:45<1:15:50,  1.42s/it]"
     ]
    },
    {
     "name": "stdout",
     "output_type": "stream",
     "text": [
      "step: 158\n"
     ]
    },
    {
     "name": "stderr",
     "output_type": "stream",
     "text": [
      "\r",
      "  5%|▍         | 160/3361 [03:50<1:16:47,  1.44s/it]"
     ]
    },
    {
     "name": "stdout",
     "output_type": "stream",
     "text": [
      "step: 159\n",
      "step: 160\n"
     ]
    },
    {
     "name": "stderr",
     "output_type": "stream",
     "text": [
      "  5%|▍         | 162/3361 [03:53<1:16:50,  1.44s/it]"
     ]
    },
    {
     "name": "stdout",
     "output_type": "stream",
     "text": [
      "step: 161\n"
     ]
    },
    {
     "name": "stderr",
     "output_type": "stream",
     "text": [
      "\r",
      "  5%|▍         | 163/3361 [03:54<1:16:44,  1.44s/it]"
     ]
    },
    {
     "name": "stdout",
     "output_type": "stream",
     "text": [
      "step: 162\n"
     ]
    },
    {
     "name": "stderr",
     "output_type": "stream",
     "text": [
      "\r",
      "  5%|▍         | 164/3361 [03:56<1:16:40,  1.44s/it]"
     ]
    },
    {
     "name": "stdout",
     "output_type": "stream",
     "text": [
      "step: 163\n"
     ]
    },
    {
     "name": "stderr",
     "output_type": "stream",
     "text": [
      "\r",
      "  5%|▍         | 165/3361 [03:58<1:17:01,  1.45s/it]"
     ]
    },
    {
     "name": "stdout",
     "output_type": "stream",
     "text": [
      "step: 164\n"
     ]
    },
    {
     "name": "stderr",
     "output_type": "stream",
     "text": [
      "\r",
      "  5%|▍         | 166/3361 [04:00<1:17:08,  1.45s/it]"
     ]
    },
    {
     "name": "stdout",
     "output_type": "stream",
     "text": [
      "step: 165\n"
     ]
    },
    {
     "name": "stderr",
     "output_type": "stream",
     "text": [
      "\r",
      "  5%|▍         | 167/3361 [04:06<1:18:25,  1.47s/it]"
     ]
    },
    {
     "name": "stdout",
     "output_type": "stream",
     "text": [
      "step: 166\n"
     ]
    },
    {
     "name": "stderr",
     "output_type": "stream",
     "text": [
      "\r",
      "  5%|▍         | 168/3361 [04:07<1:18:23,  1.47s/it]"
     ]
    },
    {
     "name": "stdout",
     "output_type": "stream",
     "text": [
      "step: 167\n"
     ]
    },
    {
     "name": "stderr",
     "output_type": "stream",
     "text": [
      "\r",
      "  5%|▌         | 169/3361 [04:08<1:18:16,  1.47s/it]"
     ]
    },
    {
     "name": "stdout",
     "output_type": "stream",
     "text": [
      "step: 168\n"
     ]
    },
    {
     "name": "stderr",
     "output_type": "stream",
     "text": [
      "\r",
      "  5%|▌         | 170/3361 [04:09<1:18:06,  1.47s/it]"
     ]
    },
    {
     "name": "stdout",
     "output_type": "stream",
     "text": [
      "step: 169\n",
      "step: 170\n"
     ]
    },
    {
     "name": "stderr",
     "output_type": "stream",
     "text": [
      "  5%|▌         | 172/3361 [04:12<1:18:05,  1.47s/it]"
     ]
    },
    {
     "name": "stdout",
     "output_type": "stream",
     "text": [
      "step: 171\n"
     ]
    },
    {
     "name": "stderr",
     "output_type": "stream",
     "text": [
      "\r",
      "  5%|▌         | 173/3361 [04:13<1:17:57,  1.47s/it]"
     ]
    },
    {
     "name": "stdout",
     "output_type": "stream",
     "text": [
      "step: 172\n"
     ]
    },
    {
     "name": "stderr",
     "output_type": "stream",
     "text": [
      "\r",
      "  5%|▌         | 174/3361 [04:15<1:17:51,  1.47s/it]"
     ]
    },
    {
     "name": "stdout",
     "output_type": "stream",
     "text": [
      "step: 173\n"
     ]
    },
    {
     "name": "stderr",
     "output_type": "stream",
     "text": [
      "\r",
      "  5%|▌         | 175/3361 [04:16<1:17:45,  1.46s/it]"
     ]
    },
    {
     "name": "stdout",
     "output_type": "stream",
     "text": [
      "step: 174\n"
     ]
    },
    {
     "name": "stderr",
     "output_type": "stream",
     "text": [
      "\r",
      "  5%|▌         | 176/3361 [04:17<1:17:42,  1.46s/it]"
     ]
    },
    {
     "name": "stdout",
     "output_type": "stream",
     "text": [
      "step: 175\n"
     ]
    },
    {
     "name": "stderr",
     "output_type": "stream",
     "text": [
      "\r",
      "  5%|▌         | 177/3361 [04:18<1:17:33,  1.46s/it]"
     ]
    },
    {
     "name": "stdout",
     "output_type": "stream",
     "text": [
      "step: 176\n"
     ]
    },
    {
     "name": "stderr",
     "output_type": "stream",
     "text": [
      "\r",
      "  5%|▌         | 178/3361 [04:19<1:17:28,  1.46s/it]"
     ]
    },
    {
     "name": "stdout",
     "output_type": "stream",
     "text": [
      "step: 177\n"
     ]
    },
    {
     "name": "stderr",
     "output_type": "stream",
     "text": [
      "\r",
      "  5%|▌         | 179/3361 [04:21<1:17:23,  1.46s/it]"
     ]
    },
    {
     "name": "stdout",
     "output_type": "stream",
     "text": [
      "step: 178\n"
     ]
    },
    {
     "name": "stderr",
     "output_type": "stream",
     "text": [
      "\r",
      "  5%|▌         | 180/3361 [04:22<1:17:15,  1.46s/it]"
     ]
    },
    {
     "name": "stdout",
     "output_type": "stream",
     "text": [
      "step: 179\n",
      "step: 180\n"
     ]
    },
    {
     "name": "stderr",
     "output_type": "stream",
     "text": [
      "  5%|▌         | 182/3361 [04:25<1:17:23,  1.46s/it]"
     ]
    },
    {
     "name": "stdout",
     "output_type": "stream",
     "text": [
      "step: 181\n"
     ]
    },
    {
     "name": "stderr",
     "output_type": "stream",
     "text": [
      "\r",
      "  5%|▌         | 183/3361 [04:26<1:17:15,  1.46s/it]"
     ]
    },
    {
     "name": "stdout",
     "output_type": "stream",
     "text": [
      "step: 182\n"
     ]
    },
    {
     "name": "stderr",
     "output_type": "stream",
     "text": [
      "\r",
      "  5%|▌         | 184/3361 [04:28<1:17:07,  1.46s/it]"
     ]
    },
    {
     "name": "stdout",
     "output_type": "stream",
     "text": [
      "step: 183\n"
     ]
    },
    {
     "name": "stderr",
     "output_type": "stream",
     "text": [
      "\r",
      "  6%|▌         | 185/3361 [04:29<1:16:59,  1.45s/it]"
     ]
    },
    {
     "name": "stdout",
     "output_type": "stream",
     "text": [
      "step: 184\n"
     ]
    },
    {
     "name": "stderr",
     "output_type": "stream",
     "text": [
      "\r",
      "  6%|▌         | 186/3361 [04:30<1:16:50,  1.45s/it]"
     ]
    },
    {
     "name": "stdout",
     "output_type": "stream",
     "text": [
      "step: 185\n"
     ]
    },
    {
     "name": "stderr",
     "output_type": "stream",
     "text": [
      "\r",
      "  6%|▌         | 187/3361 [04:32<1:17:04,  1.46s/it]"
     ]
    },
    {
     "name": "stdout",
     "output_type": "stream",
     "text": [
      "step: 186\n"
     ]
    },
    {
     "name": "stderr",
     "output_type": "stream",
     "text": [
      "\r",
      "  6%|▌         | 188/3361 [04:33<1:16:57,  1.46s/it]"
     ]
    },
    {
     "name": "stdout",
     "output_type": "stream",
     "text": [
      "step: 187\n"
     ]
    },
    {
     "name": "stderr",
     "output_type": "stream",
     "text": [
      "\r",
      "  6%|▌         | 189/3361 [04:34<1:16:52,  1.45s/it]"
     ]
    },
    {
     "name": "stdout",
     "output_type": "stream",
     "text": [
      "step: 188\n"
     ]
    },
    {
     "name": "stderr",
     "output_type": "stream",
     "text": [
      "\r",
      "  6%|▌         | 190/3361 [04:35<1:16:45,  1.45s/it]"
     ]
    },
    {
     "name": "stdout",
     "output_type": "stream",
     "text": [
      "step: 189\n",
      "step: 190\n"
     ]
    },
    {
     "name": "stderr",
     "output_type": "stream",
     "text": [
      "  6%|▌         | 192/3361 [04:39<1:16:46,  1.45s/it]"
     ]
    },
    {
     "name": "stdout",
     "output_type": "stream",
     "text": [
      "step: 191\n"
     ]
    },
    {
     "name": "stderr",
     "output_type": "stream",
     "text": [
      "\r",
      "  6%|▌         | 193/3361 [04:39<1:16:33,  1.45s/it]"
     ]
    },
    {
     "name": "stdout",
     "output_type": "stream",
     "text": [
      "invalid outp len. input len: 10 output len: 8\n",
      "step: 192\n"
     ]
    },
    {
     "name": "stderr",
     "output_type": "stream",
     "text": [
      "\r",
      "  6%|▌         | 194/3361 [04:40<1:16:26,  1.45s/it]"
     ]
    },
    {
     "name": "stdout",
     "output_type": "stream",
     "text": [
      "step: 193\n"
     ]
    },
    {
     "name": "stderr",
     "output_type": "stream",
     "text": [
      "\r",
      "  6%|▌         | 195/3361 [04:42<1:16:23,  1.45s/it]"
     ]
    },
    {
     "name": "stdout",
     "output_type": "stream",
     "text": [
      "step: 194\n"
     ]
    },
    {
     "name": "stderr",
     "output_type": "stream",
     "text": [
      "\r",
      "  6%|▌         | 196/3361 [04:43<1:16:16,  1.45s/it]"
     ]
    },
    {
     "name": "stdout",
     "output_type": "stream",
     "text": [
      "step: 195\n"
     ]
    },
    {
     "name": "stderr",
     "output_type": "stream",
     "text": [
      "\r",
      "  6%|▌         | 197/3361 [04:44<1:16:09,  1.44s/it]"
     ]
    },
    {
     "name": "stdout",
     "output_type": "stream",
     "text": [
      "step: 196\n"
     ]
    },
    {
     "name": "stderr",
     "output_type": "stream",
     "text": [
      "\r",
      "  6%|▌         | 198/3361 [04:45<1:16:03,  1.44s/it]"
     ]
    },
    {
     "name": "stdout",
     "output_type": "stream",
     "text": [
      "step: 197\n"
     ]
    },
    {
     "name": "stderr",
     "output_type": "stream",
     "text": [
      "\r",
      "  6%|▌         | 199/3361 [04:47<1:16:00,  1.44s/it]"
     ]
    },
    {
     "name": "stdout",
     "output_type": "stream",
     "text": [
      "step: 198\n"
     ]
    },
    {
     "name": "stderr",
     "output_type": "stream",
     "text": [
      "\r",
      "  6%|▌         | 200/3361 [04:48<1:15:53,  1.44s/it]"
     ]
    },
    {
     "name": "stdout",
     "output_type": "stream",
     "text": [
      "step: 199\n",
      "invalid outp len. input len: 10 output len: 9\n",
      "step: 200\n"
     ]
    },
    {
     "name": "stderr",
     "output_type": "stream",
     "text": [
      "  6%|▌         | 202/3361 [04:51<1:15:53,  1.44s/it]"
     ]
    },
    {
     "name": "stdout",
     "output_type": "stream",
     "text": [
      "step: 201\n"
     ]
    },
    {
     "name": "stderr",
     "output_type": "stream",
     "text": [
      "\r",
      "  6%|▌         | 203/3361 [04:52<1:15:49,  1.44s/it]"
     ]
    },
    {
     "name": "stdout",
     "output_type": "stream",
     "text": [
      "invalid outp len. input len: 10 output len: 9\n",
      "step: 202\n"
     ]
    },
    {
     "name": "stderr",
     "output_type": "stream",
     "text": [
      "\r",
      "  6%|▌         | 204/3361 [04:53<1:15:43,  1.44s/it]"
     ]
    },
    {
     "name": "stdout",
     "output_type": "stream",
     "text": [
      "invalid outp len. input len: 10 output len: 11\n",
      "step: 203\n"
     ]
    },
    {
     "name": "stderr",
     "output_type": "stream",
     "text": [
      "\r",
      "  6%|▌         | 205/3361 [04:54<1:15:35,  1.44s/it]"
     ]
    },
    {
     "name": "stdout",
     "output_type": "stream",
     "text": [
      "step: 204\n"
     ]
    },
    {
     "name": "stderr",
     "output_type": "stream",
     "text": [
      "\r",
      "  6%|▌         | 206/3361 [04:55<1:15:26,  1.43s/it]"
     ]
    },
    {
     "name": "stdout",
     "output_type": "stream",
     "text": [
      "step: 205\n"
     ]
    },
    {
     "name": "stderr",
     "output_type": "stream",
     "text": [
      "\r",
      "  6%|▌         | 207/3361 [04:56<1:15:22,  1.43s/it]"
     ]
    },
    {
     "name": "stdout",
     "output_type": "stream",
     "text": [
      "step: 206\n"
     ]
    },
    {
     "name": "stderr",
     "output_type": "stream",
     "text": [
      "\r",
      "  6%|▌         | 208/3361 [04:58<1:15:21,  1.43s/it]"
     ]
    },
    {
     "name": "stdout",
     "output_type": "stream",
     "text": [
      "step: 207\n"
     ]
    },
    {
     "name": "stderr",
     "output_type": "stream",
     "text": [
      "\r",
      "  6%|▌         | 209/3361 [04:59<1:15:16,  1.43s/it]"
     ]
    },
    {
     "name": "stdout",
     "output_type": "stream",
     "text": [
      "step: 208\n"
     ]
    },
    {
     "name": "stderr",
     "output_type": "stream",
     "text": [
      "\r",
      "  6%|▌         | 210/3361 [05:00<1:15:15,  1.43s/it]"
     ]
    },
    {
     "name": "stdout",
     "output_type": "stream",
     "text": [
      "step: 209\n",
      "step: 210\n"
     ]
    },
    {
     "name": "stderr",
     "output_type": "stream",
     "text": [
      "  6%|▋         | 212/3361 [05:04<1:15:15,  1.43s/it]"
     ]
    },
    {
     "name": "stdout",
     "output_type": "stream",
     "text": [
      "step: 211\n"
     ]
    },
    {
     "name": "stderr",
     "output_type": "stream",
     "text": [
      "\r",
      "  6%|▋         | 213/3361 [05:05<1:15:08,  1.43s/it]"
     ]
    },
    {
     "name": "stdout",
     "output_type": "stream",
     "text": [
      "step: 212\n"
     ]
    },
    {
     "name": "stderr",
     "output_type": "stream",
     "text": [
      "\r",
      "  6%|▋         | 214/3361 [05:06<1:15:00,  1.43s/it]"
     ]
    },
    {
     "name": "stdout",
     "output_type": "stream",
     "text": [
      "step: 213\n"
     ]
    },
    {
     "name": "stderr",
     "output_type": "stream",
     "text": [
      "\r",
      "  6%|▋         | 215/3361 [05:07<1:14:56,  1.43s/it]"
     ]
    },
    {
     "name": "stdout",
     "output_type": "stream",
     "text": [
      "invalid outp len. input len: 10 output len: 11\n",
      "step: 214\n"
     ]
    },
    {
     "name": "stderr",
     "output_type": "stream",
     "text": [
      "\r",
      "  6%|▋         | 216/3361 [05:08<1:14:51,  1.43s/it]"
     ]
    },
    {
     "name": "stdout",
     "output_type": "stream",
     "text": [
      "step: 215\n"
     ]
    },
    {
     "name": "stderr",
     "output_type": "stream",
     "text": [
      "\r",
      "  6%|▋         | 217/3361 [05:09<1:14:43,  1.43s/it]"
     ]
    },
    {
     "name": "stdout",
     "output_type": "stream",
     "text": [
      "step: 216\n"
     ]
    },
    {
     "name": "stderr",
     "output_type": "stream",
     "text": [
      "\r",
      "  6%|▋         | 218/3361 [05:10<1:14:40,  1.43s/it]"
     ]
    },
    {
     "name": "stdout",
     "output_type": "stream",
     "text": [
      "step: 217\n"
     ]
    },
    {
     "name": "stderr",
     "output_type": "stream",
     "text": [
      "\r",
      "  7%|▋         | 219/3361 [05:11<1:14:34,  1.42s/it]"
     ]
    },
    {
     "name": "stdout",
     "output_type": "stream",
     "text": [
      "step: 218\n"
     ]
    },
    {
     "name": "stderr",
     "output_type": "stream",
     "text": [
      "\r",
      "  7%|▋         | 220/3361 [05:12<1:14:26,  1.42s/it]"
     ]
    },
    {
     "name": "stdout",
     "output_type": "stream",
     "text": [
      "step: 219\n",
      "step: 220\n"
     ]
    },
    {
     "name": "stderr",
     "output_type": "stream",
     "text": [
      "  7%|▋         | 222/3361 [05:16<1:14:35,  1.43s/it]"
     ]
    },
    {
     "name": "stdout",
     "output_type": "stream",
     "text": [
      "step: 221\n"
     ]
    },
    {
     "name": "stderr",
     "output_type": "stream",
     "text": [
      "\r",
      "  7%|▋         | 223/3361 [05:17<1:14:31,  1.42s/it]"
     ]
    },
    {
     "name": "stdout",
     "output_type": "stream",
     "text": [
      "invalid outp len. input len: 10 output len: 11\n",
      "step: 222\n"
     ]
    },
    {
     "name": "stderr",
     "output_type": "stream",
     "text": [
      "\r",
      "  7%|▋         | 224/3361 [05:18<1:14:25,  1.42s/it]"
     ]
    },
    {
     "name": "stdout",
     "output_type": "stream",
     "text": [
      "step: 223\n"
     ]
    },
    {
     "name": "stderr",
     "output_type": "stream",
     "text": [
      "\r",
      "  7%|▋         | 225/3361 [05:19<1:14:19,  1.42s/it]"
     ]
    },
    {
     "name": "stdout",
     "output_type": "stream",
     "text": [
      "step: 224\n"
     ]
    },
    {
     "name": "stderr",
     "output_type": "stream",
     "text": [
      "\r",
      "  7%|▋         | 226/3361 [05:20<1:14:12,  1.42s/it]"
     ]
    },
    {
     "name": "stdout",
     "output_type": "stream",
     "text": [
      "step: 225\n"
     ]
    },
    {
     "name": "stderr",
     "output_type": "stream",
     "text": [
      "\r",
      "  7%|▋         | 227/3361 [05:22<1:14:10,  1.42s/it]"
     ]
    },
    {
     "name": "stdout",
     "output_type": "stream",
     "text": [
      "step: 226\n"
     ]
    },
    {
     "name": "stderr",
     "output_type": "stream",
     "text": [
      "\r",
      "  7%|▋         | 228/3361 [05:23<1:14:06,  1.42s/it]"
     ]
    },
    {
     "name": "stdout",
     "output_type": "stream",
     "text": [
      "step: 227\n"
     ]
    },
    {
     "name": "stderr",
     "output_type": "stream",
     "text": [
      "\r",
      "  7%|▋         | 229/3361 [05:24<1:14:00,  1.42s/it]"
     ]
    },
    {
     "name": "stdout",
     "output_type": "stream",
     "text": [
      "step: 228\n"
     ]
    },
    {
     "name": "stderr",
     "output_type": "stream",
     "text": [
      "\r",
      "  7%|▋         | 230/3361 [05:25<1:13:56,  1.42s/it]"
     ]
    },
    {
     "name": "stdout",
     "output_type": "stream",
     "text": [
      "step: 229\n",
      "step: 230\n"
     ]
    },
    {
     "name": "stderr",
     "output_type": "stream",
     "text": [
      "  7%|▋         | 232/3361 [05:29<1:13:59,  1.42s/it]"
     ]
    },
    {
     "name": "stdout",
     "output_type": "stream",
     "text": [
      "step: 231\n"
     ]
    },
    {
     "name": "stderr",
     "output_type": "stream",
     "text": [
      "\r",
      "  7%|▋         | 233/3361 [05:30<1:13:52,  1.42s/it]"
     ]
    },
    {
     "name": "stdout",
     "output_type": "stream",
     "text": [
      "step: 232\n"
     ]
    },
    {
     "name": "stderr",
     "output_type": "stream",
     "text": [
      "\r",
      "  7%|▋         | 234/3361 [05:31<1:13:44,  1.42s/it]"
     ]
    },
    {
     "name": "stdout",
     "output_type": "stream",
     "text": [
      "step: 233\n"
     ]
    },
    {
     "name": "stderr",
     "output_type": "stream",
     "text": [
      "\r",
      "  7%|▋         | 235/3361 [05:32<1:13:38,  1.41s/it]"
     ]
    },
    {
     "name": "stdout",
     "output_type": "stream",
     "text": [
      "step: 234\n"
     ]
    },
    {
     "name": "stderr",
     "output_type": "stream",
     "text": [
      "\r",
      "  7%|▋         | 236/3361 [05:33<1:13:34,  1.41s/it]"
     ]
    },
    {
     "name": "stdout",
     "output_type": "stream",
     "text": [
      "step: 235\n"
     ]
    },
    {
     "name": "stderr",
     "output_type": "stream",
     "text": [
      "\r",
      "  7%|▋         | 237/3361 [05:34<1:13:29,  1.41s/it]"
     ]
    },
    {
     "name": "stdout",
     "output_type": "stream",
     "text": [
      "step: 236\n"
     ]
    },
    {
     "name": "stderr",
     "output_type": "stream",
     "text": [
      "\r",
      "  7%|▋         | 238/3361 [05:35<1:13:21,  1.41s/it]"
     ]
    },
    {
     "name": "stdout",
     "output_type": "stream",
     "text": [
      "step: 237\n"
     ]
    },
    {
     "name": "stderr",
     "output_type": "stream",
     "text": [
      "\r",
      "  7%|▋         | 239/3361 [05:36<1:13:16,  1.41s/it]"
     ]
    },
    {
     "name": "stdout",
     "output_type": "stream",
     "text": [
      "step: 238\n"
     ]
    },
    {
     "name": "stderr",
     "output_type": "stream",
     "text": [
      "\r",
      "  7%|▋         | 240/3361 [05:37<1:13:12,  1.41s/it]"
     ]
    },
    {
     "name": "stdout",
     "output_type": "stream",
     "text": [
      "step: 239\n",
      "step: 240\n"
     ]
    },
    {
     "name": "stderr",
     "output_type": "stream",
     "text": [
      "  7%|▋         | 242/3361 [05:40<1:13:13,  1.41s/it]"
     ]
    },
    {
     "name": "stdout",
     "output_type": "stream",
     "text": [
      "step: 241\n"
     ]
    },
    {
     "name": "stderr",
     "output_type": "stream",
     "text": [
      "\r",
      "  7%|▋         | 243/3361 [05:42<1:13:10,  1.41s/it]"
     ]
    },
    {
     "name": "stdout",
     "output_type": "stream",
     "text": [
      "step: 242\n"
     ]
    },
    {
     "name": "stderr",
     "output_type": "stream",
     "text": [
      "\r",
      "  7%|▋         | 244/3361 [05:43<1:13:04,  1.41s/it]"
     ]
    },
    {
     "name": "stdout",
     "output_type": "stream",
     "text": [
      "step: 243\n"
     ]
    },
    {
     "name": "stderr",
     "output_type": "stream",
     "text": [
      "\r",
      "  7%|▋         | 245/3361 [05:44<1:12:56,  1.40s/it]"
     ]
    },
    {
     "name": "stdout",
     "output_type": "stream",
     "text": [
      "step: 244\n"
     ]
    },
    {
     "name": "stderr",
     "output_type": "stream",
     "text": [
      "\r",
      "  7%|▋         | 246/3361 [05:45<1:12:52,  1.40s/it]"
     ]
    },
    {
     "name": "stdout",
     "output_type": "stream",
     "text": [
      "step: 245\n"
     ]
    },
    {
     "name": "stderr",
     "output_type": "stream",
     "text": [
      "\r",
      "  7%|▋         | 247/3361 [05:46<1:12:51,  1.40s/it]"
     ]
    },
    {
     "name": "stdout",
     "output_type": "stream",
     "text": [
      "step: 246\n"
     ]
    },
    {
     "name": "stderr",
     "output_type": "stream",
     "text": [
      "\r",
      "  7%|▋         | 248/3361 [05:47<1:12:45,  1.40s/it]"
     ]
    },
    {
     "name": "stdout",
     "output_type": "stream",
     "text": [
      "step: 247\n"
     ]
    },
    {
     "name": "stderr",
     "output_type": "stream",
     "text": [
      "\r",
      "  7%|▋         | 249/3361 [05:48<1:12:41,  1.40s/it]"
     ]
    },
    {
     "name": "stdout",
     "output_type": "stream",
     "text": [
      "step: 248\n"
     ]
    },
    {
     "name": "stderr",
     "output_type": "stream",
     "text": [
      "\r",
      "  7%|▋         | 250/3361 [05:49<1:12:35,  1.40s/it]"
     ]
    },
    {
     "name": "stdout",
     "output_type": "stream",
     "text": [
      "step: 249\n",
      "step: 250\n"
     ]
    },
    {
     "name": "stderr",
     "output_type": "stream",
     "text": [
      "  7%|▋         | 252/3361 [05:53<1:12:35,  1.40s/it]"
     ]
    },
    {
     "name": "stdout",
     "output_type": "stream",
     "text": [
      "step: 251\n"
     ]
    },
    {
     "name": "stderr",
     "output_type": "stream",
     "text": [
      "\r",
      "  8%|▊         | 253/3361 [05:54<1:12:32,  1.40s/it]"
     ]
    },
    {
     "name": "stdout",
     "output_type": "stream",
     "text": [
      "step: 252\n"
     ]
    },
    {
     "name": "stderr",
     "output_type": "stream",
     "text": [
      "\r",
      "  8%|▊         | 254/3361 [05:55<1:12:27,  1.40s/it]"
     ]
    },
    {
     "name": "stdout",
     "output_type": "stream",
     "text": [
      "step: 253\n"
     ]
    },
    {
     "name": "stderr",
     "output_type": "stream",
     "text": [
      "\r",
      "  8%|▊         | 255/3361 [05:56<1:12:22,  1.40s/it]"
     ]
    },
    {
     "name": "stdout",
     "output_type": "stream",
     "text": [
      "step: 254\n"
     ]
    },
    {
     "name": "stderr",
     "output_type": "stream",
     "text": [
      "\r",
      "  8%|▊         | 256/3361 [05:57<1:12:15,  1.40s/it]"
     ]
    },
    {
     "name": "stdout",
     "output_type": "stream",
     "text": [
      "step: 255\n"
     ]
    },
    {
     "name": "stderr",
     "output_type": "stream",
     "text": [
      "\r",
      "  8%|▊         | 257/3361 [05:58<1:12:09,  1.39s/it]"
     ]
    },
    {
     "name": "stdout",
     "output_type": "stream",
     "text": [
      "step: 256\n"
     ]
    },
    {
     "name": "stderr",
     "output_type": "stream",
     "text": [
      "\r",
      "  8%|▊         | 258/3361 [05:59<1:12:01,  1.39s/it]"
     ]
    },
    {
     "name": "stdout",
     "output_type": "stream",
     "text": [
      "step: 257\n"
     ]
    },
    {
     "name": "stderr",
     "output_type": "stream",
     "text": [
      "\r",
      "  8%|▊         | 259/3361 [06:00<1:11:59,  1.39s/it]"
     ]
    },
    {
     "name": "stdout",
     "output_type": "stream",
     "text": [
      "step: 258\n"
     ]
    },
    {
     "name": "stderr",
     "output_type": "stream",
     "text": [
      "\r",
      "  8%|▊         | 260/3361 [06:01<1:11:53,  1.39s/it]"
     ]
    },
    {
     "name": "stdout",
     "output_type": "stream",
     "text": [
      "step: 259\n",
      "step: 260\n"
     ]
    },
    {
     "name": "stderr",
     "output_type": "stream",
     "text": [
      "  8%|▊         | 262/3361 [06:04<1:11:56,  1.39s/it]"
     ]
    },
    {
     "name": "stdout",
     "output_type": "stream",
     "text": [
      "step: 261\n"
     ]
    },
    {
     "name": "stderr",
     "output_type": "stream",
     "text": [
      "\r",
      "  8%|▊         | 263/3361 [06:06<1:11:52,  1.39s/it]"
     ]
    },
    {
     "name": "stdout",
     "output_type": "stream",
     "text": [
      "step: 262\n"
     ]
    },
    {
     "name": "stderr",
     "output_type": "stream",
     "text": [
      "\r",
      "  8%|▊         | 264/3361 [06:07<1:11:47,  1.39s/it]"
     ]
    },
    {
     "name": "stdout",
     "output_type": "stream",
     "text": [
      "step: 263\n"
     ]
    },
    {
     "name": "stderr",
     "output_type": "stream",
     "text": [
      "\r",
      "  8%|▊         | 265/3361 [06:08<1:11:41,  1.39s/it]"
     ]
    },
    {
     "name": "stdout",
     "output_type": "stream",
     "text": [
      "step: 264\n"
     ]
    },
    {
     "name": "stderr",
     "output_type": "stream",
     "text": [
      "\r",
      "  8%|▊         | 266/3361 [06:09<1:11:38,  1.39s/it]"
     ]
    },
    {
     "name": "stdout",
     "output_type": "stream",
     "text": [
      "step: 265\n"
     ]
    },
    {
     "name": "stderr",
     "output_type": "stream",
     "text": [
      "\r",
      "  8%|▊         | 267/3361 [06:10<1:11:34,  1.39s/it]"
     ]
    },
    {
     "name": "stdout",
     "output_type": "stream",
     "text": [
      "step: 266\n"
     ]
    },
    {
     "name": "stderr",
     "output_type": "stream",
     "text": [
      "\r",
      "  8%|▊         | 268/3361 [06:11<1:11:29,  1.39s/it]"
     ]
    },
    {
     "name": "stdout",
     "output_type": "stream",
     "text": [
      "step: 267\n"
     ]
    },
    {
     "name": "stderr",
     "output_type": "stream",
     "text": [
      "\r",
      "  8%|▊         | 269/3361 [06:12<1:11:24,  1.39s/it]"
     ]
    },
    {
     "name": "stdout",
     "output_type": "stream",
     "text": [
      "step: 268\n"
     ]
    },
    {
     "name": "stderr",
     "output_type": "stream",
     "text": [
      "\r",
      "  8%|▊         | 270/3361 [06:13<1:11:18,  1.38s/it]"
     ]
    },
    {
     "name": "stdout",
     "output_type": "stream",
     "text": [
      "invalid outp len. input len: 10 output len: 11\n",
      "step: 269\n",
      "step: 270\n"
     ]
    },
    {
     "name": "stderr",
     "output_type": "stream",
     "text": [
      "  8%|▊         | 272/3361 [06:17<1:11:22,  1.39s/it]"
     ]
    },
    {
     "name": "stdout",
     "output_type": "stream",
     "text": [
      "step: 271\n"
     ]
    },
    {
     "name": "stderr",
     "output_type": "stream",
     "text": [
      "\r",
      "  8%|▊         | 273/3361 [06:18<1:11:19,  1.39s/it]"
     ]
    },
    {
     "name": "stdout",
     "output_type": "stream",
     "text": [
      "step: 272\n"
     ]
    },
    {
     "name": "stderr",
     "output_type": "stream",
     "text": [
      "\r",
      "  8%|▊         | 274/3361 [06:19<1:11:14,  1.38s/it]"
     ]
    },
    {
     "name": "stdout",
     "output_type": "stream",
     "text": [
      "step: 273\n"
     ]
    },
    {
     "name": "stderr",
     "output_type": "stream",
     "text": [
      "\r",
      "  8%|▊         | 275/3361 [06:20<1:11:10,  1.38s/it]"
     ]
    },
    {
     "name": "stdout",
     "output_type": "stream",
     "text": [
      "invalid outp len. input len: 10 output len: 11\n",
      "step: 274\n"
     ]
    },
    {
     "name": "stderr",
     "output_type": "stream",
     "text": [
      "\r",
      "  8%|▊         | 276/3361 [06:21<1:11:04,  1.38s/it]"
     ]
    },
    {
     "name": "stdout",
     "output_type": "stream",
     "text": [
      "step: 275\n"
     ]
    },
    {
     "name": "stderr",
     "output_type": "stream",
     "text": [
      "\r",
      "  8%|▊         | 277/3361 [06:22<1:10:58,  1.38s/it]"
     ]
    },
    {
     "name": "stdout",
     "output_type": "stream",
     "text": [
      "step: 276\n"
     ]
    },
    {
     "name": "stderr",
     "output_type": "stream",
     "text": [
      "\r",
      "  8%|▊         | 278/3361 [06:23<1:10:52,  1.38s/it]"
     ]
    },
    {
     "name": "stdout",
     "output_type": "stream",
     "text": [
      "step: 277\n"
     ]
    },
    {
     "name": "stderr",
     "output_type": "stream",
     "text": [
      "\r",
      "  8%|▊         | 279/3361 [06:24<1:10:47,  1.38s/it]"
     ]
    },
    {
     "name": "stdout",
     "output_type": "stream",
     "text": [
      "step: 278\n"
     ]
    },
    {
     "name": "stderr",
     "output_type": "stream",
     "text": [
      "\r",
      "  8%|▊         | 280/3361 [06:25<1:10:45,  1.38s/it]"
     ]
    },
    {
     "name": "stdout",
     "output_type": "stream",
     "text": [
      "step: 279\n",
      "step: 280\n"
     ]
    },
    {
     "name": "stderr",
     "output_type": "stream",
     "text": [
      "  8%|▊         | 282/3361 [06:28<1:10:44,  1.38s/it]"
     ]
    },
    {
     "name": "stdout",
     "output_type": "stream",
     "text": [
      "step: 281\n"
     ]
    },
    {
     "name": "stderr",
     "output_type": "stream",
     "text": [
      "\r",
      "  8%|▊         | 283/3361 [06:29<1:10:40,  1.38s/it]"
     ]
    },
    {
     "name": "stdout",
     "output_type": "stream",
     "text": [
      "step: 282\n"
     ]
    },
    {
     "name": "stderr",
     "output_type": "stream",
     "text": [
      "\r",
      "  8%|▊         | 284/3361 [06:31<1:10:36,  1.38s/it]"
     ]
    },
    {
     "name": "stdout",
     "output_type": "stream",
     "text": [
      "step: 283\n"
     ]
    },
    {
     "name": "stderr",
     "output_type": "stream",
     "text": [
      "\r",
      "  8%|▊         | 285/3361 [06:32<1:10:34,  1.38s/it]"
     ]
    },
    {
     "name": "stdout",
     "output_type": "stream",
     "text": [
      "step: 284\n"
     ]
    },
    {
     "name": "stderr",
     "output_type": "stream",
     "text": [
      "\r",
      "  9%|▊         | 286/3361 [06:33<1:10:29,  1.38s/it]"
     ]
    },
    {
     "name": "stdout",
     "output_type": "stream",
     "text": [
      "step: 285\n"
     ]
    },
    {
     "name": "stderr",
     "output_type": "stream",
     "text": [
      "\r",
      "  9%|▊         | 287/3361 [06:36<1:10:46,  1.38s/it]"
     ]
    },
    {
     "name": "stdout",
     "output_type": "stream",
     "text": [
      "request error\n",
      "step: 286\n"
     ]
    },
    {
     "name": "stderr",
     "output_type": "stream",
     "text": [
      "\r",
      "  9%|▊         | 288/3361 [06:37<1:10:43,  1.38s/it]"
     ]
    },
    {
     "name": "stdout",
     "output_type": "stream",
     "text": [
      "step: 287\n"
     ]
    },
    {
     "name": "stderr",
     "output_type": "stream",
     "text": [
      "\r",
      "  9%|▊         | 289/3361 [06:38<1:10:40,  1.38s/it]"
     ]
    },
    {
     "name": "stdout",
     "output_type": "stream",
     "text": [
      "step: 288\n"
     ]
    },
    {
     "name": "stderr",
     "output_type": "stream",
     "text": [
      "\r",
      "  9%|▊         | 290/3361 [06:40<1:10:36,  1.38s/it]"
     ]
    },
    {
     "name": "stdout",
     "output_type": "stream",
     "text": [
      "step: 289\n",
      "step: 290\n"
     ]
    },
    {
     "name": "stderr",
     "output_type": "stream",
     "text": [
      "  9%|▊         | 292/3361 [06:45<1:11:04,  1.39s/it]"
     ]
    },
    {
     "name": "stdout",
     "output_type": "stream",
     "text": [
      "step: 291\n"
     ]
    },
    {
     "name": "stderr",
     "output_type": "stream",
     "text": [
      "\r",
      "  9%|▊         | 293/3361 [06:46<1:10:58,  1.39s/it]"
     ]
    },
    {
     "name": "stdout",
     "output_type": "stream",
     "text": [
      "step: 292\n"
     ]
    },
    {
     "name": "stderr",
     "output_type": "stream",
     "text": [
      "\r",
      "  9%|▊         | 294/3361 [06:47<1:10:55,  1.39s/it]"
     ]
    },
    {
     "name": "stdout",
     "output_type": "stream",
     "text": [
      "step: 293\n"
     ]
    },
    {
     "name": "stderr",
     "output_type": "stream",
     "text": [
      "\r",
      "  9%|▉         | 295/3361 [06:48<1:10:49,  1.39s/it]"
     ]
    },
    {
     "name": "stdout",
     "output_type": "stream",
     "text": [
      "step: 294\n"
     ]
    },
    {
     "name": "stderr",
     "output_type": "stream",
     "text": [
      "\r",
      "  9%|▉         | 296/3361 [06:50<1:10:47,  1.39s/it]"
     ]
    },
    {
     "name": "stdout",
     "output_type": "stream",
     "text": [
      "step: 295\n"
     ]
    },
    {
     "name": "stderr",
     "output_type": "stream",
     "text": [
      "\r",
      "  9%|▉         | 297/3361 [06:51<1:10:41,  1.38s/it]"
     ]
    },
    {
     "name": "stdout",
     "output_type": "stream",
     "text": [
      "step: 296\n"
     ]
    },
    {
     "name": "stderr",
     "output_type": "stream",
     "text": [
      "\r",
      "  9%|▉         | 298/3361 [06:52<1:10:40,  1.38s/it]"
     ]
    },
    {
     "name": "stdout",
     "output_type": "stream",
     "text": [
      "step: 297\n"
     ]
    },
    {
     "name": "stderr",
     "output_type": "stream",
     "text": [
      "\r",
      "  9%|▉         | 299/3361 [06:53<1:10:35,  1.38s/it]"
     ]
    },
    {
     "name": "stdout",
     "output_type": "stream",
     "text": [
      "step: 298\n"
     ]
    },
    {
     "name": "stderr",
     "output_type": "stream",
     "text": [
      "\r",
      "  9%|▉         | 300/3361 [06:54<1:10:30,  1.38s/it]"
     ]
    },
    {
     "name": "stdout",
     "output_type": "stream",
     "text": [
      "step: 299\n",
      "step: 300\n"
     ]
    },
    {
     "name": "stderr",
     "output_type": "stream",
     "text": [
      "  9%|▉         | 302/3361 [06:57<1:10:31,  1.38s/it]"
     ]
    },
    {
     "name": "stdout",
     "output_type": "stream",
     "text": [
      "step: 301\n"
     ]
    },
    {
     "name": "stderr",
     "output_type": "stream",
     "text": [
      "\r",
      "  9%|▉         | 303/3361 [06:58<1:10:26,  1.38s/it]"
     ]
    },
    {
     "name": "stdout",
     "output_type": "stream",
     "text": [
      "step: 302\n"
     ]
    },
    {
     "name": "stderr",
     "output_type": "stream",
     "text": [
      "\r",
      "  9%|▉         | 304/3361 [06:59<1:10:21,  1.38s/it]"
     ]
    },
    {
     "name": "stdout",
     "output_type": "stream",
     "text": [
      "invalid outp len. input len: 10 output len: 11\n",
      "step: 303\n"
     ]
    },
    {
     "name": "stderr",
     "output_type": "stream",
     "text": [
      "\r",
      "  9%|▉         | 305/3361 [07:01<1:10:18,  1.38s/it]"
     ]
    },
    {
     "name": "stdout",
     "output_type": "stream",
     "text": [
      "step: 304\n"
     ]
    },
    {
     "name": "stderr",
     "output_type": "stream",
     "text": [
      "\r",
      "  9%|▉         | 306/3361 [07:02<1:10:14,  1.38s/it]"
     ]
    },
    {
     "name": "stdout",
     "output_type": "stream",
     "text": [
      "step: 305\n"
     ]
    },
    {
     "name": "stderr",
     "output_type": "stream",
     "text": [
      "\r",
      "  9%|▉         | 307/3361 [07:03<1:10:11,  1.38s/it]"
     ]
    },
    {
     "name": "stdout",
     "output_type": "stream",
     "text": [
      "step: 306\n"
     ]
    },
    {
     "name": "stderr",
     "output_type": "stream",
     "text": [
      "\r",
      "  9%|▉         | 308/3361 [07:04<1:10:07,  1.38s/it]"
     ]
    },
    {
     "name": "stdout",
     "output_type": "stream",
     "text": [
      "step: 307\n"
     ]
    },
    {
     "name": "stderr",
     "output_type": "stream",
     "text": [
      "\r",
      "  9%|▉         | 309/3361 [07:05<1:10:01,  1.38s/it]"
     ]
    },
    {
     "name": "stdout",
     "output_type": "stream",
     "text": [
      "step: 308\n"
     ]
    },
    {
     "name": "stderr",
     "output_type": "stream",
     "text": [
      "\r",
      "  9%|▉         | 310/3361 [07:06<1:09:55,  1.38s/it]"
     ]
    },
    {
     "name": "stdout",
     "output_type": "stream",
     "text": [
      "step: 309\n",
      "step: 310\n"
     ]
    },
    {
     "name": "stderr",
     "output_type": "stream",
     "text": [
      "  9%|▉         | 312/3361 [07:09<1:09:56,  1.38s/it]"
     ]
    },
    {
     "name": "stdout",
     "output_type": "stream",
     "text": [
      "step: 311\n"
     ]
    },
    {
     "name": "stderr",
     "output_type": "stream",
     "text": [
      "\r",
      "  9%|▉         | 313/3361 [07:10<1:09:55,  1.38s/it]"
     ]
    },
    {
     "name": "stdout",
     "output_type": "stream",
     "text": [
      "step: 312\n"
     ]
    },
    {
     "name": "stderr",
     "output_type": "stream",
     "text": [
      "\r",
      "  9%|▉         | 314/3361 [07:12<1:09:52,  1.38s/it]"
     ]
    },
    {
     "name": "stdout",
     "output_type": "stream",
     "text": [
      "step: 313\n"
     ]
    },
    {
     "name": "stderr",
     "output_type": "stream",
     "text": [
      "\r",
      "  9%|▉         | 315/3361 [07:13<1:09:47,  1.37s/it]"
     ]
    },
    {
     "name": "stdout",
     "output_type": "stream",
     "text": [
      "step: 314\n"
     ]
    },
    {
     "name": "stderr",
     "output_type": "stream",
     "text": [
      "\r",
      "  9%|▉         | 316/3361 [07:14<1:09:45,  1.37s/it]"
     ]
    },
    {
     "name": "stdout",
     "output_type": "stream",
     "text": [
      "step: 315\n"
     ]
    },
    {
     "name": "stderr",
     "output_type": "stream",
     "text": [
      "\r",
      "  9%|▉         | 317/3361 [07:15<1:09:42,  1.37s/it]"
     ]
    },
    {
     "name": "stdout",
     "output_type": "stream",
     "text": [
      "step: 316\n"
     ]
    },
    {
     "name": "stderr",
     "output_type": "stream",
     "text": [
      "\r",
      "  9%|▉         | 318/3361 [07:16<1:09:38,  1.37s/it]"
     ]
    },
    {
     "name": "stdout",
     "output_type": "stream",
     "text": [
      "step: 317\n"
     ]
    },
    {
     "name": "stderr",
     "output_type": "stream",
     "text": [
      "\r",
      "  9%|▉         | 319/3361 [07:17<1:09:31,  1.37s/it]"
     ]
    },
    {
     "name": "stdout",
     "output_type": "stream",
     "text": [
      "step: 318\n"
     ]
    },
    {
     "name": "stderr",
     "output_type": "stream",
     "text": [
      "\r",
      " 10%|▉         | 320/3361 [07:18<1:09:27,  1.37s/it]"
     ]
    },
    {
     "name": "stdout",
     "output_type": "stream",
     "text": [
      "step: 319\n",
      "step: 320\n"
     ]
    },
    {
     "name": "stderr",
     "output_type": "stream",
     "text": [
      " 10%|▉         | 322/3361 [07:21<1:09:30,  1.37s/it]"
     ]
    },
    {
     "name": "stdout",
     "output_type": "stream",
     "text": [
      "step: 321\n"
     ]
    },
    {
     "name": "stderr",
     "output_type": "stream",
     "text": [
      "\r",
      " 10%|▉         | 323/3361 [07:22<1:09:24,  1.37s/it]"
     ]
    },
    {
     "name": "stdout",
     "output_type": "stream",
     "text": [
      "invalid outp len. input len: 10 output len: 9\n",
      "step: 322\n"
     ]
    },
    {
     "name": "stderr",
     "output_type": "stream",
     "text": [
      "\r",
      " 10%|▉         | 324/3361 [07:23<1:09:19,  1.37s/it]"
     ]
    },
    {
     "name": "stdout",
     "output_type": "stream",
     "text": [
      "step: 323\n"
     ]
    },
    {
     "name": "stderr",
     "output_type": "stream",
     "text": [
      "\r",
      " 10%|▉         | 325/3361 [07:25<1:09:18,  1.37s/it]"
     ]
    },
    {
     "name": "stdout",
     "output_type": "stream",
     "text": [
      "invalid outp len. input len: 10 output len: 11\n",
      "step: 324\n"
     ]
    },
    {
     "name": "stderr",
     "output_type": "stream",
     "text": [
      "\r",
      " 10%|▉         | 326/3361 [07:26<1:09:14,  1.37s/it]"
     ]
    },
    {
     "name": "stdout",
     "output_type": "stream",
     "text": [
      "step: 325\n"
     ]
    },
    {
     "name": "stderr",
     "output_type": "stream",
     "text": [
      "\r",
      " 10%|▉         | 327/3361 [07:27<1:09:08,  1.37s/it]"
     ]
    },
    {
     "name": "stdout",
     "output_type": "stream",
     "text": [
      "step: 326\n"
     ]
    },
    {
     "name": "stderr",
     "output_type": "stream",
     "text": [
      "\r",
      " 10%|▉         | 328/3361 [07:28<1:09:07,  1.37s/it]"
     ]
    },
    {
     "name": "stdout",
     "output_type": "stream",
     "text": [
      "step: 327\n"
     ]
    },
    {
     "name": "stderr",
     "output_type": "stream",
     "text": [
      "\r",
      " 10%|▉         | 329/3361 [07:29<1:09:01,  1.37s/it]"
     ]
    },
    {
     "name": "stdout",
     "output_type": "stream",
     "text": [
      "step: 328\n"
     ]
    },
    {
     "name": "stderr",
     "output_type": "stream",
     "text": [
      "\r",
      " 10%|▉         | 330/3361 [07:30<1:08:56,  1.36s/it]"
     ]
    },
    {
     "name": "stdout",
     "output_type": "stream",
     "text": [
      "step: 329\n",
      "step: 330\n"
     ]
    },
    {
     "name": "stderr",
     "output_type": "stream",
     "text": [
      " 10%|▉         | 332/3361 [07:34<1:09:02,  1.37s/it]"
     ]
    },
    {
     "name": "stdout",
     "output_type": "stream",
     "text": [
      "step: 331\n"
     ]
    },
    {
     "name": "stderr",
     "output_type": "stream",
     "text": [
      "\r",
      " 10%|▉         | 333/3361 [07:35<1:08:59,  1.37s/it]"
     ]
    },
    {
     "name": "stdout",
     "output_type": "stream",
     "text": [
      "step: 332\n"
     ]
    },
    {
     "name": "stderr",
     "output_type": "stream",
     "text": [
      "\r",
      " 10%|▉         | 334/3361 [07:36<1:08:56,  1.37s/it]"
     ]
    },
    {
     "name": "stdout",
     "output_type": "stream",
     "text": [
      "step: 333\n"
     ]
    },
    {
     "name": "stderr",
     "output_type": "stream",
     "text": [
      "\r",
      " 10%|▉         | 335/3361 [07:37<1:08:53,  1.37s/it]"
     ]
    },
    {
     "name": "stdout",
     "output_type": "stream",
     "text": [
      "step: 334\n"
     ]
    },
    {
     "name": "stderr",
     "output_type": "stream",
     "text": [
      "\r",
      " 10%|▉         | 336/3361 [07:38<1:08:49,  1.37s/it]"
     ]
    },
    {
     "name": "stdout",
     "output_type": "stream",
     "text": [
      "step: 335\n"
     ]
    },
    {
     "name": "stderr",
     "output_type": "stream",
     "text": [
      "\r",
      " 10%|█         | 337/3361 [07:39<1:08:47,  1.36s/it]"
     ]
    },
    {
     "name": "stdout",
     "output_type": "stream",
     "text": [
      "step: 336\n"
     ]
    },
    {
     "name": "stderr",
     "output_type": "stream",
     "text": [
      "\r",
      " 10%|█         | 338/3361 [07:41<1:08:43,  1.36s/it]"
     ]
    },
    {
     "name": "stdout",
     "output_type": "stream",
     "text": [
      "step: 337\n"
     ]
    },
    {
     "name": "stderr",
     "output_type": "stream",
     "text": [
      "\r",
      " 10%|█         | 339/3361 [07:42<1:08:41,  1.36s/it]"
     ]
    },
    {
     "name": "stdout",
     "output_type": "stream",
     "text": [
      "step: 338\n"
     ]
    },
    {
     "name": "stderr",
     "output_type": "stream",
     "text": [
      "\r",
      " 10%|█         | 340/3361 [07:43<1:08:38,  1.36s/it]"
     ]
    },
    {
     "name": "stdout",
     "output_type": "stream",
     "text": [
      "step: 339\n",
      "step: 340\n"
     ]
    },
    {
     "name": "stderr",
     "output_type": "stream",
     "text": [
      " 10%|█         | 342/3361 [07:47<1:08:43,  1.37s/it]"
     ]
    },
    {
     "name": "stdout",
     "output_type": "stream",
     "text": [
      "step: 341\n"
     ]
    },
    {
     "name": "stderr",
     "output_type": "stream",
     "text": [
      "\r",
      " 10%|█         | 343/3361 [07:48<1:08:39,  1.37s/it]"
     ]
    },
    {
     "name": "stdout",
     "output_type": "stream",
     "text": [
      "step: 342\n"
     ]
    },
    {
     "name": "stderr",
     "output_type": "stream",
     "text": [
      "\r",
      " 10%|█         | 344/3361 [07:49<1:08:37,  1.36s/it]"
     ]
    },
    {
     "name": "stdout",
     "output_type": "stream",
     "text": [
      "step: 343\n"
     ]
    },
    {
     "name": "stderr",
     "output_type": "stream",
     "text": [
      "\r",
      " 10%|█         | 345/3361 [07:50<1:08:34,  1.36s/it]"
     ]
    },
    {
     "name": "stdout",
     "output_type": "stream",
     "text": [
      "step: 344\n"
     ]
    },
    {
     "name": "stderr",
     "output_type": "stream",
     "text": [
      "\r",
      " 10%|█         | 346/3361 [07:51<1:08:31,  1.36s/it]"
     ]
    },
    {
     "name": "stdout",
     "output_type": "stream",
     "text": [
      "step: 345\n"
     ]
    },
    {
     "name": "stderr",
     "output_type": "stream",
     "text": [
      "\r",
      " 10%|█         | 347/3361 [07:52<1:08:27,  1.36s/it]"
     ]
    },
    {
     "name": "stdout",
     "output_type": "stream",
     "text": [
      "step: 346\n"
     ]
    },
    {
     "name": "stderr",
     "output_type": "stream",
     "text": [
      "\r",
      " 10%|█         | 348/3361 [07:53<1:08:23,  1.36s/it]"
     ]
    },
    {
     "name": "stdout",
     "output_type": "stream",
     "text": [
      "step: 347\n"
     ]
    },
    {
     "name": "stderr",
     "output_type": "stream",
     "text": [
      "\r",
      " 10%|█         | 349/3361 [07:55<1:08:19,  1.36s/it]"
     ]
    },
    {
     "name": "stdout",
     "output_type": "stream",
     "text": [
      "step: 348\n"
     ]
    },
    {
     "name": "stderr",
     "output_type": "stream",
     "text": [
      "\r",
      " 10%|█         | 350/3361 [07:56<1:08:17,  1.36s/it]"
     ]
    },
    {
     "name": "stdout",
     "output_type": "stream",
     "text": [
      "step: 349\n",
      "step: 350\n"
     ]
    },
    {
     "name": "stderr",
     "output_type": "stream",
     "text": [
      " 10%|█         | 352/3361 [07:59<1:08:18,  1.36s/it]"
     ]
    },
    {
     "name": "stdout",
     "output_type": "stream",
     "text": [
      "step: 351\n"
     ]
    },
    {
     "name": "stderr",
     "output_type": "stream",
     "text": [
      "\r",
      " 11%|█         | 353/3361 [08:00<1:08:13,  1.36s/it]"
     ]
    },
    {
     "name": "stdout",
     "output_type": "stream",
     "text": [
      "step: 352\n"
     ]
    },
    {
     "name": "stderr",
     "output_type": "stream",
     "text": [
      "\r",
      " 11%|█         | 354/3361 [08:02<1:08:21,  1.36s/it]"
     ]
    },
    {
     "name": "stdout",
     "output_type": "stream",
     "text": [
      "step: 353\n"
     ]
    },
    {
     "name": "stderr",
     "output_type": "stream",
     "text": [
      "\r",
      " 11%|█         | 355/3361 [08:04<1:08:19,  1.36s/it]"
     ]
    },
    {
     "name": "stdout",
     "output_type": "stream",
     "text": [
      "step: 354\n"
     ]
    },
    {
     "name": "stderr",
     "output_type": "stream",
     "text": [
      "\r",
      " 11%|█         | 356/3361 [08:05<1:08:19,  1.36s/it]"
     ]
    },
    {
     "name": "stdout",
     "output_type": "stream",
     "text": [
      "step: 355\n"
     ]
    },
    {
     "name": "stderr",
     "output_type": "stream",
     "text": [
      "\r",
      " 11%|█         | 357/3361 [08:06<1:08:15,  1.36s/it]"
     ]
    },
    {
     "name": "stdout",
     "output_type": "stream",
     "text": [
      "step: 356\n"
     ]
    },
    {
     "name": "stderr",
     "output_type": "stream",
     "text": [
      "\r",
      " 11%|█         | 358/3361 [08:07<1:08:11,  1.36s/it]"
     ]
    },
    {
     "name": "stdout",
     "output_type": "stream",
     "text": [
      "step: 357\n"
     ]
    },
    {
     "name": "stderr",
     "output_type": "stream",
     "text": [
      "\r",
      " 11%|█         | 359/3361 [08:09<1:08:10,  1.36s/it]"
     ]
    },
    {
     "name": "stdout",
     "output_type": "stream",
     "text": [
      "step: 358\n"
     ]
    },
    {
     "name": "stderr",
     "output_type": "stream",
     "text": [
      "\r",
      " 11%|█         | 360/3361 [08:10<1:08:07,  1.36s/it]"
     ]
    },
    {
     "name": "stdout",
     "output_type": "stream",
     "text": [
      "step: 359\n",
      "step: 360\n"
     ]
    },
    {
     "name": "stderr",
     "output_type": "stream",
     "text": [
      " 11%|█         | 362/3361 [08:13<1:08:07,  1.36s/it]"
     ]
    },
    {
     "name": "stdout",
     "output_type": "stream",
     "text": [
      "step: 361\n"
     ]
    },
    {
     "name": "stderr",
     "output_type": "stream",
     "text": [
      "\r",
      " 11%|█         | 363/3361 [08:14<1:08:08,  1.36s/it]"
     ]
    },
    {
     "name": "stdout",
     "output_type": "stream",
     "text": [
      "step: 362\n"
     ]
    },
    {
     "name": "stderr",
     "output_type": "stream",
     "text": [
      "\r",
      " 11%|█         | 364/3361 [08:16<1:08:05,  1.36s/it]"
     ]
    },
    {
     "name": "stdout",
     "output_type": "stream",
     "text": [
      "step: 363\n"
     ]
    },
    {
     "name": "stderr",
     "output_type": "stream",
     "text": [
      "\r",
      " 11%|█         | 365/3361 [08:18<1:08:11,  1.37s/it]"
     ]
    },
    {
     "name": "stdout",
     "output_type": "stream",
     "text": [
      "step: 364\n"
     ]
    },
    {
     "name": "stderr",
     "output_type": "stream",
     "text": [
      "\r",
      " 11%|█         | 366/3361 [08:19<1:08:07,  1.36s/it]"
     ]
    },
    {
     "name": "stdout",
     "output_type": "stream",
     "text": [
      "step: 365\n"
     ]
    },
    {
     "name": "stderr",
     "output_type": "stream",
     "text": [
      "\r",
      " 11%|█         | 367/3361 [08:20<1:08:05,  1.36s/it]"
     ]
    },
    {
     "name": "stdout",
     "output_type": "stream",
     "text": [
      "step: 366\n"
     ]
    },
    {
     "name": "stderr",
     "output_type": "stream",
     "text": [
      "\r",
      " 11%|█         | 368/3361 [08:21<1:08:02,  1.36s/it]"
     ]
    },
    {
     "name": "stdout",
     "output_type": "stream",
     "text": [
      "step: 367\n"
     ]
    },
    {
     "name": "stderr",
     "output_type": "stream",
     "text": [
      "\r",
      " 11%|█         | 369/3361 [08:23<1:07:59,  1.36s/it]"
     ]
    },
    {
     "name": "stdout",
     "output_type": "stream",
     "text": [
      "step: 368\n"
     ]
    },
    {
     "name": "stderr",
     "output_type": "stream",
     "text": [
      "\r",
      " 11%|█         | 370/3361 [08:24<1:07:57,  1.36s/it]"
     ]
    },
    {
     "name": "stdout",
     "output_type": "stream",
     "text": [
      "step: 369\n",
      "step: 370\n"
     ]
    },
    {
     "name": "stderr",
     "output_type": "stream",
     "text": [
      " 11%|█         | 372/3361 [08:27<1:07:57,  1.36s/it]"
     ]
    },
    {
     "name": "stdout",
     "output_type": "stream",
     "text": [
      "step: 371\n"
     ]
    },
    {
     "name": "stderr",
     "output_type": "stream",
     "text": [
      "\r",
      " 11%|█         | 373/3361 [08:28<1:07:52,  1.36s/it]"
     ]
    },
    {
     "name": "stdout",
     "output_type": "stream",
     "text": [
      "step: 372\n"
     ]
    },
    {
     "name": "stderr",
     "output_type": "stream",
     "text": [
      "\r",
      " 11%|█         | 374/3361 [08:29<1:07:48,  1.36s/it]"
     ]
    },
    {
     "name": "stdout",
     "output_type": "stream",
     "text": [
      "step: 373\n"
     ]
    },
    {
     "name": "stderr",
     "output_type": "stream",
     "text": [
      "\r",
      " 11%|█         | 375/3361 [08:30<1:07:46,  1.36s/it]"
     ]
    },
    {
     "name": "stdout",
     "output_type": "stream",
     "text": [
      "step: 374\n"
     ]
    },
    {
     "name": "stderr",
     "output_type": "stream",
     "text": [
      "\r",
      " 11%|█         | 376/3361 [08:31<1:07:41,  1.36s/it]"
     ]
    },
    {
     "name": "stdout",
     "output_type": "stream",
     "text": [
      "invalid outp len. input len: 10 output len: 9\n",
      "step: 375\n"
     ]
    },
    {
     "name": "stderr",
     "output_type": "stream",
     "text": [
      "\r",
      " 11%|█         | 377/3361 [08:32<1:07:36,  1.36s/it]"
     ]
    },
    {
     "name": "stdout",
     "output_type": "stream",
     "text": [
      "step: 376\n"
     ]
    },
    {
     "name": "stderr",
     "output_type": "stream",
     "text": [
      "\r",
      " 11%|█         | 378/3361 [08:33<1:07:34,  1.36s/it]"
     ]
    },
    {
     "name": "stdout",
     "output_type": "stream",
     "text": [
      "step: 377\n"
     ]
    },
    {
     "name": "stderr",
     "output_type": "stream",
     "text": [
      "\r",
      " 11%|█▏        | 379/3361 [08:34<1:07:29,  1.36s/it]"
     ]
    },
    {
     "name": "stdout",
     "output_type": "stream",
     "text": [
      "step: 378\n"
     ]
    },
    {
     "name": "stderr",
     "output_type": "stream",
     "text": [
      "\r",
      " 11%|█▏        | 380/3361 [08:35<1:07:25,  1.36s/it]"
     ]
    },
    {
     "name": "stdout",
     "output_type": "stream",
     "text": [
      "step: 379\n",
      "step: 380\n"
     ]
    },
    {
     "name": "stderr",
     "output_type": "stream",
     "text": [
      " 11%|█▏        | 382/3361 [08:39<1:07:27,  1.36s/it]"
     ]
    },
    {
     "name": "stdout",
     "output_type": "stream",
     "text": [
      "step: 381\n"
     ]
    },
    {
     "name": "stderr",
     "output_type": "stream",
     "text": [
      "\r",
      " 11%|█▏        | 383/3361 [08:40<1:07:25,  1.36s/it]"
     ]
    },
    {
     "name": "stdout",
     "output_type": "stream",
     "text": [
      "step: 382\n"
     ]
    },
    {
     "name": "stderr",
     "output_type": "stream",
     "text": [
      "\r",
      " 11%|█▏        | 384/3361 [08:41<1:07:21,  1.36s/it]"
     ]
    },
    {
     "name": "stdout",
     "output_type": "stream",
     "text": [
      "invalid outp len. input len: 10 output len: 9\n",
      "step: 383\n"
     ]
    },
    {
     "name": "stderr",
     "output_type": "stream",
     "text": [
      "\r",
      " 11%|█▏        | 385/3361 [08:42<1:07:16,  1.36s/it]"
     ]
    },
    {
     "name": "stdout",
     "output_type": "stream",
     "text": [
      "step: 384\n"
     ]
    },
    {
     "name": "stderr",
     "output_type": "stream",
     "text": [
      "\r",
      " 11%|█▏        | 386/3361 [08:43<1:07:15,  1.36s/it]"
     ]
    },
    {
     "name": "stdout",
     "output_type": "stream",
     "text": [
      "step: 385\n"
     ]
    },
    {
     "name": "stderr",
     "output_type": "stream",
     "text": [
      "\r",
      " 12%|█▏        | 387/3361 [08:44<1:07:12,  1.36s/it]"
     ]
    },
    {
     "name": "stdout",
     "output_type": "stream",
     "text": [
      "step: 386\n"
     ]
    },
    {
     "name": "stderr",
     "output_type": "stream",
     "text": [
      "\r",
      " 12%|█▏        | 388/3361 [08:46<1:07:10,  1.36s/it]"
     ]
    },
    {
     "name": "stdout",
     "output_type": "stream",
     "text": [
      "step: 387\n"
     ]
    },
    {
     "name": "stderr",
     "output_type": "stream",
     "text": [
      "\r",
      " 12%|█▏        | 389/3361 [08:47<1:07:07,  1.36s/it]"
     ]
    },
    {
     "name": "stdout",
     "output_type": "stream",
     "text": [
      "invalid outp len. input len: 10 output len: 11\n",
      "step: 388\n"
     ]
    },
    {
     "name": "stderr",
     "output_type": "stream",
     "text": [
      "\r",
      " 12%|█▏        | 390/3361 [08:48<1:07:05,  1.35s/it]"
     ]
    },
    {
     "name": "stdout",
     "output_type": "stream",
     "text": [
      "step: 389\n",
      "step: 390\n"
     ]
    },
    {
     "name": "stderr",
     "output_type": "stream",
     "text": [
      " 12%|█▏        | 392/3361 [08:51<1:07:05,  1.36s/it]"
     ]
    },
    {
     "name": "stdout",
     "output_type": "stream",
     "text": [
      "step: 391\n"
     ]
    },
    {
     "name": "stderr",
     "output_type": "stream",
     "text": [
      "\r",
      " 12%|█▏        | 393/3361 [08:52<1:07:01,  1.35s/it]"
     ]
    },
    {
     "name": "stdout",
     "output_type": "stream",
     "text": [
      "step: 392\n"
     ]
    },
    {
     "name": "stderr",
     "output_type": "stream",
     "text": [
      "\r",
      " 12%|█▏        | 394/3361 [08:53<1:06:57,  1.35s/it]"
     ]
    },
    {
     "name": "stdout",
     "output_type": "stream",
     "text": [
      "step: 393\n"
     ]
    },
    {
     "name": "stderr",
     "output_type": "stream",
     "text": [
      "\r",
      " 12%|█▏        | 395/3361 [08:54<1:06:54,  1.35s/it]"
     ]
    },
    {
     "name": "stdout",
     "output_type": "stream",
     "text": [
      "step: 394\n"
     ]
    },
    {
     "name": "stderr",
     "output_type": "stream",
     "text": [
      "\r",
      " 12%|█▏        | 396/3361 [08:55<1:06:50,  1.35s/it]"
     ]
    },
    {
     "name": "stdout",
     "output_type": "stream",
     "text": [
      "step: 395\n"
     ]
    },
    {
     "name": "stderr",
     "output_type": "stream",
     "text": [
      "\r",
      " 12%|█▏        | 397/3361 [08:56<1:06:46,  1.35s/it]"
     ]
    },
    {
     "name": "stdout",
     "output_type": "stream",
     "text": [
      "step: 396\n"
     ]
    },
    {
     "name": "stderr",
     "output_type": "stream",
     "text": [
      "\r",
      " 12%|█▏        | 398/3361 [08:57<1:06:42,  1.35s/it]"
     ]
    },
    {
     "name": "stdout",
     "output_type": "stream",
     "text": [
      "step: 397\n"
     ]
    },
    {
     "name": "stderr",
     "output_type": "stream",
     "text": [
      "\r",
      " 12%|█▏        | 399/3361 [08:58<1:06:37,  1.35s/it]"
     ]
    },
    {
     "name": "stdout",
     "output_type": "stream",
     "text": [
      "step: 398\n"
     ]
    },
    {
     "name": "stderr",
     "output_type": "stream",
     "text": [
      "\r",
      " 12%|█▏        | 400/3361 [08:59<1:06:30,  1.35s/it]"
     ]
    },
    {
     "name": "stdout",
     "output_type": "stream",
     "text": [
      "invalid outp len. input len: 10 output len: 8\n",
      "step: 399\n",
      "invalid outp len. input len: 10 output len: 9\n",
      "step: 400\n"
     ]
    },
    {
     "name": "stderr",
     "output_type": "stream",
     "text": [
      " 12%|█▏        | 402/3361 [09:02<1:06:31,  1.35s/it]"
     ]
    },
    {
     "name": "stdout",
     "output_type": "stream",
     "text": [
      "step: 401\n"
     ]
    },
    {
     "name": "stderr",
     "output_type": "stream",
     "text": [
      "\r",
      " 12%|█▏        | 403/3361 [09:03<1:06:28,  1.35s/it]"
     ]
    },
    {
     "name": "stdout",
     "output_type": "stream",
     "text": [
      "step: 402\n"
     ]
    },
    {
     "name": "stderr",
     "output_type": "stream",
     "text": [
      "\r",
      " 12%|█▏        | 404/3361 [09:04<1:06:24,  1.35s/it]"
     ]
    },
    {
     "name": "stdout",
     "output_type": "stream",
     "text": [
      "step: 403\n"
     ]
    },
    {
     "name": "stderr",
     "output_type": "stream",
     "text": [
      "\r",
      " 12%|█▏        | 405/3361 [09:05<1:06:21,  1.35s/it]"
     ]
    },
    {
     "name": "stdout",
     "output_type": "stream",
     "text": [
      "step: 404\n"
     ]
    },
    {
     "name": "stderr",
     "output_type": "stream",
     "text": [
      "\r",
      " 12%|█▏        | 406/3361 [09:06<1:06:17,  1.35s/it]"
     ]
    },
    {
     "name": "stdout",
     "output_type": "stream",
     "text": [
      "step: 405\n"
     ]
    },
    {
     "name": "stderr",
     "output_type": "stream",
     "text": [
      "\r",
      " 12%|█▏        | 407/3361 [09:07<1:06:15,  1.35s/it]"
     ]
    },
    {
     "name": "stdout",
     "output_type": "stream",
     "text": [
      "step: 406\n"
     ]
    },
    {
     "name": "stderr",
     "output_type": "stream",
     "text": [
      "\r",
      " 12%|█▏        | 408/3361 [09:09<1:06:15,  1.35s/it]"
     ]
    },
    {
     "name": "stdout",
     "output_type": "stream",
     "text": [
      "step: 407\n"
     ]
    },
    {
     "name": "stderr",
     "output_type": "stream",
     "text": [
      "\r",
      " 12%|█▏        | 409/3361 [09:10<1:06:10,  1.35s/it]"
     ]
    },
    {
     "name": "stdout",
     "output_type": "stream",
     "text": [
      "invalid outp len. input len: 10 output len: 9\n",
      "step: 408\n"
     ]
    },
    {
     "name": "stderr",
     "output_type": "stream",
     "text": [
      "\r",
      " 12%|█▏        | 410/3361 [09:11<1:06:08,  1.34s/it]"
     ]
    },
    {
     "name": "stdout",
     "output_type": "stream",
     "text": [
      "step: 409\n",
      "step: 410\n"
     ]
    },
    {
     "name": "stderr",
     "output_type": "stream",
     "text": [
      " 12%|█▏        | 412/3361 [09:14<1:06:08,  1.35s/it]"
     ]
    },
    {
     "name": "stdout",
     "output_type": "stream",
     "text": [
      "step: 411\n"
     ]
    },
    {
     "name": "stderr",
     "output_type": "stream",
     "text": [
      "\r",
      " 12%|█▏        | 413/3361 [09:15<1:06:03,  1.34s/it]"
     ]
    },
    {
     "name": "stdout",
     "output_type": "stream",
     "text": [
      "step: 412\n"
     ]
    },
    {
     "name": "stderr",
     "output_type": "stream",
     "text": [
      "\r",
      " 12%|█▏        | 414/3361 [09:16<1:06:00,  1.34s/it]"
     ]
    },
    {
     "name": "stdout",
     "output_type": "stream",
     "text": [
      "step: 413\n"
     ]
    },
    {
     "name": "stderr",
     "output_type": "stream",
     "text": [
      "\r",
      " 12%|█▏        | 415/3361 [09:17<1:05:58,  1.34s/it]"
     ]
    },
    {
     "name": "stdout",
     "output_type": "stream",
     "text": [
      "step: 414\n"
     ]
    },
    {
     "name": "stderr",
     "output_type": "stream",
     "text": [
      "\r",
      " 12%|█▏        | 416/3361 [09:18<1:05:54,  1.34s/it]"
     ]
    },
    {
     "name": "stdout",
     "output_type": "stream",
     "text": [
      "step: 415\n"
     ]
    },
    {
     "name": "stderr",
     "output_type": "stream",
     "text": [
      "\r",
      " 12%|█▏        | 417/3361 [09:19<1:05:51,  1.34s/it]"
     ]
    },
    {
     "name": "stdout",
     "output_type": "stream",
     "text": [
      "step: 416\n"
     ]
    },
    {
     "name": "stderr",
     "output_type": "stream",
     "text": [
      "\r",
      " 12%|█▏        | 418/3361 [09:20<1:05:48,  1.34s/it]"
     ]
    },
    {
     "name": "stdout",
     "output_type": "stream",
     "text": [
      "step: 417\n"
     ]
    },
    {
     "name": "stderr",
     "output_type": "stream",
     "text": [
      "\r",
      " 12%|█▏        | 419/3361 [09:21<1:05:44,  1.34s/it]"
     ]
    },
    {
     "name": "stdout",
     "output_type": "stream",
     "text": [
      "step: 418\n"
     ]
    },
    {
     "name": "stderr",
     "output_type": "stream",
     "text": [
      "\r",
      " 12%|█▏        | 420/3361 [09:22<1:05:41,  1.34s/it]"
     ]
    },
    {
     "name": "stdout",
     "output_type": "stream",
     "text": [
      "step: 419\n",
      "invalid outp len. input len: 10 output len: 8\n",
      "step: 420\n"
     ]
    },
    {
     "name": "stderr",
     "output_type": "stream",
     "text": [
      " 13%|█▎        | 422/3361 [09:25<1:05:40,  1.34s/it]"
     ]
    },
    {
     "name": "stdout",
     "output_type": "stream",
     "text": [
      "step: 421\n"
     ]
    },
    {
     "name": "stderr",
     "output_type": "stream",
     "text": [
      "\r",
      " 13%|█▎        | 423/3361 [09:26<1:05:37,  1.34s/it]"
     ]
    },
    {
     "name": "stdout",
     "output_type": "stream",
     "text": [
      "step: 422\n"
     ]
    },
    {
     "name": "stderr",
     "output_type": "stream",
     "text": [
      "\r",
      " 13%|█▎        | 424/3361 [09:27<1:05:34,  1.34s/it]"
     ]
    },
    {
     "name": "stdout",
     "output_type": "stream",
     "text": [
      "step: 423\n"
     ]
    },
    {
     "name": "stderr",
     "output_type": "stream",
     "text": [
      "\r",
      " 13%|█▎        | 425/3361 [09:29<1:05:30,  1.34s/it]"
     ]
    },
    {
     "name": "stdout",
     "output_type": "stream",
     "text": [
      "step: 424\n"
     ]
    },
    {
     "name": "stderr",
     "output_type": "stream",
     "text": [
      "\r",
      " 13%|█▎        | 426/3361 [09:29<1:05:26,  1.34s/it]"
     ]
    },
    {
     "name": "stdout",
     "output_type": "stream",
     "text": [
      "step: 425\n"
     ]
    },
    {
     "name": "stderr",
     "output_type": "stream",
     "text": [
      "\r",
      " 13%|█▎        | 427/3361 [09:31<1:05:23,  1.34s/it]"
     ]
    },
    {
     "name": "stdout",
     "output_type": "stream",
     "text": [
      "step: 426\n"
     ]
    },
    {
     "name": "stderr",
     "output_type": "stream",
     "text": [
      "\r",
      " 13%|█▎        | 428/3361 [09:32<1:05:20,  1.34s/it]"
     ]
    },
    {
     "name": "stdout",
     "output_type": "stream",
     "text": [
      "step: 427\n"
     ]
    },
    {
     "name": "stderr",
     "output_type": "stream",
     "text": [
      "\r",
      " 13%|█▎        | 429/3361 [09:33<1:05:16,  1.34s/it]"
     ]
    },
    {
     "name": "stdout",
     "output_type": "stream",
     "text": [
      "step: 428\n"
     ]
    },
    {
     "name": "stderr",
     "output_type": "stream",
     "text": [
      "\r",
      " 13%|█▎        | 430/3361 [09:34<1:05:14,  1.34s/it]"
     ]
    },
    {
     "name": "stdout",
     "output_type": "stream",
     "text": [
      "step: 429\n",
      "step: 430\n"
     ]
    },
    {
     "name": "stderr",
     "output_type": "stream",
     "text": [
      " 13%|█▎        | 432/3361 [09:37<1:05:16,  1.34s/it]"
     ]
    },
    {
     "name": "stdout",
     "output_type": "stream",
     "text": [
      "step: 431\n"
     ]
    },
    {
     "name": "stderr",
     "output_type": "stream",
     "text": [
      "\r",
      " 13%|█▎        | 433/3361 [09:38<1:05:12,  1.34s/it]"
     ]
    },
    {
     "name": "stdout",
     "output_type": "stream",
     "text": [
      "step: 432\n"
     ]
    },
    {
     "name": "stderr",
     "output_type": "stream",
     "text": [
      "\r",
      " 13%|█▎        | 434/3361 [09:39<1:05:10,  1.34s/it]"
     ]
    },
    {
     "name": "stdout",
     "output_type": "stream",
     "text": [
      "step: 433\n"
     ]
    },
    {
     "name": "stderr",
     "output_type": "stream",
     "text": [
      "\r",
      " 13%|█▎        | 435/3361 [09:40<1:05:05,  1.33s/it]"
     ]
    },
    {
     "name": "stdout",
     "output_type": "stream",
     "text": [
      "invalid outp len. input len: 10 output len: 9\n",
      "step: 434\n"
     ]
    },
    {
     "name": "stderr",
     "output_type": "stream",
     "text": [
      "\r",
      " 13%|█▎        | 436/3361 [09:41<1:05:02,  1.33s/it]"
     ]
    },
    {
     "name": "stdout",
     "output_type": "stream",
     "text": [
      "step: 435\n"
     ]
    },
    {
     "name": "stderr",
     "output_type": "stream",
     "text": [
      "\r",
      " 13%|█▎        | 437/3361 [09:42<1:04:58,  1.33s/it]"
     ]
    },
    {
     "name": "stdout",
     "output_type": "stream",
     "text": [
      "step: 436\n"
     ]
    },
    {
     "name": "stderr",
     "output_type": "stream",
     "text": [
      "\r",
      " 13%|█▎        | 438/3361 [09:43<1:04:55,  1.33s/it]"
     ]
    },
    {
     "name": "stdout",
     "output_type": "stream",
     "text": [
      "step: 437\n"
     ]
    },
    {
     "name": "stderr",
     "output_type": "stream",
     "text": [
      "\r",
      " 13%|█▎        | 439/3361 [09:44<1:04:50,  1.33s/it]"
     ]
    },
    {
     "name": "stdout",
     "output_type": "stream",
     "text": [
      "invalid outp len. input len: 10 output len: 9\n",
      "step: 438\n"
     ]
    },
    {
     "name": "stderr",
     "output_type": "stream",
     "text": [
      "\r",
      " 13%|█▎        | 440/3361 [09:45<1:04:48,  1.33s/it]"
     ]
    },
    {
     "name": "stdout",
     "output_type": "stream",
     "text": [
      "step: 439\n",
      "step: 440\n"
     ]
    },
    {
     "name": "stderr",
     "output_type": "stream",
     "text": [
      " 13%|█▎        | 442/3361 [09:48<1:04:47,  1.33s/it]"
     ]
    },
    {
     "name": "stdout",
     "output_type": "stream",
     "text": [
      "step: 441\n"
     ]
    },
    {
     "name": "stderr",
     "output_type": "stream",
     "text": [
      "\r",
      " 13%|█▎        | 443/3361 [09:49<1:04:43,  1.33s/it]"
     ]
    },
    {
     "name": "stdout",
     "output_type": "stream",
     "text": [
      "step: 442\n"
     ]
    },
    {
     "name": "stderr",
     "output_type": "stream",
     "text": [
      "\r",
      " 13%|█▎        | 444/3361 [09:50<1:04:40,  1.33s/it]"
     ]
    },
    {
     "name": "stdout",
     "output_type": "stream",
     "text": [
      "step: 443\n"
     ]
    },
    {
     "name": "stderr",
     "output_type": "stream",
     "text": [
      "\r",
      " 13%|█▎        | 445/3361 [09:51<1:04:36,  1.33s/it]"
     ]
    },
    {
     "name": "stdout",
     "output_type": "stream",
     "text": [
      "step: 444\n"
     ]
    },
    {
     "name": "stderr",
     "output_type": "stream",
     "text": [
      "\r",
      " 13%|█▎        | 446/3361 [09:52<1:04:33,  1.33s/it]"
     ]
    },
    {
     "name": "stdout",
     "output_type": "stream",
     "text": [
      "step: 445\n"
     ]
    },
    {
     "name": "stderr",
     "output_type": "stream",
     "text": [
      "\r",
      " 13%|█▎        | 447/3361 [09:53<1:04:29,  1.33s/it]"
     ]
    },
    {
     "name": "stdout",
     "output_type": "stream",
     "text": [
      "step: 446\n"
     ]
    },
    {
     "name": "stderr",
     "output_type": "stream",
     "text": [
      "\r",
      " 13%|█▎        | 448/3361 [09:54<1:04:27,  1.33s/it]"
     ]
    },
    {
     "name": "stdout",
     "output_type": "stream",
     "text": [
      "step: 447\n"
     ]
    },
    {
     "name": "stderr",
     "output_type": "stream",
     "text": [
      "\r",
      " 13%|█▎        | 449/3361 [09:55<1:04:24,  1.33s/it]"
     ]
    },
    {
     "name": "stdout",
     "output_type": "stream",
     "text": [
      "step: 448\n"
     ]
    },
    {
     "name": "stderr",
     "output_type": "stream",
     "text": [
      "\r",
      " 13%|█▎        | 450/3361 [09:56<1:04:20,  1.33s/it]"
     ]
    },
    {
     "name": "stdout",
     "output_type": "stream",
     "text": [
      "step: 449\n",
      "step: 450\n"
     ]
    },
    {
     "name": "stderr",
     "output_type": "stream",
     "text": [
      " 13%|█▎        | 452/3361 [09:59<1:04:19,  1.33s/it]"
     ]
    },
    {
     "name": "stdout",
     "output_type": "stream",
     "text": [
      "step: 451\n"
     ]
    },
    {
     "name": "stderr",
     "output_type": "stream",
     "text": [
      "\r",
      " 13%|█▎        | 453/3361 [10:00<1:04:16,  1.33s/it]"
     ]
    },
    {
     "name": "stdout",
     "output_type": "stream",
     "text": [
      "step: 452\n"
     ]
    },
    {
     "name": "stderr",
     "output_type": "stream",
     "text": [
      "\r",
      " 14%|█▎        | 454/3361 [10:01<1:04:13,  1.33s/it]"
     ]
    },
    {
     "name": "stdout",
     "output_type": "stream",
     "text": [
      "step: 453\n"
     ]
    },
    {
     "name": "stderr",
     "output_type": "stream",
     "text": [
      "\r",
      " 14%|█▎        | 455/3361 [10:03<1:04:11,  1.33s/it]"
     ]
    },
    {
     "name": "stdout",
     "output_type": "stream",
     "text": [
      "step: 454\n"
     ]
    },
    {
     "name": "stderr",
     "output_type": "stream",
     "text": [
      "\r",
      " 14%|█▎        | 456/3361 [10:04<1:04:08,  1.32s/it]"
     ]
    },
    {
     "name": "stdout",
     "output_type": "stream",
     "text": [
      "step: 455\n"
     ]
    },
    {
     "name": "stderr",
     "output_type": "stream",
     "text": [
      "\r",
      " 14%|█▎        | 457/3361 [10:05<1:04:06,  1.32s/it]"
     ]
    },
    {
     "name": "stdout",
     "output_type": "stream",
     "text": [
      "step: 456\n"
     ]
    },
    {
     "name": "stderr",
     "output_type": "stream",
     "text": [
      "\r",
      " 14%|█▎        | 458/3361 [10:06<1:04:02,  1.32s/it]"
     ]
    },
    {
     "name": "stdout",
     "output_type": "stream",
     "text": [
      "step: 457\n"
     ]
    },
    {
     "name": "stderr",
     "output_type": "stream",
     "text": [
      "\r",
      " 14%|█▎        | 459/3361 [10:07<1:04:00,  1.32s/it]"
     ]
    },
    {
     "name": "stdout",
     "output_type": "stream",
     "text": [
      "step: 458\n"
     ]
    },
    {
     "name": "stderr",
     "output_type": "stream",
     "text": [
      "\r",
      " 14%|█▎        | 460/3361 [10:08<1:03:56,  1.32s/it]"
     ]
    },
    {
     "name": "stdout",
     "output_type": "stream",
     "text": [
      "step: 459\n",
      "step: 460\n"
     ]
    },
    {
     "name": "stderr",
     "output_type": "stream",
     "text": [
      " 14%|█▎        | 462/3361 [10:11<1:03:57,  1.32s/it]"
     ]
    },
    {
     "name": "stdout",
     "output_type": "stream",
     "text": [
      "step: 461\n"
     ]
    },
    {
     "name": "stderr",
     "output_type": "stream",
     "text": [
      "\r",
      " 14%|█▍        | 463/3361 [10:12<1:03:55,  1.32s/it]"
     ]
    },
    {
     "name": "stdout",
     "output_type": "stream",
     "text": [
      "step: 462\n"
     ]
    },
    {
     "name": "stderr",
     "output_type": "stream",
     "text": [
      "\r",
      " 14%|█▍        | 464/3361 [10:13<1:03:51,  1.32s/it]"
     ]
    },
    {
     "name": "stdout",
     "output_type": "stream",
     "text": [
      "invalid outp len. input len: 10 output len: 8\n",
      "step: 463\n"
     ]
    },
    {
     "name": "stderr",
     "output_type": "stream",
     "text": [
      "\r",
      " 14%|█▍        | 465/3361 [10:14<1:03:48,  1.32s/it]"
     ]
    },
    {
     "name": "stdout",
     "output_type": "stream",
     "text": [
      "step: 464\n"
     ]
    },
    {
     "name": "stderr",
     "output_type": "stream",
     "text": [
      "\r",
      " 14%|█▍        | 466/3361 [10:15<1:03:45,  1.32s/it]"
     ]
    },
    {
     "name": "stdout",
     "output_type": "stream",
     "text": [
      "step: 465\n"
     ]
    },
    {
     "name": "stderr",
     "output_type": "stream",
     "text": [
      "\r",
      " 14%|█▍        | 467/3361 [10:16<1:03:42,  1.32s/it]"
     ]
    },
    {
     "name": "stdout",
     "output_type": "stream",
     "text": [
      "step: 466\n"
     ]
    },
    {
     "name": "stderr",
     "output_type": "stream",
     "text": [
      "\r",
      " 14%|█▍        | 468/3361 [10:18<1:03:42,  1.32s/it]"
     ]
    },
    {
     "name": "stdout",
     "output_type": "stream",
     "text": [
      "step: 467\n"
     ]
    },
    {
     "name": "stderr",
     "output_type": "stream",
     "text": [
      "\r",
      " 14%|█▍        | 469/3361 [10:19<1:03:39,  1.32s/it]"
     ]
    },
    {
     "name": "stdout",
     "output_type": "stream",
     "text": [
      "step: 468\n"
     ]
    },
    {
     "name": "stderr",
     "output_type": "stream",
     "text": [
      "\r",
      " 14%|█▍        | 470/3361 [10:20<1:03:36,  1.32s/it]"
     ]
    },
    {
     "name": "stdout",
     "output_type": "stream",
     "text": [
      "step: 469\n",
      "step: 470\n"
     ]
    },
    {
     "name": "stderr",
     "output_type": "stream",
     "text": [
      " 14%|█▍        | 472/3361 [10:23<1:03:36,  1.32s/it]"
     ]
    },
    {
     "name": "stdout",
     "output_type": "stream",
     "text": [
      "step: 471\n"
     ]
    },
    {
     "name": "stderr",
     "output_type": "stream",
     "text": [
      "\r",
      " 14%|█▍        | 473/3361 [10:24<1:03:33,  1.32s/it]"
     ]
    },
    {
     "name": "stdout",
     "output_type": "stream",
     "text": [
      "step: 472\n"
     ]
    },
    {
     "name": "stderr",
     "output_type": "stream",
     "text": [
      "\r",
      " 14%|█▍        | 474/3361 [10:25<1:03:30,  1.32s/it]"
     ]
    },
    {
     "name": "stdout",
     "output_type": "stream",
     "text": [
      "step: 473\n"
     ]
    },
    {
     "name": "stderr",
     "output_type": "stream",
     "text": [
      "\r",
      " 14%|█▍        | 475/3361 [10:26<1:03:27,  1.32s/it]"
     ]
    },
    {
     "name": "stdout",
     "output_type": "stream",
     "text": [
      "invalid outp len. input len: 10 output len: 11\n",
      "step: 474\n"
     ]
    },
    {
     "name": "stderr",
     "output_type": "stream",
     "text": [
      "\r",
      " 14%|█▍        | 476/3361 [10:27<1:03:25,  1.32s/it]"
     ]
    },
    {
     "name": "stdout",
     "output_type": "stream",
     "text": [
      "step: 475\n"
     ]
    },
    {
     "name": "stderr",
     "output_type": "stream",
     "text": [
      "\r",
      " 14%|█▍        | 477/3361 [10:29<1:03:23,  1.32s/it]"
     ]
    },
    {
     "name": "stdout",
     "output_type": "stream",
     "text": [
      "step: 476\n"
     ]
    },
    {
     "name": "stderr",
     "output_type": "stream",
     "text": [
      "\r",
      " 14%|█▍        | 478/3361 [10:30<1:03:21,  1.32s/it]"
     ]
    },
    {
     "name": "stdout",
     "output_type": "stream",
     "text": [
      "step: 477\n"
     ]
    },
    {
     "name": "stderr",
     "output_type": "stream",
     "text": [
      "\r",
      " 14%|█▍        | 479/3361 [10:31<1:03:18,  1.32s/it]"
     ]
    },
    {
     "name": "stdout",
     "output_type": "stream",
     "text": [
      "step: 478\n"
     ]
    },
    {
     "name": "stderr",
     "output_type": "stream",
     "text": [
      "\r",
      " 14%|█▍        | 480/3361 [10:32<1:03:16,  1.32s/it]"
     ]
    },
    {
     "name": "stdout",
     "output_type": "stream",
     "text": [
      "step: 479\n",
      "step: 480\n"
     ]
    },
    {
     "name": "stderr",
     "output_type": "stream",
     "text": [
      " 14%|█▍        | 482/3361 [10:35<1:03:16,  1.32s/it]"
     ]
    },
    {
     "name": "stdout",
     "output_type": "stream",
     "text": [
      "step: 481\n"
     ]
    },
    {
     "name": "stderr",
     "output_type": "stream",
     "text": [
      "\r",
      " 14%|█▍        | 483/3361 [10:36<1:03:13,  1.32s/it]"
     ]
    },
    {
     "name": "stdout",
     "output_type": "stream",
     "text": [
      "invalid outp len. input len: 10 output len: 9\n",
      "step: 482\n"
     ]
    },
    {
     "name": "stderr",
     "output_type": "stream",
     "text": [
      "\r",
      " 14%|█▍        | 484/3361 [10:37<1:03:10,  1.32s/it]"
     ]
    },
    {
     "name": "stdout",
     "output_type": "stream",
     "text": [
      "step: 483\n"
     ]
    },
    {
     "name": "stderr",
     "output_type": "stream",
     "text": [
      "\r",
      " 14%|█▍        | 485/3361 [10:38<1:03:06,  1.32s/it]"
     ]
    },
    {
     "name": "stdout",
     "output_type": "stream",
     "text": [
      "step: 484\n"
     ]
    },
    {
     "name": "stderr",
     "output_type": "stream",
     "text": [
      "\r",
      " 14%|█▍        | 486/3361 [10:39<1:03:03,  1.32s/it]"
     ]
    },
    {
     "name": "stdout",
     "output_type": "stream",
     "text": [
      "step: 485\n"
     ]
    },
    {
     "name": "stderr",
     "output_type": "stream",
     "text": [
      "\r",
      " 14%|█▍        | 487/3361 [10:40<1:03:02,  1.32s/it]"
     ]
    },
    {
     "name": "stdout",
     "output_type": "stream",
     "text": [
      "step: 486\n"
     ]
    },
    {
     "name": "stderr",
     "output_type": "stream",
     "text": [
      "\r",
      " 15%|█▍        | 488/3361 [10:41<1:02:58,  1.32s/it]"
     ]
    },
    {
     "name": "stdout",
     "output_type": "stream",
     "text": [
      "step: 487\n"
     ]
    },
    {
     "name": "stderr",
     "output_type": "stream",
     "text": [
      "\r",
      " 15%|█▍        | 489/3361 [10:42<1:02:56,  1.31s/it]"
     ]
    },
    {
     "name": "stdout",
     "output_type": "stream",
     "text": [
      "step: 488\n"
     ]
    },
    {
     "name": "stderr",
     "output_type": "stream",
     "text": [
      "\r",
      " 15%|█▍        | 490/3361 [10:44<1:02:54,  1.31s/it]"
     ]
    },
    {
     "name": "stdout",
     "output_type": "stream",
     "text": [
      "step: 489\n",
      "step: 490\n"
     ]
    },
    {
     "name": "stderr",
     "output_type": "stream",
     "text": [
      " 15%|█▍        | 492/3361 [10:47<1:02:54,  1.32s/it]"
     ]
    },
    {
     "name": "stdout",
     "output_type": "stream",
     "text": [
      "step: 491\n"
     ]
    },
    {
     "name": "stderr",
     "output_type": "stream",
     "text": [
      "\r",
      " 15%|█▍        | 493/3361 [10:48<1:02:51,  1.31s/it]"
     ]
    },
    {
     "name": "stdout",
     "output_type": "stream",
     "text": [
      "step: 492\n"
     ]
    },
    {
     "name": "stderr",
     "output_type": "stream",
     "text": [
      "\r",
      " 15%|█▍        | 494/3361 [10:49<1:02:49,  1.31s/it]"
     ]
    },
    {
     "name": "stdout",
     "output_type": "stream",
     "text": [
      "step: 493\n"
     ]
    },
    {
     "name": "stderr",
     "output_type": "stream",
     "text": [
      "\r",
      " 15%|█▍        | 495/3361 [10:50<1:02:47,  1.31s/it]"
     ]
    },
    {
     "name": "stdout",
     "output_type": "stream",
     "text": [
      "step: 494\n"
     ]
    },
    {
     "name": "stderr",
     "output_type": "stream",
     "text": [
      "\r",
      " 15%|█▍        | 496/3361 [10:51<1:02:43,  1.31s/it]"
     ]
    },
    {
     "name": "stdout",
     "output_type": "stream",
     "text": [
      "step: 495\n"
     ]
    },
    {
     "name": "stderr",
     "output_type": "stream",
     "text": [
      "\r",
      " 15%|█▍        | 497/3361 [10:52<1:02:40,  1.31s/it]"
     ]
    },
    {
     "name": "stdout",
     "output_type": "stream",
     "text": [
      "step: 496\n"
     ]
    },
    {
     "name": "stderr",
     "output_type": "stream",
     "text": [
      "\r",
      " 15%|█▍        | 498/3361 [10:53<1:02:37,  1.31s/it]"
     ]
    },
    {
     "name": "stdout",
     "output_type": "stream",
     "text": [
      "step: 497\n"
     ]
    },
    {
     "name": "stderr",
     "output_type": "stream",
     "text": [
      "\r",
      " 15%|█▍        | 499/3361 [10:54<1:02:35,  1.31s/it]"
     ]
    },
    {
     "name": "stdout",
     "output_type": "stream",
     "text": [
      "step: 498\n"
     ]
    },
    {
     "name": "stderr",
     "output_type": "stream",
     "text": [
      "\r",
      " 15%|█▍        | 500/3361 [10:55<1:02:32,  1.31s/it]"
     ]
    },
    {
     "name": "stdout",
     "output_type": "stream",
     "text": [
      "step: 499\n",
      "step: 500\n"
     ]
    },
    {
     "name": "stderr",
     "output_type": "stream",
     "text": [
      " 15%|█▍        | 502/3361 [10:58<1:02:32,  1.31s/it]"
     ]
    },
    {
     "name": "stdout",
     "output_type": "stream",
     "text": [
      "step: 501\n"
     ]
    },
    {
     "name": "stderr",
     "output_type": "stream",
     "text": [
      "\r",
      " 15%|█▍        | 503/3361 [11:00<1:02:30,  1.31s/it]"
     ]
    },
    {
     "name": "stdout",
     "output_type": "stream",
     "text": [
      "step: 502\n"
     ]
    },
    {
     "name": "stderr",
     "output_type": "stream",
     "text": [
      "\r",
      " 15%|█▍        | 504/3361 [11:00<1:02:26,  1.31s/it]"
     ]
    },
    {
     "name": "stdout",
     "output_type": "stream",
     "text": [
      "step: 503\n"
     ]
    },
    {
     "name": "stderr",
     "output_type": "stream",
     "text": [
      "\r",
      " 15%|█▌        | 505/3361 [11:02<1:02:24,  1.31s/it]"
     ]
    },
    {
     "name": "stdout",
     "output_type": "stream",
     "text": [
      "step: 504\n"
     ]
    },
    {
     "name": "stderr",
     "output_type": "stream",
     "text": [
      "\r",
      " 15%|█▌        | 506/3361 [11:03<1:02:20,  1.31s/it]"
     ]
    },
    {
     "name": "stdout",
     "output_type": "stream",
     "text": [
      "step: 505\n"
     ]
    },
    {
     "name": "stderr",
     "output_type": "stream",
     "text": [
      "\r",
      " 15%|█▌        | 507/3361 [11:03<1:02:17,  1.31s/it]"
     ]
    },
    {
     "name": "stdout",
     "output_type": "stream",
     "text": [
      "step: 506\n"
     ]
    },
    {
     "name": "stderr",
     "output_type": "stream",
     "text": [
      "\r",
      " 15%|█▌        | 508/3361 [11:04<1:02:13,  1.31s/it]"
     ]
    },
    {
     "name": "stdout",
     "output_type": "stream",
     "text": [
      "invalid outp len. input len: 10 output len: 9\n",
      "step: 507\n"
     ]
    },
    {
     "name": "stderr",
     "output_type": "stream",
     "text": [
      "\r",
      " 15%|█▌        | 509/3361 [11:05<1:02:11,  1.31s/it]"
     ]
    },
    {
     "name": "stdout",
     "output_type": "stream",
     "text": [
      "step: 508\n"
     ]
    },
    {
     "name": "stderr",
     "output_type": "stream",
     "text": [
      "\r",
      " 15%|█▌        | 510/3361 [11:06<1:02:08,  1.31s/it]"
     ]
    },
    {
     "name": "stdout",
     "output_type": "stream",
     "text": [
      "step: 509\n",
      "step: 510\n"
     ]
    },
    {
     "name": "stderr",
     "output_type": "stream",
     "text": [
      " 15%|█▌        | 512/3361 [11:10<1:02:09,  1.31s/it]"
     ]
    },
    {
     "name": "stdout",
     "output_type": "stream",
     "text": [
      "step: 511\n"
     ]
    },
    {
     "name": "stderr",
     "output_type": "stream",
     "text": [
      "\r",
      " 15%|█▌        | 513/3361 [11:11<1:02:05,  1.31s/it]"
     ]
    },
    {
     "name": "stdout",
     "output_type": "stream",
     "text": [
      "step: 512\n"
     ]
    },
    {
     "name": "stderr",
     "output_type": "stream",
     "text": [
      "\r",
      " 15%|█▌        | 514/3361 [11:12<1:02:03,  1.31s/it]"
     ]
    },
    {
     "name": "stdout",
     "output_type": "stream",
     "text": [
      "step: 513\n"
     ]
    },
    {
     "name": "stderr",
     "output_type": "stream",
     "text": [
      "\r",
      " 15%|█▌        | 515/3361 [11:13<1:02:01,  1.31s/it]"
     ]
    },
    {
     "name": "stdout",
     "output_type": "stream",
     "text": [
      "invalid outp len. input len: 10 output len: 11\n",
      "step: 514\n"
     ]
    },
    {
     "name": "stderr",
     "output_type": "stream",
     "text": [
      "\r",
      " 15%|█▌        | 516/3361 [11:14<1:01:59,  1.31s/it]"
     ]
    },
    {
     "name": "stdout",
     "output_type": "stream",
     "text": [
      "step: 515\n"
     ]
    },
    {
     "name": "stderr",
     "output_type": "stream",
     "text": [
      "\r",
      " 15%|█▌        | 517/3361 [11:16<1:01:58,  1.31s/it]"
     ]
    },
    {
     "name": "stdout",
     "output_type": "stream",
     "text": [
      "step: 516\n"
     ]
    },
    {
     "name": "stderr",
     "output_type": "stream",
     "text": [
      "\r",
      " 15%|█▌        | 518/3361 [11:17<1:01:55,  1.31s/it]"
     ]
    },
    {
     "name": "stdout",
     "output_type": "stream",
     "text": [
      "step: 517\n"
     ]
    },
    {
     "name": "stderr",
     "output_type": "stream",
     "text": [
      "\r",
      " 15%|█▌        | 519/3361 [11:18<1:01:53,  1.31s/it]"
     ]
    },
    {
     "name": "stdout",
     "output_type": "stream",
     "text": [
      "step: 518\n"
     ]
    },
    {
     "name": "stderr",
     "output_type": "stream",
     "text": [
      "\r",
      " 15%|█▌        | 520/3361 [11:19<1:01:51,  1.31s/it]"
     ]
    },
    {
     "name": "stdout",
     "output_type": "stream",
     "text": [
      "step: 519\n",
      "step: 520\n"
     ]
    },
    {
     "name": "stderr",
     "output_type": "stream",
     "text": [
      " 16%|█▌        | 522/3361 [11:22<1:01:52,  1.31s/it]"
     ]
    },
    {
     "name": "stdout",
     "output_type": "stream",
     "text": [
      "step: 521\n"
     ]
    },
    {
     "name": "stderr",
     "output_type": "stream",
     "text": [
      "\r",
      " 16%|█▌        | 523/3361 [11:23<1:01:50,  1.31s/it]"
     ]
    },
    {
     "name": "stdout",
     "output_type": "stream",
     "text": [
      "step: 522\n"
     ]
    },
    {
     "name": "stderr",
     "output_type": "stream",
     "text": [
      "\r",
      " 16%|█▌        | 524/3361 [11:25<1:01:48,  1.31s/it]"
     ]
    },
    {
     "name": "stdout",
     "output_type": "stream",
     "text": [
      "step: 523\n"
     ]
    },
    {
     "name": "stderr",
     "output_type": "stream",
     "text": [
      "\r",
      " 16%|█▌        | 525/3361 [11:26<1:01:46,  1.31s/it]"
     ]
    },
    {
     "name": "stdout",
     "output_type": "stream",
     "text": [
      "step: 524\n"
     ]
    },
    {
     "name": "stderr",
     "output_type": "stream",
     "text": [
      "\r",
      " 16%|█▌        | 526/3361 [11:27<1:01:43,  1.31s/it]"
     ]
    },
    {
     "name": "stdout",
     "output_type": "stream",
     "text": [
      "step: 525\n"
     ]
    },
    {
     "name": "stderr",
     "output_type": "stream",
     "text": [
      "\r",
      " 16%|█▌        | 527/3361 [11:28<1:01:40,  1.31s/it]"
     ]
    },
    {
     "name": "stdout",
     "output_type": "stream",
     "text": [
      "step: 526\n"
     ]
    },
    {
     "name": "stderr",
     "output_type": "stream",
     "text": [
      "\r",
      " 16%|█▌        | 528/3361 [11:29<1:01:37,  1.31s/it]"
     ]
    },
    {
     "name": "stdout",
     "output_type": "stream",
     "text": [
      "step: 527\n"
     ]
    },
    {
     "name": "stderr",
     "output_type": "stream",
     "text": [
      "\r",
      " 16%|█▌        | 529/3361 [11:30<1:01:34,  1.30s/it]"
     ]
    },
    {
     "name": "stdout",
     "output_type": "stream",
     "text": [
      "step: 528\n",
      "request error\n",
      "step: 529\n",
      "request error\n",
      "step: 530\n"
     ]
    },
    {
     "name": "stderr",
     "output_type": "stream",
     "text": [
      " 16%|█▌        | 534/3361 [11:31<1:01:00,  1.29s/it]"
     ]
    },
    {
     "name": "stdout",
     "output_type": "stream",
     "text": [
      "request error\n",
      "step: 531\n",
      "request error\n",
      "step: 532\n",
      "request error\n",
      "step: 533\n",
      "request error\n",
      "step: 534\n",
      "request error\n",
      "step: 535\n"
     ]
    },
    {
     "name": "stderr",
     "output_type": "stream",
     "text": [
      " 16%|█▌        | 540/3361 [11:31<1:00:13,  1.28s/it]"
     ]
    },
    {
     "name": "stdout",
     "output_type": "stream",
     "text": [
      "request error\n",
      "step: 536\n",
      "request error\n",
      "step: 537\n",
      "request error\n",
      "step: 538\n",
      "request error\n",
      "step: 539\n",
      "request error\n",
      "step: 540\n"
     ]
    },
    {
     "name": "stderr",
     "output_type": "stream",
     "text": [
      " 16%|█▌        | 545/3361 [11:32<59:39,  1.27s/it]  "
     ]
    },
    {
     "name": "stdout",
     "output_type": "stream",
     "text": [
      "request error\n",
      "step: 541\n",
      "request error\n",
      "step: 542\n",
      "request error\n",
      "step: 543\n",
      "request error\n",
      "step: 544\n",
      "request error\n",
      "step: 545\n",
      "request error\n",
      "step: 546\n"
     ]
    },
    {
     "name": "stderr",
     "output_type": "stream",
     "text": [
      "\r",
      " 16%|█▋        | 548/3361 [11:32<59:17,  1.26s/it]"
     ]
    },
    {
     "name": "stdout",
     "output_type": "stream",
     "text": [
      "request error\n",
      "step: 547\n",
      "request error\n",
      "step: 548\n",
      "request error\n",
      "step: 549\n",
      "request error\n",
      "step: 550\n"
     ]
    },
    {
     "name": "stderr",
     "output_type": "stream",
     "text": [
      " 16%|█▋        | 554/3361 [11:34<58:37,  1.25s/it]"
     ]
    },
    {
     "name": "stdout",
     "output_type": "stream",
     "text": [
      "request error\n",
      "step: 551\n",
      "request error\n",
      "step: 552\n",
      "request error\n",
      "step: 553\n",
      "request error\n",
      "step: 554\n",
      "request error\n",
      "step: 555\n"
     ]
    },
    {
     "name": "stderr",
     "output_type": "stream",
     "text": [
      " 17%|█▋        | 560/3361 [11:34<57:53,  1.24s/it]"
     ]
    },
    {
     "name": "stdout",
     "output_type": "stream",
     "text": [
      "request error\n",
      "step: 556\n",
      "request error\n",
      "step: 557\n",
      "request error\n",
      "step: 558\n",
      "request error\n",
      "step: 559\n",
      "request error\n",
      "step: 560\n"
     ]
    },
    {
     "name": "stderr",
     "output_type": "stream",
     "text": [
      " 17%|█▋        | 565/3361 [11:35<57:22,  1.23s/it]"
     ]
    },
    {
     "name": "stdout",
     "output_type": "stream",
     "text": [
      "request error\n",
      "step: 561\n",
      "request error\n",
      "step: 562\n",
      "request error\n",
      "step: 563\n",
      "request error\n",
      "step: 564\n",
      "request error\n",
      "step: 565\n"
     ]
    },
    {
     "name": "stderr",
     "output_type": "stream",
     "text": [
      "\r",
      " 17%|█▋        | 568/3361 [11:35<57:01,  1.23s/it]"
     ]
    },
    {
     "name": "stdout",
     "output_type": "stream",
     "text": [
      "request error\n",
      "step: 566\n",
      "request error\n",
      "step: 567\n",
      "request error\n",
      "step: 568\n",
      "request error\n",
      "step: 569\n",
      "request error\n",
      "step: 570\n"
     ]
    },
    {
     "name": "stderr",
     "output_type": "stream",
     "text": [
      " 17%|█▋        | 574/3361 [11:37<56:24,  1.21s/it]"
     ]
    },
    {
     "name": "stdout",
     "output_type": "stream",
     "text": [
      "request error\n",
      "step: 571\n",
      "request error\n",
      "step: 572\n",
      "request error\n",
      "step: 573\n",
      "request error\n",
      "step: 574\n",
      "request error\n",
      "step: 575\n"
     ]
    },
    {
     "name": "stderr",
     "output_type": "stream",
     "text": [
      " 17%|█▋        | 580/3361 [11:37<55:43,  1.20s/it]"
     ]
    },
    {
     "name": "stdout",
     "output_type": "stream",
     "text": [
      "request error\n",
      "step: 576\n",
      "request error\n",
      "step: 577\n",
      "request error\n",
      "step: 578\n",
      "request error\n",
      "step: 579\n",
      "request error\n",
      "step: 580\n"
     ]
    },
    {
     "name": "stderr",
     "output_type": "stream",
     "text": [
      " 17%|█▋        | 585/3361 [11:38<55:14,  1.19s/it]"
     ]
    },
    {
     "name": "stdout",
     "output_type": "stream",
     "text": [
      "request error\n",
      "step: 581\n",
      "request error\n",
      "step: 582\n",
      "request error\n",
      "step: 583\n",
      "request error\n",
      "step: 584\n",
      "request error\n",
      "step: 585\n",
      "request error\n",
      "step: 586\n"
     ]
    },
    {
     "name": "stderr",
     "output_type": "stream",
     "text": [
      "\r",
      " 17%|█▋        | 588/3361 [11:38<54:54,  1.19s/it]"
     ]
    },
    {
     "name": "stdout",
     "output_type": "stream",
     "text": [
      "request error\n",
      "step: 587\n",
      "request error\n",
      "step: 588\n",
      "request error\n",
      "step: 589\n",
      "request error\n",
      "step: 590\n"
     ]
    },
    {
     "name": "stderr",
     "output_type": "stream",
     "text": [
      " 18%|█▊        | 597/3361 [11:40<54:01,  1.17s/it]"
     ]
    },
    {
     "name": "stdout",
     "output_type": "stream",
     "text": [
      "request error\n",
      "step: 591\n",
      "request error\n",
      "step: 592\n",
      "request error\n",
      "step: 593\n",
      "request error\n",
      "step: 594\n",
      "request error\n",
      "step: 595\n",
      "request error\n",
      "step: 596\n"
     ]
    },
    {
     "name": "stderr",
     "output_type": "stream",
     "text": [
      "\r",
      " 18%|█▊        | 600/3361 [11:40<53:41,  1.17s/it]"
     ]
    },
    {
     "name": "stdout",
     "output_type": "stream",
     "text": [
      "request error\n",
      "step: 597\n",
      "request error\n",
      "step: 598\n",
      "request error\n",
      "step: 599\n",
      "request error\n",
      "step: 600\n"
     ]
    },
    {
     "name": "stderr",
     "output_type": "stream",
     "text": [
      " 18%|█▊        | 606/3361 [11:41<53:08,  1.16s/it]"
     ]
    },
    {
     "name": "stdout",
     "output_type": "stream",
     "text": [
      "request error\n",
      "step: 601\n",
      "request error\n",
      "step: 602\n",
      "request error\n",
      "step: 603\n",
      "request error\n",
      "step: 604\n",
      "request error\n",
      "step: 605\n"
     ]
    },
    {
     "name": "stderr",
     "output_type": "stream",
     "text": [
      "\r",
      " 18%|█▊        | 609/3361 [11:41<52:50,  1.15s/it]"
     ]
    },
    {
     "name": "stdout",
     "output_type": "stream",
     "text": [
      "request error\n",
      "step: 606\n",
      "request error\n",
      "step: 607\n",
      "request error\n",
      "step: 608\n",
      "request error\n",
      "step: 609\n",
      "request error\n",
      "step: 610\n"
     ]
    },
    {
     "name": "stderr",
     "output_type": "stream",
     "text": [
      " 18%|█▊        | 615/3361 [11:42<52:17,  1.14s/it]"
     ]
    },
    {
     "name": "stdout",
     "output_type": "stream",
     "text": [
      "request error\n",
      "step: 611\n",
      "request error\n",
      "step: 612\n",
      "request error\n",
      "step: 613\n",
      "request error\n",
      "step: 614\n",
      "request error\n",
      "step: 615\n"
     ]
    },
    {
     "name": "stderr",
     "output_type": "stream",
     "text": [
      "\r",
      " 18%|█▊        | 618/3361 [11:42<51:59,  1.14s/it]"
     ]
    },
    {
     "name": "stdout",
     "output_type": "stream",
     "text": [
      "request error\n",
      "step: 616\n",
      "request error\n",
      "step: 617\n",
      "request error\n",
      "step: 618\n",
      "request error\n",
      "step: 619\n",
      "request error\n",
      "step: 620\n"
     ]
    },
    {
     "name": "stderr",
     "output_type": "stream",
     "text": [
      " 19%|█▊        | 624/3361 [11:44<51:28,  1.13s/it]"
     ]
    },
    {
     "name": "stdout",
     "output_type": "stream",
     "text": [
      "request error\n",
      "step: 621\n",
      "request error\n",
      "step: 622\n",
      "request error\n",
      "step: 623\n",
      "request error\n",
      "step: 624\n",
      "request error\n",
      "step: 625\n"
     ]
    },
    {
     "name": "stderr",
     "output_type": "stream",
     "text": [
      " 19%|█▊        | 630/3361 [11:44<50:53,  1.12s/it]"
     ]
    },
    {
     "name": "stdout",
     "output_type": "stream",
     "text": [
      "request error\n",
      "step: 626\n",
      "request error\n",
      "step: 627\n",
      "request error\n",
      "step: 628\n",
      "request error\n",
      "step: 629\n",
      "request error\n",
      "step: 630\n"
     ]
    },
    {
     "name": "stderr",
     "output_type": "stream",
     "text": [
      " 19%|█▉        | 635/3361 [11:45<50:29,  1.11s/it]"
     ]
    },
    {
     "name": "stdout",
     "output_type": "stream",
     "text": [
      "request error\n",
      "step: 631\n",
      "request error\n",
      "step: 632\n",
      "request error\n",
      "step: 633\n",
      "request error\n",
      "step: 634\n",
      "request error\n",
      "step: 635\n"
     ]
    },
    {
     "name": "stderr",
     "output_type": "stream",
     "text": [
      "\r",
      " 19%|█▉        | 638/3361 [11:45<50:12,  1.11s/it]"
     ]
    },
    {
     "name": "stdout",
     "output_type": "stream",
     "text": [
      "request error\n",
      "step: 636\n",
      "request error\n",
      "step: 637\n",
      "request error\n",
      "step: 638\n",
      "request error\n",
      "step: 639\n",
      "request error\n",
      "step: 640\n"
     ]
    },
    {
     "name": "stderr",
     "output_type": "stream",
     "text": [
      " 19%|█▉        | 647/3361 [11:47<49:26,  1.09s/it]"
     ]
    },
    {
     "name": "stdout",
     "output_type": "stream",
     "text": [
      "request error\n",
      "step: 641\n",
      "request error\n",
      "step: 642\n",
      "request error\n",
      "step: 643\n",
      "request error\n",
      "step: 644\n",
      "request error\n",
      "step: 645\n",
      "request error\n",
      "step: 646\n"
     ]
    },
    {
     "name": "stderr",
     "output_type": "stream",
     "text": [
      "\r",
      " 19%|█▉        | 650/3361 [11:47<49:09,  1.09s/it]"
     ]
    },
    {
     "name": "stdout",
     "output_type": "stream",
     "text": [
      "request error\n",
      "step: 647\n",
      "request error\n",
      "step: 648\n",
      "request error\n",
      "step: 649\n",
      "request error\n",
      "step: 650\n"
     ]
    },
    {
     "name": "stderr",
     "output_type": "stream",
     "text": [
      " 20%|█▉        | 656/3361 [11:48<48:41,  1.08s/it]"
     ]
    },
    {
     "name": "stdout",
     "output_type": "stream",
     "text": [
      "request error\n",
      "step: 651\n",
      "request error\n",
      "step: 652\n",
      "request error\n",
      "step: 653\n",
      "request error\n",
      "step: 654\n",
      "request error\n",
      "step: 655\n",
      "request error\n",
      "step: 656\n"
     ]
    },
    {
     "name": "stderr",
     "output_type": "stream",
     "text": [
      "\r",
      " 20%|█▉        | 659/3361 [11:48<48:25,  1.08s/it]"
     ]
    },
    {
     "name": "stdout",
     "output_type": "stream",
     "text": [
      "request error\n",
      "step: 657\n",
      "request error\n",
      "step: 658\n",
      "request error\n",
      "step: 659\n",
      "request error\n",
      "step: 660\n"
     ]
    },
    {
     "name": "stderr",
     "output_type": "stream",
     "text": [
      " 20%|█▉        | 665/3361 [11:49<47:58,  1.07s/it]"
     ]
    },
    {
     "name": "stdout",
     "output_type": "stream",
     "text": [
      "request error\n",
      "step: 661\n",
      "request error\n",
      "step: 662\n",
      "request error\n",
      "step: 663\n",
      "request error\n",
      "step: 664\n",
      "request error\n",
      "step: 665\n"
     ]
    },
    {
     "name": "stderr",
     "output_type": "stream",
     "text": [
      "\r",
      " 20%|█▉        | 668/3361 [11:50<47:42,  1.06s/it]"
     ]
    },
    {
     "name": "stdout",
     "output_type": "stream",
     "text": [
      "request error\n",
      "step: 666\n",
      "request error\n",
      "step: 667\n",
      "request error\n",
      "step: 668\n",
      "request error\n",
      "step: 669\n",
      "request error\n",
      "step: 670\n"
     ]
    },
    {
     "name": "stderr",
     "output_type": "stream",
     "text": [
      " 20%|██        | 674/3361 [11:51<47:15,  1.06s/it]"
     ]
    },
    {
     "name": "stdout",
     "output_type": "stream",
     "text": [
      "request error\n",
      "step: 671\n",
      "request error\n",
      "step: 672\n",
      "request error\n",
      "step: 673\n",
      "request error\n",
      "step: 674\n",
      "request error\n",
      "step: 675\n"
     ]
    },
    {
     "name": "stderr",
     "output_type": "stream",
     "text": [
      " 20%|██        | 680/3361 [11:51<46:45,  1.05s/it]"
     ]
    },
    {
     "name": "stdout",
     "output_type": "stream",
     "text": [
      "request error\n",
      "step: 676\n",
      "request error\n",
      "step: 677\n",
      "request error\n",
      "step: 678\n",
      "request error\n",
      "step: 679\n",
      "request error\n",
      "step: 680\n"
     ]
    },
    {
     "name": "stderr",
     "output_type": "stream",
     "text": [
      " 20%|██        | 686/3361 [11:52<46:19,  1.04s/it]"
     ]
    },
    {
     "name": "stdout",
     "output_type": "stream",
     "text": [
      "request error\n",
      "step: 681\n",
      "request error\n",
      "step: 682\n",
      "request error\n",
      "step: 683\n",
      "request error\n",
      "step: 684\n",
      "request error\n",
      "step: 685\n"
     ]
    },
    {
     "name": "stderr",
     "output_type": "stream",
     "text": [
      "\r",
      " 20%|██        | 689/3361 [11:52<46:04,  1.03s/it]"
     ]
    },
    {
     "name": "stdout",
     "output_type": "stream",
     "text": [
      "request error\n",
      "step: 686\n",
      "request error\n",
      "step: 687\n",
      "request error\n",
      "step: 688\n",
      "request error\n",
      "step: 689\n",
      "request error\n",
      "step: 690\n"
     ]
    },
    {
     "name": "stderr",
     "output_type": "stream",
     "text": [
      " 21%|██        | 694/3361 [11:54<45:44,  1.03s/it]"
     ]
    },
    {
     "name": "stdout",
     "output_type": "stream",
     "text": [
      "request error\n",
      "step: 691\n",
      "request error\n",
      "step: 692\n",
      "request error\n",
      "step: 693\n",
      "request error\n",
      "step: 694\n",
      "request error\n",
      "step: 695\n"
     ]
    },
    {
     "name": "stderr",
     "output_type": "stream",
     "text": [
      " 21%|██        | 700/3361 [11:54<45:15,  1.02s/it]"
     ]
    },
    {
     "name": "stdout",
     "output_type": "stream",
     "text": [
      "request error\n",
      "step: 696\n",
      "request error\n",
      "step: 697\n",
      "request error\n",
      "step: 698\n",
      "request error\n",
      "step: 699\n",
      "request error\n",
      "step: 700\n"
     ]
    },
    {
     "name": "stderr",
     "output_type": "stream",
     "text": [
      " 21%|██        | 706/3361 [11:55<44:51,  1.01s/it]"
     ]
    },
    {
     "name": "stdout",
     "output_type": "stream",
     "text": [
      "request error\n",
      "step: 701\n",
      "request error\n",
      "step: 702\n",
      "request error\n",
      "step: 703\n",
      "request error\n",
      "step: 704\n",
      "request error\n",
      "step: 705\n"
     ]
    },
    {
     "name": "stderr",
     "output_type": "stream",
     "text": [
      "\r",
      " 21%|██        | 709/3361 [11:55<44:37,  1.01s/it]"
     ]
    },
    {
     "name": "stdout",
     "output_type": "stream",
     "text": [
      "request error\n",
      "step: 706\n",
      "request error\n",
      "step: 707\n",
      "request error\n",
      "step: 708\n",
      "request error\n",
      "step: 709\n",
      "request error\n",
      "step: 710\n"
     ]
    },
    {
     "name": "stderr",
     "output_type": "stream",
     "text": [
      " 21%|██▏       | 717/3361 [11:57<44:04,  1.00s/it]"
     ]
    },
    {
     "name": "stdout",
     "output_type": "stream",
     "text": [
      "request error\n",
      "step: 711\n",
      "request error\n",
      "step: 712\n",
      "request error\n",
      "step: 713\n",
      "request error\n",
      "step: 714\n",
      "request error\n",
      "step: 715\n",
      "request error\n",
      "step: 716\n"
     ]
    },
    {
     "name": "stderr",
     "output_type": "stream",
     "text": [
      "\r",
      " 21%|██▏       | 720/3361 [11:57<43:50,  1.00it/s]"
     ]
    },
    {
     "name": "stdout",
     "output_type": "stream",
     "text": [
      "request error\n",
      "step: 717\n",
      "request error\n",
      "step: 718\n",
      "request error\n",
      "step: 719\n",
      "request error\n",
      "step: 720\n"
     ]
    },
    {
     "name": "stderr",
     "output_type": "stream",
     "text": [
      " 22%|██▏       | 726/3361 [11:58<43:27,  1.01it/s]"
     ]
    },
    {
     "name": "stdout",
     "output_type": "stream",
     "text": [
      "request error\n",
      "step: 721\n",
      "request error\n",
      "step: 722\n",
      "request error\n",
      "step: 723\n",
      "request error\n",
      "step: 724\n",
      "request error\n",
      "step: 725\n"
     ]
    },
    {
     "name": "stderr",
     "output_type": "stream",
     "text": [
      "\r",
      " 22%|██▏       | 729/3361 [11:58<43:14,  1.01it/s]"
     ]
    },
    {
     "name": "stdout",
     "output_type": "stream",
     "text": [
      "request error\n",
      "step: 726\n",
      "request error\n",
      "step: 727\n",
      "request error\n",
      "step: 728\n",
      "request error\n",
      "step: 729\n",
      "request error\n",
      "step: 730\n"
     ]
    },
    {
     "name": "stderr",
     "output_type": "stream",
     "text": [
      " 22%|██▏       | 735/3361 [11:59<42:51,  1.02it/s]"
     ]
    },
    {
     "name": "stdout",
     "output_type": "stream",
     "text": [
      "request error\n",
      "step: 731\n",
      "request error\n",
      "step: 732\n",
      "request error\n",
      "step: 733\n",
      "request error\n",
      "step: 734\n",
      "request error\n",
      "step: 735\n",
      "request error\n",
      "step: 736\n"
     ]
    },
    {
     "name": "stderr",
     "output_type": "stream",
     "text": [
      "\r",
      " 22%|██▏       | 738/3361 [11:59<42:38,  1.03it/s]"
     ]
    },
    {
     "name": "stdout",
     "output_type": "stream",
     "text": [
      "request error\n",
      "step: 737\n",
      "request error\n",
      "step: 738\n",
      "request error\n",
      "step: 739\n",
      "request error\n",
      "step: 740\n"
     ]
    },
    {
     "name": "stderr",
     "output_type": "stream",
     "text": [
      " 22%|██▏       | 744/3361 [12:01<42:16,  1.03it/s]"
     ]
    },
    {
     "name": "stdout",
     "output_type": "stream",
     "text": [
      "request error\n",
      "step: 741\n",
      "request error\n",
      "step: 742\n",
      "request error\n",
      "step: 743\n",
      "request error\n",
      "step: 744\n",
      "request error\n",
      "step: 745\n"
     ]
    },
    {
     "name": "stderr",
     "output_type": "stream",
     "text": [
      " 22%|██▏       | 750/3361 [12:01<41:51,  1.04it/s]"
     ]
    },
    {
     "name": "stdout",
     "output_type": "stream",
     "text": [
      "request error\n",
      "step: 746\n",
      "request error\n",
      "step: 747\n",
      "request error\n",
      "step: 748\n",
      "request error\n",
      "step: 749\n",
      "request error\n",
      "step: 750\n"
     ]
    },
    {
     "name": "stderr",
     "output_type": "stream",
     "text": [
      " 22%|██▏       | 756/3361 [12:02<41:30,  1.05it/s]"
     ]
    },
    {
     "name": "stdout",
     "output_type": "stream",
     "text": [
      "request error\n",
      "step: 751\n",
      "request error\n",
      "step: 752\n",
      "request error\n",
      "step: 753\n",
      "request error\n",
      "step: 754\n",
      "request error\n",
      "step: 755\n"
     ]
    },
    {
     "name": "stderr",
     "output_type": "stream",
     "text": [
      "\r",
      " 23%|██▎       | 759/3361 [12:02<41:18,  1.05it/s]"
     ]
    },
    {
     "name": "stdout",
     "output_type": "stream",
     "text": [
      "request error\n",
      "step: 756\n",
      "request error\n",
      "step: 757\n",
      "request error\n",
      "step: 758\n",
      "request error\n",
      "step: 759\n",
      "request error\n",
      "step: 760\n"
     ]
    },
    {
     "name": "stderr",
     "output_type": "stream",
     "text": [
      " 23%|██▎       | 764/3361 [12:04<41:01,  1.06it/s]"
     ]
    },
    {
     "name": "stdout",
     "output_type": "stream",
     "text": [
      "request error\n",
      "step: 761\n",
      "request error\n",
      "step: 762\n",
      "request error\n",
      "step: 763\n"
     ]
    },
    {
     "name": "stderr",
     "output_type": "stream",
     "text": [
      " 23%|██▎       | 769/3361 [12:04<40:41,  1.06it/s]"
     ]
    },
    {
     "name": "stdout",
     "output_type": "stream",
     "text": [
      "request error\n",
      "step: 764\n",
      "request error\n",
      "step: 765\n",
      "request error\n",
      "step: 766\n",
      "request error\n",
      "step: 767\n",
      "request error\n",
      "step: 768\n",
      "request error\n",
      "step: 769\n",
      "request error\n",
      "step: 770\n"
     ]
    },
    {
     "name": "stderr",
     "output_type": "stream",
     "text": [
      " 23%|██▎       | 774/3361 [12:05<40:25,  1.07it/s]"
     ]
    },
    {
     "name": "stdout",
     "output_type": "stream",
     "text": [
      "request error\n",
      "step: 771\n",
      "request error\n",
      "step: 772\n",
      "request error\n",
      "step: 773\n",
      "request error\n",
      "step: 774\n",
      "request error\n",
      "step: 775\n"
     ]
    },
    {
     "name": "stderr",
     "output_type": "stream",
     "text": [
      " 23%|██▎       | 780/3361 [12:05<40:02,  1.07it/s]"
     ]
    },
    {
     "name": "stdout",
     "output_type": "stream",
     "text": [
      "request error\n",
      "step: 776\n",
      "request error\n",
      "step: 777\n",
      "request error\n",
      "step: 778\n",
      "request error\n",
      "step: 779\n",
      "request error\n",
      "step: 780\n"
     ]
    },
    {
     "name": "stderr",
     "output_type": "stream",
     "text": [
      " 23%|██▎       | 786/3361 [12:07<39:42,  1.08it/s]"
     ]
    },
    {
     "name": "stdout",
     "output_type": "stream",
     "text": [
      "request error\n",
      "step: 781\n",
      "request error\n",
      "step: 782\n",
      "request error\n",
      "step: 783\n",
      "request error\n",
      "step: 784\n",
      "request error\n",
      "step: 785\n",
      "request error\n",
      "step: 786\n"
     ]
    },
    {
     "name": "stderr",
     "output_type": "stream",
     "text": [
      "\r",
      " 23%|██▎       | 789/3361 [12:07<39:30,  1.08it/s]"
     ]
    },
    {
     "name": "stdout",
     "output_type": "stream",
     "text": [
      "request error\n",
      "step: 787\n",
      "request error\n",
      "step: 788\n",
      "request error\n",
      "step: 789\n",
      "request error\n",
      "step: 790\n"
     ]
    },
    {
     "name": "stderr",
     "output_type": "stream",
     "text": [
      " 24%|██▎       | 794/3361 [12:08<39:15,  1.09it/s]"
     ]
    },
    {
     "name": "stdout",
     "output_type": "stream",
     "text": [
      "request error\n",
      "step: 791\n",
      "request error\n",
      "step: 792\n",
      "request error\n",
      "step: 793\n",
      "request error\n",
      "step: 794\n",
      "request error\n",
      "step: 795\n"
     ]
    },
    {
     "name": "stderr",
     "output_type": "stream",
     "text": [
      " 24%|██▍       | 800/3361 [12:08<38:52,  1.10it/s]"
     ]
    },
    {
     "name": "stdout",
     "output_type": "stream",
     "text": [
      "request error\n",
      "step: 796\n",
      "request error\n",
      "step: 797\n",
      "request error\n",
      "step: 798\n",
      "request error\n",
      "step: 799\n",
      "request error\n",
      "step: 800\n"
     ]
    },
    {
     "name": "stderr",
     "output_type": "stream",
     "text": [
      " 24%|██▍       | 806/3361 [12:10<38:34,  1.10it/s]"
     ]
    },
    {
     "name": "stdout",
     "output_type": "stream",
     "text": [
      "request error\n",
      "step: 801\n",
      "request error\n",
      "step: 802\n",
      "request error\n",
      "step: 803\n",
      "request error\n",
      "step: 804\n",
      "request error\n",
      "step: 805\n"
     ]
    },
    {
     "name": "stderr",
     "output_type": "stream",
     "text": [
      "\r",
      " 24%|██▍       | 809/3361 [12:10<38:23,  1.11it/s]"
     ]
    },
    {
     "name": "stdout",
     "output_type": "stream",
     "text": [
      "request error\n",
      "step: 806\n",
      "request error\n",
      "step: 807\n",
      "request error\n",
      "step: 808\n",
      "request error\n",
      "step: 809\n",
      "request error\n",
      "step: 810\n"
     ]
    },
    {
     "name": "stderr",
     "output_type": "stream",
     "text": [
      " 24%|██▍       | 817/3361 [12:11<37:57,  1.12it/s]"
     ]
    },
    {
     "name": "stdout",
     "output_type": "stream",
     "text": [
      "request error\n",
      "step: 811\n",
      "request error\n",
      "step: 812\n",
      "request error\n",
      "step: 813\n",
      "request error\n",
      "step: 814\n",
      "request error\n",
      "step: 815\n",
      "request error\n",
      "step: 816\n"
     ]
    },
    {
     "name": "stderr",
     "output_type": "stream",
     "text": [
      "\r",
      " 24%|██▍       | 820/3361 [12:11<37:47,  1.12it/s]"
     ]
    },
    {
     "name": "stdout",
     "output_type": "stream",
     "text": [
      "request error\n",
      "step: 817\n",
      "request error\n",
      "step: 818\n",
      "request error\n",
      "step: 819\n",
      "request error\n",
      "step: 820\n"
     ]
    },
    {
     "name": "stderr",
     "output_type": "stream",
     "text": [
      " 25%|██▍       | 826/3361 [12:12<37:29,  1.13it/s]"
     ]
    },
    {
     "name": "stdout",
     "output_type": "stream",
     "text": [
      "request error\n",
      "step: 821\n",
      "request error\n",
      "step: 822\n",
      "request error\n",
      "step: 823\n",
      "request error\n",
      "step: 824\n",
      "request error\n",
      "step: 825\n",
      "request error\n",
      "step: 826\n"
     ]
    },
    {
     "name": "stderr",
     "output_type": "stream",
     "text": [
      "\r",
      " 25%|██▍       | 829/3361 [12:12<37:18,  1.13it/s]"
     ]
    },
    {
     "name": "stdout",
     "output_type": "stream",
     "text": [
      "request error\n",
      "step: 827\n",
      "request error\n",
      "step: 828\n",
      "request error\n",
      "step: 829\n",
      "request error\n",
      "step: 830\n"
     ]
    },
    {
     "name": "stderr",
     "output_type": "stream",
     "text": [
      " 25%|██▍       | 835/3361 [12:14<37:01,  1.14it/s]"
     ]
    },
    {
     "name": "stdout",
     "output_type": "stream",
     "text": [
      "request error\n",
      "step: 831\n",
      "request error\n",
      "step: 832\n",
      "request error\n",
      "step: 833\n",
      "request error\n",
      "step: 834\n",
      "request error\n",
      "step: 835\n"
     ]
    },
    {
     "name": "stderr",
     "output_type": "stream",
     "text": [
      "\r",
      " 25%|██▍       | 838/3361 [12:14<36:50,  1.14it/s]"
     ]
    },
    {
     "name": "stdout",
     "output_type": "stream",
     "text": [
      "request error\n",
      "step: 836\n",
      "request error\n",
      "step: 837\n",
      "request error\n",
      "step: 838\n",
      "request error\n",
      "step: 839\n",
      "request error\n",
      "step: 840\n"
     ]
    },
    {
     "name": "stderr",
     "output_type": "stream",
     "text": [
      " 25%|██▌       | 844/3361 [12:15<36:33,  1.15it/s]"
     ]
    },
    {
     "name": "stdout",
     "output_type": "stream",
     "text": [
      "request error\n",
      "step: 841\n",
      "request error\n",
      "step: 842\n",
      "request error\n",
      "step: 843\n",
      "request error\n",
      "step: 844\n",
      "request error\n",
      "step: 845\n"
     ]
    },
    {
     "name": "stderr",
     "output_type": "stream",
     "text": [
      " 25%|██▌       | 850/3361 [12:15<36:13,  1.16it/s]"
     ]
    },
    {
     "name": "stdout",
     "output_type": "stream",
     "text": [
      "request error\n",
      "step: 846\n",
      "request error\n",
      "step: 847\n",
      "request error\n",
      "step: 848\n",
      "request error\n",
      "step: 849\n",
      "request error\n",
      "step: 850\n"
     ]
    },
    {
     "name": "stderr",
     "output_type": "stream",
     "text": [
      " 25%|██▌       | 856/3361 [12:17<35:57,  1.16it/s]"
     ]
    },
    {
     "name": "stdout",
     "output_type": "stream",
     "text": [
      "request error\n",
      "step: 851\n",
      "request error\n",
      "step: 852\n",
      "request error\n",
      "step: 853\n",
      "request error\n",
      "step: 854\n",
      "request error\n",
      "step: 855\n"
     ]
    },
    {
     "name": "stderr",
     "output_type": "stream",
     "text": [
      "\r",
      " 26%|██▌       | 859/3361 [12:17<35:47,  1.17it/s]"
     ]
    },
    {
     "name": "stdout",
     "output_type": "stream",
     "text": [
      "request error\n",
      "step: 856\n",
      "request error\n",
      "step: 857\n",
      "request error\n",
      "step: 858\n",
      "request error\n",
      "step: 859\n",
      "request error\n",
      "step: 860\n"
     ]
    },
    {
     "name": "stderr",
     "output_type": "stream",
     "text": [
      " 26%|██▌       | 867/3361 [12:18<35:24,  1.17it/s]"
     ]
    },
    {
     "name": "stdout",
     "output_type": "stream",
     "text": [
      "request error\n",
      "step: 861\n",
      "request error\n",
      "step: 862\n",
      "request error\n",
      "step: 863\n",
      "request error\n",
      "step: 864\n",
      "request error\n",
      "step: 865\n",
      "request error\n",
      "step: 866\n"
     ]
    },
    {
     "name": "stderr",
     "output_type": "stream",
     "text": [
      "\r",
      " 26%|██▌       | 870/3361 [12:18<35:14,  1.18it/s]"
     ]
    },
    {
     "name": "stdout",
     "output_type": "stream",
     "text": [
      "request error\n",
      "step: 867\n",
      "request error\n",
      "step: 868\n",
      "request error\n",
      "step: 869\n",
      "request error\n",
      "step: 870\n"
     ]
    },
    {
     "name": "stderr",
     "output_type": "stream",
     "text": [
      " 26%|██▌       | 876/3361 [12:19<34:58,  1.18it/s]"
     ]
    },
    {
     "name": "stdout",
     "output_type": "stream",
     "text": [
      "request error\n",
      "step: 871\n",
      "request error\n",
      "step: 872\n",
      "request error\n",
      "step: 873\n",
      "request error\n",
      "step: 874\n",
      "request error\n",
      "step: 875\n",
      "request error\n",
      "step: 876\n"
     ]
    },
    {
     "name": "stderr",
     "output_type": "stream",
     "text": [
      "\r",
      " 26%|██▌       | 879/3361 [12:20<34:49,  1.19it/s]"
     ]
    },
    {
     "name": "stdout",
     "output_type": "stream",
     "text": [
      "request error\n",
      "step: 877\n",
      "request error\n",
      "step: 878\n",
      "request error\n",
      "step: 879\n",
      "request error\n",
      "step: 880\n"
     ]
    },
    {
     "name": "stderr",
     "output_type": "stream",
     "text": [
      " 26%|██▋       | 885/3361 [12:21<34:34,  1.19it/s]"
     ]
    },
    {
     "name": "stdout",
     "output_type": "stream",
     "text": [
      "request error\n",
      "step: 881\n",
      "request error\n",
      "step: 882\n",
      "request error\n",
      "step: 883\n",
      "request error\n",
      "step: 884\n",
      "request error\n",
      "step: 885\n"
     ]
    },
    {
     "name": "stderr",
     "output_type": "stream",
     "text": [
      "\r",
      " 26%|██▋       | 888/3361 [12:21<34:24,  1.20it/s]"
     ]
    },
    {
     "name": "stdout",
     "output_type": "stream",
     "text": [
      "request error\n",
      "step: 886\n",
      "request error\n",
      "step: 887\n",
      "request error\n",
      "step: 888\n",
      "request error\n",
      "step: 889\n",
      "request error\n",
      "step: 890\n"
     ]
    },
    {
     "name": "stderr",
     "output_type": "stream",
     "text": [
      " 27%|██▋       | 897/3361 [12:22<34:00,  1.21it/s]"
     ]
    },
    {
     "name": "stdout",
     "output_type": "stream",
     "text": [
      "request error\n",
      "step: 891\n",
      "request error\n",
      "step: 892\n",
      "request error\n",
      "step: 893\n",
      "request error\n",
      "step: 894\n",
      "request error\n",
      "step: 895\n",
      "request error\n",
      "step: 896\n"
     ]
    },
    {
     "name": "stderr",
     "output_type": "stream",
     "text": [
      "\r",
      " 27%|██▋       | 900/3361 [12:22<33:51,  1.21it/s]"
     ]
    },
    {
     "name": "stdout",
     "output_type": "stream",
     "text": [
      "request error\n",
      "step: 897\n",
      "request error\n",
      "step: 898\n",
      "request error\n",
      "step: 899\n",
      "request error\n",
      "step: 900\n"
     ]
    },
    {
     "name": "stderr",
     "output_type": "stream",
     "text": [
      " 27%|██▋       | 906/3361 [12:24<33:36,  1.22it/s]"
     ]
    },
    {
     "name": "stdout",
     "output_type": "stream",
     "text": [
      "request error\n",
      "step: 901\n",
      "request error\n",
      "step: 902\n",
      "request error\n",
      "step: 903\n",
      "request error\n",
      "step: 904\n",
      "request error\n",
      "step: 905\n"
     ]
    },
    {
     "name": "stderr",
     "output_type": "stream",
     "text": [
      "\r",
      " 27%|██▋       | 909/3361 [12:24<33:27,  1.22it/s]"
     ]
    },
    {
     "name": "stdout",
     "output_type": "stream",
     "text": [
      "request error\n",
      "step: 906\n",
      "request error\n",
      "step: 907\n",
      "request error\n",
      "step: 908\n",
      "request error\n",
      "step: 909\n",
      "request error\n",
      "step: 910\n"
     ]
    },
    {
     "name": "stderr",
     "output_type": "stream",
     "text": [
      " 27%|██▋       | 914/3361 [12:25<33:16,  1.23it/s]"
     ]
    },
    {
     "name": "stdout",
     "output_type": "stream",
     "text": [
      "request error\n",
      "step: 911\n",
      "request error\n",
      "step: 912\n",
      "request error\n",
      "step: 913\n",
      "request error\n",
      "step: 914\n",
      "request error\n",
      "step: 915\n"
     ]
    },
    {
     "name": "stderr",
     "output_type": "stream",
     "text": [
      " 27%|██▋       | 920/3361 [12:25<32:58,  1.23it/s]"
     ]
    },
    {
     "name": "stdout",
     "output_type": "stream",
     "text": [
      "request error\n",
      "step: 916\n",
      "request error\n",
      "step: 917\n",
      "request error\n",
      "step: 918\n",
      "request error\n",
      "step: 919\n",
      "request error\n",
      "step: 920\n"
     ]
    },
    {
     "name": "stderr",
     "output_type": "stream",
     "text": [
      " 28%|██▊       | 926/3361 [12:27<32:44,  1.24it/s]"
     ]
    },
    {
     "name": "stdout",
     "output_type": "stream",
     "text": [
      "request error\n",
      "step: 921\n",
      "request error\n",
      "step: 922\n",
      "request error\n",
      "step: 923\n",
      "request error\n",
      "step: 924\n",
      "request error\n",
      "step: 925\n",
      "request error\n",
      "step: 926\n"
     ]
    },
    {
     "name": "stderr",
     "output_type": "stream",
     "text": [
      "\r",
      " 28%|██▊       | 929/3361 [12:27<32:35,  1.24it/s]"
     ]
    },
    {
     "name": "stdout",
     "output_type": "stream",
     "text": [
      "request error\n",
      "step: 927\n",
      "request error\n",
      "step: 928\n",
      "request error\n",
      "step: 929\n",
      "request error\n",
      "step: 930\n"
     ]
    },
    {
     "name": "stderr",
     "output_type": "stream",
     "text": [
      " 28%|██▊       | 935/3361 [12:28<32:21,  1.25it/s]"
     ]
    },
    {
     "name": "stdout",
     "output_type": "stream",
     "text": [
      "request error\n",
      "step: 931\n",
      "request error\n",
      "step: 932\n",
      "request error\n",
      "step: 933\n",
      "request error\n",
      "step: 934\n",
      "request error\n",
      "step: 935\n",
      "request error\n",
      "step: 936\n"
     ]
    },
    {
     "name": "stderr",
     "output_type": "stream",
     "text": [
      "\r",
      " 28%|██▊       | 938/3361 [12:28<32:13,  1.25it/s]"
     ]
    },
    {
     "name": "stdout",
     "output_type": "stream",
     "text": [
      "request error\n",
      "step: 937\n",
      "request error\n",
      "step: 938\n",
      "request error\n",
      "step: 939\n",
      "request error\n",
      "step: 940\n"
     ]
    },
    {
     "name": "stderr",
     "output_type": "stream",
     "text": [
      " 28%|██▊       | 944/3361 [12:29<31:59,  1.26it/s]"
     ]
    },
    {
     "name": "stdout",
     "output_type": "stream",
     "text": [
      "request error\n",
      "step: 941\n",
      "request error\n",
      "step: 942\n",
      "request error\n",
      "step: 943\n",
      "request error\n",
      "step: 944\n",
      "request error\n",
      "step: 945\n"
     ]
    },
    {
     "name": "stderr",
     "output_type": "stream",
     "text": [
      " 28%|██▊       | 950/3361 [12:30<31:43,  1.27it/s]"
     ]
    },
    {
     "name": "stdout",
     "output_type": "stream",
     "text": [
      "request error\n",
      "step: 946\n",
      "request error\n",
      "step: 947\n",
      "request error\n",
      "step: 948\n",
      "request error\n",
      "step: 949\n",
      "request error\n",
      "step: 950\n"
     ]
    },
    {
     "name": "stderr",
     "output_type": "stream",
     "text": [
      " 28%|██▊       | 956/3361 [12:31<31:30,  1.27it/s]"
     ]
    },
    {
     "name": "stdout",
     "output_type": "stream",
     "text": [
      "request error\n",
      "step: 951\n",
      "request error\n",
      "step: 952\n",
      "request error\n",
      "step: 953\n",
      "request error\n",
      "step: 954\n",
      "request error\n",
      "step: 955\n",
      "request error\n",
      "step: 956\n"
     ]
    },
    {
     "name": "stderr",
     "output_type": "stream",
     "text": [
      "\r",
      " 29%|██▊       | 959/3361 [12:31<31:22,  1.28it/s]"
     ]
    },
    {
     "name": "stdout",
     "output_type": "stream",
     "text": [
      "request error\n",
      "step: 957\n",
      "request error\n",
      "step: 958\n",
      "request error\n",
      "step: 959\n",
      "request error\n",
      "step: 960\n"
     ]
    },
    {
     "name": "stderr",
     "output_type": "stream",
     "text": [
      " 29%|██▊       | 965/3361 [12:32<31:08,  1.28it/s]"
     ]
    },
    {
     "name": "stdout",
     "output_type": "stream",
     "text": [
      "request error\n",
      "step: 961\n",
      "request error\n",
      "step: 962\n",
      "request error\n",
      "step: 963\n",
      "request error\n",
      "step: 964\n",
      "request error\n",
      "step: 965\n"
     ]
    },
    {
     "name": "stderr",
     "output_type": "stream",
     "text": [
      "\r",
      " 29%|██▉       | 968/3361 [12:32<31:00,  1.29it/s]"
     ]
    },
    {
     "name": "stdout",
     "output_type": "stream",
     "text": [
      "request error\n",
      "step: 966\n",
      "request error\n",
      "step: 967\n",
      "request error\n",
      "step: 968\n",
      "request error\n",
      "step: 969\n",
      "request error\n",
      "step: 970\n"
     ]
    },
    {
     "name": "stderr",
     "output_type": "stream",
     "text": [
      " 29%|██▉       | 977/3361 [12:34<30:40,  1.30it/s]"
     ]
    },
    {
     "name": "stdout",
     "output_type": "stream",
     "text": [
      "request error\n",
      "step: 971\n",
      "request error\n",
      "step: 972\n",
      "request error\n",
      "step: 973\n",
      "request error\n",
      "step: 974\n",
      "request error\n",
      "step: 975\n",
      "request error\n",
      "step: 976\n"
     ]
    },
    {
     "name": "stderr",
     "output_type": "stream",
     "text": [
      "\r",
      " 29%|██▉       | 980/3361 [12:34<30:32,  1.30it/s]"
     ]
    },
    {
     "name": "stdout",
     "output_type": "stream",
     "text": [
      "request error\n",
      "step: 977\n",
      "request error\n",
      "step: 978\n",
      "request error\n",
      "step: 979\n",
      "request error\n",
      "step: 980\n"
     ]
    },
    {
     "name": "stderr",
     "output_type": "stream",
     "text": [
      " 29%|██▉       | 986/3361 [12:35<30:19,  1.31it/s]"
     ]
    },
    {
     "name": "stdout",
     "output_type": "stream",
     "text": [
      "request error\n",
      "step: 981\n",
      "request error\n",
      "step: 982\n",
      "request error\n",
      "step: 983\n",
      "request error\n",
      "step: 984\n",
      "request error\n",
      "step: 985\n",
      "request error\n",
      "step: 986\n"
     ]
    },
    {
     "name": "stderr",
     "output_type": "stream",
     "text": [
      "\r",
      " 29%|██▉       | 989/3361 [12:35<30:12,  1.31it/s]"
     ]
    },
    {
     "name": "stdout",
     "output_type": "stream",
     "text": [
      "request error\n",
      "step: 987\n",
      "request error\n",
      "step: 988\n",
      "request error\n",
      "step: 989\n",
      "request error\n",
      "step: 990\n"
     ]
    },
    {
     "name": "stderr",
     "output_type": "stream",
     "text": [
      " 30%|██▉       | 995/3361 [12:36<29:59,  1.31it/s]"
     ]
    },
    {
     "name": "stdout",
     "output_type": "stream",
     "text": [
      "request error\n",
      "step: 991\n",
      "request error\n",
      "step: 992\n",
      "request error\n",
      "step: 993\n",
      "request error\n",
      "step: 994\n",
      "request error\n",
      "step: 995\n"
     ]
    },
    {
     "name": "stderr",
     "output_type": "stream",
     "text": [
      "\r",
      " 30%|██▉       | 998/3361 [12:37<29:52,  1.32it/s]"
     ]
    },
    {
     "name": "stdout",
     "output_type": "stream",
     "text": [
      "request error\n",
      "step: 996\n",
      "request error\n",
      "step: 997\n",
      "request error\n",
      "step: 998\n",
      "request error\n",
      "step: 999\n",
      "request error\n",
      "step: 1000\n"
     ]
    },
    {
     "name": "stderr",
     "output_type": "stream",
     "text": [
      " 30%|██▉       | 1004/3361 [12:38<29:40,  1.32it/s]"
     ]
    },
    {
     "name": "stdout",
     "output_type": "stream",
     "text": [
      "request error\n",
      "step: 1001\n",
      "request error\n",
      "step: 1002\n",
      "request error\n",
      "step: 1003\n",
      "request error\n",
      "step: 1004\n",
      "request error\n",
      "step: 1005\n"
     ]
    },
    {
     "name": "stderr",
     "output_type": "stream",
     "text": [
      " 30%|███       | 1010/3361 [12:38<29:25,  1.33it/s]"
     ]
    },
    {
     "name": "stdout",
     "output_type": "stream",
     "text": [
      "request error\n",
      "step: 1006\n",
      "request error\n",
      "step: 1007\n",
      "request error\n",
      "step: 1008\n",
      "request error\n",
      "step: 1009\n",
      "request error\n",
      "step: 1010\n"
     ]
    },
    {
     "name": "stderr",
     "output_type": "stream",
     "text": [
      " 30%|███       | 1016/3361 [12:39<29:13,  1.34it/s]"
     ]
    },
    {
     "name": "stdout",
     "output_type": "stream",
     "text": [
      "request error\n",
      "step: 1011\n",
      "request error\n",
      "step: 1012\n",
      "request error\n",
      "step: 1013\n",
      "request error\n",
      "step: 1014\n",
      "request error\n",
      "step: 1015\n",
      "request error\n",
      "step: 1016\n"
     ]
    },
    {
     "name": "stderr",
     "output_type": "stream",
     "text": [
      "\r",
      " 30%|███       | 1019/3361 [12:39<29:06,  1.34it/s]"
     ]
    },
    {
     "name": "stdout",
     "output_type": "stream",
     "text": [
      "request error\n",
      "step: 1017\n",
      "request error\n",
      "step: 1018\n",
      "request error\n",
      "step: 1019\n",
      "request error\n",
      "step: 1020\n"
     ]
    },
    {
     "name": "stderr",
     "output_type": "stream",
     "text": [
      " 30%|███       | 1025/3361 [12:41<28:54,  1.35it/s]"
     ]
    },
    {
     "name": "stdout",
     "output_type": "stream",
     "text": [
      "request error\n",
      "step: 1021\n",
      "request error\n",
      "step: 1022\n",
      "request error\n",
      "step: 1023\n",
      "request error\n",
      "step: 1024\n",
      "request error\n",
      "step: 1025\n",
      "request error\n",
      "step: 1026\n"
     ]
    },
    {
     "name": "stderr",
     "output_type": "stream",
     "text": [
      "\r",
      " 31%|███       | 1028/3361 [12:41<28:47,  1.35it/s]"
     ]
    },
    {
     "name": "stdout",
     "output_type": "stream",
     "text": [
      "request error\n",
      "step: 1027\n",
      "request error\n",
      "step: 1028\n",
      "request error\n",
      "step: 1029\n",
      "request error\n",
      "step: 1030\n"
     ]
    },
    {
     "name": "stderr",
     "output_type": "stream",
     "text": [
      " 31%|███       | 1037/3361 [12:42<28:28,  1.36it/s]"
     ]
    },
    {
     "name": "stdout",
     "output_type": "stream",
     "text": [
      "request error\n",
      "step: 1031\n",
      "request error\n",
      "step: 1032\n",
      "request error\n",
      "step: 1033\n",
      "request error\n",
      "step: 1034\n",
      "request error\n",
      "step: 1035\n",
      "request error\n",
      "step: 1036\n"
     ]
    },
    {
     "name": "stderr",
     "output_type": "stream",
     "text": [
      "\r",
      " 31%|███       | 1040/3361 [12:42<28:22,  1.36it/s]"
     ]
    },
    {
     "name": "stdout",
     "output_type": "stream",
     "text": [
      "request error\n",
      "step: 1037\n",
      "request error\n",
      "step: 1038\n",
      "request error\n",
      "step: 1039\n",
      "request error\n",
      "step: 1040\n"
     ]
    },
    {
     "name": "stderr",
     "output_type": "stream",
     "text": [
      " 31%|███       | 1046/3361 [12:43<28:10,  1.37it/s]"
     ]
    },
    {
     "name": "stdout",
     "output_type": "stream",
     "text": [
      "request error\n",
      "step: 1041\n",
      "request error\n",
      "step: 1042\n",
      "request error\n",
      "step: 1043\n",
      "request error\n",
      "step: 1044\n",
      "request error\n",
      "step: 1045\n",
      "request error\n",
      "step: 1046\n"
     ]
    },
    {
     "name": "stderr",
     "output_type": "stream",
     "text": [
      "\r",
      " 31%|███       | 1049/3361 [12:44<28:03,  1.37it/s]"
     ]
    },
    {
     "name": "stdout",
     "output_type": "stream",
     "text": [
      "request error\n",
      "step: 1047\n",
      "request error\n",
      "step: 1048\n",
      "request error\n",
      "step: 1049\n",
      "request error\n",
      "step: 1050\n"
     ]
    },
    {
     "name": "stderr",
     "output_type": "stream",
     "text": [
      " 31%|███▏      | 1055/3361 [12:45<27:52,  1.38it/s]"
     ]
    },
    {
     "name": "stdout",
     "output_type": "stream",
     "text": [
      "request error\n",
      "step: 1051\n",
      "request error\n",
      "step: 1052\n",
      "request error\n",
      "step: 1053\n",
      "request error\n",
      "step: 1054\n",
      "request error\n",
      "step: 1055\n"
     ]
    },
    {
     "name": "stderr",
     "output_type": "stream",
     "text": [
      "\r",
      " 31%|███▏      | 1058/3361 [12:45<27:46,  1.38it/s]"
     ]
    },
    {
     "name": "stdout",
     "output_type": "stream",
     "text": [
      "request error\n",
      "step: 1056\n",
      "request error\n",
      "step: 1057\n",
      "request error\n",
      "step: 1058\n",
      "request error\n",
      "step: 1059\n",
      "request error\n",
      "step: 1060\n"
     ]
    },
    {
     "name": "stderr",
     "output_type": "stream",
     "text": [
      " 32%|███▏      | 1067/3361 [12:46<27:28,  1.39it/s]"
     ]
    },
    {
     "name": "stdout",
     "output_type": "stream",
     "text": [
      "request error\n",
      "step: 1061\n",
      "request error\n",
      "step: 1062\n",
      "request error\n",
      "step: 1063\n",
      "request error\n",
      "step: 1064\n",
      "request error\n",
      "step: 1065\n",
      "request error\n",
      "step: 1066\n"
     ]
    },
    {
     "name": "stderr",
     "output_type": "stream",
     "text": [
      "\r",
      " 32%|███▏      | 1070/3361 [12:46<27:22,  1.40it/s]"
     ]
    },
    {
     "name": "stdout",
     "output_type": "stream",
     "text": [
      "request error\n",
      "step: 1067\n",
      "request error\n",
      "step: 1068\n",
      "request error\n",
      "step: 1069\n",
      "request error\n",
      "step: 1070\n"
     ]
    },
    {
     "name": "stderr",
     "output_type": "stream",
     "text": [
      " 32%|███▏      | 1076/3361 [12:48<27:11,  1.40it/s]"
     ]
    },
    {
     "name": "stdout",
     "output_type": "stream",
     "text": [
      "request error\n",
      "step: 1071\n",
      "request error\n",
      "step: 1072\n",
      "request error\n",
      "step: 1073\n",
      "request error\n",
      "step: 1074\n",
      "request error\n",
      "step: 1075\n"
     ]
    },
    {
     "name": "stderr",
     "output_type": "stream",
     "text": [
      "\r",
      " 32%|███▏      | 1079/3361 [12:48<27:04,  1.40it/s]"
     ]
    },
    {
     "name": "stdout",
     "output_type": "stream",
     "text": [
      "request error\n",
      "step: 1076\n",
      "request error\n",
      "step: 1077\n",
      "request error\n",
      "step: 1078\n",
      "request error\n",
      "step: 1079\n",
      "request error\n",
      "step: 1080\n"
     ]
    },
    {
     "name": "stderr",
     "output_type": "stream",
     "text": [
      " 32%|███▏      | 1085/3361 [12:49<26:54,  1.41it/s]"
     ]
    },
    {
     "name": "stdout",
     "output_type": "stream",
     "text": [
      "request error\n",
      "step: 1081\n",
      "request error\n",
      "step: 1082\n",
      "request error\n",
      "step: 1083\n",
      "request error\n",
      "step: 1084\n",
      "request error\n",
      "step: 1085\n",
      "request error\n",
      "step: 1086\n"
     ]
    },
    {
     "name": "stderr",
     "output_type": "stream",
     "text": [
      "\r",
      " 32%|███▏      | 1088/3361 [12:49<26:47,  1.41it/s]"
     ]
    },
    {
     "name": "stdout",
     "output_type": "stream",
     "text": [
      "request error\n",
      "step: 1087\n",
      "request error\n",
      "step: 1088\n",
      "request error\n",
      "step: 1089\n",
      "request error\n",
      "step: 1090\n"
     ]
    },
    {
     "name": "stderr",
     "output_type": "stream",
     "text": [
      " 33%|███▎      | 1097/3361 [12:50<26:31,  1.42it/s]"
     ]
    },
    {
     "name": "stdout",
     "output_type": "stream",
     "text": [
      "request error\n",
      "step: 1091\n",
      "request error\n",
      "step: 1092\n",
      "request error\n",
      "step: 1093\n",
      "request error\n",
      "step: 1094\n",
      "request error\n",
      "step: 1095\n",
      "request error\n",
      "step: 1096\n"
     ]
    },
    {
     "name": "stderr",
     "output_type": "stream",
     "text": [
      "\r",
      " 33%|███▎      | 1100/3361 [12:51<26:24,  1.43it/s]"
     ]
    },
    {
     "name": "stdout",
     "output_type": "stream",
     "text": [
      "request error\n",
      "step: 1097\n",
      "request error\n",
      "step: 1098\n",
      "request error\n",
      "step: 1099\n",
      "request error\n",
      "step: 1100\n"
     ]
    },
    {
     "name": "stderr",
     "output_type": "stream",
     "text": [
      " 33%|███▎      | 1106/3361 [12:52<26:14,  1.43it/s]"
     ]
    },
    {
     "name": "stdout",
     "output_type": "stream",
     "text": [
      "request error\n",
      "step: 1101\n",
      "request error\n",
      "step: 1102\n",
      "request error\n",
      "step: 1103\n",
      "request error\n",
      "step: 1104\n",
      "request error\n",
      "step: 1105\n",
      "request error\n",
      "step: 1106\n"
     ]
    },
    {
     "name": "stderr",
     "output_type": "stream",
     "text": [
      "\r",
      " 33%|███▎      | 1109/3361 [12:52<26:08,  1.44it/s]"
     ]
    },
    {
     "name": "stdout",
     "output_type": "stream",
     "text": [
      "request error\n",
      "step: 1107\n",
      "request error\n",
      "step: 1108\n",
      "request error\n",
      "step: 1109\n",
      "request error\n",
      "step: 1110\n"
     ]
    },
    {
     "name": "stderr",
     "output_type": "stream",
     "text": [
      " 33%|███▎      | 1115/3361 [12:53<25:58,  1.44it/s]"
     ]
    },
    {
     "name": "stdout",
     "output_type": "stream",
     "text": [
      "request error\n",
      "step: 1111\n",
      "request error\n",
      "step: 1112\n",
      "request error\n",
      "step: 1113\n",
      "request error\n",
      "step: 1114\n",
      "request error\n",
      "step: 1115\n",
      "request error\n",
      "step: 1116\n"
     ]
    },
    {
     "name": "stderr",
     "output_type": "stream",
     "text": [
      "\r",
      " 33%|███▎      | 1118/3361 [12:53<25:52,  1.44it/s]"
     ]
    },
    {
     "name": "stdout",
     "output_type": "stream",
     "text": [
      "request error\n",
      "step: 1117\n",
      "request error\n",
      "step: 1118\n",
      "request error\n",
      "step: 1119\n",
      "request error\n",
      "step: 1120\n"
     ]
    },
    {
     "name": "stderr",
     "output_type": "stream",
     "text": [
      " 34%|███▎      | 1127/3361 [12:55<25:36,  1.45it/s]"
     ]
    },
    {
     "name": "stdout",
     "output_type": "stream",
     "text": [
      "request error\n",
      "step: 1121\n",
      "request error\n",
      "step: 1122\n",
      "request error\n",
      "step: 1123\n",
      "request error\n",
      "step: 1124\n",
      "request error\n",
      "step: 1125\n",
      "request error\n",
      "step: 1126\n"
     ]
    },
    {
     "name": "stderr",
     "output_type": "stream",
     "text": [
      "\r",
      " 34%|███▎      | 1130/3361 [12:55<25:30,  1.46it/s]"
     ]
    },
    {
     "name": "stdout",
     "output_type": "stream",
     "text": [
      "request error\n",
      "step: 1127\n",
      "request error\n",
      "step: 1128\n",
      "request error\n",
      "step: 1129\n",
      "request error\n",
      "step: 1130\n"
     ]
    },
    {
     "name": "stderr",
     "output_type": "stream",
     "text": [
      " 34%|███▍      | 1136/3361 [12:56<25:20,  1.46it/s]"
     ]
    },
    {
     "name": "stdout",
     "output_type": "stream",
     "text": [
      "request error\n",
      "step: 1131\n",
      "request error\n",
      "step: 1132\n",
      "request error\n",
      "step: 1133\n",
      "request error\n",
      "step: 1134\n",
      "request error\n",
      "step: 1135\n",
      "request error\n",
      "step: 1136\n"
     ]
    },
    {
     "name": "stderr",
     "output_type": "stream",
     "text": [
      "\r",
      " 34%|███▍      | 1139/3361 [12:56<25:15,  1.47it/s]"
     ]
    },
    {
     "name": "stdout",
     "output_type": "stream",
     "text": [
      "request error\n",
      "step: 1137\n",
      "request error\n",
      "step: 1138\n",
      "request error\n",
      "step: 1139\n",
      "request error\n",
      "step: 1140\n"
     ]
    },
    {
     "name": "stderr",
     "output_type": "stream",
     "text": [
      " 34%|███▍      | 1145/3361 [12:57<25:05,  1.47it/s]"
     ]
    },
    {
     "name": "stdout",
     "output_type": "stream",
     "text": [
      "request error\n",
      "step: 1141\n",
      "request error\n",
      "step: 1142\n",
      "request error\n",
      "step: 1143\n",
      "request error\n",
      "step: 1144\n",
      "request error\n",
      "step: 1145\n",
      "request error\n",
      "step: 1146\n"
     ]
    },
    {
     "name": "stderr",
     "output_type": "stream",
     "text": [
      "\r",
      " 34%|███▍      | 1148/3361 [12:58<24:59,  1.48it/s]"
     ]
    },
    {
     "name": "stdout",
     "output_type": "stream",
     "text": [
      "request error\n",
      "step: 1147\n",
      "request error\n",
      "step: 1148\n",
      "request error\n",
      "step: 1149\n",
      "request error\n",
      "step: 1150\n"
     ]
    },
    {
     "name": "stderr",
     "output_type": "stream",
     "text": [
      " 34%|███▍      | 1157/3361 [12:59<24:44,  1.48it/s]"
     ]
    },
    {
     "name": "stdout",
     "output_type": "stream",
     "text": [
      "request error\n",
      "step: 1151\n",
      "request error\n",
      "step: 1152\n",
      "request error\n",
      "step: 1153\n",
      "request error\n",
      "step: 1154\n",
      "request error\n",
      "step: 1155\n",
      "request error\n",
      "step: 1156\n"
     ]
    },
    {
     "name": "stderr",
     "output_type": "stream",
     "text": [
      "\r",
      " 35%|███▍      | 1160/3361 [12:59<24:39,  1.49it/s]"
     ]
    },
    {
     "name": "stdout",
     "output_type": "stream",
     "text": [
      "request error\n",
      "step: 1157\n",
      "request error\n",
      "step: 1158\n",
      "request error\n",
      "step: 1159\n",
      "request error\n",
      "step: 1160\n"
     ]
    },
    {
     "name": "stderr",
     "output_type": "stream",
     "text": [
      " 35%|███▍      | 1166/3361 [13:00<24:29,  1.49it/s]"
     ]
    },
    {
     "name": "stdout",
     "output_type": "stream",
     "text": [
      "request error\n",
      "step: 1161\n",
      "request error\n",
      "step: 1162\n",
      "request error\n",
      "step: 1163\n",
      "request error\n",
      "step: 1164\n",
      "request error\n",
      "step: 1165\n",
      "request error\n",
      "step: 1166\n"
     ]
    },
    {
     "name": "stderr",
     "output_type": "stream",
     "text": [
      "\r",
      " 35%|███▍      | 1169/3361 [13:00<24:24,  1.50it/s]"
     ]
    },
    {
     "name": "stdout",
     "output_type": "stream",
     "text": [
      "request error\n",
      "step: 1167\n",
      "request error\n",
      "step: 1168\n",
      "request error\n",
      "step: 1169\n",
      "request error\n",
      "step: 1170\n"
     ]
    },
    {
     "name": "stderr",
     "output_type": "stream",
     "text": [
      " 35%|███▍      | 1175/3361 [13:02<24:15,  1.50it/s]"
     ]
    },
    {
     "name": "stdout",
     "output_type": "stream",
     "text": [
      "request error\n",
      "step: 1171\n",
      "request error\n",
      "step: 1172\n",
      "request error\n",
      "step: 1173\n",
      "request error\n",
      "step: 1174\n",
      "request error\n",
      "step: 1175\n",
      "request error\n",
      "step: 1176\n"
     ]
    },
    {
     "name": "stderr",
     "output_type": "stream",
     "text": [
      "\r",
      " 35%|███▌      | 1178/3361 [13:02<24:09,  1.51it/s]"
     ]
    },
    {
     "name": "stdout",
     "output_type": "stream",
     "text": [
      "request error\n",
      "step: 1177\n",
      "request error\n",
      "step: 1178\n",
      "request error\n",
      "step: 1179\n",
      "request error\n",
      "step: 1180\n"
     ]
    },
    {
     "name": "stderr",
     "output_type": "stream",
     "text": [
      " 35%|███▌      | 1187/3361 [13:03<23:55,  1.51it/s]"
     ]
    },
    {
     "name": "stdout",
     "output_type": "stream",
     "text": [
      "request error\n",
      "step: 1181\n",
      "request error\n",
      "step: 1182\n",
      "request error\n",
      "step: 1183\n",
      "request error\n",
      "step: 1184\n",
      "request error\n",
      "step: 1185\n",
      "request error\n",
      "step: 1186\n"
     ]
    },
    {
     "name": "stderr",
     "output_type": "stream",
     "text": [
      "\r",
      " 35%|███▌      | 1190/3361 [13:03<23:49,  1.52it/s]"
     ]
    },
    {
     "name": "stdout",
     "output_type": "stream",
     "text": [
      "request error\n",
      "step: 1187\n",
      "request error\n",
      "step: 1188\n",
      "request error\n",
      "step: 1189\n",
      "request error\n",
      "step: 1190\n"
     ]
    },
    {
     "name": "stderr",
     "output_type": "stream",
     "text": [
      " 36%|███▌      | 1196/3361 [13:04<23:40,  1.52it/s]"
     ]
    },
    {
     "name": "stdout",
     "output_type": "stream",
     "text": [
      "request error\n",
      "step: 1191\n",
      "request error\n",
      "step: 1192\n",
      "request error\n",
      "step: 1193\n",
      "request error\n",
      "step: 1194\n",
      "request error\n",
      "step: 1195\n",
      "request error\n",
      "step: 1196\n"
     ]
    },
    {
     "name": "stderr",
     "output_type": "stream",
     "text": [
      "\r",
      " 36%|███▌      | 1199/3361 [13:05<23:35,  1.53it/s]"
     ]
    },
    {
     "name": "stdout",
     "output_type": "stream",
     "text": [
      "request error\n",
      "step: 1197\n",
      "request error\n",
      "step: 1198\n",
      "request error\n",
      "step: 1199\n",
      "request error\n",
      "step: 1200\n"
     ]
    },
    {
     "name": "stderr",
     "output_type": "stream",
     "text": [
      " 36%|███▌      | 1205/3361 [13:06<23:26,  1.53it/s]"
     ]
    },
    {
     "name": "stdout",
     "output_type": "stream",
     "text": [
      "request error\n",
      "step: 1201\n",
      "request error\n",
      "step: 1202\n",
      "request error\n",
      "step: 1203\n",
      "request error\n",
      "step: 1204\n",
      "request error\n",
      "step: 1205\n",
      "request error\n",
      "step: 1206\n"
     ]
    },
    {
     "name": "stderr",
     "output_type": "stream",
     "text": [
      "\r",
      " 36%|███▌      | 1208/3361 [13:06<23:21,  1.54it/s]"
     ]
    },
    {
     "name": "stdout",
     "output_type": "stream",
     "text": [
      "request error\n",
      "step: 1207\n",
      "request error\n",
      "step: 1208\n",
      "request error\n",
      "step: 1209\n",
      "request error\n",
      "step: 1210\n"
     ]
    },
    {
     "name": "stderr",
     "output_type": "stream",
     "text": [
      " 36%|███▌      | 1217/3361 [13:07<23:07,  1.54it/s]"
     ]
    },
    {
     "name": "stdout",
     "output_type": "stream",
     "text": [
      "request error\n",
      "step: 1211\n",
      "request error\n",
      "step: 1212\n",
      "request error\n",
      "step: 1213\n",
      "request error\n",
      "step: 1214\n",
      "request error\n",
      "step: 1215\n",
      "request error\n",
      "step: 1216\n"
     ]
    },
    {
     "name": "stderr",
     "output_type": "stream",
     "text": [
      "\r",
      " 36%|███▋      | 1220/3361 [13:07<23:02,  1.55it/s]"
     ]
    },
    {
     "name": "stdout",
     "output_type": "stream",
     "text": [
      "request error\n",
      "step: 1217\n",
      "request error\n",
      "step: 1218\n",
      "request error\n",
      "step: 1219\n",
      "request error\n",
      "step: 1220\n"
     ]
    },
    {
     "name": "stderr",
     "output_type": "stream",
     "text": [
      " 36%|███▋      | 1226/3361 [13:09<22:54,  1.55it/s]"
     ]
    },
    {
     "name": "stdout",
     "output_type": "stream",
     "text": [
      "request error\n",
      "step: 1221\n",
      "request error\n",
      "step: 1222\n",
      "request error\n",
      "step: 1223\n",
      "request error\n",
      "step: 1224\n",
      "request error\n",
      "step: 1225\n",
      "request error\n",
      "step: 1226\n"
     ]
    },
    {
     "name": "stderr",
     "output_type": "stream",
     "text": [
      "\r",
      " 37%|███▋      | 1229/3361 [13:09<22:48,  1.56it/s]"
     ]
    },
    {
     "name": "stdout",
     "output_type": "stream",
     "text": [
      "request error\n",
      "step: 1227\n",
      "request error\n",
      "step: 1228\n",
      "request error\n",
      "step: 1229\n",
      "request error\n",
      "step: 1230\n"
     ]
    },
    {
     "name": "stderr",
     "output_type": "stream",
     "text": [
      " 37%|███▋      | 1235/3361 [13:10<22:40,  1.56it/s]"
     ]
    },
    {
     "name": "stdout",
     "output_type": "stream",
     "text": [
      "request error\n",
      "step: 1231\n",
      "request error\n",
      "step: 1232\n",
      "request error\n",
      "step: 1233\n",
      "request error\n",
      "step: 1234\n",
      "request error\n",
      "step: 1235\n",
      "request error\n",
      "step: 1236\n"
     ]
    },
    {
     "name": "stderr",
     "output_type": "stream",
     "text": [
      "\r",
      " 37%|███▋      | 1238/3361 [13:10<22:35,  1.57it/s]"
     ]
    },
    {
     "name": "stdout",
     "output_type": "stream",
     "text": [
      "request error\n",
      "step: 1237\n",
      "request error\n",
      "step: 1238\n",
      "request error\n",
      "step: 1239\n",
      "request error\n",
      "step: 1240\n"
     ]
    },
    {
     "name": "stderr",
     "output_type": "stream",
     "text": [
      " 37%|███▋      | 1247/3361 [13:11<22:22,  1.57it/s]"
     ]
    },
    {
     "name": "stdout",
     "output_type": "stream",
     "text": [
      "request error\n",
      "step: 1241\n",
      "request error\n",
      "step: 1242\n",
      "request error\n",
      "step: 1243\n",
      "request error\n",
      "step: 1244\n",
      "request error\n",
      "step: 1245\n",
      "request error\n",
      "step: 1246\n"
     ]
    },
    {
     "name": "stderr",
     "output_type": "stream",
     "text": [
      "\r",
      " 37%|███▋      | 1250/3361 [13:11<22:17,  1.58it/s]"
     ]
    },
    {
     "name": "stdout",
     "output_type": "stream",
     "text": [
      "request error\n",
      "step: 1247\n",
      "request error\n",
      "step: 1248\n",
      "request error\n",
      "step: 1249\n",
      "request error\n",
      "step: 1250\n"
     ]
    },
    {
     "name": "stderr",
     "output_type": "stream",
     "text": [
      " 37%|███▋      | 1256/3361 [13:13<22:09,  1.58it/s]"
     ]
    },
    {
     "name": "stdout",
     "output_type": "stream",
     "text": [
      "request error\n",
      "step: 1251\n",
      "request error\n",
      "step: 1252\n",
      "request error\n",
      "step: 1253\n",
      "request error\n",
      "step: 1254\n",
      "request error\n",
      "step: 1255\n",
      "request error\n",
      "step: 1256\n"
     ]
    },
    {
     "name": "stderr",
     "output_type": "stream",
     "text": [
      "\r",
      " 37%|███▋      | 1259/3361 [13:13<22:04,  1.59it/s]"
     ]
    },
    {
     "name": "stdout",
     "output_type": "stream",
     "text": [
      "request error\n",
      "step: 1257\n",
      "request error\n",
      "step: 1258\n",
      "request error\n",
      "step: 1259\n",
      "request error\n",
      "step: 1260\n"
     ]
    },
    {
     "name": "stderr",
     "output_type": "stream",
     "text": [
      " 38%|███▊      | 1265/3361 [13:14<21:56,  1.59it/s]"
     ]
    },
    {
     "name": "stdout",
     "output_type": "stream",
     "text": [
      "request error\n",
      "step: 1261\n",
      "request error\n",
      "step: 1262\n",
      "request error\n",
      "step: 1263\n",
      "request error\n",
      "step: 1264\n",
      "request error\n",
      "step: 1265\n",
      "request error\n",
      "step: 1266\n"
     ]
    },
    {
     "name": "stderr",
     "output_type": "stream",
     "text": [
      "\r",
      " 38%|███▊      | 1268/3361 [13:14<21:51,  1.60it/s]"
     ]
    },
    {
     "name": "stdout",
     "output_type": "stream",
     "text": [
      "request error\n",
      "step: 1267\n",
      "request error\n",
      "step: 1268\n",
      "request error\n",
      "step: 1269\n",
      "request error\n",
      "step: 1270\n"
     ]
    },
    {
     "name": "stderr",
     "output_type": "stream",
     "text": [
      " 38%|███▊      | 1277/3361 [13:16<21:39,  1.60it/s]"
     ]
    },
    {
     "name": "stdout",
     "output_type": "stream",
     "text": [
      "request error\n",
      "step: 1271\n",
      "request error\n",
      "step: 1272\n",
      "request error\n",
      "step: 1273\n",
      "request error\n",
      "step: 1274\n",
      "request error\n",
      "step: 1275\n",
      "request error\n",
      "step: 1276\n"
     ]
    },
    {
     "name": "stderr",
     "output_type": "stream",
     "text": [
      "\r",
      " 38%|███▊      | 1280/3361 [13:16<21:34,  1.61it/s]"
     ]
    },
    {
     "name": "stdout",
     "output_type": "stream",
     "text": [
      "request error\n",
      "step: 1277\n",
      "request error\n",
      "step: 1278\n",
      "request error\n",
      "step: 1279\n",
      "request error\n",
      "step: 1280\n"
     ]
    },
    {
     "name": "stderr",
     "output_type": "stream",
     "text": [
      " 38%|███▊      | 1286/3361 [13:17<21:26,  1.61it/s]"
     ]
    },
    {
     "name": "stdout",
     "output_type": "stream",
     "text": [
      "request error\n",
      "step: 1281\n",
      "request error\n",
      "step: 1282\n",
      "request error\n",
      "step: 1283\n",
      "request error\n",
      "step: 1284\n",
      "request error\n",
      "step: 1285\n"
     ]
    },
    {
     "name": "stderr",
     "output_type": "stream",
     "text": [
      "\r",
      " 38%|███▊      | 1289/3361 [13:17<21:22,  1.62it/s]"
     ]
    },
    {
     "name": "stdout",
     "output_type": "stream",
     "text": [
      "request error\n",
      "step: 1286\n",
      "request error\n",
      "step: 1287\n",
      "request error\n",
      "step: 1288\n",
      "request error\n",
      "step: 1289\n",
      "request error\n",
      "step: 1290\n"
     ]
    },
    {
     "name": "stderr",
     "output_type": "stream",
     "text": [
      " 39%|███▊      | 1297/3361 [13:18<21:11,  1.62it/s]"
     ]
    },
    {
     "name": "stdout",
     "output_type": "stream",
     "text": [
      "request error\n",
      "step: 1291\n",
      "request error\n",
      "step: 1292\n",
      "request error\n",
      "step: 1293\n",
      "request error\n",
      "step: 1294\n",
      "request error\n",
      "step: 1295\n",
      "request error\n",
      "step: 1296\n"
     ]
    },
    {
     "name": "stderr",
     "output_type": "stream",
     "text": [
      "\r",
      " 39%|███▊      | 1300/3361 [13:18<21:06,  1.63it/s]"
     ]
    },
    {
     "name": "stdout",
     "output_type": "stream",
     "text": [
      "request error\n",
      "step: 1297\n",
      "request error\n",
      "step: 1298\n",
      "request error\n",
      "step: 1299\n",
      "request error\n",
      "step: 1300\n"
     ]
    },
    {
     "name": "stderr",
     "output_type": "stream",
     "text": [
      " 39%|███▉      | 1306/3361 [13:20<20:59,  1.63it/s]"
     ]
    },
    {
     "name": "stdout",
     "output_type": "stream",
     "text": [
      "request error\n",
      "step: 1301\n",
      "request error\n",
      "step: 1302\n",
      "request error\n",
      "step: 1303\n",
      "request error\n",
      "step: 1304\n",
      "request error\n",
      "step: 1305\n"
     ]
    },
    {
     "name": "stderr",
     "output_type": "stream",
     "text": [
      "\r",
      " 39%|███▉      | 1309/3361 [13:20<20:54,  1.64it/s]"
     ]
    },
    {
     "name": "stdout",
     "output_type": "stream",
     "text": [
      "request error\n",
      "step: 1306\n",
      "request error\n",
      "step: 1307\n",
      "request error\n",
      "step: 1308\n",
      "request error\n",
      "step: 1309\n",
      "request error\n",
      "step: 1310\n"
     ]
    },
    {
     "name": "stderr",
     "output_type": "stream",
     "text": [
      " 39%|███▉      | 1315/3361 [13:21<20:47,  1.64it/s]"
     ]
    },
    {
     "name": "stdout",
     "output_type": "stream",
     "text": [
      "request error\n",
      "step: 1311\n",
      "request error\n",
      "step: 1312\n",
      "request error\n",
      "step: 1313\n",
      "request error\n",
      "step: 1314\n",
      "request error\n",
      "step: 1315\n",
      "request error\n",
      "step: 1316\n"
     ]
    },
    {
     "name": "stderr",
     "output_type": "stream",
     "text": [
      "\r",
      " 39%|███▉      | 1318/3361 [13:21<20:42,  1.64it/s]"
     ]
    },
    {
     "name": "stdout",
     "output_type": "stream",
     "text": [
      "request error\n",
      "step: 1317\n",
      "request error\n",
      "step: 1318\n",
      "request error\n",
      "step: 1319\n",
      "request error\n",
      "step: 1320\n"
     ]
    },
    {
     "name": "stderr",
     "output_type": "stream",
     "text": [
      " 39%|███▉      | 1327/3361 [13:23<20:30,  1.65it/s]"
     ]
    },
    {
     "name": "stdout",
     "output_type": "stream",
     "text": [
      "request error\n",
      "step: 1321\n",
      "request error\n",
      "step: 1322\n",
      "request error\n",
      "step: 1323\n",
      "request error\n",
      "step: 1324\n",
      "request error\n",
      "step: 1325\n",
      "request error\n",
      "step: 1326\n"
     ]
    },
    {
     "name": "stderr",
     "output_type": "stream",
     "text": [
      "\r",
      " 40%|███▉      | 1330/3361 [13:23<20:26,  1.66it/s]"
     ]
    },
    {
     "name": "stdout",
     "output_type": "stream",
     "text": [
      "request error\n",
      "step: 1327\n",
      "request error\n",
      "step: 1328\n",
      "request error\n",
      "step: 1329\n",
      "request error\n",
      "step: 1330\n"
     ]
    },
    {
     "name": "stderr",
     "output_type": "stream",
     "text": [
      " 40%|███▉      | 1336/3361 [13:24<20:19,  1.66it/s]"
     ]
    },
    {
     "name": "stdout",
     "output_type": "stream",
     "text": [
      "request error\n",
      "step: 1331\n",
      "request error\n",
      "step: 1332\n",
      "request error\n",
      "step: 1333\n",
      "request error\n",
      "step: 1334\n",
      "request error\n",
      "step: 1335\n",
      "request error\n",
      "step: 1336\n"
     ]
    },
    {
     "name": "stderr",
     "output_type": "stream",
     "text": [
      "\r",
      " 40%|███▉      | 1339/3361 [13:24<20:15,  1.66it/s]"
     ]
    },
    {
     "name": "stdout",
     "output_type": "stream",
     "text": [
      "request error\n",
      "step: 1337\n",
      "request error\n",
      "step: 1338\n",
      "request error\n",
      "step: 1339\n",
      "request error\n",
      "step: 1340\n"
     ]
    },
    {
     "name": "stderr",
     "output_type": "stream",
     "text": [
      " 40%|████      | 1345/3361 [13:25<20:07,  1.67it/s]"
     ]
    },
    {
     "name": "stdout",
     "output_type": "stream",
     "text": [
      "request error\n",
      "step: 1341\n",
      "request error\n",
      "step: 1342\n",
      "request error\n",
      "step: 1343\n",
      "request error\n",
      "step: 1344\n",
      "request error\n",
      "step: 1345\n",
      "request error\n",
      "step: 1346\n"
     ]
    },
    {
     "name": "stderr",
     "output_type": "stream",
     "text": [
      "\r",
      " 40%|████      | 1348/3361 [13:25<20:03,  1.67it/s]"
     ]
    },
    {
     "name": "stdout",
     "output_type": "stream",
     "text": [
      "request error\n",
      "step: 1347\n",
      "request error\n",
      "step: 1348\n",
      "request error\n",
      "step: 1349\n",
      "request error\n",
      "step: 1350\n"
     ]
    },
    {
     "name": "stderr",
     "output_type": "stream",
     "text": [
      " 40%|████      | 1354/3361 [13:27<19:56,  1.68it/s]"
     ]
    },
    {
     "name": "stdout",
     "output_type": "stream",
     "text": [
      "request error\n",
      "step: 1351\n",
      "request error\n",
      "step: 1352\n",
      "request error\n",
      "step: 1353\n",
      "request error\n",
      "step: 1354\n",
      "request error\n",
      "step: 1355\n"
     ]
    },
    {
     "name": "stderr",
     "output_type": "stream",
     "text": [
      " 40%|████      | 1360/3361 [13:27<19:48,  1.68it/s]"
     ]
    },
    {
     "name": "stdout",
     "output_type": "stream",
     "text": [
      "request error\n",
      "step: 1356\n",
      "request error\n",
      "step: 1357\n",
      "request error\n",
      "step: 1358\n",
      "request error\n",
      "step: 1359\n",
      "request error\n",
      "step: 1360\n"
     ]
    },
    {
     "name": "stderr",
     "output_type": "stream",
     "text": [
      " 41%|████      | 1366/3361 [13:28<19:41,  1.69it/s]"
     ]
    },
    {
     "name": "stdout",
     "output_type": "stream",
     "text": [
      "request error\n",
      "step: 1361\n",
      "request error\n",
      "step: 1362\n",
      "request error\n",
      "step: 1363\n",
      "request error\n",
      "step: 1364\n",
      "request error\n",
      "step: 1365\n"
     ]
    },
    {
     "name": "stderr",
     "output_type": "stream",
     "text": [
      "\r",
      " 41%|████      | 1369/3361 [13:28<19:36,  1.69it/s]"
     ]
    },
    {
     "name": "stdout",
     "output_type": "stream",
     "text": [
      "request error\n",
      "step: 1366\n",
      "request error\n",
      "step: 1367\n",
      "request error\n",
      "step: 1368\n",
      "request error\n",
      "step: 1369\n",
      "request error\n",
      "step: 1370\n"
     ]
    },
    {
     "name": "stderr",
     "output_type": "stream",
     "text": [
      " 41%|████      | 1374/3361 [13:30<19:31,  1.70it/s]"
     ]
    },
    {
     "name": "stdout",
     "output_type": "stream",
     "text": [
      "request error\n",
      "step: 1371\n",
      "request error\n",
      "step: 1372\n",
      "request error\n",
      "step: 1373\n",
      "request error\n",
      "step: 1374\n",
      "request error\n",
      "step: 1375\n"
     ]
    },
    {
     "name": "stderr",
     "output_type": "stream",
     "text": [
      " 41%|████      | 1380/3361 [13:30<19:23,  1.70it/s]"
     ]
    },
    {
     "name": "stdout",
     "output_type": "stream",
     "text": [
      "request error\n",
      "step: 1376\n",
      "request error\n",
      "step: 1377\n",
      "request error\n",
      "step: 1378\n",
      "request error\n",
      "step: 1379\n",
      "request error\n",
      "step: 1380\n"
     ]
    },
    {
     "name": "stderr",
     "output_type": "stream",
     "text": [
      " 41%|████      | 1386/3361 [13:31<19:16,  1.71it/s]"
     ]
    },
    {
     "name": "stdout",
     "output_type": "stream",
     "text": [
      "request error\n",
      "step: 1381\n",
      "request error\n",
      "step: 1382\n",
      "request error\n",
      "step: 1383\n",
      "request error\n",
      "step: 1384\n",
      "request error\n",
      "step: 1385\n",
      "request error\n",
      "step: 1386\n"
     ]
    },
    {
     "name": "stderr",
     "output_type": "stream",
     "text": [
      "\r",
      " 41%|████▏     | 1389/3361 [13:31<19:12,  1.71it/s]"
     ]
    },
    {
     "name": "stdout",
     "output_type": "stream",
     "text": [
      "request error\n",
      "step: 1387\n",
      "request error\n",
      "step: 1388\n",
      "request error\n",
      "step: 1389\n",
      "request error\n",
      "step: 1390\n"
     ]
    },
    {
     "name": "stderr",
     "output_type": "stream",
     "text": [
      " 42%|████▏     | 1395/3361 [13:32<19:05,  1.72it/s]"
     ]
    },
    {
     "name": "stdout",
     "output_type": "stream",
     "text": [
      "request error\n",
      "step: 1391\n",
      "request error\n",
      "step: 1392\n",
      "request error\n",
      "step: 1393\n",
      "request error\n",
      "step: 1394\n",
      "request error\n",
      "step: 1395\n"
     ]
    },
    {
     "name": "stderr",
     "output_type": "stream",
     "text": [
      "\r",
      " 42%|████▏     | 1398/3361 [13:33<19:01,  1.72it/s]"
     ]
    },
    {
     "name": "stdout",
     "output_type": "stream",
     "text": [
      "request error\n",
      "step: 1396\n",
      "request error\n",
      "step: 1397\n",
      "request error\n",
      "step: 1398\n",
      "request error\n",
      "step: 1399\n",
      "request error\n",
      "step: 1400\n"
     ]
    },
    {
     "name": "stderr",
     "output_type": "stream",
     "text": [
      " 42%|████▏     | 1407/3361 [13:34<18:51,  1.73it/s]"
     ]
    },
    {
     "name": "stdout",
     "output_type": "stream",
     "text": [
      "request error\n",
      "step: 1401\n",
      "request error\n",
      "step: 1402\n",
      "request error\n",
      "step: 1403\n",
      "request error\n",
      "step: 1404\n",
      "request error\n",
      "step: 1405\n",
      "request error\n",
      "step: 1406\n"
     ]
    },
    {
     "name": "stderr",
     "output_type": "stream",
     "text": [
      "\r",
      " 42%|████▏     | 1410/3361 [13:34<18:47,  1.73it/s]"
     ]
    },
    {
     "name": "stdout",
     "output_type": "stream",
     "text": [
      "request error\n",
      "step: 1407\n",
      "request error\n",
      "step: 1408\n",
      "request error\n",
      "step: 1409\n",
      "request error\n",
      "step: 1410\n"
     ]
    },
    {
     "name": "stderr",
     "output_type": "stream",
     "text": [
      " 42%|████▏     | 1416/3361 [13:35<18:40,  1.74it/s]"
     ]
    },
    {
     "name": "stdout",
     "output_type": "stream",
     "text": [
      "request error\n",
      "step: 1411\n",
      "request error\n",
      "step: 1412\n",
      "request error\n",
      "step: 1413\n",
      "request error\n",
      "step: 1414\n",
      "request error\n",
      "step: 1415\n",
      "request error\n",
      "step: 1416\n"
     ]
    },
    {
     "name": "stderr",
     "output_type": "stream",
     "text": [
      "\r",
      " 42%|████▏     | 1419/3361 [13:35<18:36,  1.74it/s]"
     ]
    },
    {
     "name": "stdout",
     "output_type": "stream",
     "text": [
      "request error\n",
      "step: 1417\n",
      "request error\n",
      "step: 1418\n",
      "request error\n",
      "step: 1419\n",
      "request error\n",
      "step: 1420\n"
     ]
    },
    {
     "name": "stderr",
     "output_type": "stream",
     "text": [
      " 42%|████▏     | 1425/3361 [13:37<18:30,  1.74it/s]"
     ]
    },
    {
     "name": "stdout",
     "output_type": "stream",
     "text": [
      "request error\n",
      "step: 1421\n",
      "request error\n",
      "step: 1422\n",
      "request error\n",
      "step: 1423\n",
      "request error\n",
      "step: 1424\n",
      "request error\n",
      "step: 1425\n",
      "request error\n",
      "step: 1426\n"
     ]
    },
    {
     "name": "stderr",
     "output_type": "stream",
     "text": [
      "\r",
      " 42%|████▏     | 1428/3361 [13:37<18:26,  1.75it/s]"
     ]
    },
    {
     "name": "stdout",
     "output_type": "stream",
     "text": [
      "request error\n",
      "step: 1427\n",
      "request error\n",
      "step: 1428\n",
      "request error\n",
      "step: 1429\n",
      "request error\n",
      "step: 1430\n"
     ]
    },
    {
     "name": "stderr",
     "output_type": "stream",
     "text": [
      " 43%|████▎     | 1434/3361 [13:38<18:19,  1.75it/s]"
     ]
    },
    {
     "name": "stdout",
     "output_type": "stream",
     "text": [
      "request error\n",
      "step: 1431\n",
      "request error\n",
      "step: 1432\n",
      "request error\n",
      "step: 1433\n",
      "request error\n",
      "step: 1434\n",
      "request error\n",
      "step: 1435\n"
     ]
    },
    {
     "name": "stderr",
     "output_type": "stream",
     "text": [
      " 43%|████▎     | 1440/3361 [13:38<18:12,  1.76it/s]"
     ]
    },
    {
     "name": "stdout",
     "output_type": "stream",
     "text": [
      "request error\n",
      "step: 1436\n",
      "request error\n",
      "step: 1437\n",
      "request error\n",
      "step: 1438\n",
      "request error\n",
      "step: 1439\n",
      "request error\n",
      "step: 1440\n"
     ]
    },
    {
     "name": "stderr",
     "output_type": "stream",
     "text": [
      " 43%|████▎     | 1446/3361 [13:40<18:06,  1.76it/s]"
     ]
    },
    {
     "name": "stdout",
     "output_type": "stream",
     "text": [
      "request error\n",
      "step: 1441\n",
      "request error\n",
      "step: 1442\n",
      "request error\n",
      "step: 1443\n",
      "request error\n",
      "step: 1444\n",
      "request error\n",
      "step: 1445\n",
      "request error\n",
      "step: 1446\n"
     ]
    },
    {
     "name": "stderr",
     "output_type": "stream",
     "text": [
      "\r",
      " 43%|████▎     | 1449/3361 [13:40<18:02,  1.77it/s]"
     ]
    },
    {
     "name": "stdout",
     "output_type": "stream",
     "text": [
      "request error\n",
      "step: 1447\n",
      "request error\n",
      "step: 1448\n",
      "request error\n",
      "step: 1449\n",
      "request error\n",
      "step: 1450\n"
     ]
    },
    {
     "name": "stderr",
     "output_type": "stream",
     "text": [
      " 43%|████▎     | 1455/3361 [13:41<17:56,  1.77it/s]"
     ]
    },
    {
     "name": "stdout",
     "output_type": "stream",
     "text": [
      "request error\n",
      "step: 1451\n",
      "request error\n",
      "step: 1452\n",
      "request error\n",
      "step: 1453\n",
      "request error\n",
      "step: 1454\n",
      "request error\n",
      "step: 1455\n"
     ]
    },
    {
     "name": "stderr",
     "output_type": "stream",
     "text": [
      "\r",
      " 43%|████▎     | 1458/3361 [13:41<17:52,  1.77it/s]"
     ]
    },
    {
     "name": "stdout",
     "output_type": "stream",
     "text": [
      "request error\n",
      "step: 1456\n",
      "request error\n",
      "step: 1457\n",
      "request error\n",
      "step: 1458\n",
      "request error\n",
      "step: 1459\n",
      "request error\n",
      "step: 1460\n"
     ]
    },
    {
     "name": "stderr",
     "output_type": "stream",
     "text": [
      " 44%|████▎     | 1467/3361 [13:42<17:42,  1.78it/s]"
     ]
    },
    {
     "name": "stdout",
     "output_type": "stream",
     "text": [
      "request error\n",
      "step: 1461\n",
      "request error\n",
      "step: 1462\n",
      "request error\n",
      "step: 1463\n",
      "request error\n",
      "step: 1464\n",
      "request error\n",
      "step: 1465\n",
      "request error\n",
      "step: 1466\n"
     ]
    },
    {
     "name": "stderr",
     "output_type": "stream",
     "text": [
      "\r",
      " 44%|████▎     | 1470/3361 [13:43<17:38,  1.79it/s]"
     ]
    },
    {
     "name": "stdout",
     "output_type": "stream",
     "text": [
      "request error\n",
      "step: 1467\n",
      "request error\n",
      "step: 1468\n",
      "request error\n",
      "step: 1469\n",
      "request error\n",
      "step: 1470\n"
     ]
    },
    {
     "name": "stderr",
     "output_type": "stream",
     "text": [
      " 44%|████▍     | 1476/3361 [13:44<17:32,  1.79it/s]"
     ]
    },
    {
     "name": "stdout",
     "output_type": "stream",
     "text": [
      "request error\n",
      "step: 1471\n",
      "request error\n",
      "step: 1472\n",
      "request error\n",
      "step: 1473\n",
      "request error\n",
      "step: 1474\n",
      "request error\n",
      "step: 1475\n"
     ]
    },
    {
     "name": "stderr",
     "output_type": "stream",
     "text": [
      "\r",
      " 44%|████▍     | 1479/3361 [13:44<17:29,  1.79it/s]"
     ]
    },
    {
     "name": "stdout",
     "output_type": "stream",
     "text": [
      "request error\n",
      "step: 1476\n",
      "request error\n",
      "step: 1477\n",
      "request error\n",
      "step: 1478\n",
      "request error\n",
      "step: 1479\n",
      "request error\n",
      "step: 1480\n"
     ]
    },
    {
     "name": "stderr",
     "output_type": "stream",
     "text": [
      " 44%|████▍     | 1487/3361 [13:45<17:20,  1.80it/s]"
     ]
    },
    {
     "name": "stdout",
     "output_type": "stream",
     "text": [
      "request error\n",
      "step: 1481\n",
      "request error\n",
      "step: 1482\n",
      "request error\n",
      "step: 1483\n",
      "request error\n",
      "step: 1484\n",
      "request error\n",
      "step: 1485\n",
      "request error\n",
      "step: 1486\n"
     ]
    },
    {
     "name": "stderr",
     "output_type": "stream",
     "text": [
      "\r",
      " 44%|████▍     | 1490/3361 [13:45<17:17,  1.80it/s]"
     ]
    },
    {
     "name": "stdout",
     "output_type": "stream",
     "text": [
      "request error\n",
      "step: 1487\n",
      "request error\n",
      "step: 1488\n",
      "request error\n",
      "step: 1489\n",
      "request error\n",
      "step: 1490\n"
     ]
    },
    {
     "name": "stderr",
     "output_type": "stream",
     "text": [
      " 45%|████▍     | 1496/3361 [13:47<17:11,  1.81it/s]"
     ]
    },
    {
     "name": "stdout",
     "output_type": "stream",
     "text": [
      "request error\n",
      "step: 1491\n",
      "request error\n",
      "step: 1492\n",
      "request error\n",
      "step: 1493\n",
      "request error\n",
      "step: 1494\n",
      "request error\n",
      "step: 1495\n"
     ]
    },
    {
     "name": "stderr",
     "output_type": "stream",
     "text": [
      "\r",
      " 45%|████▍     | 1499/3361 [13:47<17:07,  1.81it/s]"
     ]
    },
    {
     "name": "stdout",
     "output_type": "stream",
     "text": [
      "request error\n",
      "step: 1496\n",
      "request error\n",
      "step: 1497\n",
      "request error\n",
      "step: 1498\n",
      "request error\n",
      "step: 1499\n",
      "request error\n",
      "step: 1500\n"
     ]
    },
    {
     "name": "stderr",
     "output_type": "stream",
     "text": [
      " 45%|████▍     | 1505/3361 [13:48<17:01,  1.82it/s]"
     ]
    },
    {
     "name": "stdout",
     "output_type": "stream",
     "text": [
      "request error\n",
      "step: 1501\n",
      "request error\n",
      "step: 1502\n",
      "request error\n",
      "step: 1503\n",
      "request error\n",
      "step: 1504\n",
      "request error\n",
      "step: 1505\n"
     ]
    },
    {
     "name": "stderr",
     "output_type": "stream",
     "text": [
      "\r",
      " 45%|████▍     | 1508/3361 [13:48<16:58,  1.82it/s]"
     ]
    },
    {
     "name": "stdout",
     "output_type": "stream",
     "text": [
      "request error\n",
      "step: 1506\n",
      "request error\n",
      "step: 1507\n",
      "request error\n",
      "step: 1508\n",
      "request error\n",
      "step: 1509\n",
      "request error\n",
      "step: 1510\n"
     ]
    },
    {
     "name": "stderr",
     "output_type": "stream",
     "text": [
      " 45%|████▌     | 1517/3361 [13:49<16:48,  1.83it/s]"
     ]
    },
    {
     "name": "stdout",
     "output_type": "stream",
     "text": [
      "request error\n",
      "step: 1511\n",
      "request error\n",
      "step: 1512\n",
      "request error\n",
      "step: 1513\n",
      "request error\n",
      "step: 1514\n",
      "request error\n",
      "step: 1515\n",
      "request error\n",
      "step: 1516\n"
     ]
    },
    {
     "name": "stderr",
     "output_type": "stream",
     "text": [
      "\r",
      " 45%|████▌     | 1520/3361 [13:50<16:45,  1.83it/s]"
     ]
    },
    {
     "name": "stdout",
     "output_type": "stream",
     "text": [
      "request error\n",
      "step: 1517\n",
      "request error\n",
      "step: 1518\n",
      "request error\n",
      "step: 1519\n",
      "request error\n",
      "step: 1520\n"
     ]
    },
    {
     "name": "stderr",
     "output_type": "stream",
     "text": [
      " 45%|████▌     | 1526/3361 [13:51<16:39,  1.84it/s]"
     ]
    },
    {
     "name": "stdout",
     "output_type": "stream",
     "text": [
      "request error\n",
      "step: 1521\n",
      "request error\n",
      "step: 1522\n",
      "request error\n",
      "step: 1523\n",
      "request error\n",
      "step: 1524\n",
      "request error\n",
      "step: 1525\n",
      "request error\n",
      "step: 1526\n"
     ]
    },
    {
     "name": "stderr",
     "output_type": "stream",
     "text": [
      "\r",
      " 45%|████▌     | 1529/3361 [13:51<16:36,  1.84it/s]"
     ]
    },
    {
     "name": "stdout",
     "output_type": "stream",
     "text": [
      "request error\n",
      "step: 1527\n",
      "request error\n",
      "step: 1528\n",
      "request error\n",
      "step: 1529\n",
      "request error\n",
      "step: 1530\n"
     ]
    },
    {
     "name": "stderr",
     "output_type": "stream",
     "text": [
      " 46%|████▌     | 1535/3361 [13:52<16:30,  1.84it/s]"
     ]
    },
    {
     "name": "stdout",
     "output_type": "stream",
     "text": [
      "request error\n",
      "step: 1531\n",
      "request error\n",
      "step: 1532\n",
      "request error\n",
      "step: 1533\n",
      "request error\n",
      "step: 1534\n",
      "request error\n",
      "step: 1535\n",
      "request error\n",
      "step: 1536\n"
     ]
    },
    {
     "name": "stderr",
     "output_type": "stream",
     "text": [
      "\r",
      " 46%|████▌     | 1538/3361 [13:52<16:27,  1.85it/s]"
     ]
    },
    {
     "name": "stdout",
     "output_type": "stream",
     "text": [
      "request error\n",
      "step: 1537\n",
      "request error\n",
      "step: 1538\n",
      "request error\n",
      "step: 1539\n",
      "request error\n",
      "step: 1540\n"
     ]
    },
    {
     "name": "stderr",
     "output_type": "stream",
     "text": [
      " 46%|████▌     | 1544/3361 [13:54<16:21,  1.85it/s]"
     ]
    },
    {
     "name": "stdout",
     "output_type": "stream",
     "text": [
      "request error\n",
      "step: 1541\n",
      "request error\n",
      "step: 1542\n",
      "request error\n",
      "step: 1543\n",
      "request error\n",
      "step: 1544\n",
      "request error\n",
      "step: 1545\n"
     ]
    },
    {
     "name": "stderr",
     "output_type": "stream",
     "text": [
      " 46%|████▌     | 1550/3361 [13:54<16:14,  1.86it/s]"
     ]
    },
    {
     "name": "stdout",
     "output_type": "stream",
     "text": [
      "request error\n",
      "step: 1546\n",
      "request error\n",
      "step: 1547\n",
      "request error\n",
      "step: 1548\n",
      "request error\n",
      "step: 1549\n",
      "request error\n",
      "step: 1550\n"
     ]
    },
    {
     "name": "stderr",
     "output_type": "stream",
     "text": [
      " 46%|████▋     | 1556/3361 [13:55<16:09,  1.86it/s]"
     ]
    },
    {
     "name": "stdout",
     "output_type": "stream",
     "text": [
      "request error\n",
      "step: 1551\n",
      "request error\n",
      "step: 1552\n",
      "request error\n",
      "step: 1553\n",
      "request error\n",
      "step: 1554\n",
      "request error\n",
      "step: 1555\n",
      "request error\n",
      "step: 1556\n"
     ]
    },
    {
     "name": "stderr",
     "output_type": "stream",
     "text": [
      "\r",
      " 46%|████▋     | 1559/3361 [13:55<16:05,  1.87it/s]"
     ]
    },
    {
     "name": "stdout",
     "output_type": "stream",
     "text": [
      "request error\n",
      "step: 1557\n",
      "request error\n",
      "step: 1558\n",
      "request error\n",
      "step: 1559\n",
      "request error\n",
      "step: 1560\n"
     ]
    },
    {
     "name": "stderr",
     "output_type": "stream",
     "text": [
      " 47%|████▋     | 1565/3361 [13:56<16:00,  1.87it/s]"
     ]
    },
    {
     "name": "stdout",
     "output_type": "stream",
     "text": [
      "request error\n",
      "step: 1561\n",
      "request error\n",
      "step: 1562\n",
      "request error\n",
      "step: 1563\n",
      "request error\n",
      "step: 1564\n",
      "request error\n",
      "step: 1565\n",
      "request error\n",
      "step: 1566\n"
     ]
    },
    {
     "name": "stderr",
     "output_type": "stream",
     "text": [
      "\r",
      " 47%|████▋     | 1568/3361 [13:57<15:57,  1.87it/s]"
     ]
    },
    {
     "name": "stdout",
     "output_type": "stream",
     "text": [
      "request error\n",
      "step: 1567\n",
      "request error\n",
      "step: 1568\n",
      "request error\n",
      "step: 1569\n",
      "request error\n",
      "step: 1570\n"
     ]
    },
    {
     "name": "stderr",
     "output_type": "stream",
     "text": [
      " 47%|████▋     | 1574/3361 [13:58<15:51,  1.88it/s]"
     ]
    },
    {
     "name": "stdout",
     "output_type": "stream",
     "text": [
      "request error\n",
      "step: 1571\n",
      "request error\n",
      "step: 1572\n",
      "request error\n",
      "step: 1573\n",
      "request error\n",
      "step: 1574\n",
      "request error\n",
      "step: 1575\n"
     ]
    },
    {
     "name": "stderr",
     "output_type": "stream",
     "text": [
      " 47%|████▋     | 1580/3361 [13:58<15:45,  1.88it/s]"
     ]
    },
    {
     "name": "stdout",
     "output_type": "stream",
     "text": [
      "request error\n",
      "step: 1576\n",
      "request error\n",
      "step: 1577\n",
      "request error\n",
      "step: 1578\n",
      "request error\n",
      "step: 1579\n",
      "request error\n",
      "step: 1580\n"
     ]
    },
    {
     "name": "stderr",
     "output_type": "stream",
     "text": [
      " 47%|████▋     | 1586/3361 [13:59<15:39,  1.89it/s]"
     ]
    },
    {
     "name": "stdout",
     "output_type": "stream",
     "text": [
      "request error\n",
      "step: 1581\n",
      "request error\n",
      "step: 1582\n",
      "request error\n",
      "step: 1583\n",
      "request error\n",
      "step: 1584\n",
      "request error\n",
      "step: 1585\n"
     ]
    },
    {
     "name": "stderr",
     "output_type": "stream",
     "text": [
      "\r",
      " 47%|████▋     | 1589/3361 [13:59<15:36,  1.89it/s]"
     ]
    },
    {
     "name": "stdout",
     "output_type": "stream",
     "text": [
      "request error\n",
      "step: 1586\n",
      "request error\n",
      "step: 1587\n",
      "request error\n",
      "step: 1588\n",
      "request error\n",
      "step: 1589\n",
      "request error\n",
      "step: 1590\n"
     ]
    },
    {
     "name": "stderr",
     "output_type": "stream",
     "text": [
      " 47%|████▋     | 1595/3361 [14:01<15:31,  1.90it/s]"
     ]
    },
    {
     "name": "stdout",
     "output_type": "stream",
     "text": [
      "request error\n",
      "step: 1591\n",
      "request error\n",
      "step: 1592\n",
      "request error\n",
      "step: 1593\n",
      "request error\n",
      "step: 1594\n",
      "request error\n",
      "step: 1595\n",
      "request error\n",
      "step: 1596\n"
     ]
    },
    {
     "name": "stderr",
     "output_type": "stream",
     "text": [
      "\r",
      " 48%|████▊     | 1598/3361 [14:01<15:28,  1.90it/s]"
     ]
    },
    {
     "name": "stdout",
     "output_type": "stream",
     "text": [
      "request error\n",
      "step: 1597\n",
      "request error\n",
      "step: 1598\n",
      "request error\n",
      "step: 1599\n",
      "request error\n",
      "step: 1600\n"
     ]
    },
    {
     "name": "stderr",
     "output_type": "stream",
     "text": [
      " 48%|████▊     | 1607/3361 [14:02<15:19,  1.91it/s]"
     ]
    },
    {
     "name": "stdout",
     "output_type": "stream",
     "text": [
      "request error\n",
      "step: 1601\n",
      "request error\n",
      "step: 1602\n",
      "request error\n",
      "step: 1603\n",
      "request error\n",
      "step: 1604\n",
      "request error\n",
      "step: 1605\n",
      "request error\n",
      "step: 1606\n"
     ]
    },
    {
     "name": "stderr",
     "output_type": "stream",
     "text": [
      "\r",
      " 48%|████▊     | 1610/3361 [14:02<15:16,  1.91it/s]"
     ]
    },
    {
     "name": "stdout",
     "output_type": "stream",
     "text": [
      "request error\n",
      "step: 1607\n",
      "request error\n",
      "step: 1608\n",
      "request error\n",
      "step: 1609\n",
      "request error\n",
      "step: 1610\n"
     ]
    },
    {
     "name": "stderr",
     "output_type": "stream",
     "text": [
      " 48%|████▊     | 1616/3361 [14:03<15:11,  1.91it/s]"
     ]
    },
    {
     "name": "stdout",
     "output_type": "stream",
     "text": [
      "request error\n",
      "step: 1611\n",
      "request error\n",
      "step: 1612\n",
      "request error\n",
      "step: 1613\n",
      "request error\n",
      "step: 1614\n",
      "request error\n",
      "step: 1615\n",
      "request error\n",
      "step: 1616\n"
     ]
    },
    {
     "name": "stderr",
     "output_type": "stream",
     "text": [
      "\r",
      " 48%|████▊     | 1619/3361 [14:04<15:08,  1.92it/s]"
     ]
    },
    {
     "name": "stdout",
     "output_type": "stream",
     "text": [
      "request error\n",
      "step: 1617\n",
      "request error\n",
      "step: 1618\n",
      "request error\n",
      "step: 1619\n",
      "request error\n",
      "step: 1620\n"
     ]
    },
    {
     "name": "stderr",
     "output_type": "stream",
     "text": [
      " 48%|████▊     | 1625/3361 [14:05<15:03,  1.92it/s]"
     ]
    },
    {
     "name": "stdout",
     "output_type": "stream",
     "text": [
      "request error\n",
      "step: 1621\n",
      "request error\n",
      "step: 1622\n",
      "request error\n",
      "step: 1623\n",
      "request error\n",
      "step: 1624\n",
      "request error\n",
      "step: 1625\n"
     ]
    },
    {
     "name": "stderr",
     "output_type": "stream",
     "text": [
      "\r",
      " 48%|████▊     | 1628/3361 [14:05<15:00,  1.93it/s]"
     ]
    },
    {
     "name": "stdout",
     "output_type": "stream",
     "text": [
      "request error\n",
      "step: 1626\n",
      "request error\n",
      "step: 1627\n",
      "request error\n",
      "step: 1628\n",
      "request error\n",
      "step: 1629\n",
      "request error\n",
      "step: 1630\n"
     ]
    },
    {
     "name": "stderr",
     "output_type": "stream",
     "text": [
      " 49%|████▊     | 1634/3361 [14:06<14:54,  1.93it/s]"
     ]
    },
    {
     "name": "stdout",
     "output_type": "stream",
     "text": [
      "request error\n",
      "step: 1631\n",
      "request error\n",
      "step: 1632\n",
      "request error\n",
      "step: 1633\n",
      "request error\n",
      "step: 1634\n",
      "request error\n",
      "step: 1635\n"
     ]
    },
    {
     "name": "stderr",
     "output_type": "stream",
     "text": [
      " 49%|████▉     | 1640/3361 [14:06<14:48,  1.94it/s]"
     ]
    },
    {
     "name": "stdout",
     "output_type": "stream",
     "text": [
      "request error\n",
      "step: 1636\n",
      "request error\n",
      "step: 1637\n",
      "request error\n",
      "step: 1638\n",
      "request error\n",
      "step: 1639\n",
      "request error\n",
      "step: 1640\n"
     ]
    },
    {
     "name": "stderr",
     "output_type": "stream",
     "text": [
      " 49%|████▉     | 1646/3361 [14:08<14:43,  1.94it/s]"
     ]
    },
    {
     "name": "stdout",
     "output_type": "stream",
     "text": [
      "request error\n",
      "step: 1641\n",
      "request error\n",
      "step: 1642\n",
      "request error\n",
      "step: 1643\n",
      "request error\n",
      "step: 1644\n",
      "request error\n",
      "step: 1645\n"
     ]
    },
    {
     "name": "stderr",
     "output_type": "stream",
     "text": [
      "\r",
      " 49%|████▉     | 1649/3361 [14:08<14:40,  1.94it/s]"
     ]
    },
    {
     "name": "stdout",
     "output_type": "stream",
     "text": [
      "request error\n",
      "step: 1646\n",
      "request error\n",
      "step: 1647\n",
      "request error\n",
      "step: 1648\n",
      "request error\n",
      "step: 1649\n",
      "request error\n",
      "step: 1650\n"
     ]
    },
    {
     "name": "stderr",
     "output_type": "stream",
     "text": [
      " 49%|████▉     | 1654/3361 [14:09<14:36,  1.95it/s]"
     ]
    },
    {
     "name": "stdout",
     "output_type": "stream",
     "text": [
      "request error\n",
      "step: 1651\n",
      "request error\n",
      "step: 1652\n",
      "request error\n",
      "step: 1653\n",
      "request error\n",
      "step: 1654\n",
      "request error\n",
      "step: 1655\n"
     ]
    },
    {
     "name": "stderr",
     "output_type": "stream",
     "text": [
      " 49%|████▉     | 1660/3361 [14:09<14:30,  1.95it/s]"
     ]
    },
    {
     "name": "stdout",
     "output_type": "stream",
     "text": [
      "request error\n",
      "step: 1656\n",
      "request error\n",
      "step: 1657\n",
      "request error\n",
      "step: 1658\n",
      "request error\n",
      "step: 1659\n",
      "request error\n",
      "step: 1660\n"
     ]
    },
    {
     "name": "stderr",
     "output_type": "stream",
     "text": [
      " 50%|████▉     | 1666/3361 [14:11<14:25,  1.96it/s]"
     ]
    },
    {
     "name": "stdout",
     "output_type": "stream",
     "text": [
      "request error\n",
      "step: 1661\n",
      "request error\n",
      "step: 1662\n",
      "request error\n",
      "step: 1663\n",
      "request error\n",
      "step: 1664\n",
      "request error\n",
      "step: 1665\n"
     ]
    },
    {
     "name": "stderr",
     "output_type": "stream",
     "text": [
      "\r",
      " 50%|████▉     | 1669/3361 [14:11<14:22,  1.96it/s]"
     ]
    },
    {
     "name": "stdout",
     "output_type": "stream",
     "text": [
      "request error\n",
      "step: 1666\n",
      "request error\n",
      "step: 1667\n",
      "request error\n",
      "step: 1668\n",
      "request error\n",
      "step: 1669\n",
      "request error\n",
      "step: 1670\n"
     ]
    },
    {
     "name": "stderr",
     "output_type": "stream",
     "text": [
      " 50%|████▉     | 1677/3361 [14:12<14:16,  1.97it/s]"
     ]
    },
    {
     "name": "stdout",
     "output_type": "stream",
     "text": [
      "request error\n",
      "step: 1671\n",
      "request error\n",
      "step: 1672\n",
      "request error\n",
      "step: 1673\n",
      "request error\n",
      "step: 1674\n",
      "request error\n",
      "step: 1675\n",
      "request error\n",
      "step: 1676\n"
     ]
    },
    {
     "name": "stderr",
     "output_type": "stream",
     "text": [
      "\r",
      " 50%|████▉     | 1680/3361 [14:12<14:13,  1.97it/s]"
     ]
    },
    {
     "name": "stdout",
     "output_type": "stream",
     "text": [
      "request error\n",
      "step: 1677\n",
      "request error\n",
      "step: 1678\n",
      "request error\n",
      "step: 1679\n",
      "request error\n",
      "step: 1680\n"
     ]
    },
    {
     "name": "stderr",
     "output_type": "stream",
     "text": [
      " 50%|█████     | 1686/3361 [14:13<14:08,  1.97it/s]"
     ]
    },
    {
     "name": "stdout",
     "output_type": "stream",
     "text": [
      "request error\n",
      "step: 1681\n",
      "request error\n",
      "step: 1682\n",
      "request error\n",
      "step: 1683\n",
      "request error\n",
      "step: 1684\n",
      "request error\n",
      "step: 1685\n",
      "request error\n",
      "step: 1686\n"
     ]
    },
    {
     "name": "stderr",
     "output_type": "stream",
     "text": [
      "\r",
      " 50%|█████     | 1689/3361 [14:14<14:05,  1.98it/s]"
     ]
    },
    {
     "name": "stdout",
     "output_type": "stream",
     "text": [
      "request error\n",
      "step: 1687\n",
      "request error\n",
      "step: 1688\n",
      "request error\n",
      "step: 1689\n",
      "request error\n",
      "step: 1690\n"
     ]
    },
    {
     "name": "stderr",
     "output_type": "stream",
     "text": [
      " 50%|█████     | 1695/3361 [14:15<14:00,  1.98it/s]"
     ]
    },
    {
     "name": "stdout",
     "output_type": "stream",
     "text": [
      "request error\n",
      "step: 1691\n",
      "request error\n",
      "step: 1692\n",
      "request error\n",
      "step: 1693\n",
      "request error\n",
      "step: 1694\n",
      "request error\n",
      "step: 1695\n",
      "request error\n",
      "step: 1696\n"
     ]
    },
    {
     "name": "stderr",
     "output_type": "stream",
     "text": [
      "\r",
      " 51%|█████     | 1698/3361 [14:15<13:57,  1.99it/s]"
     ]
    },
    {
     "name": "stdout",
     "output_type": "stream",
     "text": [
      "request error\n",
      "step: 1697\n",
      "request error\n",
      "step: 1698\n",
      "request error\n",
      "step: 1699\n",
      "request error\n",
      "step: 1700\n"
     ]
    },
    {
     "name": "stderr",
     "output_type": "stream",
     "text": [
      " 51%|█████     | 1704/3361 [14:16<13:52,  1.99it/s]"
     ]
    },
    {
     "name": "stdout",
     "output_type": "stream",
     "text": [
      "request error\n",
      "step: 1701\n",
      "request error\n",
      "step: 1702\n",
      "request error\n",
      "step: 1703\n",
      "request error\n",
      "step: 1704\n",
      "request error\n",
      "step: 1705\n"
     ]
    },
    {
     "name": "stderr",
     "output_type": "stream",
     "text": [
      " 51%|█████     | 1710/3361 [14:16<13:47,  2.00it/s]"
     ]
    },
    {
     "name": "stdout",
     "output_type": "stream",
     "text": [
      "request error\n",
      "step: 1706\n",
      "request error\n",
      "step: 1707\n",
      "request error\n",
      "step: 1708\n",
      "request error\n",
      "step: 1709\n",
      "request error\n",
      "step: 1710\n"
     ]
    },
    {
     "name": "stderr",
     "output_type": "stream",
     "text": [
      " 51%|█████     | 1716/3361 [14:18<13:42,  2.00it/s]"
     ]
    },
    {
     "name": "stdout",
     "output_type": "stream",
     "text": [
      "request error\n",
      "step: 1711\n",
      "request error\n",
      "step: 1712\n",
      "request error\n",
      "step: 1713\n",
      "request error\n",
      "step: 1714\n",
      "request error\n",
      "step: 1715\n",
      "request error\n",
      "step: 1716\n"
     ]
    },
    {
     "name": "stderr",
     "output_type": "stream",
     "text": [
      "\r",
      " 51%|█████     | 1719/3361 [14:18<13:39,  2.00it/s]"
     ]
    },
    {
     "name": "stdout",
     "output_type": "stream",
     "text": [
      "request error\n",
      "step: 1717\n",
      "request error\n",
      "step: 1718\n",
      "request error\n",
      "step: 1719\n",
      "request error\n",
      "step: 1720\n"
     ]
    },
    {
     "name": "stderr",
     "output_type": "stream",
     "text": [
      " 51%|█████▏    | 1725/3361 [14:19<13:35,  2.01it/s]"
     ]
    },
    {
     "name": "stdout",
     "output_type": "stream",
     "text": [
      "request error\n",
      "step: 1721\n",
      "request error\n",
      "step: 1722\n",
      "request error\n",
      "step: 1723\n",
      "request error\n",
      "step: 1724\n",
      "request error\n",
      "step: 1725\n",
      "request error\n",
      "step: 1726\n"
     ]
    },
    {
     "name": "stderr",
     "output_type": "stream",
     "text": [
      "\r",
      " 51%|█████▏    | 1728/3361 [14:19<13:32,  2.01it/s]"
     ]
    },
    {
     "name": "stdout",
     "output_type": "stream",
     "text": [
      "request error\n",
      "step: 1727\n",
      "request error\n",
      "step: 1728\n",
      "request error\n",
      "step: 1729\n",
      "request error\n",
      "step: 1730\n"
     ]
    },
    {
     "name": "stderr",
     "output_type": "stream",
     "text": [
      " 52%|█████▏    | 1737/3361 [14:20<13:24,  2.02it/s]"
     ]
    },
    {
     "name": "stdout",
     "output_type": "stream",
     "text": [
      "request error\n",
      "step: 1731\n",
      "request error\n",
      "step: 1732\n",
      "request error\n",
      "step: 1733\n",
      "request error\n",
      "step: 1734\n",
      "request error\n",
      "step: 1735\n",
      "request error\n",
      "step: 1736\n"
     ]
    },
    {
     "name": "stderr",
     "output_type": "stream",
     "text": [
      "\r",
      " 52%|█████▏    | 1740/3361 [14:21<13:22,  2.02it/s]"
     ]
    },
    {
     "name": "stdout",
     "output_type": "stream",
     "text": [
      "request error\n",
      "step: 1737\n",
      "request error\n",
      "step: 1738\n",
      "request error\n",
      "step: 1739\n",
      "request error\n",
      "step: 1740\n"
     ]
    },
    {
     "name": "stderr",
     "output_type": "stream",
     "text": [
      " 52%|█████▏    | 1746/3361 [14:22<13:17,  2.02it/s]"
     ]
    },
    {
     "name": "stdout",
     "output_type": "stream",
     "text": [
      "request error\n",
      "step: 1741\n",
      "request error\n",
      "step: 1742\n",
      "request error\n",
      "step: 1743\n",
      "request error\n",
      "step: 1744\n",
      "request error\n",
      "step: 1745\n"
     ]
    },
    {
     "name": "stderr",
     "output_type": "stream",
     "text": [
      "\r",
      " 52%|█████▏    | 1749/3361 [14:22<13:14,  2.03it/s]"
     ]
    },
    {
     "name": "stdout",
     "output_type": "stream",
     "text": [
      "request error\n",
      "step: 1746\n",
      "request error\n",
      "step: 1747\n",
      "request error\n",
      "step: 1748\n",
      "request error\n",
      "step: 1749\n",
      "request error\n",
      "step: 1750\n"
     ]
    },
    {
     "name": "stderr",
     "output_type": "stream",
     "text": [
      " 52%|█████▏    | 1755/3361 [14:23<13:10,  2.03it/s]"
     ]
    },
    {
     "name": "stdout",
     "output_type": "stream",
     "text": [
      "request error\n",
      "step: 1751\n",
      "request error\n",
      "step: 1752\n",
      "request error\n",
      "step: 1753\n",
      "request error\n",
      "step: 1754\n",
      "request error\n",
      "step: 1755\n",
      "request error\n",
      "step: 1756\n"
     ]
    },
    {
     "name": "stderr",
     "output_type": "stream",
     "text": [
      "\r",
      " 52%|█████▏    | 1758/3361 [14:23<13:07,  2.04it/s]"
     ]
    },
    {
     "name": "stdout",
     "output_type": "stream",
     "text": [
      "request error\n",
      "step: 1757\n",
      "request error\n",
      "step: 1758\n",
      "request error\n",
      "step: 1759\n",
      "request error\n",
      "step: 1760\n"
     ]
    },
    {
     "name": "stderr",
     "output_type": "stream",
     "text": [
      " 53%|█████▎    | 1767/3361 [14:25<13:00,  2.04it/s]"
     ]
    },
    {
     "name": "stdout",
     "output_type": "stream",
     "text": [
      "request error\n",
      "step: 1761\n",
      "request error\n",
      "step: 1762\n",
      "request error\n",
      "step: 1763\n",
      "request error\n",
      "step: 1764\n",
      "request error\n",
      "step: 1765\n",
      "request error\n",
      "step: 1766\n"
     ]
    },
    {
     "name": "stderr",
     "output_type": "stream",
     "text": [
      "\r",
      " 53%|█████▎    | 1770/3361 [14:25<12:57,  2.05it/s]"
     ]
    },
    {
     "name": "stdout",
     "output_type": "stream",
     "text": [
      "request error\n",
      "step: 1767\n",
      "request error\n",
      "step: 1768\n",
      "request error\n",
      "step: 1769\n",
      "request error\n",
      "step: 1770\n"
     ]
    },
    {
     "name": "stderr",
     "output_type": "stream",
     "text": [
      " 53%|█████▎    | 1776/3361 [14:26<12:53,  2.05it/s]"
     ]
    },
    {
     "name": "stdout",
     "output_type": "stream",
     "text": [
      "request error\n",
      "step: 1771\n",
      "request error\n",
      "step: 1772\n",
      "request error\n",
      "step: 1773\n",
      "request error\n",
      "step: 1774\n",
      "request error\n",
      "step: 1775\n"
     ]
    },
    {
     "name": "stderr",
     "output_type": "stream",
     "text": [
      "\r",
      " 53%|█████▎    | 1779/3361 [14:26<12:50,  2.05it/s]"
     ]
    },
    {
     "name": "stdout",
     "output_type": "stream",
     "text": [
      "request error\n",
      "step: 1776\n",
      "request error\n",
      "step: 1777\n",
      "request error\n",
      "step: 1778\n",
      "request error\n",
      "step: 1779\n",
      "request error\n",
      "step: 1780\n"
     ]
    },
    {
     "name": "stderr",
     "output_type": "stream",
     "text": [
      " 53%|█████▎    | 1785/3361 [14:27<12:46,  2.06it/s]"
     ]
    },
    {
     "name": "stdout",
     "output_type": "stream",
     "text": [
      "request error\n",
      "step: 1781\n",
      "request error\n",
      "step: 1782\n",
      "request error\n",
      "step: 1783\n",
      "request error\n",
      "step: 1784\n",
      "request error\n",
      "step: 1785\n",
      "request error\n",
      "step: 1786\n"
     ]
    },
    {
     "name": "stderr",
     "output_type": "stream",
     "text": [
      "\r",
      " 53%|█████▎    | 1788/3361 [14:28<12:43,  2.06it/s]"
     ]
    },
    {
     "name": "stdout",
     "output_type": "stream",
     "text": [
      "request error\n",
      "step: 1787\n",
      "request error\n",
      "step: 1788\n",
      "request error\n",
      "step: 1789\n",
      "request error\n",
      "step: 1790\n"
     ]
    },
    {
     "name": "stderr",
     "output_type": "stream",
     "text": [
      " 53%|█████▎    | 1797/3361 [14:29<12:36,  2.07it/s]"
     ]
    },
    {
     "name": "stdout",
     "output_type": "stream",
     "text": [
      "request error\n",
      "step: 1791\n",
      "request error\n",
      "step: 1792\n",
      "request error\n",
      "step: 1793\n",
      "request error\n",
      "step: 1794\n",
      "request error\n",
      "step: 1795\n",
      "request error\n",
      "step: 1796\n"
     ]
    },
    {
     "name": "stderr",
     "output_type": "stream",
     "text": [
      "\r",
      " 54%|█████▎    | 1800/3361 [14:29<12:34,  2.07it/s]"
     ]
    },
    {
     "name": "stdout",
     "output_type": "stream",
     "text": [
      "request error\n",
      "step: 1797\n",
      "request error\n",
      "step: 1798\n",
      "request error\n",
      "step: 1799\n",
      "request error\n",
      "step: 1800\n"
     ]
    },
    {
     "name": "stderr",
     "output_type": "stream",
     "text": [
      " 54%|█████▎    | 1806/3361 [14:30<12:29,  2.07it/s]"
     ]
    },
    {
     "name": "stdout",
     "output_type": "stream",
     "text": [
      "request error\n",
      "step: 1801\n",
      "request error\n",
      "step: 1802\n",
      "request error\n",
      "step: 1803\n",
      "request error\n",
      "step: 1804\n",
      "request error\n",
      "step: 1805\n",
      "request error\n",
      "step: 1806\n"
     ]
    },
    {
     "name": "stderr",
     "output_type": "stream",
     "text": [
      "\r",
      " 54%|█████▍    | 1809/3361 [14:30<12:27,  2.08it/s]"
     ]
    },
    {
     "name": "stdout",
     "output_type": "stream",
     "text": [
      "request error\n",
      "step: 1807\n",
      "request error\n",
      "step: 1808\n",
      "request error\n",
      "step: 1809\n",
      "request error\n",
      "step: 1810\n"
     ]
    },
    {
     "name": "stderr",
     "output_type": "stream",
     "text": [
      " 54%|█████▍    | 1815/3361 [14:32<12:22,  2.08it/s]"
     ]
    },
    {
     "name": "stdout",
     "output_type": "stream",
     "text": [
      "request error\n",
      "step: 1811\n",
      "request error\n",
      "step: 1812\n",
      "request error\n",
      "step: 1813\n",
      "request error\n",
      "step: 1814\n",
      "request error\n",
      "step: 1815\n"
     ]
    },
    {
     "name": "stderr",
     "output_type": "stream",
     "text": [
      "\r",
      " 54%|█████▍    | 1818/3361 [14:32<12:20,  2.08it/s]"
     ]
    },
    {
     "name": "stdout",
     "output_type": "stream",
     "text": [
      "request error\n",
      "step: 1816\n",
      "request error\n",
      "step: 1817\n",
      "request error\n",
      "step: 1818\n",
      "request error\n",
      "step: 1819\n",
      "request error\n",
      "step: 1820\n"
     ]
    },
    {
     "name": "stderr",
     "output_type": "stream",
     "text": [
      " 54%|█████▍    | 1827/3361 [14:33<12:13,  2.09it/s]"
     ]
    },
    {
     "name": "stdout",
     "output_type": "stream",
     "text": [
      "request error\n",
      "step: 1821\n",
      "request error\n",
      "step: 1822\n",
      "request error\n",
      "step: 1823\n",
      "request error\n",
      "step: 1824\n",
      "request error\n",
      "step: 1825\n",
      "request error\n",
      "step: 1826\n"
     ]
    },
    {
     "name": "stderr",
     "output_type": "stream",
     "text": [
      "\r",
      " 54%|█████▍    | 1830/3361 [14:33<12:10,  2.09it/s]"
     ]
    },
    {
     "name": "stdout",
     "output_type": "stream",
     "text": [
      "request error\n",
      "step: 1827\n",
      "request error\n",
      "step: 1828\n",
      "request error\n",
      "step: 1829\n",
      "request error\n",
      "step: 1830\n"
     ]
    },
    {
     "name": "stderr",
     "output_type": "stream",
     "text": [
      " 55%|█████▍    | 1836/3361 [14:34<12:06,  2.10it/s]"
     ]
    },
    {
     "name": "stdout",
     "output_type": "stream",
     "text": [
      "request error\n",
      "step: 1831\n",
      "request error\n",
      "step: 1832\n",
      "request error\n",
      "step: 1833\n",
      "request error\n",
      "step: 1834\n",
      "request error\n",
      "step: 1835\n"
     ]
    },
    {
     "name": "stderr",
     "output_type": "stream",
     "text": [
      "\r",
      " 55%|█████▍    | 1839/3361 [14:35<12:04,  2.10it/s]"
     ]
    },
    {
     "name": "stdout",
     "output_type": "stream",
     "text": [
      "request error\n",
      "step: 1836\n",
      "request error\n",
      "step: 1837\n",
      "request error\n",
      "step: 1838\n",
      "request error\n",
      "step: 1839\n",
      "request error\n",
      "step: 1840\n"
     ]
    },
    {
     "name": "stderr",
     "output_type": "stream",
     "text": [
      " 55%|█████▍    | 1845/3361 [14:36<12:00,  2.11it/s]"
     ]
    },
    {
     "name": "stdout",
     "output_type": "stream",
     "text": [
      "request error\n",
      "step: 1841\n",
      "request error\n",
      "step: 1842\n",
      "request error\n",
      "step: 1843\n",
      "request error\n",
      "step: 1844\n",
      "request error\n",
      "step: 1845\n"
     ]
    },
    {
     "name": "stderr",
     "output_type": "stream",
     "text": [
      "\r",
      " 55%|█████▍    | 1848/3361 [14:36<11:57,  2.11it/s]"
     ]
    },
    {
     "name": "stdout",
     "output_type": "stream",
     "text": [
      "request error\n",
      "step: 1846\n",
      "request error\n",
      "step: 1847\n",
      "request error\n",
      "step: 1848\n",
      "request error\n",
      "step: 1849\n",
      "request error\n",
      "step: 1850\n"
     ]
    },
    {
     "name": "stderr",
     "output_type": "stream",
     "text": [
      " 55%|█████▌    | 1854/3361 [14:37<11:53,  2.11it/s]"
     ]
    },
    {
     "name": "stdout",
     "output_type": "stream",
     "text": [
      "request error\n",
      "step: 1851\n",
      "request error\n",
      "step: 1852\n",
      "request error\n",
      "step: 1853\n",
      "request error\n",
      "step: 1854\n",
      "request error\n",
      "step: 1855\n"
     ]
    },
    {
     "name": "stderr",
     "output_type": "stream",
     "text": [
      " 55%|█████▌    | 1860/3361 [14:37<11:48,  2.12it/s]"
     ]
    },
    {
     "name": "stdout",
     "output_type": "stream",
     "text": [
      "request error\n",
      "step: 1856\n",
      "request error\n",
      "step: 1857\n",
      "request error\n",
      "step: 1858\n",
      "request error\n",
      "step: 1859\n",
      "request error\n",
      "step: 1860\n"
     ]
    },
    {
     "name": "stderr",
     "output_type": "stream",
     "text": [
      " 56%|█████▌    | 1866/3361 [14:39<11:44,  2.12it/s]"
     ]
    },
    {
     "name": "stdout",
     "output_type": "stream",
     "text": [
      "request error\n",
      "step: 1861\n",
      "request error\n",
      "step: 1862\n",
      "request error\n",
      "step: 1863\n",
      "request error\n",
      "step: 1864\n",
      "request error\n",
      "step: 1865\n"
     ]
    },
    {
     "name": "stderr",
     "output_type": "stream",
     "text": [
      "\r",
      " 56%|█████▌    | 1869/3361 [14:39<11:42,  2.13it/s]"
     ]
    },
    {
     "name": "stdout",
     "output_type": "stream",
     "text": [
      "request error\n",
      "step: 1866\n",
      "request error\n",
      "step: 1867\n",
      "request error\n",
      "step: 1868\n",
      "request error\n",
      "step: 1869\n",
      "request error\n",
      "step: 1870\n"
     ]
    },
    {
     "name": "stderr",
     "output_type": "stream",
     "text": [
      " 56%|█████▌    | 1877/3361 [14:40<11:36,  2.13it/s]"
     ]
    },
    {
     "name": "stdout",
     "output_type": "stream",
     "text": [
      "request error\n",
      "step: 1871\n",
      "request error\n",
      "step: 1872\n",
      "request error\n",
      "step: 1873\n",
      "request error\n",
      "step: 1874\n",
      "request error\n",
      "step: 1875\n",
      "request error\n",
      "step: 1876\n"
     ]
    },
    {
     "name": "stderr",
     "output_type": "stream",
     "text": [
      "\r",
      " 56%|█████▌    | 1880/3361 [14:40<11:33,  2.13it/s]"
     ]
    },
    {
     "name": "stdout",
     "output_type": "stream",
     "text": [
      "request error\n",
      "step: 1877\n",
      "request error\n",
      "step: 1878\n",
      "request error\n",
      "step: 1879\n",
      "request error\n",
      "step: 1880\n"
     ]
    },
    {
     "name": "stderr",
     "output_type": "stream",
     "text": [
      " 56%|█████▌    | 1886/3361 [14:42<11:29,  2.14it/s]"
     ]
    },
    {
     "name": "stdout",
     "output_type": "stream",
     "text": [
      "request error\n",
      "step: 1881\n",
      "request error\n",
      "step: 1882\n",
      "request error\n",
      "step: 1883\n",
      "request error\n",
      "step: 1884\n",
      "request error\n",
      "step: 1885\n",
      "request error\n",
      "step: 1886\n"
     ]
    },
    {
     "name": "stderr",
     "output_type": "stream",
     "text": [
      "\r",
      " 56%|█████▌    | 1889/3361 [14:42<11:27,  2.14it/s]"
     ]
    },
    {
     "name": "stdout",
     "output_type": "stream",
     "text": [
      "request error\n",
      "step: 1887\n",
      "request error\n",
      "step: 1888\n",
      "request error\n",
      "step: 1889\n",
      "request error\n",
      "step: 1890\n"
     ]
    },
    {
     "name": "stderr",
     "output_type": "stream",
     "text": [
      " 56%|█████▋    | 1895/3361 [14:43<11:23,  2.14it/s]"
     ]
    },
    {
     "name": "stdout",
     "output_type": "stream",
     "text": [
      "request error\n",
      "step: 1891\n",
      "request error\n",
      "step: 1892\n",
      "request error\n",
      "step: 1893\n",
      "request error\n",
      "step: 1894\n",
      "request error\n",
      "step: 1895\n",
      "request error\n",
      "step: 1896\n"
     ]
    },
    {
     "name": "stderr",
     "output_type": "stream",
     "text": [
      "\r",
      " 56%|█████▋    | 1898/3361 [14:43<11:21,  2.15it/s]"
     ]
    },
    {
     "name": "stdout",
     "output_type": "stream",
     "text": [
      "request error\n",
      "step: 1897\n",
      "request error\n",
      "step: 1898\n",
      "request error\n",
      "step: 1899\n",
      "request error\n",
      "step: 1900\n"
     ]
    },
    {
     "name": "stderr",
     "output_type": "stream",
     "text": [
      " 57%|█████▋    | 1907/3361 [14:44<11:14,  2.15it/s]"
     ]
    },
    {
     "name": "stdout",
     "output_type": "stream",
     "text": [
      "request error\n",
      "step: 1901\n",
      "request error\n",
      "step: 1902\n",
      "request error\n",
      "step: 1903\n",
      "request error\n",
      "step: 1904\n",
      "request error\n",
      "step: 1905\n",
      "request error\n",
      "step: 1906\n"
     ]
    },
    {
     "name": "stderr",
     "output_type": "stream",
     "text": [
      "\r",
      " 57%|█████▋    | 1910/3361 [14:45<11:12,  2.16it/s]"
     ]
    },
    {
     "name": "stdout",
     "output_type": "stream",
     "text": [
      "request error\n",
      "step: 1907\n",
      "request error\n",
      "step: 1908\n",
      "request error\n",
      "step: 1909\n",
      "request error\n",
      "step: 1910\n"
     ]
    },
    {
     "name": "stderr",
     "output_type": "stream",
     "text": [
      " 57%|█████▋    | 1916/3361 [14:46<11:08,  2.16it/s]"
     ]
    },
    {
     "name": "stdout",
     "output_type": "stream",
     "text": [
      "request error\n",
      "step: 1911\n",
      "request error\n",
      "step: 1912\n",
      "request error\n",
      "step: 1913\n",
      "request error\n",
      "step: 1914\n",
      "request error\n",
      "step: 1915\n"
     ]
    },
    {
     "name": "stderr",
     "output_type": "stream",
     "text": [
      "\r",
      " 57%|█████▋    | 1919/3361 [14:46<11:06,  2.16it/s]"
     ]
    },
    {
     "name": "stdout",
     "output_type": "stream",
     "text": [
      "request error\n",
      "step: 1916\n",
      "request error\n",
      "step: 1917\n",
      "request error\n",
      "step: 1918\n",
      "request error\n",
      "step: 1919\n",
      "request error\n",
      "step: 1920\n"
     ]
    },
    {
     "name": "stderr",
     "output_type": "stream",
     "text": [
      " 57%|█████▋    | 1924/3361 [14:47<11:03,  2.17it/s]"
     ]
    },
    {
     "name": "stdout",
     "output_type": "stream",
     "text": [
      "request error\n",
      "step: 1921\n",
      "request error\n",
      "step: 1922\n",
      "request error\n",
      "step: 1923\n",
      "request error\n",
      "step: 1924\n",
      "request error\n",
      "step: 1925\n"
     ]
    },
    {
     "name": "stderr",
     "output_type": "stream",
     "text": [
      " 57%|█████▋    | 1930/3361 [14:47<10:58,  2.17it/s]"
     ]
    },
    {
     "name": "stdout",
     "output_type": "stream",
     "text": [
      "request error\n",
      "step: 1926\n",
      "request error\n",
      "step: 1927\n",
      "request error\n",
      "step: 1928\n",
      "request error\n",
      "step: 1929\n",
      "request error\n",
      "step: 1930\n"
     ]
    },
    {
     "name": "stderr",
     "output_type": "stream",
     "text": [
      " 58%|█████▊    | 1936/3361 [14:49<10:54,  2.18it/s]"
     ]
    },
    {
     "name": "stdout",
     "output_type": "stream",
     "text": [
      "request error\n",
      "step: 1931\n",
      "request error\n",
      "step: 1932\n",
      "request error\n",
      "step: 1933\n",
      "request error\n",
      "step: 1934\n",
      "request error\n",
      "step: 1935\n",
      "request error\n",
      "step: 1936\n"
     ]
    },
    {
     "name": "stderr",
     "output_type": "stream",
     "text": [
      "\r",
      " 58%|█████▊    | 1939/3361 [14:49<10:52,  2.18it/s]"
     ]
    },
    {
     "name": "stdout",
     "output_type": "stream",
     "text": [
      "request error\n",
      "step: 1937\n",
      "request error\n",
      "step: 1938\n",
      "request error\n",
      "step: 1939\n",
      "request error\n",
      "step: 1940\n"
     ]
    },
    {
     "name": "stderr",
     "output_type": "stream",
     "text": [
      " 58%|█████▊    | 1945/3361 [14:50<10:48,  2.18it/s]"
     ]
    },
    {
     "name": "stdout",
     "output_type": "stream",
     "text": [
      "request error\n",
      "step: 1941\n",
      "request error\n",
      "step: 1942\n",
      "request error\n",
      "step: 1943\n",
      "request error\n",
      "step: 1944\n",
      "request error\n",
      "step: 1945\n",
      "request error\n",
      "step: 1946\n"
     ]
    },
    {
     "name": "stderr",
     "output_type": "stream",
     "text": [
      "\r",
      " 58%|█████▊    | 1948/3361 [14:50<10:46,  2.19it/s]"
     ]
    },
    {
     "name": "stdout",
     "output_type": "stream",
     "text": [
      "request error\n",
      "step: 1947\n",
      "request error\n",
      "step: 1948\n",
      "request error\n",
      "step: 1949\n",
      "request error\n",
      "step: 1950\n"
     ]
    },
    {
     "name": "stderr",
     "output_type": "stream",
     "text": [
      " 58%|█████▊    | 1957/3361 [14:52<10:39,  2.19it/s]"
     ]
    },
    {
     "name": "stdout",
     "output_type": "stream",
     "text": [
      "request error\n",
      "step: 1951\n",
      "request error\n",
      "step: 1952\n",
      "request error\n",
      "step: 1953\n",
      "request error\n",
      "step: 1954\n",
      "request error\n",
      "step: 1955\n",
      "request error\n",
      "step: 1956\n"
     ]
    },
    {
     "name": "stderr",
     "output_type": "stream",
     "text": [
      "\r",
      " 58%|█████▊    | 1960/3361 [14:52<10:37,  2.20it/s]"
     ]
    },
    {
     "name": "stdout",
     "output_type": "stream",
     "text": [
      "request error\n",
      "step: 1957\n",
      "request error\n",
      "step: 1958\n",
      "request error\n",
      "step: 1959\n",
      "request error\n",
      "step: 1960\n"
     ]
    },
    {
     "name": "stderr",
     "output_type": "stream",
     "text": [
      " 58%|█████▊    | 1966/3361 [14:53<10:33,  2.20it/s]"
     ]
    },
    {
     "name": "stdout",
     "output_type": "stream",
     "text": [
      "request error\n",
      "step: 1961\n",
      "request error\n",
      "step: 1962\n",
      "request error\n",
      "step: 1963\n",
      "request error\n",
      "step: 1964\n",
      "request error\n",
      "step: 1965\n",
      "request error\n",
      "step: 1966\n"
     ]
    },
    {
     "name": "stderr",
     "output_type": "stream",
     "text": [
      "\r",
      " 59%|█████▊    | 1969/3361 [14:53<10:31,  2.20it/s]"
     ]
    },
    {
     "name": "stdout",
     "output_type": "stream",
     "text": [
      "request error\n",
      "step: 1967\n",
      "request error\n",
      "step: 1968\n",
      "request error\n",
      "step: 1969\n",
      "request error\n",
      "step: 1970\n"
     ]
    },
    {
     "name": "stderr",
     "output_type": "stream",
     "text": [
      " 59%|█████▉    | 1975/3361 [14:54<10:27,  2.21it/s]"
     ]
    },
    {
     "name": "stdout",
     "output_type": "stream",
     "text": [
      "request error\n",
      "step: 1971\n",
      "request error\n",
      "step: 1972\n",
      "request error\n",
      "step: 1973\n",
      "request error\n",
      "step: 1974\n",
      "request error\n",
      "step: 1975\n",
      "request error\n",
      "step: 1976\n"
     ]
    },
    {
     "name": "stderr",
     "output_type": "stream",
     "text": [
      "\r",
      " 59%|█████▉    | 1978/3361 [14:54<10:25,  2.21it/s]"
     ]
    },
    {
     "name": "stdout",
     "output_type": "stream",
     "text": [
      "request error\n",
      "step: 1977\n",
      "request error\n",
      "step: 1978\n",
      "request error\n",
      "step: 1979\n",
      "request error\n",
      "step: 1980\n"
     ]
    },
    {
     "name": "stderr",
     "output_type": "stream",
     "text": [
      " 59%|█████▉    | 1987/3361 [14:56<10:19,  2.22it/s]"
     ]
    },
    {
     "name": "stdout",
     "output_type": "stream",
     "text": [
      "request error\n",
      "step: 1981\n",
      "request error\n",
      "step: 1982\n",
      "request error\n",
      "step: 1983\n",
      "request error\n",
      "step: 1984\n",
      "request error\n",
      "step: 1985\n",
      "request error\n",
      "step: 1986\n"
     ]
    },
    {
     "name": "stderr",
     "output_type": "stream",
     "text": [
      "\r",
      " 59%|█████▉    | 1990/3361 [14:56<10:17,  2.22it/s]"
     ]
    },
    {
     "name": "stdout",
     "output_type": "stream",
     "text": [
      "request error\n",
      "step: 1987\n",
      "request error\n",
      "step: 1988\n",
      "request error\n",
      "step: 1989\n",
      "request error\n",
      "step: 1990\n"
     ]
    },
    {
     "name": "stderr",
     "output_type": "stream",
     "text": [
      " 59%|█████▉    | 1996/3361 [14:57<10:13,  2.22it/s]"
     ]
    },
    {
     "name": "stdout",
     "output_type": "stream",
     "text": [
      "request error\n",
      "step: 1991\n",
      "request error\n",
      "step: 1992\n",
      "request error\n",
      "step: 1993\n",
      "request error\n",
      "step: 1994\n",
      "request error\n",
      "step: 1995\n",
      "request error\n",
      "step: 1996\n"
     ]
    },
    {
     "name": "stderr",
     "output_type": "stream",
     "text": [
      "\r",
      " 59%|█████▉    | 1999/3361 [14:57<10:11,  2.23it/s]"
     ]
    },
    {
     "name": "stdout",
     "output_type": "stream",
     "text": [
      "request error\n",
      "step: 1997\n",
      "request error\n",
      "step: 1998\n",
      "request error\n",
      "step: 1999\n",
      "request error\n",
      "step: 2000\n"
     ]
    },
    {
     "name": "stderr",
     "output_type": "stream",
     "text": [
      " 60%|█████▉    | 2007/3361 [14:59<10:06,  2.23it/s]"
     ]
    },
    {
     "name": "stdout",
     "output_type": "stream",
     "text": [
      "request error\n",
      "step: 2001\n",
      "request error\n",
      "step: 2002\n",
      "request error\n",
      "step: 2003\n",
      "request error\n",
      "step: 2004\n",
      "request error\n",
      "step: 2005\n",
      "request error\n",
      "step: 2006\n"
     ]
    },
    {
     "name": "stderr",
     "output_type": "stream",
     "text": [
      "\r",
      " 60%|█████▉    | 2010/3361 [14:59<10:04,  2.24it/s]"
     ]
    },
    {
     "name": "stdout",
     "output_type": "stream",
     "text": [
      "request error\n",
      "step: 2007\n",
      "request error\n",
      "step: 2008\n",
      "request error\n",
      "step: 2009\n",
      "request error\n",
      "step: 2010\n"
     ]
    },
    {
     "name": "stderr",
     "output_type": "stream",
     "text": [
      " 60%|█████▉    | 2016/3361 [15:00<10:00,  2.24it/s]"
     ]
    },
    {
     "name": "stdout",
     "output_type": "stream",
     "text": [
      "request error\n",
      "step: 2011\n",
      "request error\n",
      "step: 2012\n",
      "request error\n",
      "step: 2013\n",
      "request error\n",
      "step: 2014\n",
      "request error\n",
      "step: 2015\n",
      "request error\n",
      "step: 2016\n"
     ]
    },
    {
     "name": "stderr",
     "output_type": "stream",
     "text": [
      "\r",
      " 60%|██████    | 2019/3361 [15:00<09:58,  2.24it/s]"
     ]
    },
    {
     "name": "stdout",
     "output_type": "stream",
     "text": [
      "request error\n",
      "step: 2017\n",
      "request error\n",
      "step: 2018\n",
      "request error\n",
      "step: 2019\n",
      "request error\n",
      "step: 2020\n"
     ]
    },
    {
     "name": "stderr",
     "output_type": "stream",
     "text": [
      " 60%|██████    | 2025/3361 [15:01<09:54,  2.25it/s]"
     ]
    },
    {
     "name": "stdout",
     "output_type": "stream",
     "text": [
      "request error\n",
      "step: 2021\n",
      "request error\n",
      "step: 2022\n",
      "request error\n",
      "step: 2023\n",
      "request error\n",
      "step: 2024\n",
      "request error\n",
      "step: 2025\n"
     ]
    },
    {
     "name": "stderr",
     "output_type": "stream",
     "text": [
      "\r",
      " 60%|██████    | 2028/3361 [15:01<09:52,  2.25it/s]"
     ]
    },
    {
     "name": "stdout",
     "output_type": "stream",
     "text": [
      "request error\n",
      "step: 2026\n",
      "request error\n",
      "step: 2027\n",
      "request error\n",
      "step: 2028\n",
      "request error\n",
      "step: 2029\n",
      "request error\n",
      "step: 2030\n"
     ]
    },
    {
     "name": "stderr",
     "output_type": "stream",
     "text": [
      " 61%|██████    | 2037/3361 [15:03<09:47,  2.26it/s]"
     ]
    },
    {
     "name": "stdout",
     "output_type": "stream",
     "text": [
      "request error\n",
      "step: 2031\n",
      "request error\n",
      "step: 2032\n",
      "request error\n",
      "step: 2033\n",
      "request error\n",
      "step: 2034\n",
      "request error\n",
      "step: 2035\n",
      "request error\n",
      "step: 2036\n"
     ]
    },
    {
     "name": "stderr",
     "output_type": "stream",
     "text": [
      "\r",
      " 61%|██████    | 2040/3361 [15:03<09:45,  2.26it/s]"
     ]
    },
    {
     "name": "stdout",
     "output_type": "stream",
     "text": [
      "request error\n",
      "step: 2037\n",
      "request error\n",
      "step: 2038\n",
      "request error\n",
      "step: 2039\n",
      "request error\n",
      "step: 2040\n"
     ]
    },
    {
     "name": "stderr",
     "output_type": "stream",
     "text": [
      " 61%|██████    | 2046/3361 [15:04<09:41,  2.26it/s]"
     ]
    },
    {
     "name": "stdout",
     "output_type": "stream",
     "text": [
      "request error\n",
      "step: 2041\n",
      "request error\n",
      "step: 2042\n",
      "request error\n",
      "step: 2043\n",
      "request error\n",
      "step: 2044\n",
      "request error\n",
      "step: 2045\n",
      "request error\n",
      "step: 2046\n"
     ]
    },
    {
     "name": "stderr",
     "output_type": "stream",
     "text": [
      "\r",
      " 61%|██████    | 2049/3361 [15:04<09:39,  2.26it/s]"
     ]
    },
    {
     "name": "stdout",
     "output_type": "stream",
     "text": [
      "request error\n",
      "step: 2047\n",
      "request error\n",
      "step: 2048\n",
      "request error\n",
      "step: 2049\n",
      "request error\n",
      "step: 2050\n"
     ]
    },
    {
     "name": "stderr",
     "output_type": "stream",
     "text": [
      " 61%|██████    | 2055/3361 [15:06<09:35,  2.27it/s]"
     ]
    },
    {
     "name": "stdout",
     "output_type": "stream",
     "text": [
      "request error\n",
      "step: 2051\n",
      "request error\n",
      "step: 2052\n",
      "request error\n",
      "step: 2053\n",
      "request error\n",
      "step: 2054\n",
      "request error\n",
      "step: 2055\n",
      "request error\n",
      "step: 2056\n"
     ]
    },
    {
     "name": "stderr",
     "output_type": "stream",
     "text": [
      "\r",
      " 61%|██████    | 2058/3361 [15:06<09:33,  2.27it/s]"
     ]
    },
    {
     "name": "stdout",
     "output_type": "stream",
     "text": [
      "request error\n",
      "step: 2057\n",
      "request error\n",
      "step: 2058\n",
      "request error\n",
      "step: 2059\n",
      "request error\n",
      "step: 2060\n"
     ]
    },
    {
     "name": "stderr",
     "output_type": "stream",
     "text": [
      " 61%|██████▏   | 2067/3361 [15:07<09:28,  2.28it/s]"
     ]
    },
    {
     "name": "stdout",
     "output_type": "stream",
     "text": [
      "request error\n",
      "step: 2061\n",
      "request error\n",
      "step: 2062\n",
      "request error\n",
      "step: 2063\n",
      "request error\n",
      "step: 2064\n",
      "request error\n",
      "step: 2065\n",
      "request error\n",
      "step: 2066\n"
     ]
    },
    {
     "name": "stderr",
     "output_type": "stream",
     "text": [
      "\r",
      " 62%|██████▏   | 2070/3361 [15:07<09:26,  2.28it/s]"
     ]
    },
    {
     "name": "stdout",
     "output_type": "stream",
     "text": [
      "request error\n",
      "step: 2067\n",
      "request error\n",
      "step: 2068\n",
      "request error\n",
      "step: 2069\n",
      "request error\n",
      "step: 2070\n"
     ]
    },
    {
     "name": "stderr",
     "output_type": "stream",
     "text": [
      " 62%|██████▏   | 2076/3361 [15:08<09:22,  2.28it/s]"
     ]
    },
    {
     "name": "stdout",
     "output_type": "stream",
     "text": [
      "request error\n",
      "step: 2071\n",
      "request error\n",
      "step: 2072\n",
      "request error\n",
      "step: 2073\n",
      "request error\n",
      "step: 2074\n",
      "request error\n",
      "step: 2075\n",
      "request error\n",
      "step: 2076\n"
     ]
    },
    {
     "name": "stderr",
     "output_type": "stream",
     "text": [
      "\r",
      " 62%|██████▏   | 2079/3361 [15:09<09:20,  2.29it/s]"
     ]
    },
    {
     "name": "stdout",
     "output_type": "stream",
     "text": [
      "request error\n",
      "step: 2077\n",
      "request error\n",
      "step: 2078\n",
      "request error\n",
      "step: 2079\n",
      "request error\n",
      "step: 2080\n"
     ]
    },
    {
     "name": "stderr",
     "output_type": "stream",
     "text": [
      " 62%|██████▏   | 2085/3361 [15:10<09:17,  2.29it/s]"
     ]
    },
    {
     "name": "stdout",
     "output_type": "stream",
     "text": [
      "request error\n",
      "step: 2081\n",
      "request error\n",
      "step: 2082\n",
      "request error\n",
      "step: 2083\n",
      "request error\n",
      "step: 2084\n",
      "request error\n",
      "step: 2085\n",
      "request error\n",
      "step: 2086\n"
     ]
    },
    {
     "name": "stderr",
     "output_type": "stream",
     "text": [
      "\r",
      " 62%|██████▏   | 2088/3361 [15:10<09:15,  2.29it/s]"
     ]
    },
    {
     "name": "stdout",
     "output_type": "stream",
     "text": [
      "request error\n",
      "step: 2087\n",
      "request error\n",
      "step: 2088\n",
      "request error\n",
      "step: 2089\n",
      "request error\n",
      "step: 2090\n"
     ]
    },
    {
     "name": "stderr",
     "output_type": "stream",
     "text": [
      " 62%|██████▏   | 2097/3361 [15:11<09:09,  2.30it/s]"
     ]
    },
    {
     "name": "stdout",
     "output_type": "stream",
     "text": [
      "request error\n",
      "step: 2091\n",
      "request error\n",
      "step: 2092\n",
      "request error\n",
      "step: 2093\n",
      "request error\n",
      "step: 2094\n",
      "request error\n",
      "step: 2095\n",
      "request error\n",
      "step: 2096\n"
     ]
    },
    {
     "name": "stderr",
     "output_type": "stream",
     "text": [
      "\r",
      " 62%|██████▏   | 2100/3361 [15:11<09:07,  2.30it/s]"
     ]
    },
    {
     "name": "stdout",
     "output_type": "stream",
     "text": [
      "request error\n",
      "step: 2097\n",
      "request error\n",
      "step: 2098\n",
      "request error\n",
      "step: 2099\n",
      "request error\n",
      "step: 2100\n"
     ]
    },
    {
     "name": "stderr",
     "output_type": "stream",
     "text": [
      " 63%|██████▎   | 2106/3361 [15:13<09:04,  2.31it/s]"
     ]
    },
    {
     "name": "stdout",
     "output_type": "stream",
     "text": [
      "request error\n",
      "step: 2101\n",
      "request error\n",
      "step: 2102\n",
      "request error\n",
      "step: 2103\n",
      "request error\n",
      "step: 2104\n",
      "request error\n",
      "step: 2105\n",
      "request error\n",
      "step: 2106\n"
     ]
    },
    {
     "name": "stderr",
     "output_type": "stream",
     "text": [
      "\r",
      " 63%|██████▎   | 2109/3361 [15:13<09:02,  2.31it/s]"
     ]
    },
    {
     "name": "stdout",
     "output_type": "stream",
     "text": [
      "request error\n",
      "step: 2107\n",
      "request error\n",
      "step: 2108\n",
      "request error\n",
      "step: 2109\n",
      "request error\n",
      "step: 2110\n"
     ]
    },
    {
     "name": "stderr",
     "output_type": "stream",
     "text": [
      " 63%|██████▎   | 2115/3361 [15:14<08:58,  2.31it/s]"
     ]
    },
    {
     "name": "stdout",
     "output_type": "stream",
     "text": [
      "request error\n",
      "step: 2111\n",
      "request error\n",
      "step: 2112\n",
      "request error\n",
      "step: 2113\n",
      "request error\n",
      "step: 2114\n",
      "request error\n",
      "step: 2115\n",
      "request error\n",
      "step: 2116\n"
     ]
    },
    {
     "name": "stderr",
     "output_type": "stream",
     "text": [
      "\r",
      " 63%|██████▎   | 2118/3361 [15:14<08:56,  2.32it/s]"
     ]
    },
    {
     "name": "stdout",
     "output_type": "stream",
     "text": [
      "request error\n",
      "step: 2117\n",
      "request error\n",
      "step: 2118\n",
      "request error\n",
      "step: 2119\n",
      "request error\n",
      "step: 2120\n"
     ]
    },
    {
     "name": "stderr",
     "output_type": "stream",
     "text": [
      " 63%|██████▎   | 2127/3361 [15:15<08:51,  2.32it/s]"
     ]
    },
    {
     "name": "stdout",
     "output_type": "stream",
     "text": [
      "request error\n",
      "step: 2121\n",
      "request error\n",
      "step: 2122\n",
      "request error\n",
      "step: 2123\n",
      "request error\n",
      "step: 2124\n",
      "request error\n",
      "step: 2125\n",
      "request error\n",
      "step: 2126\n"
     ]
    },
    {
     "name": "stderr",
     "output_type": "stream",
     "text": [
      "\r",
      " 63%|██████▎   | 2130/3361 [15:16<08:49,  2.33it/s]"
     ]
    },
    {
     "name": "stdout",
     "output_type": "stream",
     "text": [
      "request error\n",
      "step: 2127\n",
      "request error\n",
      "step: 2128\n",
      "request error\n",
      "step: 2129\n",
      "request error\n",
      "step: 2130\n"
     ]
    },
    {
     "name": "stderr",
     "output_type": "stream",
     "text": [
      " 64%|██████▎   | 2136/3361 [15:17<08:46,  2.33it/s]"
     ]
    },
    {
     "name": "stdout",
     "output_type": "stream",
     "text": [
      "request error\n",
      "step: 2131\n",
      "request error\n",
      "step: 2132\n",
      "request error\n",
      "step: 2133\n",
      "request error\n",
      "step: 2134\n",
      "request error\n",
      "step: 2135\n",
      "request error\n",
      "step: 2136\n"
     ]
    },
    {
     "name": "stderr",
     "output_type": "stream",
     "text": [
      "\r",
      " 64%|██████▎   | 2139/3361 [15:17<08:44,  2.33it/s]"
     ]
    },
    {
     "name": "stdout",
     "output_type": "stream",
     "text": [
      "request error\n",
      "step: 2137\n",
      "request error\n",
      "step: 2138\n",
      "request error\n",
      "step: 2139\n",
      "request error\n",
      "step: 2140\n"
     ]
    },
    {
     "name": "stderr",
     "output_type": "stream",
     "text": [
      " 64%|██████▍   | 2145/3361 [15:18<08:40,  2.33it/s]"
     ]
    },
    {
     "name": "stdout",
     "output_type": "stream",
     "text": [
      "request error\n",
      "step: 2141\n",
      "request error\n",
      "step: 2142\n",
      "request error\n",
      "step: 2143\n",
      "request error\n",
      "step: 2144\n",
      "request error\n",
      "step: 2145\n",
      "request error\n",
      "step: 2146\n"
     ]
    },
    {
     "name": "stderr",
     "output_type": "stream",
     "text": [
      "\r",
      " 64%|██████▍   | 2148/3361 [15:18<08:38,  2.34it/s]"
     ]
    },
    {
     "name": "stdout",
     "output_type": "stream",
     "text": [
      "request error\n",
      "step: 2147\n",
      "request error\n",
      "step: 2148\n",
      "request error\n",
      "step: 2149\n",
      "request error\n",
      "step: 2150\n"
     ]
    },
    {
     "name": "stderr",
     "output_type": "stream",
     "text": [
      " 64%|██████▍   | 2157/3361 [15:20<08:33,  2.34it/s]"
     ]
    },
    {
     "name": "stdout",
     "output_type": "stream",
     "text": [
      "request error\n",
      "step: 2151\n",
      "request error\n",
      "step: 2152\n",
      "request error\n",
      "step: 2153\n",
      "request error\n",
      "step: 2154\n",
      "request error\n",
      "step: 2155\n",
      "request error\n",
      "step: 2156\n"
     ]
    },
    {
     "name": "stderr",
     "output_type": "stream",
     "text": [
      "\r",
      " 64%|██████▍   | 2160/3361 [15:20<08:31,  2.35it/s]"
     ]
    },
    {
     "name": "stdout",
     "output_type": "stream",
     "text": [
      "request error\n",
      "step: 2157\n",
      "request error\n",
      "step: 2158\n",
      "request error\n",
      "step: 2159\n",
      "request error\n",
      "step: 2160\n"
     ]
    },
    {
     "name": "stderr",
     "output_type": "stream",
     "text": [
      " 64%|██████▍   | 2166/3361 [15:21<08:28,  2.35it/s]"
     ]
    },
    {
     "name": "stdout",
     "output_type": "stream",
     "text": [
      "request error\n",
      "step: 2161\n",
      "request error\n",
      "step: 2162\n",
      "request error\n",
      "step: 2163\n",
      "request error\n",
      "step: 2164\n",
      "request error\n",
      "step: 2165\n",
      "request error\n",
      "step: 2166\n"
     ]
    },
    {
     "name": "stderr",
     "output_type": "stream",
     "text": [
      "\r",
      " 65%|██████▍   | 2169/3361 [15:21<08:26,  2.35it/s]"
     ]
    },
    {
     "name": "stdout",
     "output_type": "stream",
     "text": [
      "request error\n",
      "step: 2167\n",
      "request error\n",
      "step: 2168\n",
      "request error\n",
      "step: 2169\n",
      "request error\n",
      "step: 2170\n"
     ]
    },
    {
     "name": "stderr",
     "output_type": "stream",
     "text": [
      " 65%|██████▍   | 2175/3361 [15:22<08:23,  2.36it/s]"
     ]
    },
    {
     "name": "stdout",
     "output_type": "stream",
     "text": [
      "request error\n",
      "step: 2171\n",
      "request error\n",
      "step: 2172\n",
      "request error\n",
      "step: 2173\n",
      "request error\n",
      "step: 2174\n",
      "request error\n",
      "step: 2175\n",
      "request error\n",
      "step: 2176\n"
     ]
    },
    {
     "name": "stderr",
     "output_type": "stream",
     "text": [
      "\r",
      " 65%|██████▍   | 2178/3361 [15:22<08:21,  2.36it/s]"
     ]
    },
    {
     "name": "stdout",
     "output_type": "stream",
     "text": [
      "request error\n",
      "step: 2177\n",
      "request error\n",
      "step: 2178\n",
      "request error\n",
      "step: 2179\n",
      "request error\n",
      "step: 2180\n"
     ]
    },
    {
     "name": "stderr",
     "output_type": "stream",
     "text": [
      " 65%|██████▍   | 2184/3361 [15:24<08:18,  2.36it/s]"
     ]
    },
    {
     "name": "stdout",
     "output_type": "stream",
     "text": [
      "request error\n",
      "step: 2181\n",
      "request error\n",
      "step: 2182\n",
      "request error\n",
      "step: 2183\n",
      "request error\n",
      "step: 2184\n",
      "request error\n",
      "step: 2185\n"
     ]
    },
    {
     "name": "stderr",
     "output_type": "stream",
     "text": [
      " 65%|██████▌   | 2190/3361 [15:24<08:14,  2.37it/s]"
     ]
    },
    {
     "name": "stdout",
     "output_type": "stream",
     "text": [
      "request error\n",
      "step: 2186\n",
      "request error\n",
      "step: 2187\n",
      "request error\n",
      "step: 2188\n",
      "request error\n",
      "step: 2189\n",
      "request error\n",
      "step: 2190\n"
     ]
    },
    {
     "name": "stderr",
     "output_type": "stream",
     "text": [
      " 65%|██████▌   | 2196/3361 [15:25<08:11,  2.37it/s]"
     ]
    },
    {
     "name": "stdout",
     "output_type": "stream",
     "text": [
      "request error\n",
      "step: 2191\n",
      "request error\n",
      "step: 2192\n",
      "request error\n",
      "step: 2193\n",
      "request error\n",
      "step: 2194\n",
      "request error\n",
      "step: 2195\n",
      "request error\n",
      "step: 2196\n"
     ]
    },
    {
     "name": "stderr",
     "output_type": "stream",
     "text": [
      "\r",
      " 65%|██████▌   | 2199/3361 [15:25<08:09,  2.38it/s]"
     ]
    },
    {
     "name": "stdout",
     "output_type": "stream",
     "text": [
      "request error\n",
      "step: 2197\n",
      "request error\n",
      "step: 2198\n",
      "request error\n",
      "step: 2199\n",
      "request error\n",
      "step: 2200\n"
     ]
    },
    {
     "name": "stderr",
     "output_type": "stream",
     "text": [
      " 66%|██████▌   | 2207/3361 [15:27<08:04,  2.38it/s]"
     ]
    },
    {
     "name": "stdout",
     "output_type": "stream",
     "text": [
      "request error\n",
      "step: 2201\n",
      "request error\n",
      "step: 2202\n",
      "request error\n",
      "step: 2203\n",
      "request error\n",
      "step: 2204\n",
      "request error\n",
      "step: 2205\n",
      "request error\n",
      "step: 2206\n"
     ]
    },
    {
     "name": "stderr",
     "output_type": "stream",
     "text": [
      "\r",
      " 66%|██████▌   | 2210/3361 [15:27<08:02,  2.38it/s]"
     ]
    },
    {
     "name": "stdout",
     "output_type": "stream",
     "text": [
      "request error\n",
      "step: 2207\n",
      "request error\n",
      "step: 2208\n",
      "request error\n",
      "step: 2209\n",
      "request error\n",
      "step: 2210\n"
     ]
    },
    {
     "name": "stderr",
     "output_type": "stream",
     "text": [
      " 66%|██████▌   | 2216/3361 [15:28<07:59,  2.39it/s]"
     ]
    },
    {
     "name": "stdout",
     "output_type": "stream",
     "text": [
      "request error\n",
      "step: 2211\n",
      "request error\n",
      "step: 2212\n",
      "request error\n",
      "step: 2213\n",
      "request error\n",
      "step: 2214\n",
      "request error\n",
      "step: 2215\n",
      "request error\n",
      "step: 2216\n"
     ]
    },
    {
     "name": "stderr",
     "output_type": "stream",
     "text": [
      "\r",
      " 66%|██████▌   | 2219/3361 [15:28<07:57,  2.39it/s]"
     ]
    },
    {
     "name": "stdout",
     "output_type": "stream",
     "text": [
      "request error\n",
      "step: 2217\n",
      "request error\n",
      "step: 2218\n",
      "request error\n",
      "step: 2219\n",
      "request error\n",
      "step: 2220\n"
     ]
    },
    {
     "name": "stderr",
     "output_type": "stream",
     "text": [
      " 66%|██████▌   | 2225/3361 [15:29<07:54,  2.39it/s]"
     ]
    },
    {
     "name": "stdout",
     "output_type": "stream",
     "text": [
      "request error\n",
      "step: 2221\n",
      "request error\n",
      "step: 2222\n",
      "request error\n",
      "step: 2223\n",
      "request error\n",
      "step: 2224\n",
      "request error\n",
      "step: 2225\n",
      "request error\n",
      "step: 2226\n"
     ]
    },
    {
     "name": "stderr",
     "output_type": "stream",
     "text": [
      "\r",
      " 66%|██████▋   | 2228/3361 [15:30<07:52,  2.40it/s]"
     ]
    },
    {
     "name": "stdout",
     "output_type": "stream",
     "text": [
      "request error\n",
      "step: 2227\n",
      "request error\n",
      "step: 2228\n",
      "request error\n",
      "step: 2229\n",
      "request error\n",
      "step: 2230\n"
     ]
    },
    {
     "name": "stderr",
     "output_type": "stream",
     "text": [
      " 67%|██████▋   | 2237/3361 [15:31<07:47,  2.40it/s]"
     ]
    },
    {
     "name": "stdout",
     "output_type": "stream",
     "text": [
      "request error\n",
      "step: 2231\n",
      "request error\n",
      "step: 2232\n",
      "request error\n",
      "step: 2233\n",
      "request error\n",
      "step: 2234\n",
      "request error\n",
      "step: 2235\n",
      "request error\n",
      "step: 2236\n"
     ]
    },
    {
     "name": "stderr",
     "output_type": "stream",
     "text": [
      "\r",
      " 67%|██████▋   | 2240/3361 [15:31<07:46,  2.40it/s]"
     ]
    },
    {
     "name": "stdout",
     "output_type": "stream",
     "text": [
      "request error\n",
      "step: 2237\n",
      "request error\n",
      "step: 2238\n",
      "request error\n",
      "step: 2239\n",
      "request error\n",
      "step: 2240\n"
     ]
    },
    {
     "name": "stderr",
     "output_type": "stream",
     "text": [
      " 67%|██████▋   | 2246/3361 [15:32<07:43,  2.41it/s]"
     ]
    },
    {
     "name": "stdout",
     "output_type": "stream",
     "text": [
      "request error\n",
      "step: 2241\n",
      "request error\n",
      "step: 2242\n",
      "request error\n",
      "step: 2243\n",
      "request error\n",
      "step: 2244\n",
      "request error\n",
      "step: 2245\n",
      "request error\n",
      "step: 2246\n"
     ]
    },
    {
     "name": "stderr",
     "output_type": "stream",
     "text": [
      "\r",
      " 67%|██████▋   | 2249/3361 [15:32<07:41,  2.41it/s]"
     ]
    },
    {
     "name": "stdout",
     "output_type": "stream",
     "text": [
      "request error\n",
      "step: 2247\n",
      "request error\n",
      "step: 2248\n",
      "request error\n",
      "step: 2249\n",
      "request error\n",
      "step: 2250\n"
     ]
    },
    {
     "name": "stderr",
     "output_type": "stream",
     "text": [
      " 67%|██████▋   | 2255/3361 [15:34<07:38,  2.41it/s]"
     ]
    },
    {
     "name": "stdout",
     "output_type": "stream",
     "text": [
      "request error\n",
      "step: 2251\n",
      "request error\n",
      "step: 2252\n",
      "request error\n",
      "step: 2253\n",
      "request error\n",
      "step: 2254\n",
      "request error\n",
      "step: 2255\n",
      "request error\n",
      "step: 2256\n"
     ]
    },
    {
     "name": "stderr",
     "output_type": "stream",
     "text": [
      "\r",
      " 67%|██████▋   | 2258/3361 [15:34<07:36,  2.42it/s]"
     ]
    },
    {
     "name": "stdout",
     "output_type": "stream",
     "text": [
      "request error\n",
      "step: 2257\n",
      "request error\n",
      "step: 2258\n",
      "request error\n",
      "step: 2259\n",
      "request error\n",
      "step: 2260\n"
     ]
    },
    {
     "name": "stderr",
     "output_type": "stream",
     "text": [
      " 67%|██████▋   | 2264/3361 [15:35<07:33,  2.42it/s]"
     ]
    },
    {
     "name": "stdout",
     "output_type": "stream",
     "text": [
      "request error\n",
      "step: 2261\n",
      "request error\n",
      "step: 2262\n",
      "request error\n",
      "step: 2263\n",
      "request error\n",
      "step: 2264\n",
      "request error\n",
      "step: 2265\n"
     ]
    },
    {
     "name": "stderr",
     "output_type": "stream",
     "text": [
      " 68%|██████▊   | 2270/3361 [15:35<07:29,  2.43it/s]"
     ]
    },
    {
     "name": "stdout",
     "output_type": "stream",
     "text": [
      "request error\n",
      "step: 2266\n",
      "request error\n",
      "step: 2267\n",
      "request error\n",
      "step: 2268\n",
      "request error\n",
      "step: 2269\n",
      "request error\n",
      "step: 2270\n"
     ]
    },
    {
     "name": "stderr",
     "output_type": "stream",
     "text": [
      " 68%|██████▊   | 2276/3361 [15:37<07:26,  2.43it/s]"
     ]
    },
    {
     "name": "stdout",
     "output_type": "stream",
     "text": [
      "request error\n",
      "step: 2271\n",
      "request error\n",
      "step: 2272\n",
      "request error\n",
      "step: 2273\n",
      "request error\n",
      "step: 2274\n",
      "request error\n",
      "step: 2275\n",
      "request error\n",
      "step: 2276\n"
     ]
    },
    {
     "name": "stderr",
     "output_type": "stream",
     "text": [
      "\r",
      " 68%|██████▊   | 2279/3361 [15:37<07:24,  2.43it/s]"
     ]
    },
    {
     "name": "stdout",
     "output_type": "stream",
     "text": [
      "request error\n",
      "step: 2277\n",
      "request error\n",
      "step: 2278\n",
      "request error\n",
      "step: 2279\n",
      "request error\n",
      "step: 2280\n"
     ]
    },
    {
     "name": "stderr",
     "output_type": "stream",
     "text": [
      " 68%|██████▊   | 2285/3361 [15:38<07:21,  2.44it/s]"
     ]
    },
    {
     "name": "stdout",
     "output_type": "stream",
     "text": [
      "request error\n",
      "step: 2281\n",
      "request error\n",
      "step: 2282\n",
      "request error\n",
      "step: 2283\n",
      "request error\n",
      "step: 2284\n",
      "request error\n",
      "step: 2285\n",
      "request error\n",
      "step: 2286\n"
     ]
    },
    {
     "name": "stderr",
     "output_type": "stream",
     "text": [
      "\r",
      " 68%|██████▊   | 2288/3361 [15:38<07:20,  2.44it/s]"
     ]
    },
    {
     "name": "stdout",
     "output_type": "stream",
     "text": [
      "request error\n",
      "step: 2287\n",
      "request error\n",
      "step: 2288\n",
      "request error\n",
      "step: 2289\n",
      "request error\n",
      "step: 2290\n"
     ]
    },
    {
     "name": "stderr",
     "output_type": "stream",
     "text": [
      " 68%|██████▊   | 2294/3361 [15:39<07:17,  2.44it/s]"
     ]
    },
    {
     "name": "stdout",
     "output_type": "stream",
     "text": [
      "request error\n",
      "step: 2291\n",
      "request error\n",
      "step: 2292\n",
      "request error\n",
      "step: 2293\n",
      "request error\n",
      "step: 2294\n",
      "request error\n",
      "step: 2295\n"
     ]
    },
    {
     "name": "stderr",
     "output_type": "stream",
     "text": [
      " 68%|██████▊   | 2300/3361 [15:39<07:13,  2.45it/s]"
     ]
    },
    {
     "name": "stdout",
     "output_type": "stream",
     "text": [
      "request error\n",
      "step: 2296\n",
      "request error\n",
      "step: 2297\n",
      "request error\n",
      "step: 2298\n",
      "request error\n",
      "step: 2299\n",
      "request error\n",
      "step: 2300\n"
     ]
    },
    {
     "name": "stderr",
     "output_type": "stream",
     "text": [
      " 69%|██████▊   | 2306/3361 [15:41<07:10,  2.45it/s]"
     ]
    },
    {
     "name": "stdout",
     "output_type": "stream",
     "text": [
      "request error\n",
      "step: 2301\n",
      "request error\n",
      "step: 2302\n",
      "request error\n",
      "step: 2303\n",
      "request error\n",
      "step: 2304\n",
      "request error\n",
      "step: 2305\n",
      "request error\n",
      "step: 2306\n"
     ]
    },
    {
     "name": "stderr",
     "output_type": "stream",
     "text": [
      "\r",
      " 69%|██████▊   | 2309/3361 [15:41<07:08,  2.45it/s]"
     ]
    },
    {
     "name": "stdout",
     "output_type": "stream",
     "text": [
      "request error\n",
      "step: 2307\n",
      "request error\n",
      "step: 2308\n",
      "request error\n",
      "step: 2309\n",
      "request error\n",
      "step: 2310\n"
     ]
    },
    {
     "name": "stderr",
     "output_type": "stream",
     "text": [
      " 69%|██████▉   | 2315/3361 [15:42<07:05,  2.46it/s]"
     ]
    },
    {
     "name": "stdout",
     "output_type": "stream",
     "text": [
      "request error\n",
      "step: 2311\n",
      "request error\n",
      "step: 2312\n",
      "request error\n",
      "step: 2313\n",
      "request error\n",
      "step: 2314\n",
      "request error\n",
      "step: 2315\n"
     ]
    },
    {
     "name": "stderr",
     "output_type": "stream",
     "text": [
      "\r",
      " 69%|██████▉   | 2318/3361 [15:42<07:04,  2.46it/s]"
     ]
    },
    {
     "name": "stdout",
     "output_type": "stream",
     "text": [
      "request error\n",
      "step: 2316\n",
      "request error\n",
      "step: 2317\n",
      "request error\n",
      "step: 2318\n",
      "request error\n",
      "step: 2319\n",
      "request error\n",
      "step: 2320\n"
     ]
    },
    {
     "name": "stderr",
     "output_type": "stream",
     "text": [
      " 69%|██████▉   | 2324/3361 [15:43<07:01,  2.46it/s]"
     ]
    },
    {
     "name": "stdout",
     "output_type": "stream",
     "text": [
      "request error\n",
      "step: 2321\n",
      "request error\n",
      "step: 2322\n",
      "request error\n",
      "step: 2323\n",
      "request error\n",
      "step: 2324\n",
      "request error\n",
      "step: 2325\n"
     ]
    },
    {
     "name": "stderr",
     "output_type": "stream",
     "text": [
      " 69%|██████▉   | 2330/3361 [15:44<06:57,  2.47it/s]"
     ]
    },
    {
     "name": "stdout",
     "output_type": "stream",
     "text": [
      "request error\n",
      "step: 2326\n",
      "request error\n",
      "step: 2327\n",
      "request error\n",
      "step: 2328\n",
      "request error\n",
      "step: 2329\n",
      "request error\n",
      "step: 2330\n"
     ]
    },
    {
     "name": "stderr",
     "output_type": "stream",
     "text": [
      " 70%|██████▉   | 2336/3361 [15:45<06:54,  2.47it/s]"
     ]
    },
    {
     "name": "stdout",
     "output_type": "stream",
     "text": [
      "request error\n",
      "step: 2331\n",
      "request error\n",
      "step: 2332\n",
      "request error\n",
      "step: 2333\n",
      "request error\n",
      "step: 2334\n",
      "request error\n",
      "step: 2335\n"
     ]
    },
    {
     "name": "stderr",
     "output_type": "stream",
     "text": [
      "\r",
      " 70%|██████▉   | 2339/3361 [15:45<06:53,  2.47it/s]"
     ]
    },
    {
     "name": "stdout",
     "output_type": "stream",
     "text": [
      "request error\n",
      "step: 2336\n",
      "request error\n",
      "step: 2337\n",
      "request error\n",
      "step: 2338\n",
      "request error\n",
      "step: 2339\n",
      "request error\n",
      "step: 2340\n"
     ]
    },
    {
     "name": "stderr",
     "output_type": "stream",
     "text": [
      " 70%|██████▉   | 2345/3361 [15:46<06:50,  2.48it/s]"
     ]
    },
    {
     "name": "stdout",
     "output_type": "stream",
     "text": [
      "request error\n",
      "step: 2341\n",
      "request error\n",
      "step: 2342\n",
      "request error\n",
      "step: 2343\n",
      "request error\n",
      "step: 2344\n",
      "request error\n",
      "step: 2345\n",
      "request error\n",
      "step: 2346\n"
     ]
    },
    {
     "name": "stderr",
     "output_type": "stream",
     "text": [
      "\r",
      " 70%|██████▉   | 2348/3361 [15:46<06:48,  2.48it/s]"
     ]
    },
    {
     "name": "stdout",
     "output_type": "stream",
     "text": [
      "request error\n",
      "step: 2347\n",
      "request error\n",
      "step: 2348\n",
      "request error\n",
      "step: 2349\n",
      "request error\n",
      "step: 2350\n"
     ]
    },
    {
     "name": "stderr",
     "output_type": "stream",
     "text": [
      " 70%|███████   | 2354/3361 [15:48<06:45,  2.48it/s]"
     ]
    },
    {
     "name": "stdout",
     "output_type": "stream",
     "text": [
      "request error\n",
      "step: 2351\n",
      "request error\n",
      "step: 2352\n",
      "request error\n",
      "step: 2353\n",
      "request error\n",
      "step: 2354\n",
      "request error\n",
      "step: 2355\n"
     ]
    },
    {
     "name": "stderr",
     "output_type": "stream",
     "text": [
      " 70%|███████   | 2360/3361 [15:48<06:42,  2.49it/s]"
     ]
    },
    {
     "name": "stdout",
     "output_type": "stream",
     "text": [
      "request error\n",
      "step: 2356\n",
      "request error\n",
      "step: 2357\n",
      "request error\n",
      "step: 2358\n",
      "request error\n",
      "step: 2359\n",
      "request error\n",
      "step: 2360\n"
     ]
    },
    {
     "name": "stderr",
     "output_type": "stream",
     "text": [
      " 70%|███████   | 2366/3361 [15:49<06:39,  2.49it/s]"
     ]
    },
    {
     "name": "stdout",
     "output_type": "stream",
     "text": [
      "request error\n",
      "step: 2361\n",
      "request error\n",
      "step: 2362\n",
      "request error\n",
      "step: 2363\n",
      "request error\n",
      "step: 2364\n",
      "request error\n",
      "step: 2365\n",
      "request error\n",
      "step: 2366\n"
     ]
    },
    {
     "name": "stderr",
     "output_type": "stream",
     "text": [
      "\r",
      " 70%|███████   | 2369/3361 [15:49<06:37,  2.49it/s]"
     ]
    },
    {
     "name": "stdout",
     "output_type": "stream",
     "text": [
      "request error\n",
      "step: 2367\n",
      "request error\n",
      "step: 2368\n",
      "request error\n",
      "step: 2369\n",
      "request error\n",
      "step: 2370\n"
     ]
    },
    {
     "name": "stderr",
     "output_type": "stream",
     "text": [
      " 71%|███████   | 2377/3361 [15:51<06:33,  2.50it/s]"
     ]
    },
    {
     "name": "stdout",
     "output_type": "stream",
     "text": [
      "request error\n",
      "step: 2371\n",
      "request error\n",
      "step: 2372\n",
      "request error\n",
      "step: 2373\n",
      "request error\n",
      "step: 2374\n",
      "request error\n",
      "step: 2375\n",
      "request error\n",
      "step: 2376\n"
     ]
    },
    {
     "name": "stderr",
     "output_type": "stream",
     "text": [
      "\r",
      " 71%|███████   | 2380/3361 [15:51<06:32,  2.50it/s]"
     ]
    },
    {
     "name": "stdout",
     "output_type": "stream",
     "text": [
      "request error\n",
      "step: 2377\n",
      "request error\n",
      "step: 2378\n",
      "request error\n",
      "step: 2379\n",
      "request error\n",
      "step: 2380\n"
     ]
    },
    {
     "name": "stderr",
     "output_type": "stream",
     "text": [
      " 71%|███████   | 2386/3361 [15:52<06:29,  2.50it/s]"
     ]
    },
    {
     "name": "stdout",
     "output_type": "stream",
     "text": [
      "request error\n",
      "step: 2381\n",
      "request error\n",
      "step: 2382\n",
      "request error\n",
      "step: 2383\n",
      "request error\n",
      "step: 2384\n",
      "request error\n",
      "step: 2385\n",
      "request error\n",
      "step: 2386\n"
     ]
    },
    {
     "name": "stderr",
     "output_type": "stream",
     "text": [
      "\r",
      " 71%|███████   | 2389/3361 [15:52<06:27,  2.51it/s]"
     ]
    },
    {
     "name": "stdout",
     "output_type": "stream",
     "text": [
      "request error\n",
      "step: 2387\n",
      "request error\n",
      "step: 2388\n",
      "request error\n",
      "step: 2389\n",
      "request error\n",
      "step: 2390\n"
     ]
    },
    {
     "name": "stderr",
     "output_type": "stream",
     "text": [
      " 71%|███████▏  | 2395/3361 [15:53<06:24,  2.51it/s]"
     ]
    },
    {
     "name": "stdout",
     "output_type": "stream",
     "text": [
      "request error\n",
      "step: 2391\n",
      "request error\n",
      "step: 2392\n",
      "request error\n",
      "step: 2393\n",
      "request error\n",
      "step: 2394\n",
      "request error\n",
      "step: 2395\n"
     ]
    },
    {
     "name": "stderr",
     "output_type": "stream",
     "text": [
      "\r",
      " 71%|███████▏  | 2398/3361 [15:54<06:23,  2.51it/s]"
     ]
    },
    {
     "name": "stdout",
     "output_type": "stream",
     "text": [
      "request error\n",
      "step: 2396\n",
      "request error\n",
      "step: 2397\n",
      "request error\n",
      "step: 2398\n",
      "request error\n",
      "step: 2399\n",
      "request error\n",
      "step: 2400\n"
     ]
    },
    {
     "name": "stderr",
     "output_type": "stream",
     "text": [
      " 72%|███████▏  | 2404/3361 [15:55<06:20,  2.52it/s]"
     ]
    },
    {
     "name": "stdout",
     "output_type": "stream",
     "text": [
      "request error\n",
      "step: 2401\n",
      "request error\n",
      "step: 2402\n",
      "request error\n",
      "step: 2403\n",
      "request error\n",
      "step: 2404\n",
      "request error\n",
      "step: 2405\n"
     ]
    },
    {
     "name": "stderr",
     "output_type": "stream",
     "text": [
      " 72%|███████▏  | 2410/3361 [15:55<06:17,  2.52it/s]"
     ]
    },
    {
     "name": "stdout",
     "output_type": "stream",
     "text": [
      "request error\n",
      "step: 2406\n",
      "request error\n",
      "step: 2407\n",
      "request error\n",
      "step: 2408\n",
      "request error\n",
      "step: 2409\n",
      "request error\n",
      "step: 2410\n"
     ]
    },
    {
     "name": "stderr",
     "output_type": "stream",
     "text": [
      " 72%|███████▏  | 2416/3361 [15:56<06:14,  2.52it/s]"
     ]
    },
    {
     "name": "stdout",
     "output_type": "stream",
     "text": [
      "request error\n",
      "step: 2411\n",
      "request error\n",
      "step: 2412\n",
      "request error\n",
      "step: 2413\n",
      "request error\n",
      "step: 2414\n",
      "request error\n",
      "step: 2415\n",
      "request error\n",
      "step: 2416\n"
     ]
    },
    {
     "name": "stderr",
     "output_type": "stream",
     "text": [
      "\r",
      " 72%|███████▏  | 2419/3361 [15:56<06:12,  2.53it/s]"
     ]
    },
    {
     "name": "stdout",
     "output_type": "stream",
     "text": [
      "request error\n",
      "step: 2417\n",
      "request error\n",
      "step: 2418\n",
      "request error\n",
      "step: 2419\n",
      "request error\n",
      "step: 2420\n"
     ]
    },
    {
     "name": "stderr",
     "output_type": "stream",
     "text": [
      " 72%|███████▏  | 2424/3361 [15:58<06:10,  2.53it/s]"
     ]
    },
    {
     "name": "stdout",
     "output_type": "stream",
     "text": [
      "request error\n",
      "step: 2421\n",
      "request error\n",
      "step: 2422\n",
      "request error\n",
      "step: 2423\n",
      "request error\n",
      "step: 2424\n",
      "request error\n",
      "step: 2425\n"
     ]
    },
    {
     "name": "stderr",
     "output_type": "stream",
     "text": [
      " 72%|███████▏  | 2430/3361 [15:58<06:07,  2.54it/s]"
     ]
    },
    {
     "name": "stdout",
     "output_type": "stream",
     "text": [
      "request error\n",
      "step: 2426\n",
      "request error\n",
      "step: 2427\n",
      "request error\n",
      "step: 2428\n",
      "request error\n",
      "step: 2429\n",
      "request error\n",
      "step: 2430\n"
     ]
    },
    {
     "name": "stderr",
     "output_type": "stream",
     "text": [
      " 72%|███████▏  | 2436/3361 [15:59<06:04,  2.54it/s]"
     ]
    },
    {
     "name": "stdout",
     "output_type": "stream",
     "text": [
      "request error\n",
      "step: 2431\n",
      "request error\n",
      "step: 2432\n",
      "request error\n",
      "step: 2433\n",
      "request error\n",
      "step: 2434\n",
      "request error\n",
      "step: 2435\n",
      "request error\n",
      "step: 2436\n"
     ]
    },
    {
     "name": "stderr",
     "output_type": "stream",
     "text": [
      "\r",
      " 73%|███████▎  | 2439/3361 [15:59<06:02,  2.54it/s]"
     ]
    },
    {
     "name": "stdout",
     "output_type": "stream",
     "text": [
      "request error\n",
      "step: 2437\n",
      "request error\n",
      "step: 2438\n",
      "request error\n",
      "step: 2439\n",
      "request error\n",
      "step: 2440\n"
     ]
    },
    {
     "name": "stderr",
     "output_type": "stream",
     "text": [
      " 73%|███████▎  | 2445/3361 [16:01<06:00,  2.54it/s]"
     ]
    },
    {
     "name": "stdout",
     "output_type": "stream",
     "text": [
      "request error\n",
      "step: 2441\n",
      "request error\n",
      "step: 2442\n",
      "request error\n",
      "step: 2443\n",
      "request error\n",
      "step: 2444\n",
      "request error\n",
      "step: 2445\n"
     ]
    },
    {
     "name": "stderr",
     "output_type": "stream",
     "text": [
      "\r",
      " 73%|███████▎  | 2448/3361 [16:01<05:58,  2.55it/s]"
     ]
    },
    {
     "name": "stdout",
     "output_type": "stream",
     "text": [
      "request error\n",
      "step: 2446\n",
      "request error\n",
      "step: 2447\n",
      "request error\n",
      "step: 2448\n",
      "request error\n",
      "step: 2449\n",
      "request error\n",
      "step: 2450\n"
     ]
    },
    {
     "name": "stderr",
     "output_type": "stream",
     "text": [
      " 73%|███████▎  | 2454/3361 [16:02<05:55,  2.55it/s]"
     ]
    },
    {
     "name": "stdout",
     "output_type": "stream",
     "text": [
      "request error\n",
      "step: 2451\n",
      "request error\n",
      "step: 2452\n",
      "request error\n",
      "step: 2453\n",
      "request error\n",
      "step: 2454\n",
      "request error\n",
      "step: 2455\n"
     ]
    },
    {
     "name": "stderr",
     "output_type": "stream",
     "text": [
      " 73%|███████▎  | 2460/3361 [16:02<05:52,  2.56it/s]"
     ]
    },
    {
     "name": "stdout",
     "output_type": "stream",
     "text": [
      "request error\n",
      "step: 2456\n",
      "request error\n",
      "step: 2457\n",
      "request error\n",
      "step: 2458\n",
      "request error\n",
      "step: 2459\n",
      "request error\n",
      "step: 2460\n"
     ]
    },
    {
     "name": "stderr",
     "output_type": "stream",
     "text": [
      " 73%|███████▎  | 2466/3361 [16:03<05:49,  2.56it/s]"
     ]
    },
    {
     "name": "stdout",
     "output_type": "stream",
     "text": [
      "request error\n",
      "step: 2461\n",
      "request error\n",
      "step: 2462\n",
      "request error\n",
      "step: 2463\n",
      "request error\n",
      "step: 2464\n",
      "request error\n",
      "step: 2465\n",
      "request error\n",
      "step: 2466\n"
     ]
    },
    {
     "name": "stderr",
     "output_type": "stream",
     "text": [
      "\r",
      " 73%|███████▎  | 2469/3361 [16:04<05:48,  2.56it/s]"
     ]
    },
    {
     "name": "stdout",
     "output_type": "stream",
     "text": [
      "request error\n",
      "step: 2467\n",
      "request error\n",
      "step: 2468\n",
      "request error\n",
      "step: 2469\n",
      "request error\n",
      "step: 2470\n"
     ]
    },
    {
     "name": "stderr",
     "output_type": "stream",
     "text": [
      " 74%|███████▎  | 2475/3361 [16:05<05:45,  2.56it/s]"
     ]
    },
    {
     "name": "stdout",
     "output_type": "stream",
     "text": [
      "request error\n",
      "step: 2471\n",
      "request error\n",
      "step: 2472\n",
      "request error\n",
      "step: 2473\n",
      "request error\n",
      "step: 2474\n",
      "request error\n",
      "step: 2475\n"
     ]
    },
    {
     "name": "stderr",
     "output_type": "stream",
     "text": [
      "\r",
      " 74%|███████▎  | 2478/3361 [16:05<05:44,  2.57it/s]"
     ]
    },
    {
     "name": "stdout",
     "output_type": "stream",
     "text": [
      "request error\n",
      "step: 2476\n",
      "request error\n",
      "step: 2477\n",
      "request error\n",
      "step: 2478\n",
      "request error\n",
      "step: 2479\n",
      "request error\n",
      "step: 2480\n"
     ]
    },
    {
     "name": "stderr",
     "output_type": "stream",
     "text": [
      " 74%|███████▍  | 2487/3361 [16:06<05:39,  2.57it/s]"
     ]
    },
    {
     "name": "stdout",
     "output_type": "stream",
     "text": [
      "request error\n",
      "step: 2481\n",
      "request error\n",
      "step: 2482\n",
      "request error\n",
      "step: 2483\n",
      "request error\n",
      "step: 2484\n",
      "request error\n",
      "step: 2485\n",
      "request error\n",
      "step: 2486\n"
     ]
    },
    {
     "name": "stderr",
     "output_type": "stream",
     "text": [
      "\r",
      " 74%|███████▍  | 2490/3361 [16:06<05:38,  2.58it/s]"
     ]
    },
    {
     "name": "stdout",
     "output_type": "stream",
     "text": [
      "request error\n",
      "step: 2487\n",
      "request error\n",
      "step: 2488\n",
      "request error\n",
      "step: 2489\n",
      "request error\n",
      "step: 2490\n"
     ]
    },
    {
     "name": "stderr",
     "output_type": "stream",
     "text": [
      " 74%|███████▍  | 2496/3361 [16:08<05:35,  2.58it/s]"
     ]
    },
    {
     "name": "stdout",
     "output_type": "stream",
     "text": [
      "request error\n",
      "step: 2491\n",
      "request error\n",
      "step: 2492\n",
      "request error\n",
      "step: 2493\n",
      "request error\n",
      "step: 2494\n",
      "request error\n",
      "step: 2495\n"
     ]
    },
    {
     "name": "stderr",
     "output_type": "stream",
     "text": [
      "\r",
      " 74%|███████▍  | 2499/3361 [16:08<05:34,  2.58it/s]"
     ]
    },
    {
     "name": "stdout",
     "output_type": "stream",
     "text": [
      "request error\n",
      "step: 2496\n",
      "request error\n",
      "step: 2497\n",
      "request error\n",
      "step: 2498\n",
      "request error\n",
      "step: 2499\n",
      "request error\n",
      "step: 2500\n"
     ]
    },
    {
     "name": "stderr",
     "output_type": "stream",
     "text": [
      " 75%|███████▍  | 2504/3361 [16:09<05:31,  2.58it/s]"
     ]
    },
    {
     "name": "stdout",
     "output_type": "stream",
     "text": [
      "request error\n",
      "step: 2501\n",
      "request error\n",
      "step: 2502\n",
      "request error\n",
      "step: 2503\n",
      "request error\n",
      "step: 2504\n",
      "request error\n",
      "step: 2505\n"
     ]
    },
    {
     "name": "stderr",
     "output_type": "stream",
     "text": [
      " 75%|███████▍  | 2510/3361 [16:09<05:28,  2.59it/s]"
     ]
    },
    {
     "name": "stdout",
     "output_type": "stream",
     "text": [
      "request error\n",
      "step: 2506\n",
      "request error\n",
      "step: 2507\n",
      "request error\n",
      "step: 2508\n",
      "request error\n",
      "step: 2509\n",
      "request error\n",
      "step: 2510\n"
     ]
    },
    {
     "name": "stderr",
     "output_type": "stream",
     "text": [
      " 75%|███████▍  | 2516/3361 [16:11<05:26,  2.59it/s]"
     ]
    },
    {
     "name": "stdout",
     "output_type": "stream",
     "text": [
      "request error\n",
      "step: 2511\n",
      "request error\n",
      "step: 2512\n",
      "request error\n",
      "step: 2513\n",
      "request error\n",
      "step: 2514\n",
      "request error\n",
      "step: 2515\n",
      "request error\n",
      "step: 2516\n"
     ]
    },
    {
     "name": "stderr",
     "output_type": "stream",
     "text": [
      "\r",
      " 75%|███████▍  | 2519/3361 [16:11<05:24,  2.59it/s]"
     ]
    },
    {
     "name": "stdout",
     "output_type": "stream",
     "text": [
      "request error\n",
      "step: 2517\n",
      "request error\n",
      "step: 2518\n",
      "request error\n",
      "step: 2519\n",
      "request error\n",
      "step: 2520\n"
     ]
    },
    {
     "name": "stderr",
     "output_type": "stream",
     "text": [
      " 75%|███████▌  | 2524/3361 [16:12<05:22,  2.60it/s]"
     ]
    },
    {
     "name": "stdout",
     "output_type": "stream",
     "text": [
      "request error\n",
      "step: 2521\n",
      "request error\n",
      "step: 2522\n",
      "request error\n",
      "step: 2523\n",
      "request error\n",
      "step: 2524\n",
      "request error\n",
      "step: 2525\n"
     ]
    },
    {
     "name": "stderr",
     "output_type": "stream",
     "text": [
      " 75%|███████▌  | 2530/3361 [16:12<05:19,  2.60it/s]"
     ]
    },
    {
     "name": "stdout",
     "output_type": "stream",
     "text": [
      "request error\n",
      "step: 2526\n",
      "request error\n",
      "step: 2527\n",
      "request error\n",
      "step: 2528\n",
      "request error\n",
      "step: 2529\n",
      "request error\n",
      "step: 2530\n"
     ]
    },
    {
     "name": "stderr",
     "output_type": "stream",
     "text": [
      " 75%|███████▌  | 2536/3361 [16:13<05:16,  2.60it/s]"
     ]
    },
    {
     "name": "stdout",
     "output_type": "stream",
     "text": [
      "request error\n",
      "step: 2531\n",
      "request error\n",
      "step: 2532\n",
      "request error\n",
      "step: 2533\n",
      "request error\n",
      "step: 2534\n",
      "request error\n",
      "step: 2535\n"
     ]
    },
    {
     "name": "stderr",
     "output_type": "stream",
     "text": [
      "\r",
      " 76%|███████▌  | 2539/3361 [16:14<05:15,  2.61it/s]"
     ]
    },
    {
     "name": "stdout",
     "output_type": "stream",
     "text": [
      "request error\n",
      "step: 2536\n",
      "request error\n",
      "step: 2537\n",
      "request error\n",
      "step: 2538\n",
      "request error\n",
      "step: 2539\n",
      "request error\n",
      "step: 2540\n"
     ]
    },
    {
     "name": "stderr",
     "output_type": "stream",
     "text": [
      " 76%|███████▌  | 2544/3361 [16:15<05:13,  2.61it/s]"
     ]
    },
    {
     "name": "stdout",
     "output_type": "stream",
     "text": [
      "request error\n",
      "step: 2541\n",
      "request error\n",
      "step: 2542\n",
      "request error\n",
      "step: 2543\n",
      "request error\n",
      "step: 2544\n",
      "request error\n",
      "step: 2545\n"
     ]
    },
    {
     "name": "stderr",
     "output_type": "stream",
     "text": [
      " 76%|███████▌  | 2550/3361 [16:15<05:10,  2.61it/s]"
     ]
    },
    {
     "name": "stdout",
     "output_type": "stream",
     "text": [
      "request error\n",
      "step: 2546\n",
      "request error\n",
      "step: 2547\n",
      "request error\n",
      "step: 2548\n",
      "request error\n",
      "step: 2549\n",
      "request error\n",
      "step: 2550\n"
     ]
    },
    {
     "name": "stderr",
     "output_type": "stream",
     "text": [
      " 76%|███████▌  | 2556/3361 [16:16<05:07,  2.62it/s]"
     ]
    },
    {
     "name": "stdout",
     "output_type": "stream",
     "text": [
      "request error\n",
      "step: 2551\n",
      "request error\n",
      "step: 2552\n",
      "request error\n",
      "step: 2553\n",
      "request error\n",
      "step: 2554\n",
      "request error\n",
      "step: 2555\n",
      "request error\n",
      "step: 2556\n"
     ]
    },
    {
     "name": "stderr",
     "output_type": "stream",
     "text": [
      "\r",
      " 76%|███████▌  | 2559/3361 [16:16<05:06,  2.62it/s]"
     ]
    },
    {
     "name": "stdout",
     "output_type": "stream",
     "text": [
      "request error\n",
      "step: 2557\n",
      "request error\n",
      "step: 2558\n",
      "request error\n",
      "step: 2559\n",
      "request error\n",
      "step: 2560\n"
     ]
    },
    {
     "name": "stderr",
     "output_type": "stream",
     "text": [
      " 76%|███████▋  | 2564/3361 [16:18<05:04,  2.62it/s]"
     ]
    },
    {
     "name": "stdout",
     "output_type": "stream",
     "text": [
      "request error\n",
      "step: 2561\n",
      "request error\n",
      "step: 2562\n",
      "request error\n",
      "step: 2563\n",
      "request error\n",
      "step: 2564\n",
      "request error\n",
      "step: 2565\n"
     ]
    },
    {
     "name": "stderr",
     "output_type": "stream",
     "text": [
      " 76%|███████▋  | 2570/3361 [16:18<05:01,  2.63it/s]"
     ]
    },
    {
     "name": "stdout",
     "output_type": "stream",
     "text": [
      "request error\n",
      "step: 2566\n",
      "request error\n",
      "step: 2567\n",
      "request error\n",
      "step: 2568\n",
      "request error\n",
      "step: 2569\n",
      "request error\n",
      "step: 2570\n"
     ]
    },
    {
     "name": "stderr",
     "output_type": "stream",
     "text": [
      " 77%|███████▋  | 2576/3361 [16:19<04:58,  2.63it/s]"
     ]
    },
    {
     "name": "stdout",
     "output_type": "stream",
     "text": [
      "request error\n",
      "step: 2571\n",
      "request error\n",
      "step: 2572\n",
      "request error\n",
      "step: 2573\n",
      "request error\n",
      "step: 2574\n",
      "request error\n",
      "step: 2575\n"
     ]
    },
    {
     "name": "stderr",
     "output_type": "stream",
     "text": [
      "\r",
      " 77%|███████▋  | 2579/3361 [16:19<04:57,  2.63it/s]"
     ]
    },
    {
     "name": "stdout",
     "output_type": "stream",
     "text": [
      "request error\n",
      "step: 2576\n",
      "request error\n",
      "step: 2577\n",
      "request error\n",
      "step: 2578\n",
      "request error\n",
      "step: 2579\n",
      "request error\n",
      "step: 2580\n"
     ]
    },
    {
     "name": "stderr",
     "output_type": "stream",
     "text": [
      " 77%|███████▋  | 2584/3361 [16:20<04:54,  2.63it/s]"
     ]
    },
    {
     "name": "stdout",
     "output_type": "stream",
     "text": [
      "request error\n",
      "step: 2581\n",
      "request error\n",
      "step: 2582\n",
      "request error\n",
      "step: 2583\n",
      "request error\n",
      "step: 2584\n",
      "request error\n",
      "step: 2585\n"
     ]
    },
    {
     "name": "stderr",
     "output_type": "stream",
     "text": [
      " 77%|███████▋  | 2590/3361 [16:21<04:52,  2.64it/s]"
     ]
    },
    {
     "name": "stdout",
     "output_type": "stream",
     "text": [
      "request error\n",
      "step: 2586\n",
      "request error\n",
      "step: 2587\n",
      "request error\n",
      "step: 2588\n",
      "request error\n",
      "step: 2589\n",
      "request error\n",
      "step: 2590\n"
     ]
    },
    {
     "name": "stderr",
     "output_type": "stream",
     "text": [
      " 77%|███████▋  | 2596/3361 [16:22<04:49,  2.64it/s]"
     ]
    },
    {
     "name": "stdout",
     "output_type": "stream",
     "text": [
      "request error\n",
      "step: 2591\n",
      "request error\n",
      "step: 2592\n",
      "request error\n",
      "step: 2593\n",
      "request error\n",
      "step: 2594\n",
      "request error\n",
      "step: 2595\n"
     ]
    },
    {
     "name": "stderr",
     "output_type": "stream",
     "text": [
      "\r",
      " 77%|███████▋  | 2599/3361 [16:22<04:48,  2.64it/s]"
     ]
    },
    {
     "name": "stdout",
     "output_type": "stream",
     "text": [
      "request error\n",
      "step: 2596\n",
      "request error\n",
      "step: 2597\n",
      "request error\n",
      "step: 2598\n",
      "request error\n",
      "step: 2599\n",
      "request error\n",
      "step: 2600\n"
     ]
    },
    {
     "name": "stderr",
     "output_type": "stream",
     "text": [
      " 77%|███████▋  | 2604/3361 [16:23<04:46,  2.65it/s]"
     ]
    },
    {
     "name": "stdout",
     "output_type": "stream",
     "text": [
      "request error\n",
      "step: 2601\n",
      "request error\n",
      "step: 2602\n",
      "request error\n",
      "step: 2603\n",
      "request error\n",
      "step: 2604\n",
      "request error\n",
      "step: 2605\n"
     ]
    },
    {
     "name": "stderr",
     "output_type": "stream",
     "text": [
      " 78%|███████▊  | 2610/3361 [16:24<04:43,  2.65it/s]"
     ]
    },
    {
     "name": "stdout",
     "output_type": "stream",
     "text": [
      "request error\n",
      "step: 2606\n",
      "request error\n",
      "step: 2607\n",
      "request error\n",
      "step: 2608\n",
      "request error\n",
      "step: 2609\n",
      "request error\n",
      "step: 2610\n"
     ]
    },
    {
     "name": "stderr",
     "output_type": "stream",
     "text": [
      " 78%|███████▊  | 2616/3361 [16:25<04:40,  2.65it/s]"
     ]
    },
    {
     "name": "stdout",
     "output_type": "stream",
     "text": [
      "request error\n",
      "step: 2611\n",
      "request error\n",
      "step: 2612\n",
      "request error\n",
      "step: 2613\n",
      "request error\n",
      "step: 2614\n",
      "request error\n",
      "step: 2615\n"
     ]
    },
    {
     "name": "stderr",
     "output_type": "stream",
     "text": [
      "\r",
      " 78%|███████▊  | 2619/3361 [16:25<04:39,  2.66it/s]"
     ]
    },
    {
     "name": "stdout",
     "output_type": "stream",
     "text": [
      "request error\n",
      "step: 2616\n",
      "request error\n",
      "step: 2617\n",
      "request error\n",
      "step: 2618\n",
      "request error\n",
      "step: 2619\n",
      "request error\n",
      "step: 2620\n"
     ]
    },
    {
     "name": "stderr",
     "output_type": "stream",
     "text": [
      " 78%|███████▊  | 2624/3361 [16:26<04:37,  2.66it/s]"
     ]
    },
    {
     "name": "stdout",
     "output_type": "stream",
     "text": [
      "request error\n",
      "step: 2621\n",
      "request error\n",
      "step: 2622\n",
      "request error\n",
      "step: 2623\n",
      "request error\n",
      "step: 2624\n",
      "request error\n",
      "step: 2625\n"
     ]
    },
    {
     "name": "stderr",
     "output_type": "stream",
     "text": [
      " 78%|███████▊  | 2630/3361 [16:26<04:34,  2.66it/s]"
     ]
    },
    {
     "name": "stdout",
     "output_type": "stream",
     "text": [
      "request error\n",
      "step: 2626\n",
      "request error\n",
      "step: 2627\n",
      "request error\n",
      "step: 2628\n",
      "request error\n",
      "step: 2629\n",
      "request error\n",
      "step: 2630\n"
     ]
    },
    {
     "name": "stderr",
     "output_type": "stream",
     "text": [
      " 78%|███████▊  | 2635/3361 [16:28<04:32,  2.67it/s]"
     ]
    },
    {
     "name": "stdout",
     "output_type": "stream",
     "text": [
      "request error\n",
      "step: 2631\n",
      "request error\n",
      "step: 2632\n",
      "request error\n",
      "step: 2633\n",
      "request error\n",
      "step: 2634\n",
      "request error\n",
      "step: 2635\n"
     ]
    },
    {
     "name": "stderr",
     "output_type": "stream",
     "text": [
      "\r",
      " 78%|███████▊  | 2638/3361 [16:28<04:30,  2.67it/s]"
     ]
    },
    {
     "name": "stdout",
     "output_type": "stream",
     "text": [
      "request error\n",
      "step: 2636\n",
      "request error\n",
      "step: 2637\n",
      "request error\n",
      "step: 2638\n",
      "request error\n",
      "step: 2639\n",
      "request error\n",
      "step: 2640\n"
     ]
    },
    {
     "name": "stderr",
     "output_type": "stream",
     "text": [
      " 79%|███████▉  | 2647/3361 [16:29<04:26,  2.67it/s]"
     ]
    },
    {
     "name": "stdout",
     "output_type": "stream",
     "text": [
      "request error\n",
      "step: 2641\n",
      "request error\n",
      "step: 2642\n",
      "request error\n",
      "step: 2643\n",
      "request error\n",
      "step: 2644\n",
      "request error\n",
      "step: 2645\n",
      "request error\n",
      "step: 2646\n"
     ]
    },
    {
     "name": "stderr",
     "output_type": "stream",
     "text": [
      "\r",
      " 79%|███████▉  | 2650/3361 [16:29<04:25,  2.68it/s]"
     ]
    },
    {
     "name": "stdout",
     "output_type": "stream",
     "text": [
      "request error\n",
      "step: 2647\n",
      "request error\n",
      "step: 2648\n",
      "request error\n",
      "step: 2649\n",
      "request error\n",
      "step: 2650\n"
     ]
    },
    {
     "name": "stderr",
     "output_type": "stream",
     "text": [
      " 79%|███████▉  | 2656/3361 [16:31<04:23,  2.68it/s]"
     ]
    },
    {
     "name": "stdout",
     "output_type": "stream",
     "text": [
      "request error\n",
      "step: 2651\n",
      "request error\n",
      "step: 2652\n",
      "request error\n",
      "step: 2653\n",
      "request error\n",
      "step: 2654\n",
      "request error\n",
      "step: 2655\n"
     ]
    },
    {
     "name": "stderr",
     "output_type": "stream",
     "text": [
      "\r",
      " 79%|███████▉  | 2659/3361 [16:31<04:21,  2.68it/s]"
     ]
    },
    {
     "name": "stdout",
     "output_type": "stream",
     "text": [
      "request error\n",
      "step: 2656\n",
      "request error\n",
      "step: 2657\n",
      "request error\n",
      "step: 2658\n",
      "request error\n",
      "step: 2659\n",
      "request error\n",
      "step: 2660\n"
     ]
    },
    {
     "name": "stderr",
     "output_type": "stream",
     "text": [
      " 79%|███████▉  | 2664/3361 [16:32<04:19,  2.68it/s]"
     ]
    },
    {
     "name": "stdout",
     "output_type": "stream",
     "text": [
      "request error\n",
      "step: 2661\n",
      "request error\n",
      "step: 2662\n",
      "request error\n",
      "step: 2663\n",
      "request error\n",
      "step: 2664\n",
      "request error\n",
      "step: 2665\n"
     ]
    },
    {
     "name": "stderr",
     "output_type": "stream",
     "text": [
      " 79%|███████▉  | 2670/3361 [16:32<04:16,  2.69it/s]"
     ]
    },
    {
     "name": "stdout",
     "output_type": "stream",
     "text": [
      "request error\n",
      "step: 2666\n",
      "request error\n",
      "step: 2667\n",
      "request error\n",
      "step: 2668\n",
      "request error\n",
      "step: 2669\n",
      "request error\n",
      "step: 2670\n"
     ]
    },
    {
     "name": "stderr",
     "output_type": "stream",
     "text": [
      " 80%|███████▉  | 2676/3361 [16:33<04:14,  2.69it/s]"
     ]
    },
    {
     "name": "stdout",
     "output_type": "stream",
     "text": [
      "request error\n",
      "step: 2671\n",
      "request error\n",
      "step: 2672\n",
      "request error\n",
      "step: 2673\n",
      "request error\n",
      "step: 2674\n",
      "request error\n",
      "step: 2675\n"
     ]
    },
    {
     "name": "stderr",
     "output_type": "stream",
     "text": [
      "\r",
      " 80%|███████▉  | 2679/3361 [16:34<04:13,  2.69it/s]"
     ]
    },
    {
     "name": "stdout",
     "output_type": "stream",
     "text": [
      "request error\n",
      "step: 2676\n",
      "request error\n",
      "step: 2677\n",
      "request error\n",
      "step: 2678\n",
      "request error\n",
      "step: 2679\n",
      "request error\n",
      "step: 2680\n"
     ]
    },
    {
     "name": "stderr",
     "output_type": "stream",
     "text": [
      " 80%|███████▉  | 2687/3361 [16:35<04:09,  2.70it/s]"
     ]
    },
    {
     "name": "stdout",
     "output_type": "stream",
     "text": [
      "request error\n",
      "step: 2681\n",
      "request error\n",
      "step: 2682\n",
      "request error\n",
      "step: 2683\n",
      "request error\n",
      "step: 2684\n",
      "request error\n",
      "step: 2685\n",
      "request error\n",
      "step: 2686\n"
     ]
    },
    {
     "name": "stderr",
     "output_type": "stream",
     "text": [
      "\r",
      " 80%|████████  | 2690/3361 [16:35<04:08,  2.70it/s]"
     ]
    },
    {
     "name": "stdout",
     "output_type": "stream",
     "text": [
      "request error\n",
      "step: 2687\n",
      "request error\n",
      "step: 2688\n",
      "request error\n",
      "step: 2689\n",
      "request error\n",
      "step: 2690\n"
     ]
    },
    {
     "name": "stderr",
     "output_type": "stream",
     "text": [
      " 80%|████████  | 2696/3361 [16:36<04:05,  2.70it/s]"
     ]
    },
    {
     "name": "stdout",
     "output_type": "stream",
     "text": [
      "request error\n",
      "step: 2691\n",
      "request error\n",
      "step: 2692\n",
      "request error\n",
      "step: 2693\n",
      "request error\n",
      "step: 2694\n",
      "request error\n",
      "step: 2695\n"
     ]
    },
    {
     "name": "stderr",
     "output_type": "stream",
     "text": [
      "\r",
      " 80%|████████  | 2699/3361 [16:36<04:04,  2.71it/s]"
     ]
    },
    {
     "name": "stdout",
     "output_type": "stream",
     "text": [
      "request error\n",
      "step: 2696\n",
      "request error\n",
      "step: 2697\n",
      "request error\n",
      "step: 2698\n",
      "request error\n",
      "step: 2699\n",
      "request error\n",
      "step: 2700\n"
     ]
    },
    {
     "name": "stderr",
     "output_type": "stream",
     "text": [
      " 80%|████████  | 2704/3361 [16:38<04:02,  2.71it/s]"
     ]
    },
    {
     "name": "stdout",
     "output_type": "stream",
     "text": [
      "request error\n",
      "step: 2701\n",
      "request error\n",
      "step: 2702\n",
      "request error\n",
      "step: 2703\n",
      "request error\n",
      "step: 2704\n",
      "request error\n",
      "step: 2705\n"
     ]
    },
    {
     "name": "stderr",
     "output_type": "stream",
     "text": [
      " 81%|████████  | 2710/3361 [16:38<03:59,  2.71it/s]"
     ]
    },
    {
     "name": "stdout",
     "output_type": "stream",
     "text": [
      "request error\n",
      "step: 2706\n",
      "request error\n",
      "step: 2707\n",
      "request error\n",
      "step: 2708\n",
      "request error\n",
      "step: 2709\n",
      "request error\n",
      "step: 2710\n"
     ]
    },
    {
     "name": "stderr",
     "output_type": "stream",
     "text": [
      " 81%|████████  | 2715/3361 [16:39<03:57,  2.72it/s]"
     ]
    },
    {
     "name": "stdout",
     "output_type": "stream",
     "text": [
      "request error\n",
      "step: 2711\n",
      "request error\n",
      "step: 2712\n",
      "request error\n",
      "step: 2713\n",
      "request error\n",
      "step: 2714\n",
      "request error\n",
      "step: 2715\n"
     ]
    },
    {
     "name": "stderr",
     "output_type": "stream",
     "text": [
      "\r",
      " 81%|████████  | 2718/3361 [16:39<03:56,  2.72it/s]"
     ]
    },
    {
     "name": "stdout",
     "output_type": "stream",
     "text": [
      "request error\n",
      "step: 2716\n",
      "request error\n",
      "step: 2717\n",
      "request error\n",
      "step: 2718\n",
      "request error\n",
      "step: 2719\n",
      "request error\n",
      "step: 2720\n"
     ]
    },
    {
     "name": "stderr",
     "output_type": "stream",
     "text": [
      " 81%|████████  | 2727/3361 [16:41<03:52,  2.72it/s]"
     ]
    },
    {
     "name": "stdout",
     "output_type": "stream",
     "text": [
      "request error\n",
      "step: 2721\n",
      "request error\n",
      "step: 2722\n",
      "request error\n",
      "step: 2723\n",
      "request error\n",
      "step: 2724\n",
      "request error\n",
      "step: 2725\n",
      "request error\n",
      "step: 2726\n"
     ]
    },
    {
     "name": "stderr",
     "output_type": "stream",
     "text": [
      "\r",
      " 81%|████████  | 2730/3361 [16:41<03:51,  2.73it/s]"
     ]
    },
    {
     "name": "stdout",
     "output_type": "stream",
     "text": [
      "request error\n",
      "step: 2727\n",
      "request error\n",
      "step: 2728\n",
      "request error\n",
      "step: 2729\n",
      "request error\n",
      "step: 2730\n"
     ]
    },
    {
     "name": "stderr",
     "output_type": "stream",
     "text": [
      " 81%|████████▏ | 2736/3361 [16:42<03:49,  2.73it/s]"
     ]
    },
    {
     "name": "stdout",
     "output_type": "stream",
     "text": [
      "request error\n",
      "step: 2731\n",
      "request error\n",
      "step: 2732\n",
      "request error\n",
      "step: 2733\n",
      "request error\n",
      "step: 2734\n",
      "request error\n",
      "step: 2735\n",
      "request error\n",
      "step: 2736\n"
     ]
    },
    {
     "name": "stderr",
     "output_type": "stream",
     "text": [
      "\r",
      " 81%|████████▏ | 2739/3361 [16:42<03:47,  2.73it/s]"
     ]
    },
    {
     "name": "stdout",
     "output_type": "stream",
     "text": [
      "request error\n",
      "step: 2737\n",
      "request error\n",
      "step: 2738\n",
      "request error\n",
      "step: 2739\n",
      "request error\n",
      "step: 2740\n"
     ]
    },
    {
     "name": "stderr",
     "output_type": "stream",
     "text": [
      " 82%|████████▏ | 2744/3361 [16:43<03:45,  2.73it/s]"
     ]
    },
    {
     "name": "stdout",
     "output_type": "stream",
     "text": [
      "request error\n",
      "step: 2741\n",
      "request error\n",
      "step: 2742\n",
      "request error\n",
      "step: 2743\n",
      "request error\n",
      "step: 2744\n",
      "request error\n",
      "step: 2745\n"
     ]
    },
    {
     "name": "stderr",
     "output_type": "stream",
     "text": [
      " 82%|████████▏ | 2750/3361 [16:44<03:43,  2.74it/s]"
     ]
    },
    {
     "name": "stdout",
     "output_type": "stream",
     "text": [
      "request error\n",
      "step: 2746\n",
      "request error\n",
      "step: 2747\n",
      "request error\n",
      "step: 2748\n",
      "request error\n",
      "step: 2749\n",
      "request error\n",
      "step: 2750\n"
     ]
    },
    {
     "name": "stderr",
     "output_type": "stream",
     "text": [
      " 82%|████████▏ | 2755/3361 [16:45<03:41,  2.74it/s]"
     ]
    },
    {
     "name": "stdout",
     "output_type": "stream",
     "text": [
      "request error\n",
      "step: 2751\n",
      "request error\n",
      "step: 2752\n",
      "request error\n",
      "step: 2753\n",
      "request error\n",
      "step: 2754\n",
      "request error\n",
      "step: 2755\n"
     ]
    },
    {
     "name": "stderr",
     "output_type": "stream",
     "text": [
      "\r",
      " 82%|████████▏ | 2758/3361 [16:45<03:39,  2.74it/s]"
     ]
    },
    {
     "name": "stdout",
     "output_type": "stream",
     "text": [
      "request error\n",
      "step: 2756\n",
      "request error\n",
      "step: 2757\n"
     ]
    },
    {
     "name": "stderr",
     "output_type": "stream",
     "text": [
      "\r",
      " 82%|████████▏ | 2760/3361 [16:45<03:39,  2.74it/s]"
     ]
    },
    {
     "name": "stdout",
     "output_type": "stream",
     "text": [
      "request error\n",
      "step: 2758\n",
      "request error\n",
      "step: 2759\n",
      "request error\n",
      "step: 2760\n"
     ]
    },
    {
     "name": "stderr",
     "output_type": "stream",
     "text": [
      " 82%|████████▏ | 2765/3361 [16:47<03:37,  2.75it/s]"
     ]
    },
    {
     "name": "stdout",
     "output_type": "stream",
     "text": [
      "request error\n",
      "step: 2761\n",
      "request error\n",
      "step: 2762\n",
      "request error\n",
      "step: 2763\n",
      "request error\n",
      "step: 2764\n",
      "request error\n",
      "step: 2765\n"
     ]
    },
    {
     "name": "stderr",
     "output_type": "stream",
     "text": [
      "\r",
      " 82%|████████▏ | 2768/3361 [16:47<03:35,  2.75it/s]"
     ]
    },
    {
     "name": "stdout",
     "output_type": "stream",
     "text": [
      "request error\n",
      "step: 2766\n",
      "request error\n",
      "step: 2767\n",
      "request error\n",
      "step: 2768\n",
      "request error\n",
      "step: 2769\n",
      "request error\n",
      "step: 2770\n"
     ]
    },
    {
     "name": "stderr",
     "output_type": "stream",
     "text": [
      " 83%|████████▎ | 2774/3361 [16:48<03:33,  2.75it/s]"
     ]
    },
    {
     "name": "stdout",
     "output_type": "stream",
     "text": [
      "request error\n",
      "step: 2771\n",
      "request error\n",
      "step: 2772\n",
      "request error\n",
      "step: 2773\n",
      "request error\n",
      "step: 2774\n",
      "request error\n",
      "step: 2775\n"
     ]
    },
    {
     "name": "stderr",
     "output_type": "stream",
     "text": [
      " 83%|████████▎ | 2780/3361 [16:48<03:30,  2.76it/s]"
     ]
    },
    {
     "name": "stdout",
     "output_type": "stream",
     "text": [
      "request error\n",
      "step: 2776\n",
      "request error\n",
      "step: 2777\n",
      "request error\n",
      "step: 2778\n",
      "request error\n",
      "step: 2779\n",
      "request error\n",
      "step: 2780\n"
     ]
    },
    {
     "name": "stderr",
     "output_type": "stream",
     "text": [
      " 83%|████████▎ | 2785/3361 [16:50<03:28,  2.76it/s]"
     ]
    },
    {
     "name": "stdout",
     "output_type": "stream",
     "text": [
      "request error\n",
      "step: 2781\n",
      "request error\n",
      "step: 2782\n",
      "request error\n",
      "step: 2783\n",
      "request error\n",
      "step: 2784\n",
      "request error\n",
      "step: 2785\n"
     ]
    },
    {
     "name": "stderr",
     "output_type": "stream",
     "text": [
      "\r",
      " 83%|████████▎ | 2788/3361 [16:50<03:27,  2.76it/s]"
     ]
    },
    {
     "name": "stdout",
     "output_type": "stream",
     "text": [
      "request error\n",
      "step: 2786\n",
      "request error\n",
      "step: 2787\n",
      "request error\n",
      "step: 2788\n",
      "request error\n",
      "step: 2789\n",
      "request error\n",
      "step: 2790\n"
     ]
    },
    {
     "name": "stderr",
     "output_type": "stream",
     "text": [
      " 83%|████████▎ | 2794/3361 [16:51<03:25,  2.76it/s]"
     ]
    },
    {
     "name": "stdout",
     "output_type": "stream",
     "text": [
      "request error\n",
      "step: 2791\n",
      "request error\n",
      "step: 2792\n",
      "request error\n",
      "step: 2793\n",
      "request error\n",
      "step: 2794\n",
      "request error\n",
      "step: 2795\n"
     ]
    },
    {
     "name": "stderr",
     "output_type": "stream",
     "text": [
      " 83%|████████▎ | 2800/3361 [16:51<03:22,  2.77it/s]"
     ]
    },
    {
     "name": "stdout",
     "output_type": "stream",
     "text": [
      "request error\n",
      "step: 2796\n",
      "request error\n",
      "step: 2797\n",
      "request error\n",
      "step: 2798\n",
      "request error\n",
      "step: 2799\n",
      "request error\n",
      "step: 2800\n"
     ]
    },
    {
     "name": "stderr",
     "output_type": "stream",
     "text": [
      " 83%|████████▎ | 2806/3361 [16:52<03:20,  2.77it/s]"
     ]
    },
    {
     "name": "stdout",
     "output_type": "stream",
     "text": [
      "request error\n",
      "step: 2801\n",
      "request error\n",
      "step: 2802\n",
      "request error\n",
      "step: 2803\n",
      "request error\n",
      "step: 2804\n",
      "request error\n",
      "step: 2805\n"
     ]
    },
    {
     "name": "stderr",
     "output_type": "stream",
     "text": [
      "\r",
      " 84%|████████▎ | 2809/3361 [16:53<03:19,  2.77it/s]"
     ]
    },
    {
     "name": "stdout",
     "output_type": "stream",
     "text": [
      "request error\n",
      "step: 2806\n",
      "request error\n",
      "step: 2807\n",
      "request error\n",
      "step: 2808\n",
      "request error\n",
      "step: 2809\n",
      "request error\n",
      "step: 2810\n"
     ]
    },
    {
     "name": "stderr",
     "output_type": "stream",
     "text": [
      " 84%|████████▎ | 2814/3361 [16:54<03:17,  2.77it/s]"
     ]
    },
    {
     "name": "stdout",
     "output_type": "stream",
     "text": [
      "request error\n",
      "step: 2811\n",
      "request error\n",
      "step: 2812\n",
      "request error\n",
      "step: 2813\n",
      "request error\n",
      "step: 2814\n",
      "request error\n",
      "step: 2815\n"
     ]
    },
    {
     "name": "stderr",
     "output_type": "stream",
     "text": [
      " 84%|████████▍ | 2820/3361 [16:54<03:14,  2.78it/s]"
     ]
    },
    {
     "name": "stdout",
     "output_type": "stream",
     "text": [
      "request error\n",
      "step: 2816\n",
      "request error\n",
      "step: 2817\n",
      "request error\n",
      "step: 2818\n",
      "request error\n",
      "step: 2819\n",
      "request error\n",
      "step: 2820\n"
     ]
    },
    {
     "name": "stderr",
     "output_type": "stream",
     "text": [
      " 84%|████████▍ | 2825/3361 [16:55<03:12,  2.78it/s]"
     ]
    },
    {
     "name": "stdout",
     "output_type": "stream",
     "text": [
      "request error\n",
      "step: 2821\n",
      "request error\n",
      "step: 2822\n",
      "request error\n",
      "step: 2823\n",
      "request error\n",
      "step: 2824\n",
      "request error\n",
      "step: 2825\n",
      "request error\n",
      "step: 2826\n"
     ]
    },
    {
     "name": "stderr",
     "output_type": "stream",
     "text": [
      "\r",
      " 84%|████████▍ | 2828/3361 [16:55<03:11,  2.78it/s]"
     ]
    },
    {
     "name": "stdout",
     "output_type": "stream",
     "text": [
      "request error\n",
      "step: 2827\n",
      "request error\n",
      "step: 2828\n",
      "request error\n",
      "step: 2829\n",
      "request error\n",
      "step: 2830\n"
     ]
    },
    {
     "name": "stderr",
     "output_type": "stream",
     "text": [
      " 84%|████████▍ | 2834/3361 [16:57<03:09,  2.79it/s]"
     ]
    },
    {
     "name": "stdout",
     "output_type": "stream",
     "text": [
      "request error\n",
      "step: 2831\n",
      "request error\n",
      "step: 2832\n",
      "request error\n",
      "step: 2833\n",
      "request error\n",
      "step: 2834\n",
      "request error\n",
      "step: 2835\n",
      "request error\n",
      "step: 2836\n"
     ]
    },
    {
     "name": "stderr",
     "output_type": "stream",
     "text": [
      " 84%|████████▍ | 2840/3361 [16:57<03:06,  2.79it/s]"
     ]
    },
    {
     "name": "stdout",
     "output_type": "stream",
     "text": [
      "request error\n",
      "step: 2837\n",
      "request error\n",
      "step: 2838\n",
      "request error\n",
      "step: 2839\n",
      "request error\n",
      "step: 2840\n"
     ]
    },
    {
     "name": "stderr",
     "output_type": "stream",
     "text": [
      " 85%|████████▍ | 2846/3361 [16:58<03:04,  2.79it/s]"
     ]
    },
    {
     "name": "stdout",
     "output_type": "stream",
     "text": [
      "request error\n",
      "step: 2841\n",
      "request error\n",
      "step: 2842\n",
      "request error\n",
      "step: 2843\n",
      "request error\n",
      "step: 2844\n",
      "request error\n",
      "step: 2845\n",
      "request error\n",
      "step: 2846\n"
     ]
    },
    {
     "name": "stderr",
     "output_type": "stream",
     "text": [
      "\r",
      " 85%|████████▍ | 2849/3361 [16:58<03:03,  2.80it/s]"
     ]
    },
    {
     "name": "stdout",
     "output_type": "stream",
     "text": [
      "request error\n",
      "step: 2847\n",
      "request error\n",
      "step: 2848\n",
      "request error\n",
      "step: 2849\n",
      "request error\n",
      "step: 2850\n"
     ]
    },
    {
     "name": "stderr",
     "output_type": "stream",
     "text": [
      " 85%|████████▌ | 2857/3361 [17:00<02:59,  2.80it/s]"
     ]
    },
    {
     "name": "stdout",
     "output_type": "stream",
     "text": [
      "request error\n",
      "step: 2851\n",
      "request error\n",
      "step: 2852\n",
      "request error\n",
      "step: 2853\n",
      "request error\n",
      "step: 2854\n",
      "request error\n",
      "step: 2855\n",
      "request error\n",
      "step: 2856\n"
     ]
    },
    {
     "name": "stderr",
     "output_type": "stream",
     "text": [
      "\r",
      " 85%|████████▌ | 2860/3361 [17:00<02:58,  2.80it/s]"
     ]
    },
    {
     "name": "stdout",
     "output_type": "stream",
     "text": [
      "request error\n",
      "step: 2857\n",
      "request error\n",
      "step: 2858\n",
      "request error\n",
      "step: 2859\n",
      "request error\n",
      "step: 2860\n"
     ]
    },
    {
     "name": "stderr",
     "output_type": "stream",
     "text": [
      " 85%|████████▌ | 2866/3361 [17:01<02:56,  2.81it/s]"
     ]
    },
    {
     "name": "stdout",
     "output_type": "stream",
     "text": [
      "request error\n",
      "step: 2861\n",
      "request error\n",
      "step: 2862\n",
      "request error\n",
      "step: 2863\n",
      "request error\n",
      "step: 2864\n",
      "request error\n",
      "step: 2865\n"
     ]
    },
    {
     "name": "stderr",
     "output_type": "stream",
     "text": [
      "\r",
      " 85%|████████▌ | 2869/3361 [17:01<02:55,  2.81it/s]"
     ]
    },
    {
     "name": "stdout",
     "output_type": "stream",
     "text": [
      "request error\n",
      "step: 2866\n",
      "request error\n",
      "step: 2867\n",
      "request error\n",
      "step: 2868\n",
      "request error\n",
      "step: 2869\n",
      "request error\n",
      "step: 2870\n"
     ]
    },
    {
     "name": "stderr",
     "output_type": "stream",
     "text": [
      " 86%|████████▌ | 2875/3361 [17:02<02:52,  2.81it/s]"
     ]
    },
    {
     "name": "stdout",
     "output_type": "stream",
     "text": [
      "request error\n",
      "step: 2871\n",
      "request error\n",
      "step: 2872\n",
      "request error\n",
      "step: 2873\n",
      "request error\n",
      "step: 2874\n",
      "request error\n",
      "step: 2875\n",
      "request error\n",
      "step: 2876\n"
     ]
    },
    {
     "name": "stderr",
     "output_type": "stream",
     "text": [
      "\r",
      " 86%|████████▌ | 2878/3361 [17:02<02:51,  2.81it/s]"
     ]
    },
    {
     "name": "stdout",
     "output_type": "stream",
     "text": [
      "request error\n",
      "step: 2877\n",
      "request error\n",
      "step: 2878\n",
      "request error\n",
      "step: 2879\n",
      "request error\n",
      "step: 2880\n"
     ]
    },
    {
     "name": "stderr",
     "output_type": "stream",
     "text": [
      " 86%|████████▌ | 2887/3361 [17:04<02:48,  2.82it/s]"
     ]
    },
    {
     "name": "stdout",
     "output_type": "stream",
     "text": [
      "request error\n",
      "step: 2881\n",
      "request error\n",
      "step: 2882\n",
      "request error\n",
      "step: 2883\n",
      "request error\n",
      "step: 2884\n",
      "request error\n",
      "step: 2885\n",
      "request error\n",
      "step: 2886\n"
     ]
    },
    {
     "name": "stderr",
     "output_type": "stream",
     "text": [
      "\r",
      " 86%|████████▌ | 2890/3361 [17:04<02:46,  2.82it/s]"
     ]
    },
    {
     "name": "stdout",
     "output_type": "stream",
     "text": [
      "request error\n",
      "step: 2887\n",
      "request error\n",
      "step: 2888\n",
      "request error\n",
      "step: 2889\n",
      "request error\n",
      "step: 2890\n"
     ]
    },
    {
     "name": "stderr",
     "output_type": "stream",
     "text": [
      " 86%|████████▌ | 2896/3361 [17:05<02:44,  2.82it/s]"
     ]
    },
    {
     "name": "stdout",
     "output_type": "stream",
     "text": [
      "request error\n",
      "step: 2891\n",
      "request error\n",
      "step: 2892\n",
      "request error\n",
      "step: 2893\n",
      "request error\n",
      "step: 2894\n",
      "request error\n",
      "step: 2895\n",
      "request error\n",
      "step: 2896\n"
     ]
    },
    {
     "name": "stderr",
     "output_type": "stream",
     "text": [
      "\r",
      " 86%|████████▋ | 2899/3361 [17:05<02:43,  2.83it/s]"
     ]
    },
    {
     "name": "stdout",
     "output_type": "stream",
     "text": [
      "request error\n",
      "step: 2897\n",
      "request error\n",
      "step: 2898\n",
      "request error\n",
      "step: 2899\n",
      "request error\n",
      "step: 2900\n"
     ]
    },
    {
     "name": "stderr",
     "output_type": "stream",
     "text": [
      " 86%|████████▋ | 2905/3361 [17:07<02:41,  2.83it/s]"
     ]
    },
    {
     "name": "stdout",
     "output_type": "stream",
     "text": [
      "request error\n",
      "step: 2901\n",
      "request error\n",
      "step: 2902\n",
      "request error\n",
      "step: 2903\n",
      "request error\n",
      "step: 2904\n",
      "request error\n",
      "step: 2905\n",
      "request error\n",
      "step: 2906\n"
     ]
    },
    {
     "name": "stderr",
     "output_type": "stream",
     "text": [
      "\r",
      " 87%|████████▋ | 2908/3361 [17:07<02:40,  2.83it/s]"
     ]
    },
    {
     "name": "stdout",
     "output_type": "stream",
     "text": [
      "request error\n",
      "step: 2907\n",
      "request error\n",
      "step: 2908\n",
      "request error\n",
      "step: 2909\n",
      "request error\n",
      "step: 2910\n"
     ]
    },
    {
     "name": "stderr",
     "output_type": "stream",
     "text": [
      " 87%|████████▋ | 2914/3361 [17:08<02:37,  2.83it/s]"
     ]
    },
    {
     "name": "stdout",
     "output_type": "stream",
     "text": [
      "request error\n",
      "step: 2911\n",
      "request error\n",
      "step: 2912\n",
      "request error\n",
      "step: 2913\n",
      "request error\n",
      "step: 2914\n",
      "request error\n",
      "step: 2915\n"
     ]
    },
    {
     "name": "stderr",
     "output_type": "stream",
     "text": [
      " 87%|████████▋ | 2920/3361 [17:08<02:35,  2.84it/s]"
     ]
    },
    {
     "name": "stdout",
     "output_type": "stream",
     "text": [
      "request error\n",
      "step: 2916\n",
      "request error\n",
      "step: 2917\n",
      "request error\n",
      "step: 2918\n",
      "request error\n",
      "step: 2919\n",
      "request error\n",
      "step: 2920\n"
     ]
    },
    {
     "name": "stderr",
     "output_type": "stream",
     "text": [
      " 87%|████████▋ | 2926/3361 [17:09<02:33,  2.84it/s]"
     ]
    },
    {
     "name": "stdout",
     "output_type": "stream",
     "text": [
      "request error\n",
      "step: 2921\n",
      "request error\n",
      "step: 2922\n",
      "request error\n",
      "step: 2923\n",
      "request error\n",
      "step: 2924\n",
      "request error\n",
      "step: 2925\n"
     ]
    },
    {
     "name": "stderr",
     "output_type": "stream",
     "text": [
      "\r",
      " 87%|████████▋ | 2929/3361 [17:10<02:31,  2.84it/s]"
     ]
    },
    {
     "name": "stdout",
     "output_type": "stream",
     "text": [
      "request error\n",
      "step: 2926\n",
      "request error\n",
      "step: 2927\n",
      "request error\n",
      "step: 2928\n",
      "request error\n",
      "step: 2929\n",
      "request error\n",
      "step: 2930\n"
     ]
    },
    {
     "name": "stderr",
     "output_type": "stream",
     "text": [
      " 87%|████████▋ | 2935/3361 [17:11<02:29,  2.85it/s]"
     ]
    },
    {
     "name": "stdout",
     "output_type": "stream",
     "text": [
      "request error\n",
      "step: 2931\n",
      "request error\n",
      "step: 2932\n",
      "request error\n",
      "step: 2933\n",
      "request error\n",
      "step: 2934\n",
      "request error\n",
      "step: 2935\n"
     ]
    },
    {
     "name": "stderr",
     "output_type": "stream",
     "text": [
      "\r",
      " 87%|████████▋ | 2938/3361 [17:11<02:28,  2.85it/s]"
     ]
    },
    {
     "name": "stdout",
     "output_type": "stream",
     "text": [
      "request error\n",
      "step: 2936\n",
      "request error\n",
      "step: 2937\n",
      "request error\n",
      "step: 2938\n",
      "request error\n",
      "step: 2939\n",
      "request error\n",
      "step: 2940\n"
     ]
    },
    {
     "name": "stderr",
     "output_type": "stream",
     "text": [
      " 88%|████████▊ | 2947/3361 [17:12<02:25,  2.85it/s]"
     ]
    },
    {
     "name": "stdout",
     "output_type": "stream",
     "text": [
      "request error\n",
      "step: 2941\n",
      "request error\n",
      "step: 2942\n",
      "request error\n",
      "step: 2943\n",
      "request error\n",
      "step: 2944\n",
      "request error\n",
      "step: 2945\n",
      "request error\n",
      "step: 2946\n"
     ]
    },
    {
     "name": "stderr",
     "output_type": "stream",
     "text": [
      "\r",
      " 88%|████████▊ | 2950/3361 [17:12<02:23,  2.86it/s]"
     ]
    },
    {
     "name": "stdout",
     "output_type": "stream",
     "text": [
      "request error\n",
      "step: 2947\n",
      "request error\n",
      "step: 2948\n",
      "request error\n",
      "step: 2949\n",
      "request error\n",
      "step: 2950\n"
     ]
    },
    {
     "name": "stderr",
     "output_type": "stream",
     "text": [
      " 88%|████████▊ | 2956/3361 [17:14<02:21,  2.86it/s]"
     ]
    },
    {
     "name": "stdout",
     "output_type": "stream",
     "text": [
      "request error\n",
      "step: 2951\n",
      "request error\n",
      "step: 2952\n",
      "request error\n",
      "step: 2953\n",
      "request error\n",
      "step: 2954\n",
      "request error\n",
      "step: 2955\n"
     ]
    },
    {
     "name": "stderr",
     "output_type": "stream",
     "text": [
      "\r",
      " 88%|████████▊ | 2959/3361 [17:14<02:20,  2.86it/s]"
     ]
    },
    {
     "name": "stdout",
     "output_type": "stream",
     "text": [
      "request error\n",
      "step: 2956\n",
      "request error\n",
      "step: 2957\n",
      "request error\n",
      "step: 2958\n",
      "request error\n",
      "step: 2959\n",
      "request error\n",
      "step: 2960\n"
     ]
    },
    {
     "name": "stderr",
     "output_type": "stream",
     "text": [
      " 88%|████████▊ | 2964/3361 [17:15<02:18,  2.86it/s]"
     ]
    },
    {
     "name": "stdout",
     "output_type": "stream",
     "text": [
      "request error\n",
      "step: 2961\n",
      "request error\n",
      "step: 2962\n",
      "request error\n",
      "step: 2963\n",
      "request error\n",
      "step: 2964\n",
      "request error\n",
      "step: 2965\n",
      "request error\n",
      "step: 2966\n"
     ]
    },
    {
     "name": "stderr",
     "output_type": "stream",
     "text": [
      " 88%|████████▊ | 2970/3361 [17:15<02:16,  2.87it/s]"
     ]
    },
    {
     "name": "stdout",
     "output_type": "stream",
     "text": [
      "request error\n",
      "step: 2967\n",
      "request error\n",
      "step: 2968\n",
      "request error\n",
      "step: 2969\n",
      "request error\n",
      "step: 2970\n"
     ]
    },
    {
     "name": "stderr",
     "output_type": "stream",
     "text": [
      " 89%|████████▊ | 2976/3361 [17:17<02:14,  2.87it/s]"
     ]
    },
    {
     "name": "stdout",
     "output_type": "stream",
     "text": [
      "request error\n",
      "step: 2971\n",
      "request error\n",
      "step: 2972\n",
      "request error\n",
      "step: 2973\n",
      "request error\n",
      "step: 2974\n",
      "request error\n",
      "step: 2975\n"
     ]
    },
    {
     "name": "stderr",
     "output_type": "stream",
     "text": [
      "\r",
      " 89%|████████▊ | 2979/3361 [17:17<02:13,  2.87it/s]"
     ]
    },
    {
     "name": "stdout",
     "output_type": "stream",
     "text": [
      "request error\n",
      "step: 2976\n",
      "request error\n",
      "step: 2977\n",
      "request error\n",
      "step: 2978\n",
      "request error\n",
      "step: 2979\n",
      "request error\n",
      "step: 2980\n"
     ]
    },
    {
     "name": "stderr",
     "output_type": "stream",
     "text": [
      " 89%|████████▉ | 2987/3361 [17:18<02:10,  2.88it/s]"
     ]
    },
    {
     "name": "stdout",
     "output_type": "stream",
     "text": [
      "request error\n",
      "step: 2981\n",
      "request error\n",
      "step: 2982\n",
      "request error\n",
      "step: 2983\n",
      "request error\n",
      "step: 2984\n",
      "request error\n",
      "step: 2985\n",
      "request error\n",
      "step: 2986\n"
     ]
    },
    {
     "name": "stderr",
     "output_type": "stream",
     "text": [
      "\r",
      " 89%|████████▉ | 2990/3361 [17:18<02:08,  2.88it/s]"
     ]
    },
    {
     "name": "stdout",
     "output_type": "stream",
     "text": [
      "request error\n",
      "step: 2987\n",
      "request error\n",
      "step: 2988\n",
      "request error\n",
      "step: 2989\n",
      "request error\n",
      "step: 2990\n"
     ]
    },
    {
     "name": "stderr",
     "output_type": "stream",
     "text": [
      " 89%|████████▉ | 2996/3361 [17:19<02:06,  2.88it/s]"
     ]
    },
    {
     "name": "stdout",
     "output_type": "stream",
     "text": [
      "request error\n",
      "step: 2991\n",
      "request error\n",
      "step: 2992\n",
      "request error\n",
      "step: 2993\n",
      "request error\n",
      "step: 2994\n",
      "request error\n",
      "step: 2995\n",
      "request error\n",
      "step: 2996\n"
     ]
    },
    {
     "name": "stderr",
     "output_type": "stream",
     "text": [
      "\r",
      " 89%|████████▉ | 2999/3361 [17:20<02:05,  2.88it/s]"
     ]
    },
    {
     "name": "stdout",
     "output_type": "stream",
     "text": [
      "request error\n",
      "step: 2997\n",
      "request error\n",
      "step: 2998\n",
      "request error\n",
      "step: 2999\n",
      "request error\n",
      "step: 3000\n"
     ]
    },
    {
     "name": "stderr",
     "output_type": "stream",
     "text": [
      " 89%|████████▉ | 3005/3361 [17:21<02:03,  2.89it/s]"
     ]
    },
    {
     "name": "stdout",
     "output_type": "stream",
     "text": [
      "request error\n",
      "step: 3001\n",
      "request error\n",
      "step: 3002\n",
      "request error\n",
      "step: 3003\n",
      "request error\n",
      "step: 3004\n",
      "request error\n",
      "step: 3005\n"
     ]
    },
    {
     "name": "stderr",
     "output_type": "stream",
     "text": [
      "\r",
      " 89%|████████▉ | 3008/3361 [17:21<02:02,  2.89it/s]"
     ]
    },
    {
     "name": "stdout",
     "output_type": "stream",
     "text": [
      "request error\n",
      "step: 3006\n",
      "request error\n",
      "step: 3007\n",
      "request error\n",
      "step: 3008\n",
      "request error\n",
      "step: 3009\n",
      "request error\n",
      "step: 3010\n"
     ]
    },
    {
     "name": "stderr",
     "output_type": "stream",
     "text": [
      " 90%|████████▉ | 3014/3361 [17:22<02:00,  2.89it/s]"
     ]
    },
    {
     "name": "stdout",
     "output_type": "stream",
     "text": [
      "request error\n",
      "step: 3011\n",
      "request error\n",
      "step: 3012\n",
      "request error\n",
      "step: 3013\n",
      "request error\n",
      "step: 3014\n",
      "request error\n",
      "step: 3015\n"
     ]
    },
    {
     "name": "stderr",
     "output_type": "stream",
     "text": [
      " 90%|████████▉ | 3020/3361 [17:22<01:57,  2.90it/s]"
     ]
    },
    {
     "name": "stdout",
     "output_type": "stream",
     "text": [
      "request error\n",
      "step: 3016\n",
      "request error\n",
      "step: 3017\n",
      "request error\n",
      "step: 3018\n",
      "request error\n",
      "step: 3019\n",
      "request error\n",
      "step: 3020\n"
     ]
    },
    {
     "name": "stderr",
     "output_type": "stream",
     "text": [
      " 90%|█████████ | 3026/3361 [17:24<01:55,  2.90it/s]"
     ]
    },
    {
     "name": "stdout",
     "output_type": "stream",
     "text": [
      "request error\n",
      "step: 3021\n",
      "request error\n",
      "step: 3022\n",
      "request error\n",
      "step: 3023\n",
      "request error\n",
      "step: 3024\n",
      "request error\n",
      "step: 3025\n",
      "request error\n",
      "step: 3026\n"
     ]
    },
    {
     "name": "stderr",
     "output_type": "stream",
     "text": [
      "\r",
      " 90%|█████████ | 3029/3361 [17:24<01:54,  2.90it/s]"
     ]
    },
    {
     "name": "stdout",
     "output_type": "stream",
     "text": [
      "request error\n",
      "step: 3027\n",
      "request error\n",
      "step: 3028\n",
      "request error\n",
      "step: 3029\n",
      "request error\n",
      "step: 3030\n"
     ]
    },
    {
     "name": "stderr",
     "output_type": "stream",
     "text": [
      " 90%|█████████ | 3037/3361 [17:25<01:51,  2.90it/s]"
     ]
    },
    {
     "name": "stdout",
     "output_type": "stream",
     "text": [
      "request error\n",
      "step: 3031\n",
      "request error\n",
      "step: 3032\n",
      "request error\n",
      "step: 3033\n",
      "request error\n",
      "step: 3034\n",
      "request error\n",
      "step: 3035\n",
      "request error\n",
      "step: 3036\n"
     ]
    },
    {
     "name": "stderr",
     "output_type": "stream",
     "text": [
      "\r",
      " 90%|█████████ | 3040/3361 [17:25<01:50,  2.91it/s]"
     ]
    },
    {
     "name": "stdout",
     "output_type": "stream",
     "text": [
      "request error\n",
      "step: 3037\n",
      "request error\n",
      "step: 3038\n",
      "request error\n",
      "step: 3039\n",
      "request error\n",
      "step: 3040\n"
     ]
    },
    {
     "name": "stderr",
     "output_type": "stream",
     "text": [
      " 91%|█████████ | 3046/3361 [17:27<01:48,  2.91it/s]"
     ]
    },
    {
     "name": "stdout",
     "output_type": "stream",
     "text": [
      "request error\n",
      "step: 3041\n",
      "request error\n",
      "step: 3042\n",
      "request error\n",
      "step: 3043\n",
      "request error\n",
      "step: 3044\n",
      "request error\n",
      "step: 3045\n"
     ]
    },
    {
     "name": "stderr",
     "output_type": "stream",
     "text": [
      "\r",
      " 91%|█████████ | 3049/3361 [17:27<01:47,  2.91it/s]"
     ]
    },
    {
     "name": "stdout",
     "output_type": "stream",
     "text": [
      "request error\n",
      "step: 3046\n",
      "request error\n",
      "step: 3047\n",
      "request error\n",
      "step: 3048\n",
      "request error\n",
      "step: 3049\n",
      "request error\n",
      "step: 3050\n"
     ]
    },
    {
     "name": "stderr",
     "output_type": "stream",
     "text": [
      " 91%|█████████ | 3055/3361 [17:28<01:45,  2.91it/s]"
     ]
    },
    {
     "name": "stdout",
     "output_type": "stream",
     "text": [
      "request error\n",
      "step: 3051\n",
      "request error\n",
      "step: 3052\n",
      "request error\n",
      "step: 3053\n",
      "request error\n",
      "step: 3054\n",
      "request error\n",
      "step: 3055\n"
     ]
    },
    {
     "name": "stderr",
     "output_type": "stream",
     "text": [
      " 91%|█████████ | 3060/3361 [17:28<01:43,  2.92it/s]"
     ]
    },
    {
     "name": "stdout",
     "output_type": "stream",
     "text": [
      "request error\n",
      "step: 3056\n",
      "request error\n",
      "step: 3057\n",
      "request error\n",
      "step: 3058\n",
      "request error\n",
      "step: 3059\n",
      "request error\n",
      "step: 3060\n"
     ]
    },
    {
     "name": "stderr",
     "output_type": "stream",
     "text": [
      " 91%|█████████ | 3065/3361 [17:29<01:41,  2.92it/s]"
     ]
    },
    {
     "name": "stdout",
     "output_type": "stream",
     "text": [
      "request error\n",
      "step: 3061\n",
      "request error\n",
      "step: 3062\n",
      "request error\n",
      "step: 3063\n",
      "request error\n",
      "step: 3064\n",
      "request error\n",
      "step: 3065\n"
     ]
    },
    {
     "name": "stderr",
     "output_type": "stream",
     "text": [
      "\r",
      " 91%|█████████▏| 3068/3361 [17:29<01:40,  2.92it/s]"
     ]
    },
    {
     "name": "stdout",
     "output_type": "stream",
     "text": [
      "request error\n",
      "step: 3066\n",
      "request error\n",
      "step: 3067\n",
      "request error\n",
      "step: 3068\n",
      "request error\n",
      "step: 3069\n",
      "request error\n",
      "step: 3070\n"
     ]
    },
    {
     "name": "stderr",
     "output_type": "stream",
     "text": [
      " 92%|█████████▏| 3077/3361 [17:31<01:37,  2.93it/s]"
     ]
    },
    {
     "name": "stdout",
     "output_type": "stream",
     "text": [
      "request error\n",
      "step: 3071\n",
      "request error\n",
      "step: 3072\n",
      "request error\n",
      "step: 3073\n",
      "request error\n",
      "step: 3074\n",
      "request error\n",
      "step: 3075\n",
      "request error\n",
      "step: 3076\n"
     ]
    },
    {
     "name": "stderr",
     "output_type": "stream",
     "text": [
      "\r",
      " 92%|█████████▏| 3080/3361 [17:31<01:35,  2.93it/s]"
     ]
    },
    {
     "name": "stdout",
     "output_type": "stream",
     "text": [
      "request error\n",
      "step: 3077\n",
      "request error\n",
      "step: 3078\n",
      "request error\n",
      "step: 3079\n",
      "request error\n",
      "step: 3080\n"
     ]
    },
    {
     "name": "stderr",
     "output_type": "stream",
     "text": [
      " 92%|█████████▏| 3086/3361 [17:32<01:33,  2.93it/s]"
     ]
    },
    {
     "name": "stdout",
     "output_type": "stream",
     "text": [
      "request error\n",
      "step: 3081\n",
      "request error\n",
      "step: 3082\n",
      "request error\n",
      "step: 3083\n",
      "request error\n",
      "step: 3084\n",
      "request error\n",
      "step: 3085\n"
     ]
    },
    {
     "name": "stderr",
     "output_type": "stream",
     "text": [
      "\r",
      " 92%|█████████▏| 3089/3361 [17:32<01:32,  2.93it/s]"
     ]
    },
    {
     "name": "stdout",
     "output_type": "stream",
     "text": [
      "request error\n",
      "step: 3086\n",
      "request error\n",
      "step: 3087\n",
      "request error\n",
      "step: 3088\n",
      "request error\n",
      "step: 3089\n",
      "request error\n",
      "step: 3090\n"
     ]
    },
    {
     "name": "stderr",
     "output_type": "stream",
     "text": [
      " 92%|█████████▏| 3094/3361 [17:34<01:30,  2.94it/s]"
     ]
    },
    {
     "name": "stdout",
     "output_type": "stream",
     "text": [
      "request error\n",
      "step: 3091\n",
      "request error\n",
      "step: 3092\n",
      "request error\n",
      "step: 3093\n",
      "request error\n",
      "step: 3094\n",
      "request error\n",
      "step: 3095\n"
     ]
    },
    {
     "name": "stderr",
     "output_type": "stream",
     "text": [
      " 92%|█████████▏| 3100/3361 [17:34<01:28,  2.94it/s]"
     ]
    },
    {
     "name": "stdout",
     "output_type": "stream",
     "text": [
      "request error\n",
      "step: 3096\n",
      "request error\n",
      "step: 3097\n",
      "request error\n",
      "step: 3098\n",
      "request error\n",
      "step: 3099\n",
      "request error\n",
      "step: 3100\n"
     ]
    },
    {
     "name": "stderr",
     "output_type": "stream",
     "text": [
      " 92%|█████████▏| 3105/3361 [17:35<01:27,  2.94it/s]"
     ]
    },
    {
     "name": "stdout",
     "output_type": "stream",
     "text": [
      "request error\n",
      "step: 3101\n",
      "request error\n",
      "step: 3102\n",
      "request error\n",
      "step: 3103\n",
      "request error\n",
      "step: 3104\n",
      "request error\n",
      "step: 3105\n"
     ]
    },
    {
     "name": "stderr",
     "output_type": "stream",
     "text": [
      "\r",
      " 92%|█████████▏| 3108/3361 [17:35<01:25,  2.94it/s]"
     ]
    },
    {
     "name": "stdout",
     "output_type": "stream",
     "text": [
      "request error\n",
      "step: 3106\n",
      "request error\n",
      "step: 3107\n",
      "request error\n",
      "step: 3108\n",
      "request error\n",
      "step: 3109\n",
      "request error\n",
      "step: 3110\n"
     ]
    },
    {
     "name": "stderr",
     "output_type": "stream",
     "text": [
      " 93%|█████████▎| 3117/3361 [17:37<01:22,  2.95it/s]"
     ]
    },
    {
     "name": "stdout",
     "output_type": "stream",
     "text": [
      "request error\n",
      "step: 3111\n",
      "request error\n",
      "step: 3112\n",
      "request error\n",
      "step: 3113\n",
      "request error\n",
      "step: 3114\n",
      "request error\n",
      "step: 3115\n",
      "request error\n",
      "step: 3116\n"
     ]
    },
    {
     "name": "stderr",
     "output_type": "stream",
     "text": [
      "\r",
      " 93%|█████████▎| 3119/3361 [17:37<01:22,  2.95it/s]"
     ]
    },
    {
     "name": "stdout",
     "output_type": "stream",
     "text": [
      "request error\n",
      "step: 3117\n",
      "request error\n",
      "step: 3118\n",
      "request error\n",
      "step: 3119\n",
      "request error\n",
      "step: 3120\n"
     ]
    },
    {
     "name": "stderr",
     "output_type": "stream",
     "text": [
      " 93%|█████████▎| 3124/3361 [17:38<01:20,  2.95it/s]"
     ]
    },
    {
     "name": "stdout",
     "output_type": "stream",
     "text": [
      "request error\n",
      "step: 3121\n",
      "request error\n",
      "step: 3122\n",
      "request error\n",
      "step: 3123\n",
      "request error\n",
      "step: 3124\n",
      "request error\n",
      "step: 3125\n"
     ]
    },
    {
     "name": "stderr",
     "output_type": "stream",
     "text": [
      " 93%|█████████▎| 3130/3361 [17:38<01:18,  2.96it/s]"
     ]
    },
    {
     "name": "stdout",
     "output_type": "stream",
     "text": [
      "request error\n",
      "step: 3126\n",
      "request error\n",
      "step: 3127\n",
      "request error\n",
      "step: 3128\n",
      "request error\n",
      "step: 3129\n",
      "request error\n",
      "step: 3130\n"
     ]
    },
    {
     "name": "stderr",
     "output_type": "stream",
     "text": [
      " 93%|█████████▎| 3136/3361 [17:39<01:16,  2.96it/s]"
     ]
    },
    {
     "name": "stdout",
     "output_type": "stream",
     "text": [
      "request error\n",
      "step: 3131\n",
      "request error\n",
      "step: 3132\n",
      "request error\n",
      "step: 3133\n",
      "request error\n",
      "step: 3134\n",
      "request error\n",
      "step: 3135\n",
      "request error\n",
      "step: 3136\n"
     ]
    },
    {
     "name": "stderr",
     "output_type": "stream",
     "text": [
      "\r",
      " 93%|█████████▎| 3139/3361 [17:40<01:14,  2.96it/s]"
     ]
    },
    {
     "name": "stdout",
     "output_type": "stream",
     "text": [
      "request error\n",
      "step: 3137\n",
      "request error\n",
      "step: 3138\n",
      "request error\n",
      "step: 3139\n",
      "request error\n",
      "step: 3140\n"
     ]
    },
    {
     "name": "stderr",
     "output_type": "stream",
     "text": [
      " 94%|█████████▎| 3145/3361 [17:41<01:12,  2.96it/s]"
     ]
    },
    {
     "name": "stdout",
     "output_type": "stream",
     "text": [
      "request error\n",
      "step: 3141\n",
      "request error\n",
      "step: 3142\n",
      "request error\n",
      "step: 3143\n",
      "request error\n",
      "step: 3144\n",
      "request error\n",
      "step: 3145\n",
      "request error\n",
      "step: 3146\n"
     ]
    },
    {
     "name": "stderr",
     "output_type": "stream",
     "text": [
      "\r",
      " 94%|█████████▎| 3148/3361 [17:41<01:11,  2.97it/s]"
     ]
    },
    {
     "name": "stdout",
     "output_type": "stream",
     "text": [
      "request error\n",
      "step: 3147\n",
      "request error\n",
      "step: 3148\n",
      "request error\n",
      "step: 3149\n",
      "request error\n",
      "step: 3150\n"
     ]
    },
    {
     "name": "stderr",
     "output_type": "stream",
     "text": [
      " 94%|█████████▍| 3157/3361 [17:42<01:08,  2.97it/s]"
     ]
    },
    {
     "name": "stdout",
     "output_type": "stream",
     "text": [
      "request error\n",
      "step: 3151\n",
      "request error\n",
      "step: 3152\n",
      "request error\n",
      "step: 3153\n",
      "request error\n",
      "step: 3154\n",
      "request error\n",
      "step: 3155\n",
      "request error\n",
      "step: 3156\n"
     ]
    },
    {
     "name": "stderr",
     "output_type": "stream",
     "text": [
      "\r",
      " 94%|█████████▍| 3160/3361 [17:42<01:07,  2.97it/s]"
     ]
    },
    {
     "name": "stdout",
     "output_type": "stream",
     "text": [
      "request error\n",
      "step: 3157\n",
      "request error\n",
      "step: 3158\n",
      "request error\n",
      "step: 3159\n",
      "request error\n",
      "step: 3160\n"
     ]
    },
    {
     "name": "stderr",
     "output_type": "stream",
     "text": [
      " 94%|█████████▍| 3166/3361 [17:44<01:05,  2.98it/s]"
     ]
    },
    {
     "name": "stdout",
     "output_type": "stream",
     "text": [
      "request error\n",
      "step: 3161\n",
      "request error\n",
      "step: 3162\n",
      "request error\n",
      "step: 3163\n",
      "request error\n",
      "step: 3164\n",
      "request error\n",
      "step: 3165\n",
      "request error\n",
      "step: 3166\n"
     ]
    },
    {
     "name": "stderr",
     "output_type": "stream",
     "text": [
      "\r",
      " 94%|█████████▍| 3169/3361 [17:44<01:04,  2.98it/s]"
     ]
    },
    {
     "name": "stdout",
     "output_type": "stream",
     "text": [
      "request error\n",
      "step: 3167\n",
      "request error\n",
      "step: 3168\n",
      "request error\n",
      "step: 3169\n",
      "request error\n",
      "step: 3170\n"
     ]
    },
    {
     "name": "stderr",
     "output_type": "stream",
     "text": [
      " 94%|█████████▍| 3174/3361 [17:45<01:02,  2.98it/s]"
     ]
    },
    {
     "name": "stdout",
     "output_type": "stream",
     "text": [
      "request error\n",
      "step: 3171\n",
      "request error\n",
      "step: 3172\n",
      "request error\n",
      "step: 3173\n",
      "request error\n",
      "step: 3174\n",
      "request error\n",
      "step: 3175\n"
     ]
    },
    {
     "name": "stderr",
     "output_type": "stream",
     "text": [
      " 95%|█████████▍| 3180/3361 [17:45<01:00,  2.98it/s]"
     ]
    },
    {
     "name": "stdout",
     "output_type": "stream",
     "text": [
      "request error\n",
      "step: 3176\n",
      "request error\n",
      "step: 3177\n",
      "request error\n",
      "step: 3178\n",
      "request error\n",
      "step: 3179\n",
      "request error\n",
      "step: 3180\n"
     ]
    },
    {
     "name": "stderr",
     "output_type": "stream",
     "text": [
      " 95%|█████████▍| 3185/3361 [17:46<00:58,  2.99it/s]"
     ]
    },
    {
     "name": "stdout",
     "output_type": "stream",
     "text": [
      "request error\n",
      "step: 3181\n",
      "request error\n",
      "step: 3182\n",
      "request error\n",
      "step: 3183\n",
      "request error\n",
      "step: 3184\n",
      "request error\n",
      "step: 3185\n"
     ]
    },
    {
     "name": "stderr",
     "output_type": "stream",
     "text": [
      "\r",
      " 95%|█████████▍| 3188/3361 [17:47<00:57,  2.99it/s]"
     ]
    },
    {
     "name": "stdout",
     "output_type": "stream",
     "text": [
      "request error\n",
      "step: 3186\n",
      "request error\n",
      "step: 3187\n",
      "request error\n",
      "step: 3188\n",
      "request error\n",
      "step: 3189\n",
      "request error\n",
      "step: 3190\n"
     ]
    },
    {
     "name": "stderr",
     "output_type": "stream",
     "text": [
      " 95%|█████████▌| 3197/3361 [17:48<00:54,  2.99it/s]"
     ]
    },
    {
     "name": "stdout",
     "output_type": "stream",
     "text": [
      "request error\n",
      "step: 3191\n",
      "request error\n",
      "step: 3192\n",
      "request error\n",
      "step: 3193\n",
      "request error\n",
      "step: 3194\n",
      "request error\n",
      "step: 3195\n",
      "request error\n",
      "step: 3196\n"
     ]
    },
    {
     "name": "stderr",
     "output_type": "stream",
     "text": [
      "\r",
      " 95%|█████████▌| 3200/3361 [17:48<00:53,  2.99it/s]"
     ]
    },
    {
     "name": "stdout",
     "output_type": "stream",
     "text": [
      "request error\n",
      "step: 3197\n",
      "request error\n",
      "step: 3198\n",
      "request error\n",
      "step: 3199\n",
      "request error\n",
      "step: 3200\n"
     ]
    },
    {
     "name": "stderr",
     "output_type": "stream",
     "text": [
      " 95%|█████████▌| 3206/3361 [17:49<00:51,  3.00it/s]"
     ]
    },
    {
     "name": "stdout",
     "output_type": "stream",
     "text": [
      "request error\n",
      "step: 3201\n",
      "request error\n",
      "step: 3202\n",
      "request error\n",
      "step: 3203\n",
      "request error\n",
      "step: 3204\n",
      "request error\n",
      "step: 3205\n"
     ]
    },
    {
     "name": "stderr",
     "output_type": "stream",
     "text": [
      "\r",
      " 95%|█████████▌| 3209/3361 [17:49<00:50,  3.00it/s]"
     ]
    },
    {
     "name": "stdout",
     "output_type": "stream",
     "text": [
      "request error\n",
      "step: 3206\n",
      "request error\n",
      "step: 3207\n",
      "request error\n",
      "step: 3208\n",
      "request error\n",
      "step: 3209\n",
      "request error\n",
      "step: 3210\n"
     ]
    },
    {
     "name": "stderr",
     "output_type": "stream",
     "text": [
      " 96%|█████████▌| 3214/3361 [17:51<00:48,  3.00it/s]"
     ]
    },
    {
     "name": "stdout",
     "output_type": "stream",
     "text": [
      "request error\n",
      "step: 3211\n",
      "request error\n",
      "step: 3212\n",
      "request error\n",
      "step: 3213\n",
      "request error\n",
      "step: 3214\n",
      "request error\n",
      "step: 3215\n"
     ]
    },
    {
     "name": "stderr",
     "output_type": "stream",
     "text": [
      " 96%|█████████▌| 3220/3361 [17:51<00:46,  3.01it/s]"
     ]
    },
    {
     "name": "stdout",
     "output_type": "stream",
     "text": [
      "request error\n",
      "step: 3216\n",
      "request error\n",
      "step: 3217\n",
      "request error\n",
      "step: 3218\n",
      "request error\n",
      "step: 3219\n",
      "request error\n",
      "step: 3220\n"
     ]
    },
    {
     "name": "stderr",
     "output_type": "stream",
     "text": [
      " 96%|█████████▌| 3226/3361 [17:52<00:44,  3.01it/s]"
     ]
    },
    {
     "name": "stdout",
     "output_type": "stream",
     "text": [
      "request error\n",
      "step: 3221\n",
      "request error\n",
      "step: 3222\n",
      "request error\n",
      "step: 3223\n",
      "request error\n",
      "step: 3224\n",
      "request error\n",
      "step: 3225\n",
      "request error\n",
      "step: 3226\n"
     ]
    },
    {
     "name": "stderr",
     "output_type": "stream",
     "text": [
      "\r",
      " 96%|█████████▌| 3229/3361 [17:52<00:43,  3.01it/s]"
     ]
    },
    {
     "name": "stdout",
     "output_type": "stream",
     "text": [
      "request error\n",
      "step: 3227\n",
      "request error\n",
      "step: 3228\n",
      "request error\n",
      "step: 3229\n",
      "request error\n",
      "step: 3230\n"
     ]
    },
    {
     "name": "stderr",
     "output_type": "stream",
     "text": [
      " 96%|█████████▋| 3235/3361 [17:54<00:41,  3.01it/s]"
     ]
    },
    {
     "name": "stdout",
     "output_type": "stream",
     "text": [
      "request error\n",
      "step: 3231\n",
      "request error\n",
      "step: 3232\n",
      "request error\n",
      "step: 3233\n",
      "request error\n",
      "step: 3234\n",
      "request error\n",
      "step: 3235\n"
     ]
    },
    {
     "name": "stderr",
     "output_type": "stream",
     "text": [
      "\r",
      " 96%|█████████▋| 3238/3361 [17:54<00:40,  3.01it/s]"
     ]
    },
    {
     "name": "stdout",
     "output_type": "stream",
     "text": [
      "request error\n",
      "step: 3236\n",
      "request error\n",
      "step: 3237\n",
      "request error\n",
      "step: 3238\n",
      "request error\n",
      "step: 3239\n",
      "request error\n",
      "step: 3240\n"
     ]
    },
    {
     "name": "stderr",
     "output_type": "stream",
     "text": [
      " 97%|█████████▋| 3247/3361 [17:55<00:37,  3.02it/s]"
     ]
    },
    {
     "name": "stdout",
     "output_type": "stream",
     "text": [
      "request error\n",
      "step: 3241\n",
      "request error\n",
      "step: 3242\n",
      "request error\n",
      "step: 3243\n",
      "request error\n",
      "step: 3244\n",
      "request error\n",
      "step: 3245\n",
      "request error\n",
      "step: 3246\n"
     ]
    },
    {
     "name": "stderr",
     "output_type": "stream",
     "text": [
      "\r",
      " 97%|█████████▋| 3250/3361 [17:55<00:36,  3.02it/s]"
     ]
    },
    {
     "name": "stdout",
     "output_type": "stream",
     "text": [
      "request error\n",
      "step: 3247\n",
      "request error\n",
      "step: 3248\n",
      "request error\n",
      "step: 3249\n",
      "request error\n",
      "step: 3250\n"
     ]
    },
    {
     "name": "stderr",
     "output_type": "stream",
     "text": [
      " 97%|█████████▋| 3256/3361 [17:56<00:34,  3.02it/s]"
     ]
    },
    {
     "name": "stdout",
     "output_type": "stream",
     "text": [
      "request error\n",
      "step: 3251\n",
      "request error\n",
      "step: 3252\n",
      "request error\n",
      "step: 3253\n",
      "request error\n",
      "step: 3254\n",
      "request error\n",
      "step: 3255\n"
     ]
    },
    {
     "name": "stderr",
     "output_type": "stream",
     "text": [
      "\r",
      " 97%|█████████▋| 3259/3361 [17:57<00:33,  3.03it/s]"
     ]
    },
    {
     "name": "stdout",
     "output_type": "stream",
     "text": [
      "request error\n",
      "step: 3256\n",
      "request error\n",
      "step: 3257\n",
      "request error\n",
      "step: 3258\n",
      "request error\n",
      "step: 3259\n",
      "request error\n",
      "step: 3260\n"
     ]
    },
    {
     "name": "stderr",
     "output_type": "stream",
     "text": [
      " 97%|█████████▋| 3264/3361 [17:58<00:32,  3.03it/s]"
     ]
    },
    {
     "name": "stdout",
     "output_type": "stream",
     "text": [
      "request error\n",
      "step: 3261\n",
      "request error\n",
      "step: 3262\n",
      "request error\n",
      "step: 3263\n",
      "request error\n",
      "step: 3264\n",
      "request error\n",
      "step: 3265\n"
     ]
    },
    {
     "name": "stderr",
     "output_type": "stream",
     "text": [
      " 97%|█████████▋| 3270/3361 [17:58<00:30,  3.03it/s]"
     ]
    },
    {
     "name": "stdout",
     "output_type": "stream",
     "text": [
      "request error\n",
      "step: 3266\n",
      "request error\n",
      "step: 3267\n",
      "request error\n",
      "step: 3268\n",
      "request error\n",
      "step: 3269\n",
      "request error\n",
      "step: 3270\n"
     ]
    },
    {
     "name": "stderr",
     "output_type": "stream",
     "text": [
      " 97%|█████████▋| 3276/3361 [17:59<00:28,  3.03it/s]"
     ]
    },
    {
     "name": "stdout",
     "output_type": "stream",
     "text": [
      "request error\n",
      "step: 3271\n",
      "request error\n",
      "step: 3272\n",
      "request error\n",
      "step: 3273\n",
      "request error\n",
      "step: 3274\n",
      "request error\n",
      "step: 3275\n",
      "request error\n",
      "step: 3276\n"
     ]
    },
    {
     "name": "stderr",
     "output_type": "stream",
     "text": [
      "\r",
      " 98%|█████████▊| 3279/3361 [17:59<00:27,  3.04it/s]"
     ]
    },
    {
     "name": "stdout",
     "output_type": "stream",
     "text": [
      "request error\n",
      "step: 3277\n",
      "request error\n",
      "step: 3278\n",
      "request error\n",
      "step: 3279\n",
      "request error\n",
      "step: 3280\n"
     ]
    },
    {
     "name": "stderr",
     "output_type": "stream",
     "text": [
      " 98%|█████████▊| 3285/3361 [18:01<00:25,  3.04it/s]"
     ]
    },
    {
     "name": "stdout",
     "output_type": "stream",
     "text": [
      "request error\n",
      "step: 3281\n",
      "request error\n",
      "step: 3282\n",
      "request error\n",
      "step: 3283\n",
      "request error\n",
      "step: 3284\n",
      "request error\n",
      "step: 3285\n"
     ]
    },
    {
     "name": "stderr",
     "output_type": "stream",
     "text": [
      "\r",
      " 98%|█████████▊| 3288/3361 [18:01<00:24,  3.04it/s]"
     ]
    },
    {
     "name": "stdout",
     "output_type": "stream",
     "text": [
      "request error\n",
      "step: 3286\n",
      "request error\n",
      "step: 3287\n",
      "request error\n",
      "step: 3288\n",
      "request error\n",
      "step: 3289\n",
      "request error\n",
      "step: 3290\n"
     ]
    },
    {
     "name": "stderr",
     "output_type": "stream",
     "text": [
      " 98%|█████████▊| 3294/3361 [18:02<00:22,  3.04it/s]"
     ]
    },
    {
     "name": "stdout",
     "output_type": "stream",
     "text": [
      "request error\n",
      "step: 3291\n",
      "request error\n",
      "step: 3292\n",
      "request error\n",
      "step: 3293\n",
      "request error\n",
      "step: 3294\n",
      "request error\n",
      "step: 3295\n"
     ]
    },
    {
     "name": "stderr",
     "output_type": "stream",
     "text": [
      " 98%|█████████▊| 3300/3361 [18:02<00:20,  3.05it/s]"
     ]
    },
    {
     "name": "stdout",
     "output_type": "stream",
     "text": [
      "request error\n",
      "step: 3296\n",
      "request error\n",
      "step: 3297\n",
      "request error\n",
      "step: 3298\n",
      "request error\n",
      "step: 3299\n",
      "request error\n",
      "step: 3300\n"
     ]
    },
    {
     "name": "stderr",
     "output_type": "stream",
     "text": [
      " 98%|█████████▊| 3306/3361 [18:04<00:18,  3.05it/s]"
     ]
    },
    {
     "name": "stdout",
     "output_type": "stream",
     "text": [
      "request error\n",
      "step: 3301\n",
      "request error\n",
      "step: 3302\n",
      "request error\n",
      "step: 3303\n",
      "request error\n",
      "step: 3304\n",
      "request error\n",
      "step: 3305\n",
      "request error\n",
      "step: 3306\n"
     ]
    },
    {
     "name": "stderr",
     "output_type": "stream",
     "text": [
      "\r",
      " 98%|█████████▊| 3309/3361 [18:04<00:17,  3.05it/s]"
     ]
    },
    {
     "name": "stdout",
     "output_type": "stream",
     "text": [
      "request error\n",
      "step: 3307\n",
      "request error\n",
      "step: 3308\n",
      "request error\n",
      "step: 3309\n",
      "request error\n",
      "step: 3310\n"
     ]
    },
    {
     "name": "stderr",
     "output_type": "stream",
     "text": [
      " 99%|█████████▊| 3315/3361 [18:05<00:15,  3.05it/s]"
     ]
    },
    {
     "name": "stdout",
     "output_type": "stream",
     "text": [
      "request error\n",
      "step: 3311\n",
      "request error\n",
      "step: 3312\n",
      "request error\n",
      "step: 3313\n",
      "request error\n",
      "step: 3314\n",
      "request error\n",
      "step: 3315\n"
     ]
    },
    {
     "name": "stderr",
     "output_type": "stream",
     "text": [
      "\r",
      " 99%|█████████▊| 3318/3361 [18:05<00:14,  3.06it/s]"
     ]
    },
    {
     "name": "stdout",
     "output_type": "stream",
     "text": [
      "request error\n",
      "step: 3316\n",
      "request error\n",
      "step: 3317\n",
      "request error\n",
      "step: 3318\n",
      "request error\n",
      "step: 3319\n",
      "request error\n",
      "step: 3320\n"
     ]
    },
    {
     "name": "stderr",
     "output_type": "stream",
     "text": [
      " 99%|█████████▉| 3324/3361 [18:06<00:12,  3.06it/s]"
     ]
    },
    {
     "name": "stdout",
     "output_type": "stream",
     "text": [
      "request error\n",
      "step: 3321\n",
      "request error\n",
      "step: 3322\n",
      "request error\n",
      "step: 3323\n",
      "request error\n",
      "step: 3324\n",
      "request error\n",
      "step: 3325\n"
     ]
    },
    {
     "name": "stderr",
     "output_type": "stream",
     "text": [
      " 99%|█████████▉| 3330/3361 [18:07<00:10,  3.06it/s]"
     ]
    },
    {
     "name": "stdout",
     "output_type": "stream",
     "text": [
      "request error\n",
      "step: 3326\n",
      "request error\n",
      "step: 3327\n",
      "request error\n",
      "step: 3328\n",
      "request error\n",
      "step: 3329\n",
      "request error\n",
      "step: 3330\n"
     ]
    },
    {
     "name": "stderr",
     "output_type": "stream",
     "text": [
      " 99%|█████████▉| 3336/3361 [18:08<00:08,  3.07it/s]"
     ]
    },
    {
     "name": "stdout",
     "output_type": "stream",
     "text": [
      "request error\n",
      "step: 3331\n",
      "request error\n",
      "step: 3332\n",
      "request error\n",
      "step: 3333\n",
      "request error\n",
      "step: 3334\n",
      "request error\n",
      "step: 3335\n",
      "request error\n",
      "step: 3336\n"
     ]
    },
    {
     "name": "stderr",
     "output_type": "stream",
     "text": [
      "\r",
      " 99%|█████████▉| 3339/3361 [18:08<00:07,  3.07it/s]"
     ]
    },
    {
     "name": "stdout",
     "output_type": "stream",
     "text": [
      "request error\n",
      "step: 3337\n",
      "request error\n",
      "step: 3338\n",
      "request error\n",
      "step: 3339\n",
      "request error\n",
      "step: 3340\n"
     ]
    },
    {
     "name": "stderr",
     "output_type": "stream",
     "text": [
      "100%|█████████▉| 3345/3361 [18:09<00:05,  3.07it/s]"
     ]
    },
    {
     "name": "stdout",
     "output_type": "stream",
     "text": [
      "request error\n",
      "step: 3341\n",
      "request error\n",
      "step: 3342\n",
      "request error\n",
      "step: 3343\n",
      "request error\n",
      "step: 3344\n",
      "request error\n",
      "step: 3345\n",
      "request error\n",
      "step: 3346\n"
     ]
    },
    {
     "name": "stderr",
     "output_type": "stream",
     "text": [
      "\r",
      "100%|█████████▉| 3348/3361 [18:09<00:04,  3.07it/s]"
     ]
    },
    {
     "name": "stdout",
     "output_type": "stream",
     "text": [
      "request error\n",
      "step: 3347\n",
      "request error\n",
      "step: 3348\n",
      "request error\n",
      "step: 3349\n",
      "request error\n",
      "step: 3350\n"
     ]
    },
    {
     "name": "stderr",
     "output_type": "stream",
     "text": [
      "100%|█████████▉| 3354/3361 [18:11<00:02,  3.07it/s]"
     ]
    },
    {
     "name": "stdout",
     "output_type": "stream",
     "text": [
      "request error\n",
      "step: 3351\n",
      "request error\n",
      "step: 3352\n",
      "request error\n",
      "step: 3353\n",
      "request error\n",
      "step: 3354\n",
      "request error\n",
      "step: 3355\n",
      "request error\n",
      "step: 3356\n"
     ]
    },
    {
     "name": "stderr",
     "output_type": "stream",
     "text": [
      "100%|█████████▉| 3360/3361 [18:11<00:00,  3.08it/s]"
     ]
    },
    {
     "name": "stdout",
     "output_type": "stream",
     "text": [
      "request error\n",
      "step: 3357\n",
      "request error\n",
      "step: 3358\n",
      "request error\n",
      "step: 3359\n",
      "request error\n",
      "step: 3360\n"
     ]
    },
    {
     "name": "stderr",
     "output_type": "stream",
     "text": [
      "100%|██████████| 3361/3361 [18:12<00:00,  3.08it/s]\n"
     ]
    }
   ],
   "source": [
    "for step in trange(num_steps):\n",
    "    inputs = _train[step * batch_size : (step+1) * batch_size].babyname.tolist()\n",
    "    outputs = translate_with_kakao(inputs)\n",
    "    print(\"step: {}\".format(step))\n",
    "#     print(inputs , \">>\")\n",
    "#     print(outputs)\n",
    "#     print(\"\\n\")\n",
    "    for inp, oup in zip(inputs, outputs):\n",
    "        _train_name_dict[inp] = oup\n",
    "        \n",
    "    if step % 10 == 0:\n",
    "        time.sleep(1)"
   ]
  },
  {
   "cell_type": "code",
   "execution_count": 16,
   "metadata": {},
   "outputs": [
    {
     "data": {
      "text/plain": [
       "28687"
      ]
     },
     "execution_count": 16,
     "metadata": {},
     "output_type": "execute_result"
    }
   ],
   "source": [
    "len([k for k, v in _train_name_dict.items() if v == None])"
   ]
  },
  {
   "cell_type": "code",
   "execution_count": 14,
   "metadata": {},
   "outputs": [
    {
     "data": {
      "text/plain": [
       "33607"
      ]
     },
     "execution_count": 14,
     "metadata": {},
     "output_type": "execute_result"
    }
   ],
   "source": [
    "len(_train_name_dict)"
   ]
  },
  {
   "cell_type": "code",
   "execution_count": null,
   "metadata": {},
   "outputs": [],
   "source": [
    "\" \".join(_train[:100].babyname.tolist())"
   ]
  },
  {
   "cell_type": "code",
   "execution_count": null,
   "metadata": {},
   "outputs": [],
   "source": [
    "_train.head(100)"
   ]
  },
  {
   "cell_type": "code",
   "execution_count": 18,
   "metadata": {},
   "outputs": [],
   "source": [
    "import pickle"
   ]
  },
  {
   "cell_type": "code",
   "execution_count": 19,
   "metadata": {},
   "outputs": [],
   "source": [
    "with open(\"translated_dict.pkl\", \"wb\") as f:\n",
    "    pickle.dump(_train_name_dict, f)"
   ]
  },
  {
   "cell_type": "code",
   "execution_count": 17,
   "metadata": {},
   "outputs": [
    {
     "data": {
      "text/plain": [
       "{'Tiahna': \"'타이아나'\",\n",
       " 'Alethia': \"'알레시아'\",\n",
       " 'Apolline': \"'아폴린'\",\n",
       " 'Sorell': \"'소렐'\",\n",
       " 'Luciole': \"'루시올'\",\n",
       " 'Yzabelle': \"'야자벨'\",\n",
       " 'Millard': \"'밀라드'\",\n",
       " 'Bryttine': \"'브리틴'\",\n",
       " 'Maston': \"'마스턴'\",\n",
       " 'Feivel': \"'페이벨'\",\n",
       " 'Sheilah': \"'Sheilah'\",\n",
       " 'Marmara': \"'Marmara'\",\n",
       " 'Ede': \"'Ede'\",\n",
       " 'Ounslow': \"'Ounslow'\",\n",
       " 'Edmondo': \"'Edmondo'\",\n",
       " 'Margaritta': \"'Margaritta'\",\n",
       " 'Sylvan': \"'Sylvan'\",\n",
       " 'Fransabella': \"'Fransabella'\",\n",
       " 'Aloise': \"'Aloise'\",\n",
       " 'Starlynn': \"'Starlynn'\",\n",
       " 'Yasmena': \"'야스메나'\",\n",
       " 'Allger': \"'알제'\",\n",
       " 'Manfredo': \"'만프레도'\",\n",
       " 'Brione': \"'브리오네'\",\n",
       " 'Afrika': \"'아프리카'\",\n",
       " 'Hette': \"'헤트'\",\n",
       " 'Luane': \"'루안'\",\n",
       " 'Krisi': \"'크리시'\",\n",
       " 'Cymbeline': \"'심벨린'\",\n",
       " 'Kedric': \"'케드릭'\",\n",
       " 'Aubrette': \"'Aubrette'\",\n",
       " 'Kaydin': \"'Kaydin'\",\n",
       " 'Thorne': \"'Thorne'\",\n",
       " 'Maribell': \"'Maribell'\",\n",
       " 'Conetta': \"'Conetta'\",\n",
       " 'Anganaa': \"'Angana'\",\n",
       " 'Zeeta': \"'Zeeta'\",\n",
       " 'Pita': \"'Pita'\",\n",
       " 'Piotr': \"'Piotr'\",\n",
       " 'Nellette': \"'Nellette'\",\n",
       " 'Chaps': \"'챕스'\",\n",
       " 'Laurana': \"'로라나'\",\n",
       " 'Leonello': \"'레오넬로'\",\n",
       " 'Zenobius': \"'제노비우스'\",\n",
       " 'Marquitta': \"'마퀴타'\",\n",
       " 'Akala': \"'아칼라'\",\n",
       " 'Carsie': \"'카시'\",\n",
       " 'MacArthur': \"'맥아더'\",\n",
       " 'Raziya': \"'라지야'\",\n",
       " 'Marcellin': \"'마셀린'\",\n",
       " 'Humberto': \"'험베르토'\",\n",
       " 'Alsandare': \"'알산다레'\",\n",
       " 'Wheatley': \"'위틀리'\",\n",
       " 'Katrionagh': \"'카트리오나'\",\n",
       " 'Hari': \"'하리'\",\n",
       " 'Tomiko': \"'토미코'\",\n",
       " 'Nyomi': \"'니오미'\",\n",
       " 'Geralynn': \"'게랄린'\",\n",
       " 'Lisandrine': \"'리산드린'\",\n",
       " 'Umniah': \"'움니아'\",\n",
       " 'Farlow': \"'Farlow'\",\n",
       " 'Taral': \"'Taral'\",\n",
       " 'Nemanja': \"'Nemanja'\",\n",
       " 'Dalibora': \"'Dalibora'\",\n",
       " 'Richeldis': \"'Richeldis'\",\n",
       " 'Skeet': \"'Skeet'\",\n",
       " 'Arty': \"'Arty'\",\n",
       " 'Lira': \"'Lira'\",\n",
       " 'Zitkalasa': \"'Zitkalasa'\",\n",
       " 'Jin-Joo': \"'Jin-Joo'\",\n",
       " 'Randene': \"'랜딘'\",\n",
       " 'Chucky': \"'척키'\",\n",
       " 'Percilla': \"'퍼실라'\",\n",
       " 'Thorburn': \"'토번'\",\n",
       " 'Brittne': \"'브릿트네'\",\n",
       " 'Warriner': \"'워리너'\",\n",
       " 'Allexandra': \"'알렉산드라'\",\n",
       " 'Verety': \"'베레티'\",\n",
       " 'Shonta': \"'숀타'\",\n",
       " 'Jenn': \"'젠'\",\n",
       " 'Kyleen': \"'카일린'\",\n",
       " 'Chandria': \"'찬드리아'\",\n",
       " 'Lettice': \"'레티스'\",\n",
       " 'Alyna': \"'알리나'\",\n",
       " 'Suhail': \"'수하일'\",\n",
       " 'Cicely': \"'시셀리'\",\n",
       " 'Antshel': \"'안첼'\",\n",
       " 'Desmon': \"'데스몬'\",\n",
       " 'Alphoeus': \"'알포에우스'\",\n",
       " 'Erla': \"'엘라'\",\n",
       " 'Florance': \"'플로런스'\",\n",
       " 'Hyacinthus': \"'하신서스'\",\n",
       " 'Julette': \"'줄렛'\",\n",
       " 'Wilhelmina': \"'윌헬미나'\",\n",
       " 'Lillyanne': \"'릴리앤'\",\n",
       " 'Sherwynne': \"'셔윈'\",\n",
       " 'Keiana': \"'케이아나'\",\n",
       " 'Springer': \"'봄'\",\n",
       " 'Tavin': \"'타빈'\",\n",
       " 'Bartlett': \"'바틀렛'\",\n",
       " 'Crystabella': None,\n",
       " 'Jaycie': None,\n",
       " 'Benicia': None,\n",
       " 'Alyster': None,\n",
       " 'Ronnette': None,\n",
       " 'Loreon': None,\n",
       " 'Jamie-Lee': None,\n",
       " 'Ewelina': None,\n",
       " 'Dontay': None,\n",
       " 'Hellmut': None,\n",
       " 'Irida': \"'아이리다'\",\n",
       " 'Sepp': \"'세프'\",\n",
       " 'Yaniv': \"'야니브'\",\n",
       " 'Gwynneth': \"'그윈네스'\",\n",
       " 'Chastitey': \"'채스티'\",\n",
       " 'Coryna': \"'코리나'\",\n",
       " 'Issie': \"'아이시'\",\n",
       " 'Ragnhilda': \"'라그날다'\",\n",
       " 'Traice': \"'트레이스'\",\n",
       " 'Thresa': \"'트레사'\",\n",
       " 'Geffen': \"'게펜'\",\n",
       " 'Yajaira': \"'야자이라'\",\n",
       " 'Ambrozetta': \"'암브로제타'\",\n",
       " 'Arcilla': \"'아르실라'\",\n",
       " 'Velin': \"'벨린'\",\n",
       " 'Laici': \"'라이시'\",\n",
       " 'Olaniyonu': \"'올라니요누'\",\n",
       " 'Cinnabar': \"'신나바르'\",\n",
       " 'Winne': \"'윈네'\",\n",
       " 'Jenika': \"'제니카'\",\n",
       " 'Franca': None,\n",
       " 'Robinson': None,\n",
       " 'Alyssia': None,\n",
       " 'Jinnie': None,\n",
       " 'Abd-Allah': None,\n",
       " 'Ubadah': None,\n",
       " 'Rasine': None,\n",
       " 'Reuvena': None,\n",
       " 'Alystair': None,\n",
       " 'Evion': None,\n",
       " 'Wyetta': \"'Wyetta'\",\n",
       " 'Prabhat': \"'Prabhat'\",\n",
       " 'Teagin': \"'Teagin'\",\n",
       " 'Allvar': \"'Allvar'\",\n",
       " 'Ellfrida': \"'Ellfrida'\",\n",
       " 'Gabrijela': \"'Gabrijela'\",\n",
       " 'Femi': \"'Femi'\",\n",
       " 'Royalene': \"'Royalene'\",\n",
       " 'Geffrey': \"'Geffrey'\",\n",
       " 'Diedrey': \"'Diedrey'\",\n",
       " 'Johanka': \"'요한카'\",\n",
       " 'Klemenis': \"'클레메니스'\",\n",
       " 'Jimbo': \"'짐보'\",\n",
       " 'Kiirsten': \"'키어스틴'\",\n",
       " 'Rutland': \"'러틀랜드'\",\n",
       " 'Mychaela': \"'미카엘라'\",\n",
       " 'Permelia': \"'페르멜리아'\",\n",
       " 'Daveen': \"'다벤'\",\n",
       " 'Lionelo': \"'리오넬로'\",\n",
       " 'Goodwin': \"'굿윈'\",\n",
       " 'Vinetia': \"'비네시아'\",\n",
       " 'Sabina': \"'사비나'\",\n",
       " 'Chalney': \"'찰니'\",\n",
       " 'Jeana': \"'제아나'\",\n",
       " 'Daphiny': \"'다피니'\",\n",
       " 'Eberlein': \"'에버라인'\",\n",
       " 'Jareb': \"'자레브'\",\n",
       " 'Christmar': \"'크리스마'\",\n",
       " 'Malaquias': \"'말라퀴아스'\",\n",
       " 'Cox': \"'콕스'\",\n",
       " 'Sill': \"'실'\",\n",
       " 'Zenos': \"'제노스'\",\n",
       " 'Padmavati': \"'파드마바티'\",\n",
       " 'Annabel': \"'안나벨'\",\n",
       " 'Jericko': \"'제리코'\",\n",
       " 'Donoven': \"'도노벤'\",\n",
       " 'Caerwyn': \"'카에르윈'\",\n",
       " 'Winefred': \"'와인프레드'\",\n",
       " 'Newman': \"'뉴먼'\",\n",
       " 'Mabry': \"'마브리'\",\n",
       " 'Femie': \"'페미'\",\n",
       " 'Nealon': \"'닐론'\",\n",
       " 'Keiko': \"'키코'\",\n",
       " 'Janene': \"'자넨'\",\n",
       " 'Nimat': \"'니마트'\",\n",
       " 'Katlynne': \"'카틀린'\",\n",
       " 'Erasto': \"'에라스토'\",\n",
       " 'Duggan': \"'더그건'\",\n",
       " 'Christalyn': \"'크리스탈린'\",\n",
       " 'Morgin': \"'모긴'\",\n",
       " 'Faraj': \"'Faraj'\",\n",
       " 'Lilibet': \"'Lilibet'\",\n",
       " 'Townly': \"'Townly'\",\n",
       " 'Quimby': \"'Quimby'\",\n",
       " 'Niquolle': \"'Niquolle'\",\n",
       " 'Camillo': \"'Camillo'\",\n",
       " 'Shandra': \"'Shandra'\",\n",
       " 'Nicos': \"'Nicos'\",\n",
       " 'Donnetta': \"'Donnetta'\",\n",
       " 'Aldford': \"'Aldford'\",\n",
       " 'Pernille': \"'페르닐'\",\n",
       " 'Christiano': \"'크리스티아노'\",\n",
       " 'Amatus': \"'아마투스'\",\n",
       " 'Rue': \"'루'\",\n",
       " 'Susann': \"'수잔'\",\n",
       " 'Alter': \"'알터'\",\n",
       " 'Maryanna': \"'마리안나'\",\n",
       " 'Darylyne': \"'데릴린'\",\n",
       " 'Maricel': \"'마리켈'\",\n",
       " 'Kenlie': \"'켄리'\",\n",
       " 'Natalea': \"'나탈리아'\",\n",
       " 'Nelia': \"'넬리아'\",\n",
       " 'Chessy': \"'체시'\",\n",
       " 'Salina': \"'살리나'\",\n",
       " 'Eufemio': \"'유페미오'\",\n",
       " 'Anwyl': \"'안'\",\n",
       " 'Graciano': \"'그라시아노'\",\n",
       " 'Dianada': \"'디아나다'\",\n",
       " 'Innokenti': \"'인노켄티'\",\n",
       " 'Tansy': \"'탄시'\",\n",
       " 'Kathern': \"'Kathern'\",\n",
       " 'Lauriel': \"'Lauriel'\",\n",
       " 'Anyoushka': \"'Anyoushka'\",\n",
       " 'Stevia': \"'Stevia'\",\n",
       " 'Lareina': \"'Lareina'\",\n",
       " 'Procter': \"'Procter'\",\n",
       " 'Fakhruddin': \"'Fakhruddin'\",\n",
       " 'Jayne': \"'Jayne'\",\n",
       " 'Cataline': \"'Cataline'\",\n",
       " 'Didrika': \"'Didrika'\",\n",
       " 'Elikapeka': \"'엘리카페카'\",\n",
       " 'Jamilynn': \"'자밀린'\",\n",
       " 'Caradog': \"'카라독'\",\n",
       " 'Seligmann': \"'셀리그만'\",\n",
       " 'Merfin': \"'머핀'\",\n",
       " 'Vonitia': \"'보니시아'\",\n",
       " 'Bart': \"'바트'\",\n",
       " 'Morrie': \"'모리'\",\n",
       " 'Adams': \"'아담스'\",\n",
       " 'Marchella': \"'마첼라'\",\n",
       " 'Gitanna': \"'지타나'\",\n",
       " 'Flower': \"'플라워'\",\n",
       " 'Sumarlifr': \"'수말리프르'\",\n",
       " 'Shrilekha': \"'슈릴레카'\",\n",
       " 'Zoanne': \"'조앤'\",\n",
       " 'Tynon': \"'티논'\",\n",
       " 'Kinsley': \"'킨슬리'\",\n",
       " 'Zsigmond': \"'지그몬드'\",\n",
       " 'Charlice': \"'찰리스'\",\n",
       " 'Zada': \"'자다'\",\n",
       " 'Althelia': \"'알테리아'\",\n",
       " 'Abrienne': \"'아브리아인'\",\n",
       " 'Zeph': \"'제프'\",\n",
       " 'Ooma': \"'오마'\",\n",
       " 'Nazzarena': \"'나자레나'\",\n",
       " 'Lizveth': \"'리즈베스'\",\n",
       " 'Daysi': \"'데이시'\",\n",
       " 'Jacob': \"'야콥'\",\n",
       " 'Wiyakawastewin': \"'와이야카와스테윈'\",\n",
       " 'Lindeman': \"'린드먼'\",\n",
       " 'Argentino': \"'아르헨티노'\",\n",
       " 'Leeah': \"'리아'\",\n",
       " 'Enoch': \"'에녹'\",\n",
       " 'Yolie': \"'올리'\",\n",
       " 'Nasya': \"'나시아'\",\n",
       " 'Kelwinn': \"'켈윈'\",\n",
       " 'Cherisa': \"'체리사'\",\n",
       " 'Deangellis': \"'데앙겔리스'\",\n",
       " 'Elsa': \"'엘사'\",\n",
       " 'Eiden': \"'아이덴'\",\n",
       " 'Tomislav': \"'토미슬라프'\",\n",
       " 'Zayna': \"'자이나'\",\n",
       " 'Carsan': \"'카산'\",\n",
       " 'Versie': \"'베르시'\",\n",
       " 'Meghann': \"'메간'\",\n",
       " 'Vanassa': \"'바나사'\",\n",
       " 'Clementino': \"'클레멘티노'\",\n",
       " 'Roba': \"'로바'\",\n",
       " 'Jasna': \"'자스나'\",\n",
       " 'Mamie': \"'마미'\",\n",
       " 'Atalanta': \"'아탈란타'\",\n",
       " 'Inar': \"'이나'\",\n",
       " 'Irmhild': \"'이르밀드'\",\n",
       " 'Pravin': \"'프라빈'\",\n",
       " 'Fayline': \"'페일린'\",\n",
       " 'Vallen': \"'발렌'\",\n",
       " 'Sherylann': \"'셰릴란'\",\n",
       " 'Aliyah': \"'앨리야'\",\n",
       " 'Lyndy': \"'린디'\",\n",
       " 'Phoeboe': \"'피보'\",\n",
       " 'Warren': \"'워렌'\",\n",
       " 'Joletta': \"'졸레타'\",\n",
       " 'Amberly': \"'앰벌리'\",\n",
       " 'Stormee': \"'스토르미'\",\n",
       " 'Jaliyl': \"'잘리일'\",\n",
       " 'Colwynn': \"'콜윈'\",\n",
       " 'Salomo': \"'살로모'\",\n",
       " 'Geofrey': \"'제오프리'\",\n",
       " 'Shlomi': \"'슬로미'\",\n",
       " 'Geraldina': \"'제랄디나'\",\n",
       " 'Simon': \"'사이먼'\",\n",
       " 'Anjela': \"'안젤라'\",\n",
       " 'Talley': \"'탈리'\",\n",
       " 'Pontus': \"'폰투스'\",\n",
       " 'Keandre': \"'칸드레'\",\n",
       " 'Kayti': \"'카이티'\",\n",
       " 'Cath': \"'캐스'\",\n",
       " 'Chipper': \"'치퍼'\",\n",
       " 'Kanticia': \"'칸티시아'\",\n",
       " 'Arcenio': \"'아르세니오'\",\n",
       " 'Susaidasan': \"'Susaidasan'\",\n",
       " 'Brysen': \"'Brysen'\",\n",
       " 'Briggitte': \"'Briggitte'\",\n",
       " 'Benedicto': \"'Benedicto'\",\n",
       " 'Caleen': \"'Caleen'\",\n",
       " 'Buenaventura': \"'Buenaventura'\",\n",
       " 'Eliyahu': \"'Eliyahu'\",\n",
       " 'Costanza': \"'Costanza'\",\n",
       " 'Michio': \"'Michio'\",\n",
       " 'Kevion': \"'Kevion'\",\n",
       " 'Pradeep': \"'Pradeep'\",\n",
       " 'Acquilina': \"'Acquilina'\",\n",
       " 'Aris': \"'Aris'\",\n",
       " 'Leelia': \"'Leelia'\",\n",
       " 'Orali': \"'Orali'\",\n",
       " 'Bolivar': \"'Bolivar'\",\n",
       " 'Eaton': \"'Eaton'\",\n",
       " 'Ronen': \"'Ronen'\",\n",
       " 'Rheannon': \"'Rheannon'\",\n",
       " 'Marischall': \"'Marischall'\",\n",
       " 'Doursey': \"'도르시'\",\n",
       " 'Roselin': \"'로즐린'\",\n",
       " 'Whisper': \"'위스퍼'\",\n",
       " 'Traherne': \"'트라헤른'\",\n",
       " 'Arona': \"'아로나'\",\n",
       " 'Toyka': \"'토이카'\",\n",
       " 'Kelita': \"'켈리타'\",\n",
       " 'Gregorios': \"'그레고리오스'\",\n",
       " 'Tumaini': \"'투마이니'\",\n",
       " 'Tarila': \"'타릴라'\",\n",
       " 'Roussell': \"'루셀'\",\n",
       " 'Jarrot': \"'자로'\",\n",
       " 'Eloisia': \"'엘로이시아'\",\n",
       " 'Marell': \"'마렐'\",\n",
       " 'Jalicia': \"'잘리시아'\",\n",
       " 'McCarthy': \"'맥카시'\",\n",
       " 'Anastos': \"'아나스토스'\",\n",
       " 'Stone': \"'스톤'\",\n",
       " 'Hamell': \"'하멜'\",\n",
       " 'Rashae': \"'라샤'\",\n",
       " 'Halldor': \"'홀도르'\",\n",
       " 'Elberthe': \"'엘버더'\",\n",
       " 'Shaylynn': \"'셰일린'\",\n",
       " 'Marik': \"'마릭'\",\n",
       " 'Bajardo': \"'바자르도'\",\n",
       " 'Loa': \"'로아'\",\n",
       " 'Oretta': \"'오레타'\",\n",
       " 'Wolf': \"'울프'\",\n",
       " 'Bhumika': \"'부미카'\",\n",
       " 'Marzo': \"'마르조'\",\n",
       " 'Clairesa': \"'클레르사'\",\n",
       " 'Song': \"'노래'\",\n",
       " 'Riddley': \"'리들리'\",\n",
       " 'Dardanos': \"'다르다노스'\",\n",
       " 'Barric': \"'바릭'\",\n",
       " 'Ite': \"'이트'\",\n",
       " 'Amaleeda': \"'아말레이다'\",\n",
       " 'Wei': \"'웨이'\",\n",
       " 'Elnora': \"'엘노라'\",\n",
       " 'Cherlyne': \"'첼린'\",\n",
       " 'Tiffeney': \"'티페니'\",\n",
       " 'Mayola': \"'마라'\",\n",
       " 'Borg': \"'보그'\",\n",
       " 'Azusa': \"'아즈사'\",\n",
       " 'Sidra': \"'시드라'\",\n",
       " 'Alic': \"'알릭'\",\n",
       " 'Gabriello': \"'가브리엘로'\",\n",
       " 'Maurianne': \"'마우리안'\",\n",
       " 'Britny': \"'브리트니'\",\n",
       " 'Sion': \"'시온'\",\n",
       " 'Duston': \"'Duston'\",\n",
       " 'Desean': \"'Desean'\",\n",
       " 'Ingelbert': \"'Ingelbert'\",\n",
       " 'Fabianus': \"'Fabianus'\",\n",
       " 'Morton': \"'Morton'\",\n",
       " 'Delton': \"'Delton'\",\n",
       " 'Calvine': \"'Calvine'\",\n",
       " 'Agapit': \"'Agapit'\",\n",
       " 'Temeni': \"'Temeni'\",\n",
       " 'Stanze': \"'Stanze'\",\n",
       " 'Urbanus': \"'Urbanus'\",\n",
       " 'Maisey': \"'Maisey'\",\n",
       " 'Natelie': \"'Natelie'\",\n",
       " 'Abiela': \"'Abiela'\",\n",
       " 'Baako': \"'Baako'\",\n",
       " 'Twayn': \"'Twayn'\",\n",
       " 'Regnauld': \"'Regnauld'\",\n",
       " 'Taheton': \"'Taheton'\",\n",
       " 'Erve': \"'Erve'\",\n",
       " 'Vallatina': \"'Vallatina'\",\n",
       " 'Leasa': \"'Leasa'\",\n",
       " 'Kostatina': \"'Kostatina'\",\n",
       " 'Ladislaus': \"'Ladislaus'\",\n",
       " 'Redmond': \"'Redmond'\",\n",
       " 'Soloman': \"'Soloman'\",\n",
       " 'Betti': \"'Betti'\",\n",
       " 'Breigh': \"'Breigh'\",\n",
       " 'Keeleigh': \"'Keeleigh'\",\n",
       " 'Tamasine': \"'Tamasine'\",\n",
       " 'Mariangela': \"'Mariangela'\",\n",
       " 'Murgatroyd': \"'Murgatroyd'\",\n",
       " 'Yudell': \"'Yudell'\",\n",
       " 'Blanca': \"'Blanca'\",\n",
       " 'Safa': \"'Safa'\",\n",
       " 'Norine': \"'Norine'\",\n",
       " 'Sessamee': \"'Sessamee'\",\n",
       " 'Lindel': \"'Lindel'\",\n",
       " 'Shamira': \"'Shamira'\",\n",
       " 'Arminie': \"'Arminie'\",\n",
       " 'Crosley': \"'Crosley'\",\n",
       " 'Joesell': \"'조셀'\",\n",
       " 'Matz': \"'매츠'\",\n",
       " 'Rylyn': \"'릴린'\",\n",
       " 'Nicandros': \"'니칸드로스'\",\n",
       " 'Kylar': \"'킬라'\",\n",
       " 'Inocencio': \"'이노센시오'\",\n",
       " 'Vala': \"'발라'\",\n",
       " 'Uriah': \"'우리아'\",\n",
       " 'Allysson': \"'알리손'\",\n",
       " 'Soulle': \"'술'\",\n",
       " 'Braiser': \"'Braiser'\",\n",
       " 'Rees': \"'Rees'\",\n",
       " 'Corinna': \"'Corinna'\",\n",
       " 'Khwaja': \"'Khwaja'\",\n",
       " 'Elder': \"'Elder'\",\n",
       " 'Evert': \"'Evert'\",\n",
       " 'Karolyn': \"'Karolyn'\",\n",
       " 'Giusto': \"'Giusto'\",\n",
       " 'Tavariss': \"'Tavariss'\",\n",
       " 'Aolani': \"'Aolani'\",\n",
       " 'Hashim': \"'하심'\",\n",
       " 'Pontius': \"'폰티우스'\",\n",
       " 'Braidie': \"'브라이디'\",\n",
       " 'Cramer': \"'크레이머'\",\n",
       " 'Azher': \"'아저'\",\n",
       " 'Thandee': \"'선디'\",\n",
       " 'Mansa': \"'만사'\",\n",
       " 'Lindey': \"'린디'\",\n",
       " 'Joette': \"'조트'\",\n",
       " 'Row': \"'로'\",\n",
       " 'Prema': \"'프리마'\",\n",
       " 'Cyrah': \"'시라'\",\n",
       " 'Ragnhilde': \"'라그날데'\",\n",
       " 'Yvett': \"'이베트'\",\n",
       " 'Iago': \"'이아고'\",\n",
       " 'Karida': \"'카리다'\",\n",
       " 'Oleksi': \"'올렉시'\",\n",
       " 'Tayber': \"'테이버'\",\n",
       " 'Wesleya': \"'웨슬리아'\",\n",
       " 'Cherri': \"'체리'\",\n",
       " 'Lulu': \"'룰루'\",\n",
       " 'Cathirin': \"'카티린'\",\n",
       " 'Maraalika': \"'마랄리카'\",\n",
       " 'Ruberta': \"'루베르타'\",\n",
       " 'Brunette': \"'브루넷'\",\n",
       " 'Marlyse': \"'말리스'\",\n",
       " 'Raynes': \"'레이네스'\",\n",
       " 'Lavell': \"'라벨'\",\n",
       " 'Travon': \"'트라본'\",\n",
       " 'Herinomos': \"'헤리노모스'\",\n",
       " 'Kearstin': \"'Kearstin'\",\n",
       " 'Arend': \"'Arend'\",\n",
       " 'Stensen': \"'Stensen'\",\n",
       " 'Leighton': \"'Leighton'\",\n",
       " 'Hye': \"'Hye'\",\n",
       " 'Soo': \"'Soo'\",\n",
       " 'Harrela': \"'Harrela'\",\n",
       " 'Jarlaith': \"'Jarlaith'\",\n",
       " 'Aukai': \"'Aukai'\",\n",
       " 'Hilarius': \"'Hilarius'\",\n",
       " 'Farrand': \"'파랑'\",\n",
       " 'Ares': \"'아레스'\",\n",
       " 'Kobie': \"'코비'\",\n",
       " 'Tova': \"'토바'\",\n",
       " 'Phaedra': \"'파에드라'\",\n",
       " 'Baba': \"'바바'\",\n",
       " 'Svetozar': \"'스베토자르'\",\n",
       " 'Jerald': \"'제럴드'\",\n",
       " 'Kimiko': \"'키미코'\",\n",
       " 'Halburt': \"'할버트'\",\n",
       " 'Whitmore': \"'Whitmore'\",\n",
       " 'Cordulla': \"'Cordulla'\",\n",
       " 'Katalina': \"'Katalina'\",\n",
       " 'Norne': \"'Norne'\",\n",
       " 'Eiren': \"'Eiren'\",\n",
       " 'Armstrong': \"'Armstrong'\",\n",
       " 'Rennae': \"'Rennae'\",\n",
       " 'Parvin': \"'Parvin'\",\n",
       " 'Ayodele': \"'Ayodele'\",\n",
       " 'Herman': \"'Herman'\",\n",
       " 'Squyres': \"'Squyres'\",\n",
       " 'Attwater': \"'Attwater'\",\n",
       " 'Seemah': \"'Seemah'\",\n",
       " 'Jerad': \"'Jerad'\",\n",
       " 'Slayde': \"'Slayde'\",\n",
       " 'Gibbs': \"'Gibbs'\",\n",
       " 'Rasheed': \"'Rasheed'\",\n",
       " 'Gearey': \"'Gearey'\",\n",
       " 'Loni': \"'Loni'\",\n",
       " 'Lenorra': \"'Lenorra'\",\n",
       " 'Sherelene': \"'셰렐렌'\",\n",
       " 'Adelrick': \"'아델릭'\",\n",
       " 'Carny': \"'카니'\",\n",
       " 'Sanchez': \"'산체스'\",\n",
       " 'Jassmon': \"'자스몬'\",\n",
       " 'Genista': \"'제니스타'\",\n",
       " 'Orin': \"'오린'\",\n",
       " 'Vincenz': \"'빈첸츠'\",\n",
       " 'Lombardo': \"'롬바르도'\",\n",
       " 'Adalhard': \"'아달하르트'\",\n",
       " 'Muadhnait': None,\n",
       " 'Quirien': None,\n",
       " 'Natashah': None,\n",
       " 'Hariet': None,\n",
       " 'Swithin': None,\n",
       " 'Yachin': None,\n",
       " 'Iven': None,\n",
       " 'Theressa': None,\n",
       " 'Twan': None,\n",
       " 'Ellaina': None,\n",
       " 'Theodra': \"'Theodra'\",\n",
       " 'Rashid': \"'Rashid'\",\n",
       " 'Naiada': \"'Naiada'\",\n",
       " 'Moria': \"'Moria'\",\n",
       " 'Sharmion': \"'Sharmion'\",\n",
       " 'Delroy': \"'Delroy'\",\n",
       " 'Abbygael': \"'Abbygael'\",\n",
       " 'Shareef': \"'Shareef'\",\n",
       " 'Eriss': \"'Eriss'\",\n",
       " 'Chanok': \"'Chanok'\",\n",
       " 'Gabrial': \"'가브리알'\",\n",
       " 'Ranite': \"'라나이트'\",\n",
       " 'Madilyn': \"'마딜린'\",\n",
       " 'Renetta': \"'레네타'\",\n",
       " 'Engie': \"'엔지'\",\n",
       " 'Rosette': \"'로제트'\",\n",
       " 'Jeaneva': \"'제네바'\",\n",
       " 'Kamille': \"'카밀'\",\n",
       " 'Haoa': \"'하오아'\",\n",
       " 'Cami': \"'카미'\",\n",
       " 'Bertran': \"'Bertran'\",\n",
       " 'Vincentio': \"'Vincentio'\",\n",
       " 'Jacq': \"'Jacq'\",\n",
       " 'Virge': \"'Virge'\",\n",
       " 'Morag': \"'Morag'\",\n",
       " 'Megann': \"'Megann'\",\n",
       " 'Corly': \"'Corly'\",\n",
       " 'Bazile': \"'Bazile'\",\n",
       " 'Melissia': \"'Melissia'\",\n",
       " 'Nadeem': \"'Nadeem'\",\n",
       " 'Ambrossij': \"'암브로시'\",\n",
       " 'Halma': \"'할마'\",\n",
       " 'Silverie': \"'실버리'\",\n",
       " 'Rebeca': \"'리베카'\",\n",
       " 'Jearl': \"'진'\",\n",
       " 'Willkes': \"'윌크스'\",\n",
       " 'Cullin': \"'쿨린'\",\n",
       " 'Torye': \"'토리'\",\n",
       " 'Burle': \"'벌'\",\n",
       " 'Caxton': \"'팩스턴'\",\n",
       " 'Genette': \"'제네트'\",\n",
       " 'Nicoli': \"'니콜리'\",\n",
       " 'Evana': \"'에바나'\",\n",
       " 'Dicy': \"'디시'\",\n",
       " 'Bushrod': \"'부시로드'\",\n",
       " 'Hamza': \"'함자'\",\n",
       " 'Carressa': \"'카레사'\",\n",
       " 'Grimsleigh': \"'그림슬레이'\",\n",
       " 'Jassica': \"'자시카'\",\n",
       " 'Sarahity': \"'사라티'\",\n",
       " 'Tallen': \"'Tallen'\",\n",
       " 'Kanjanaa': \"'Kanjanaa'\",\n",
       " 'Teena': \"'Teena'\",\n",
       " 'Kadeem': \"'Kadeem'\",\n",
       " 'Charlesette': \"'Charlesette'\",\n",
       " 'Nakisha': \"'Nakisha'\",\n",
       " 'Faleece': \"'Faleece'\",\n",
       " 'Paraskeva': \"'Paraskeva'\",\n",
       " 'Jessandra': \"'Jessandra'\",\n",
       " 'Yalanda': \"'Yalanda'\",\n",
       " 'Dominica': None,\n",
       " 'Cerese': None,\n",
       " 'Orfeo': None,\n",
       " 'Ghoshal': None,\n",
       " 'Swanild': None,\n",
       " 'Gerta': None,\n",
       " 'Burns': None,\n",
       " 'Medgar': None,\n",
       " 'Brucine': None,\n",
       " 'Ewald': None,\n",
       " 'Hadya': \"'Hadya'\",\n",
       " 'Mitzi': \"'Mitzi'\",\n",
       " 'Rezka': \"'Rezka'\",\n",
       " 'Matvei': \"'Matvei'\",\n",
       " 'Townsend': \"'Townsend'\",\n",
       " 'Hallverd': \"'Hallverd'\",\n",
       " 'Kathrin': \"'Kathrin'\",\n",
       " 'Bear': \"'Bear'\",\n",
       " 'Marcely': \"'Marcely'\",\n",
       " 'Laverine': \"'Laverine'\",\n",
       " 'Branka': \"'브랑카'\",\n",
       " 'Shiriki': \"'시리키'\",\n",
       " 'Faruq': \"'파루크'\",\n",
       " 'Gilliss': \"'길리스'\",\n",
       " 'Dalibor': \"'달리보르'\",\n",
       " 'Borja': \"'보르자'\",\n",
       " 'Ran': \"'란'\",\n",
       " 'Damien': \"'다미엔'\",\n",
       " 'Larianna': \"'라리아나'\",\n",
       " 'Candita': \"'칸디타'\",\n",
       " 'Bing': \"'빙'\",\n",
       " 'Judianne': \"'주디안'\",\n",
       " 'Garrie': \"'가리'\",\n",
       " 'Caradoc': \"'캐러독'\",\n",
       " 'Chandrak': \"'찬드라크'\",\n",
       " 'Kemplie': \"'켐플리'\",\n",
       " 'Obediah': \"'오베다'\",\n",
       " 'Inness': \"'인네스'\",\n",
       " 'Keirown': \"'키로운'\",\n",
       " 'Karlton': \"'칼튼'\",\n",
       " 'Taresa': \"'Taresa'\",\n",
       " 'Dobrila': \"'Dobrila'\",\n",
       " 'Scotto': \"'Scotto'\",\n",
       " 'Hoaalohakupaa': \"'Hoaalohakupaa'\",\n",
       " 'Blondy': \"'Blondy'\",\n",
       " 'Lyria': \"'Lyria'\",\n",
       " 'Alysdair': \"'Alysdair'\",\n",
       " 'Ingamar': \"'Ingamar'\",\n",
       " 'Yolette': \"'Yolette'\",\n",
       " 'Elbertina': \"'Elbertina'\",\n",
       " 'Cecily': \"'세실리'\",\n",
       " 'Serjio': \"'세르지오'\",\n",
       " 'Carisse': \"'카리스'\",\n",
       " 'Nately': \"'나탈리'\",\n",
       " 'Guinn': \"'기닌'\",\n",
       " 'Mareena': \"'마리나'\",\n",
       " 'Marinn': \"'마린'\",\n",
       " 'Jossalin': \"'조살린'\",\n",
       " 'Aipril': \"'아이프릴'\",\n",
       " 'Brendie': \"'브렌디'\",\n",
       " 'Meier': \"'Meier'\",\n",
       " 'Jacqin': \"'Jacqin'\",\n",
       " 'Delissa': \"'Delissa'\",\n",
       " 'Gavrina': \"'Gavrina'\",\n",
       " 'Giraud': \"'Giraud'\",\n",
       " 'Noora': \"'Noora'\",\n",
       " 'Un': \"'Un'\",\n",
       " 'Leelah': \"'Leelah'\",\n",
       " 'Shermann': \"'Shermann'\",\n",
       " 'Ledah': \"'Ledah'\",\n",
       " 'Franni': \"'프란니'\",\n",
       " 'Earlena': \"'에를레나'\",\n",
       " 'Beech': \"'비치'\",\n",
       " 'Charissee': \"'샤리시'\",\n",
       " 'Brittyne': \"'브리타인'\",\n",
       " 'Hannes': \"'한네스'\",\n",
       " 'Marjan': \"'마얀'\",\n",
       " 'Kalaila': \"'칼라일라'\",\n",
       " 'Creighton': \"'크레이튼'\",\n",
       " 'Tavaris': \"'타바리스'\",\n",
       " 'Ardena': \"'아르데나'\",\n",
       " 'MacKayla': \"'맥카일라'\",\n",
       " 'Evgenia': \"'에브게니아'\",\n",
       " 'Aigeus': \"'아이게우스'\",\n",
       " 'Jadrienne': \"'자드리엔'\",\n",
       " 'Ikaika': \"'이카이카'\",\n",
       " 'Norul': \"'노룰'\",\n",
       " 'Damario': \"'다마리오'\",\n",
       " 'Camill': \"'캐밀'\",\n",
       " 'Annmarie': \"'앤마리'\",\n",
       " 'Everard': \"'에버라드'\",\n",
       " 'Camyla': \"'카밀라'\",\n",
       " 'Calandria': \"'칼란드리아'\",\n",
       " 'Dorrit': \"'도리트'\",\n",
       " 'Oxford': \"'옥스포드'\",\n",
       " 'Seferino': \"'세페리노'\",\n",
       " 'Kerem': \"'케렘'\",\n",
       " 'Valeree': \"'발레리'\",\n",
       " 'Osyka': \"'오시카'\",\n",
       " 'Airicka': \"'아이리카'\",\n",
       " 'Karina': \"'카리나'\",\n",
       " 'Harwood': \"'하우드'\",\n",
       " 'Arasu': \"'아라수'\",\n",
       " 'Kimona': \"'키모나'\",\n",
       " 'Wakeley': \"'와클리'\",\n",
       " 'Felina': \"'펠리나'\",\n",
       " 'Lavender': \"'라벤더'\",\n",
       " 'Afrikah': \"'아프리카'\",\n",
       " 'Roly': \"'롤리'\",\n",
       " 'Filippine': \"'필리핀'\",\n",
       " 'Tong': \"'통'\",\n",
       " 'Laquesha': \"'라케샤'\",\n",
       " 'Eithne': \"'에이트네'\",\n",
       " 'Dobra': \"'도브라'\",\n",
       " 'Carlreca': \"'칼레카'\",\n",
       " 'Keriayn': \"'케리아인'\",\n",
       " 'Devinia': \"'데비니아'\",\n",
       " 'Panna': \"'파나'\",\n",
       " 'Enyd': \"'에니드'\",\n",
       " 'Aristo': \"'아리스토'\",\n",
       " 'Macgowan': \"'맥고완'\",\n",
       " 'Lyndee': \"'린디'\",\n",
       " 'Jeralee': \"'제랄리'\",\n",
       " 'Levant': \"'레반트'\",\n",
       " 'Teresita': \"'테레시타'\",\n",
       " 'Auriana': \"'아우리아나'\",\n",
       " 'Flossey': \"'플로시'\",\n",
       " 'Annais': \"'안나이'\",\n",
       " 'Navarre': \"'나바라'\",\n",
       " 'Alectra': \"'알렉트라'\",\n",
       " 'Tel': \"'텔'\",\n",
       " 'Musad': \"'무사드'\",\n",
       " 'Sharita': \"'샤리타'\",\n",
       " 'Tiet': \"'티에트'\",\n",
       " 'Brynmor': \"'브린모어'\",\n",
       " 'Aoibhinn': \"'아오이빈'\",\n",
       " 'Colla': \"'콜라'\",\n",
       " 'Emperatriz': \"'엠페라트리즈'\",\n",
       " 'Javan': \"'제이반'\",\n",
       " 'California': \"'캘리포니아'\",\n",
       " 'Garry': \"'게리'\",\n",
       " 'Cutler': \"'커틀러'\",\n",
       " 'Meical': \"'메칼'\",\n",
       " 'Hipolit': \"'히폴리트'\",\n",
       " 'Stefne': \"'스테프네'\",\n",
       " 'Kaylene': \"'카일린'\",\n",
       " 'Vernen': \"'베른'\",\n",
       " 'Carine': \"'카린'\",\n",
       " 'Alano': \"'알라노'\",\n",
       " 'Charo': \"'카로'\",\n",
       " 'Trygve': \"'트리그브'\",\n",
       " 'Ariese': \"'아리즈'\",\n",
       " 'Malkiel': \"'말키엘'\",\n",
       " 'Yseut': \"'이세우트'\",\n",
       " 'Lengsuk': \"'렁숙'\",\n",
       " 'Aymeen': \"'아민'\",\n",
       " 'Gilmour': \"'길무어'\",\n",
       " 'Virginius': \"'버지니우스'\",\n",
       " 'Stan': \"'스탠'\",\n",
       " 'Jones': \"'존스'\",\n",
       " 'Franceline': \"'프랑스'\",\n",
       " 'Saint': \"'세인트'\",\n",
       " 'Ysbel': \"'이스벨'\",\n",
       " 'Madelle': \"'마델'\",\n",
       " 'Zdenek': \"'즈데넥'\",\n",
       " 'Rora': \"'로라'\",\n",
       " 'Venice': \"'베니스'\",\n",
       " 'Gabrielle': \"'가브리엘'\",\n",
       " 'Jeanete': \"'제네테'\",\n",
       " 'Eran': \"'에란'\",\n",
       " 'Jeroll': \"'제롤'\",\n",
       " 'Shona': \"'쇼나'\",\n",
       " 'Sidneigh': \"'시드니'\",\n",
       " 'Rickee': \"'리키'\",\n",
       " 'Lassey': \"'레이시'\",\n",
       " 'Liane': \"'리안'\",\n",
       " 'Frantiska': \"'프란티스카'\",\n",
       " 'Amandalee': \"'아만데일리'\",\n",
       " 'Brookelyn': \"'브루켈린'\",\n",
       " 'Diarmid': \"'디어미드'\",\n",
       " 'Krystelle': \"'크리스텔'\",\n",
       " 'Weaver': \"'위버'\",\n",
       " 'Bharat': \"'바랏'\",\n",
       " 'Wonda': \"'원다'\",\n",
       " 'Stepheney': \"'스테페니'\",\n",
       " 'Tallya': \"'탈리아'\",\n",
       " 'Waseme': \"'와세미'\",\n",
       " 'Damar': \"'다마'\",\n",
       " 'Daisee': \"'다이제'\",\n",
       " 'Damyana': \"'다미아나'\",\n",
       " 'Monty': \"'몬티'\",\n",
       " 'Sireena': \"'시리나'\",\n",
       " 'Carinthia': \"'카린시아'\",\n",
       " 'Adalin': \"'아달린'\",\n",
       " 'Margrete': \"'마그레테'\",\n",
       " 'Cheri': \"'체리'\",\n",
       " 'Nadeana': \"'나데아나'\",\n",
       " 'Armin': \"'아민'\",\n",
       " 'Bong': \"'봉'\",\n",
       " 'Warford': \"'워포드'\",\n",
       " 'Shirlin': \"'Shirlin'\",\n",
       " 'Marycruz': \"'Marycruz'\",\n",
       " 'Lynda': \"'Lynda'\",\n",
       " 'Sillija': \"'Sillija'\",\n",
       " 'Daelyn': \"'Daelyn'\",\n",
       " 'Rosenelle': \"'Rosenelle'\",\n",
       " 'Mani': \"'Mani'\",\n",
       " 'Bollton': \"'Bollton'\",\n",
       " 'Sarely': \"'Sarely'\",\n",
       " 'Timo': \"'Timo'\",\n",
       " 'Nechama': \"'네차마'\",\n",
       " 'Zein': \"'진'\",\n",
       " 'Adar': \"'아다'\",\n",
       " 'Missie': \"'미시'\",\n",
       " 'Brunhild': \"'브룬힐드'\",\n",
       " 'Fionnuala': \"'피온누알라'\",\n",
       " 'Tesse': \"'테세'\",\n",
       " 'Arthurene': \"'아르투렌'\",\n",
       " 'Kanarra': \"'카나라'\",\n",
       " 'Silvestra': \"'실베스트라'\",\n",
       " 'Janiesa': \"'자니에사'\",\n",
       " 'Chellise': \"'첼리스'\",\n",
       " 'Zillah': \"'질라'\",\n",
       " 'Izak': \"'이작'\",\n",
       " 'Herlief': \"'허리프'\",\n",
       " 'Ailesh': \"'에일레쉬'\",\n",
       " 'Dmitri': \"'드미트리'\",\n",
       " 'Candyss': \"'캔디'\",\n",
       " 'Waine': \"'웨인'\",\n",
       " 'Mok': \"'목'\",\n",
       " 'Ramzan': None,\n",
       " 'Junio': None,\n",
       " 'Thuong': None,\n",
       " 'Tadao': None,\n",
       " 'Atera': None,\n",
       " 'Constantius': None,\n",
       " 'Kiera': None,\n",
       " 'Radlea': None,\n",
       " 'Worthing': None,\n",
       " 'Madalaina': None,\n",
       " 'Kristy': \"'크리스티'\",\n",
       " 'Bobbye': \"'바비'\",\n",
       " 'Marino': \"'마리노'\",\n",
       " 'Caird': \"'세어드'\",\n",
       " 'Samuel': \"'사뮤엘'\",\n",
       " 'Deja': \"'데자'\",\n",
       " 'Frania': \"'프라니아'\",\n",
       " 'Chandni': \"'찬드니'\",\n",
       " 'Kelilyn': \"'켈린'\",\n",
       " 'Ziva': \"'지바'\",\n",
       " 'Ljuba': \"'Ljuba'\",\n",
       " 'Teill': \"'Teill'\",\n",
       " 'Karlye': \"'Karlye'\",\n",
       " 'Liggett': \"'Liggett'\",\n",
       " 'Taneka': \"'Taneka'\",\n",
       " 'Marlene': \"'Marlene'\",\n",
       " 'Joannie': \"'Joannie'\",\n",
       " 'Kadiya': \"'Kadiya'\",\n",
       " 'Edwige': \"'Edwige'\",\n",
       " 'Rivy': \"'Rivy'\",\n",
       " 'Nailah': \"'나일라'\",\n",
       " 'Cappel': \"'카펠'\",\n",
       " 'Lorilei': \"'로릴레이'\",\n",
       " 'Herculano': \"'헤라클레노'\",\n",
       " 'Persis': \"'페르시스'\",\n",
       " 'Stepa': \"'스테파'\",\n",
       " 'Estefany': \"'에스테파니'\",\n",
       " 'Syndi': \"'신디'\",\n",
       " 'Laicey': \"'레이시'\",\n",
       " \"N'Shell\": \"'앤쉘'\",\n",
       " 'Gaer': \"'게어'\",\n",
       " 'Phyllip': \"'필립'\",\n",
       " 'Haywood': \"'헤이우드'\",\n",
       " 'Evann': \"'에반'\",\n",
       " 'Jean-Louis': \"'진\",\n",
       " 'Breiann': \"루이'\",\n",
       " 'Ellfrydah': \"'브리안'\",\n",
       " 'Bhasvan': \"'엘프리다'\",\n",
       " 'Kemply': \"'바스반'\",\n",
       " 'Benetta': \"'케네타'\",\n",
       " 'Gordie': None,\n",
       " 'Esmiralde': None,\n",
       " 'Derreck': None,\n",
       " 'Finola': None,\n",
       " 'Shanise': None,\n",
       " 'Abdolrahem': None,\n",
       " 'Agrippina': None,\n",
       " 'Corbin': None,\n",
       " 'Gregori': None,\n",
       " 'Larentia': None,\n",
       " 'Tahir': \"'타히르'\",\n",
       " 'Hadarit': \"'하다릿'\",\n",
       " 'Lizzette': \"'리제트'\",\n",
       " 'Thell': \"'젤'\",\n",
       " 'Gesa': \"'게사'\",\n",
       " 'Athan': \"'아단'\",\n",
       " 'Galila': \"'갈릴라'\",\n",
       " 'Orssa': \"'오르사'\",\n",
       " 'Katline': \"'캣라인'\",\n",
       " 'Chevelle': \"'체벨'\",\n",
       " 'Malisa': \"'말리사'\",\n",
       " 'Alexene': \"'알렉산'\",\n",
       " 'Raonull': \"'라오누'\",\n",
       " 'Maslen': \"'마슬렌'\",\n",
       " 'Jobelle': \"'조벨'\",\n",
       " 'Erel': \"'에렐'\",\n",
       " 'Bhaswar': \"'바스와르'\",\n",
       " 'Haylan': \"'헤일란'\",\n",
       " 'Sulley': \"'설리'\",\n",
       " 'Mitsuo': \"'미츠오'\",\n",
       " 'Muirinn': \"'Muirinn'\",\n",
       " 'Landyn': \"'Landyn'\",\n",
       " 'Barbette': \"'Barbette'\",\n",
       " 'Rolanda': \"'Rolanda'\",\n",
       " 'Trilbeigh': \"'Trilbeigh'\",\n",
       " 'Noirin': \"'Noirin'\",\n",
       " 'Lateifa': \"'Lateifa'\",\n",
       " 'Eline': \"'Eline'\",\n",
       " 'Havviva': \"'Havviva'\",\n",
       " 'Ottone': \"'Ottone'\",\n",
       " 'Manchester': \"'맨체스터'\",\n",
       " 'Lorretta': \"'로레타'\",\n",
       " 'Pruitt': \"'프루잇'\",\n",
       " 'Campion': \"'캠피온'\",\n",
       " 'Budd': \"'버드'\",\n",
       " 'Aimeric': \"'에이머릭'\",\n",
       " 'Melise': \"'멜리스'\",\n",
       " 'Cinaed': \"'시나드'\",\n",
       " 'Lady': \"'레이디'\",\n",
       " 'Ambrosio': \"'앰브로시오'\",\n",
       " 'Rina': \"'Rina'\",\n",
       " 'Kady': \"'Kady'\",\n",
       " 'Jordanka': \"'Jordanka'\",\n",
       " 'Trisha': \"'Trisha'\",\n",
       " 'Kjell': \"'Kjell'\",\n",
       " 'Vonnie': \"'Vonnie'\",\n",
       " 'Kierstynn': \"'Kierstynn'\",\n",
       " 'Caralee': \"'Caralee'\",\n",
       " 'Abdullah': \"'Abdullah'\",\n",
       " 'Sri': \"'Sri'\",\n",
       " 'Texanna': \"'텍사나'\",\n",
       " 'Selyne': \"'셀린'\",\n",
       " 'Sava': \"'사바'\",\n",
       " 'Kalena': \"'칼레나'\",\n",
       " 'Rivka': \"'리브카'\",\n",
       " 'Marquisha': \"'마퀴샤'\",\n",
       " 'Chrystal': \"'크리스탈'\",\n",
       " 'Yemin': \"'예민'\",\n",
       " 'Agata': \"'아가타'\",\n",
       " 'Jerelyn': \"'제렐린'\",\n",
       " 'Norayer': \"'노레이어'\",\n",
       " 'Kyrsten': \"'키르스텐'\",\n",
       " 'Concetina': \"'콘세티나'\",\n",
       " 'Osip': \"'오십'\",\n",
       " 'Mertis': \"'메르티스'\",\n",
       " 'Erminne': \"'에르민'\",\n",
       " 'Allcinda': \"'알신다'\",\n",
       " 'Hansine': \"'한신'\",\n",
       " 'Silija': \"'실리야'\",\n",
       " 'Habib': \"'하비브'\",\n",
       " 'Rabbi': \"'랍비'\",\n",
       " 'Waddell': \"'와델'\",\n",
       " 'Aleksios': \"'알렉시오'\",\n",
       " 'Alberto': \"'알베르토'\",\n",
       " 'Bromleigh': \"'브롬리'\",\n",
       " 'Bethaney': \"'베테니'\",\n",
       " 'Brandice': \"'브랜디스'\",\n",
       " 'Gottfried': \"'고트프리드'\",\n",
       " 'Cowan': \"'코완'\",\n",
       " 'Rossie': \"'로시'\",\n",
       " 'Carolane': \"'카롤란'\",\n",
       " 'Selimah': \"'셀리마'\",\n",
       " 'Uwe-Jens': \"'우웨-젠'\",\n",
       " 'Shemika': \"'셰미카'\",\n",
       " 'Jabes': \"'제이브'\",\n",
       " 'Beverleigh': \"'베벌리'\",\n",
       " 'Jamond': \"'자몬드'\",\n",
       " 'Krispin': \"'크리스핀'\",\n",
       " 'Matilda': \"'마틸다'\",\n",
       " 'Puali': \"'푸알리'\",\n",
       " 'Cyndi': \"'신디'\",\n",
       " 'Tulsi': \"'툴시'\",\n",
       " 'Shelayne': \"'셀레인'\",\n",
       " 'Ulberto': \"'울베르토'\",\n",
       " 'Chesni': \"'체스니'\",\n",
       " 'Roxyanna': \"'록시안나'\",\n",
       " 'Sjaan': \"'자안'\",\n",
       " 'Osmonde': \"'오스몬데'\",\n",
       " 'Kalene': \"'칼렌'\",\n",
       " 'Abiline': \"'아빌린'\",\n",
       " 'Gehan': \"'게한'\",\n",
       " 'Tamara': \"'타마라'\",\n",
       " 'Verner': \"'버너'\",\n",
       " 'Teghan': \"'테간'\",\n",
       " 'Deeana': \"'디아나'\",\n",
       " 'Kalandra': \"'칼란드라'\",\n",
       " 'Mylton': \"'밀턴'\",\n",
       " 'Rikar': \"'리카르'\",\n",
       " 'Bromlee': \"'브롬리'\",\n",
       " 'Kirana': \"'키라나'\",\n",
       " 'Rhodric': \"'로드릭'\",\n",
       " 'Cassi': \"'카시'\",\n",
       " 'Evangelin': \"'에반젤린'\",\n",
       " 'Dyanna': \"'디아나'\",\n",
       " 'Marinor': \"'마리너'\",\n",
       " 'Klio': \"'클리오'\",\n",
       " 'Tommaso': \"'톰마소'\",\n",
       " 'Nyada': \"'나야다'\",\n",
       " 'Obie': \"'오비'\",\n",
       " 'Jodilynn': \"'조딜린'\",\n",
       " ...}"
      ]
     },
     "execution_count": 17,
     "metadata": {},
     "output_type": "execute_result"
    }
   ],
   "source": [
    "_train_name_dict"
   ]
  },
  {
   "cell_type": "code",
   "execution_count": null,
   "metadata": {},
   "outputs": [],
   "source": []
  }
 ],
 "metadata": {
  "kernelspec": {
   "display_name": "Python 3",
   "language": "python",
   "name": "python3"
  },
  "language_info": {
   "codemirror_mode": {
    "name": "ipython",
    "version": 3
   },
   "file_extension": ".py",
   "mimetype": "text/x-python",
   "name": "python",
   "nbconvert_exporter": "python",
   "pygments_lexer": "ipython3",
   "version": "3.6.5"
  }
 },
 "nbformat": 4,
 "nbformat_minor": 2
}
